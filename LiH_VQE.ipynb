{
  "cells": [
    {
      "cell_type": "markdown",
      "metadata": {
        "id": "jZF5wrkZVsNb"
      },
      "source": [
        "# Installation and Imports"
      ]
    },
    {
      "cell_type": "markdown",
      "metadata": {
        "id": "CesaxMYDVv9Z"
      },
      "source": [
        "## Installing qiksit-aer"
      ]
    },
    {
      "cell_type": "code",
      "execution_count": null,
      "metadata": {
        "colab": {
          "base_uri": "https://localhost:8080/"
        },
        "id": "8f9VAD-PMOtC",
        "outputId": "7a507360-8f4a-43f6-d004-23f6372439c2"
      },
      "outputs": [
        {
          "output_type": "stream",
          "name": "stdout",
          "text": [
            "Wed Jan 10 03:02:50 2024       \n",
            "+---------------------------------------------------------------------------------------+\n",
            "| NVIDIA-SMI 535.104.05             Driver Version: 535.104.05   CUDA Version: 12.2     |\n",
            "|-----------------------------------------+----------------------+----------------------+\n",
            "| GPU  Name                 Persistence-M | Bus-Id        Disp.A | Volatile Uncorr. ECC |\n",
            "| Fan  Temp   Perf          Pwr:Usage/Cap |         Memory-Usage | GPU-Util  Compute M. |\n",
            "|                                         |                      |               MIG M. |\n",
            "|=========================================+======================+======================|\n",
            "|   0  Tesla T4                       Off | 00000000:00:04.0 Off |                    0 |\n",
            "| N/A   35C    P8               9W /  70W |      0MiB / 15360MiB |      0%      Default |\n",
            "|                                         |                      |                  N/A |\n",
            "+-----------------------------------------+----------------------+----------------------+\n",
            "                                                                                         \n",
            "+---------------------------------------------------------------------------------------+\n",
            "| Processes:                                                                            |\n",
            "|  GPU   GI   CI        PID   Type   Process name                            GPU Memory |\n",
            "|        ID   ID                                                             Usage      |\n",
            "|=======================================================================================|\n",
            "|  No running processes found                                                           |\n",
            "+---------------------------------------------------------------------------------------+\n"
          ]
        }
      ],
      "source": [
        "!nvidia-smi"
      ]
    },
    {
      "cell_type": "code",
      "execution_count": null,
      "metadata": {
        "colab": {
          "base_uri": "https://localhost:8080/"
        },
        "id": "9L18y3E8MSh7",
        "outputId": "9d5788a3-4e1d-4bb7-d659-4d5c0c9f6705"
      },
      "outputs": [
        {
          "output_type": "stream",
          "name": "stdout",
          "text": [
            "Collecting qiskit-aer\n",
            "  Downloading qiskit_aer-0.13.1-cp310-cp310-manylinux_2_17_x86_64.manylinux2014_x86_64.whl (12.3 MB)\n",
            "\u001b[2K     \u001b[90m━━━━━━━━━━━━━━━━━━━━━━━━━━━━━━━━━━━━━━━━\u001b[0m \u001b[32m12.3/12.3 MB\u001b[0m \u001b[31m57.2 MB/s\u001b[0m eta \u001b[36m0:00:00\u001b[0m\n",
            "\u001b[?25hCollecting qiskit>=0.44.0 (from qiskit-aer)\n",
            "  Downloading qiskit-0.45.1-py3-none-any.whl (9.6 kB)\n",
            "Requirement already satisfied: numpy>=1.16.3 in /usr/local/lib/python3.10/dist-packages (from qiskit-aer) (1.23.5)\n",
            "Requirement already satisfied: scipy>=1.0 in /usr/local/lib/python3.10/dist-packages (from qiskit-aer) (1.11.4)\n",
            "Requirement already satisfied: psutil>=5 in /usr/local/lib/python3.10/dist-packages (from qiskit-aer) (5.9.5)\n",
            "Collecting qiskit-terra==0.45.1 (from qiskit>=0.44.0->qiskit-aer)\n",
            "  Downloading qiskit_terra-0.45.1-cp38-abi3-manylinux_2_17_x86_64.manylinux2014_x86_64.whl (6.3 MB)\n",
            "\u001b[2K     \u001b[90m━━━━━━━━━━━━━━━━━━━━━━━━━━━━━━━━━━━━━━━━\u001b[0m \u001b[32m6.3/6.3 MB\u001b[0m \u001b[31m63.6 MB/s\u001b[0m eta \u001b[36m0:00:00\u001b[0m\n",
            "\u001b[?25hCollecting rustworkx>=0.13.0 (from qiskit-terra==0.45.1->qiskit>=0.44.0->qiskit-aer)\n",
            "  Downloading rustworkx-0.13.2-cp310-cp310-manylinux_2_17_x86_64.manylinux2014_x86_64.whl (2.0 MB)\n",
            "\u001b[2K     \u001b[90m━━━━━━━━━━━━━━━━━━━━━━━━━━━━━━━━━━━━━━━━\u001b[0m \u001b[32m2.0/2.0 MB\u001b[0m \u001b[31m72.0 MB/s\u001b[0m eta \u001b[36m0:00:00\u001b[0m\n",
            "\u001b[?25hCollecting ply>=3.10 (from qiskit-terra==0.45.1->qiskit>=0.44.0->qiskit-aer)\n",
            "  Downloading ply-3.11-py2.py3-none-any.whl (49 kB)\n",
            "\u001b[2K     \u001b[90m━━━━━━━━━━━━━━━━━━━━━━━━━━━━━━━━━━━━━━━━\u001b[0m \u001b[32m49.6/49.6 kB\u001b[0m \u001b[31m5.8 MB/s\u001b[0m eta \u001b[36m0:00:00\u001b[0m\n",
            "\u001b[?25hRequirement already satisfied: sympy>=1.3 in /usr/local/lib/python3.10/dist-packages (from qiskit-terra==0.45.1->qiskit>=0.44.0->qiskit-aer) (1.12)\n",
            "Collecting dill>=0.3 (from qiskit-terra==0.45.1->qiskit>=0.44.0->qiskit-aer)\n",
            "  Downloading dill-0.3.7-py3-none-any.whl (115 kB)\n",
            "\u001b[2K     \u001b[90m━━━━━━━━━━━━━━━━━━━━━━━━━━━━━━━━━━━━━━━━\u001b[0m \u001b[32m115.3/115.3 kB\u001b[0m \u001b[31m12.9 MB/s\u001b[0m eta \u001b[36m0:00:00\u001b[0m\n",
            "\u001b[?25hRequirement already satisfied: python-dateutil>=2.8.0 in /usr/local/lib/python3.10/dist-packages (from qiskit-terra==0.45.1->qiskit>=0.44.0->qiskit-aer) (2.8.2)\n",
            "Collecting stevedore>=3.0.0 (from qiskit-terra==0.45.1->qiskit>=0.44.0->qiskit-aer)\n",
            "  Downloading stevedore-5.1.0-py3-none-any.whl (49 kB)\n",
            "\u001b[2K     \u001b[90m━━━━━━━━━━━━━━━━━━━━━━━━━━━━━━━━━━━━━━━━\u001b[0m \u001b[32m49.6/49.6 kB\u001b[0m \u001b[31m4.2 MB/s\u001b[0m eta \u001b[36m0:00:00\u001b[0m\n",
            "\u001b[?25hCollecting symengine!=0.10.0,>=0.9 (from qiskit-terra==0.45.1->qiskit>=0.44.0->qiskit-aer)\n",
            "  Downloading symengine-0.11.0-cp310-cp310-manylinux_2_12_x86_64.manylinux2010_x86_64.whl (39.4 MB)\n",
            "\u001b[2K     \u001b[90m━━━━━━━━━━━━━━━━━━━━━━━━━━━━━━━━━━━━━━━━\u001b[0m \u001b[32m39.4/39.4 MB\u001b[0m \u001b[31m28.6 MB/s\u001b[0m eta \u001b[36m0:00:00\u001b[0m\n",
            "\u001b[?25hRequirement already satisfied: typing-extensions in /usr/local/lib/python3.10/dist-packages (from qiskit-terra==0.45.1->qiskit>=0.44.0->qiskit-aer) (4.5.0)\n",
            "Requirement already satisfied: six>=1.5 in /usr/local/lib/python3.10/dist-packages (from python-dateutil>=2.8.0->qiskit-terra==0.45.1->qiskit>=0.44.0->qiskit-aer) (1.16.0)\n",
            "\u001b[33mWARNING: Retrying (Retry(total=4, connect=None, read=None, redirect=None, status=None)) after connection broken by 'ProtocolError('Connection aborted.', RemoteDisconnected('Remote end closed connection without response'))': /simple/pbr/\u001b[0m\u001b[33m\n",
            "\u001b[0mCollecting pbr!=2.1.0,>=2.0.0 (from stevedore>=3.0.0->qiskit-terra==0.45.1->qiskit>=0.44.0->qiskit-aer)\n",
            "  Downloading pbr-6.0.0-py2.py3-none-any.whl (107 kB)\n",
            "\u001b[2K     \u001b[90m━━━━━━━━━━━━━━━━━━━━━━━━━━━━━━━━━━━━━━━━\u001b[0m \u001b[32m107.5/107.5 kB\u001b[0m \u001b[31m8.2 MB/s\u001b[0m eta \u001b[36m0:00:00\u001b[0m\n",
            "\u001b[?25hRequirement already satisfied: mpmath>=0.19 in /usr/local/lib/python3.10/dist-packages (from sympy>=1.3->qiskit-terra==0.45.1->qiskit>=0.44.0->qiskit-aer) (1.3.0)\n",
            "Installing collected packages: ply, symengine, rustworkx, pbr, dill, stevedore, qiskit-terra, qiskit, qiskit-aer\n",
            "Successfully installed dill-0.3.7 pbr-6.0.0 ply-3.11 qiskit-0.45.1 qiskit-aer-0.13.1 qiskit-terra-0.45.1 rustworkx-0.13.2 stevedore-5.1.0 symengine-0.11.0\n"
          ]
        }
      ],
      "source": [
        "!pip install qiskit-aer"
      ]
    },
    {
      "cell_type": "code",
      "execution_count": null,
      "metadata": {
        "colab": {
          "base_uri": "https://localhost:8080/"
        },
        "id": "CGH8fNN4MUCU",
        "outputId": "7da3d333-662c-42ef-da0a-2410d4e710bb"
      },
      "outputs": [
        {
          "output_type": "stream",
          "name": "stdout",
          "text": [
            "Found existing installation: qiskit-aer 0.13.1\n",
            "Uninstalling qiskit-aer-0.13.1:\n",
            "  Successfully uninstalled qiskit-aer-0.13.1\n"
          ]
        }
      ],
      "source": [
        "!pip uninstall -y qiskit-aer"
      ]
    },
    {
      "cell_type": "code",
      "execution_count": null,
      "metadata": {
        "colab": {
          "base_uri": "https://localhost:8080/"
        },
        "id": "QpppwXhZMWqN",
        "outputId": "982063fe-462b-4cb1-97b0-2aaef34f309a"
      },
      "outputs": [
        {
          "output_type": "stream",
          "name": "stdout",
          "text": [
            "Collecting nvidia-cuda-runtime-cu12\n",
            "  Downloading nvidia_cuda_runtime_cu12-12.3.101-py3-none-manylinux1_x86_64.whl (867 kB)\n",
            "\u001b[2K     \u001b[90m━━━━━━━━━━━━━━━━━━━━━━━━━━━━━━━━━━━━━━━━\u001b[0m \u001b[32m867.7/867.7 kB\u001b[0m \u001b[31m6.8 MB/s\u001b[0m eta \u001b[36m0:00:00\u001b[0m\n",
            "\u001b[?25hCollecting nvidia-cublas-cu12\n",
            "  Downloading nvidia_cublas_cu12-12.3.4.1-py3-none-manylinux1_x86_64.whl (412.6 MB)\n",
            "\u001b[2K     \u001b[90m━━━━━━━━━━━━━━━━━━━━━━━━━━━━━━━━━━━━━━━━\u001b[0m \u001b[32m412.6/412.6 MB\u001b[0m \u001b[31m2.5 MB/s\u001b[0m eta \u001b[36m0:00:00\u001b[0m\n",
            "\u001b[?25hCollecting nvidia-cusolver-cu12\n",
            "  Downloading nvidia_cusolver_cu12-11.5.4.101-py3-none-manylinux1_x86_64.whl (125.2 MB)\n",
            "\u001b[2K     \u001b[90m━━━━━━━━━━━━━━━━━━━━━━━━━━━━━━━━━━━━━━━━\u001b[0m \u001b[32m125.2/125.2 MB\u001b[0m \u001b[31m11.1 MB/s\u001b[0m eta \u001b[36m0:00:00\u001b[0m\n",
            "\u001b[?25hCollecting nvidia-cusparse-cu12\n",
            "  Downloading nvidia_cusparse_cu12-12.2.0.103-py3-none-manylinux1_x86_64.whl (197.5 MB)\n",
            "\u001b[2K     \u001b[90m━━━━━━━━━━━━━━━━━━━━━━━━━━━━━━━━━━━━━━━━\u001b[0m \u001b[32m197.5/197.5 MB\u001b[0m \u001b[31m3.6 MB/s\u001b[0m eta \u001b[36m0:00:00\u001b[0m\n",
            "\u001b[?25hCollecting cuquantum-cu12\n",
            "  Downloading cuquantum_cu12-23.10.0-py3-none-manylinux2014_x86_64.whl (7.0 kB)\n",
            "Collecting nvidia-nvjitlink-cu12 (from nvidia-cusolver-cu12)\n",
            "  Downloading nvidia_nvjitlink_cu12-12.3.101-py3-none-manylinux1_x86_64.whl (20.5 MB)\n",
            "\u001b[2K     \u001b[90m━━━━━━━━━━━━━━━━━━━━━━━━━━━━━━━━━━━━━━━━\u001b[0m \u001b[32m20.5/20.5 MB\u001b[0m \u001b[31m57.8 MB/s\u001b[0m eta \u001b[36m0:00:00\u001b[0m\n",
            "\u001b[?25hCollecting custatevec-cu12==1.5.0 (from cuquantum-cu12)\n",
            "  Downloading custatevec_cu12-1.5.0-py3-none-manylinux2014_x86_64.whl (38.4 MB)\n",
            "\u001b[2K     \u001b[90m━━━━━━━━━━━━━━━━━━━━━━━━━━━━━━━━━━━━━━━━\u001b[0m \u001b[32m38.4/38.4 MB\u001b[0m \u001b[31m26.3 MB/s\u001b[0m eta \u001b[36m0:00:00\u001b[0m\n",
            "\u001b[?25hCollecting cutensornet-cu12==2.3.0 (from cuquantum-cu12)\n",
            "  Downloading cutensornet_cu12-2.3.0-py3-none-manylinux2014_x86_64.whl (2.2 MB)\n",
            "\u001b[2K     \u001b[90m━━━━━━━━━━━━━━━━━━━━━━━━━━━━━━━━━━━━━━━━\u001b[0m \u001b[32m2.2/2.2 MB\u001b[0m \u001b[31m49.0 MB/s\u001b[0m eta \u001b[36m0:00:00\u001b[0m\n",
            "\u001b[?25hCollecting cutensor-cu12<2,>=1.6.1 (from cutensornet-cu12==2.3.0->cuquantum-cu12)\n",
            "  Downloading cutensor_cu12-1.7.0-py3-none-manylinux2014_x86_64.whl (146.8 MB)\n",
            "\u001b[2K     \u001b[90m━━━━━━━━━━━━━━━━━━━━━━━━━━━━━━━━━━━━━━━━\u001b[0m \u001b[32m146.8/146.8 MB\u001b[0m \u001b[31m9.1 MB/s\u001b[0m eta \u001b[36m0:00:00\u001b[0m\n",
            "\u001b[?25hInstalling collected packages: cutensor-cu12, custatevec-cu12, nvidia-nvjitlink-cu12, nvidia-cuda-runtime-cu12, nvidia-cublas-cu12, cutensornet-cu12, nvidia-cusparse-cu12, cuquantum-cu12, nvidia-cusolver-cu12\n",
            "Successfully installed cuquantum-cu12-23.10.0 custatevec-cu12-1.5.0 cutensor-cu12-1.7.0 cutensornet-cu12-2.3.0 nvidia-cublas-cu12-12.3.4.1 nvidia-cuda-runtime-cu12-12.3.101 nvidia-cusolver-cu12-11.5.4.101 nvidia-cusparse-cu12-12.2.0.103 nvidia-nvjitlink-cu12-12.3.101\n"
          ]
        }
      ],
      "source": [
        "!pip install nvidia-cuda-runtime-cu12 nvidia-cublas-cu12 nvidia-cusolver-cu12 nvidia-cusparse-cu12 cuquantum-cu12"
      ]
    },
    {
      "cell_type": "code",
      "execution_count": null,
      "metadata": {
        "colab": {
          "base_uri": "https://localhost:8080/"
        },
        "id": "tGwbAVgfMYQ4",
        "outputId": "ca742848-2208-4edf-c479-56f273ba4414"
      },
      "outputs": [
        {
          "output_type": "stream",
          "name": "stdout",
          "text": [
            "Looking in indexes: https://test.pypi.org/simple/\n",
            "Collecting qiskit-aer-gpu\n",
            "  Downloading https://test-files.pythonhosted.org/packages/76/77/d53bfc99ab3b0ef5517e6fb4b7a4a37aaa8d046a88a5cf8b01483fe26b77/qiskit_aer_gpu-0.13.1-cp310-cp310-manylinux_2_17_x86_64.manylinux2014_x86_64.whl (18.7 MB)\n",
            "\u001b[2K     \u001b[90m━━━━━━━━━━━━━━━━━━━━━━━━━━━━━━━━━━━━━━━━\u001b[0m \u001b[32m18.7/18.7 MB\u001b[0m \u001b[31m5.1 MB/s\u001b[0m eta \u001b[36m0:00:00\u001b[0m\n",
            "\u001b[?25hRequirement already satisfied: qiskit-terra>=0.21.0 in /usr/local/lib/python3.10/dist-packages (from qiskit-aer-gpu) (0.45.1)\n",
            "Requirement already satisfied: numpy>=1.16.3 in /usr/local/lib/python3.10/dist-packages (from qiskit-aer-gpu) (1.23.5)\n",
            "Requirement already satisfied: scipy>=1.0 in /usr/local/lib/python3.10/dist-packages (from qiskit-aer-gpu) (1.11.4)\n",
            "Requirement already satisfied: nvidia-cuda-runtime-cu12>=12.1.105 in /usr/local/lib/python3.10/dist-packages (from qiskit-aer-gpu) (12.3.101)\n",
            "Requirement already satisfied: nvidia-nvjitlink-cu12 in /usr/local/lib/python3.10/dist-packages (from qiskit-aer-gpu) (12.3.101)\n",
            "Requirement already satisfied: nvidia-cublas-cu12>=12.1.3.1 in /usr/local/lib/python3.10/dist-packages (from qiskit-aer-gpu) (12.3.4.1)\n",
            "Requirement already satisfied: nvidia-cusolver-cu12>=11.4.5.107 in /usr/local/lib/python3.10/dist-packages (from qiskit-aer-gpu) (11.5.4.101)\n",
            "Requirement already satisfied: nvidia-cusparse-cu12>=12.1.0.106 in /usr/local/lib/python3.10/dist-packages (from qiskit-aer-gpu) (12.2.0.103)\n",
            "Requirement already satisfied: cuquantum-cu12>=23.3.0 in /usr/local/lib/python3.10/dist-packages (from qiskit-aer-gpu) (23.10.0)\n",
            "Requirement already satisfied: custatevec-cu12==1.5.0 in /usr/local/lib/python3.10/dist-packages (from cuquantum-cu12>=23.3.0->qiskit-aer-gpu) (1.5.0)\n",
            "Requirement already satisfied: cutensornet-cu12==2.3.0 in /usr/local/lib/python3.10/dist-packages (from cuquantum-cu12>=23.3.0->qiskit-aer-gpu) (2.3.0)\n",
            "Requirement already satisfied: cutensor-cu12<2,>=1.6.1 in /usr/local/lib/python3.10/dist-packages (from cutensornet-cu12==2.3.0->cuquantum-cu12>=23.3.0->qiskit-aer-gpu) (1.7.0)\n",
            "Requirement already satisfied: rustworkx>=0.13.0 in /usr/local/lib/python3.10/dist-packages (from qiskit-terra>=0.21.0->qiskit-aer-gpu) (0.13.2)\n",
            "Requirement already satisfied: ply>=3.10 in /usr/local/lib/python3.10/dist-packages (from qiskit-terra>=0.21.0->qiskit-aer-gpu) (3.11)\n",
            "Requirement already satisfied: psutil>=5 in /usr/local/lib/python3.10/dist-packages (from qiskit-terra>=0.21.0->qiskit-aer-gpu) (5.9.5)\n",
            "Requirement already satisfied: sympy>=1.3 in /usr/local/lib/python3.10/dist-packages (from qiskit-terra>=0.21.0->qiskit-aer-gpu) (1.12)\n",
            "Requirement already satisfied: dill>=0.3 in /usr/local/lib/python3.10/dist-packages (from qiskit-terra>=0.21.0->qiskit-aer-gpu) (0.3.7)\n",
            "Requirement already satisfied: python-dateutil>=2.8.0 in /usr/local/lib/python3.10/dist-packages (from qiskit-terra>=0.21.0->qiskit-aer-gpu) (2.8.2)\n",
            "Requirement already satisfied: stevedore>=3.0.0 in /usr/local/lib/python3.10/dist-packages (from qiskit-terra>=0.21.0->qiskit-aer-gpu) (5.1.0)\n",
            "Requirement already satisfied: symengine!=0.10.0,>=0.9 in /usr/local/lib/python3.10/dist-packages (from qiskit-terra>=0.21.0->qiskit-aer-gpu) (0.11.0)\n",
            "Requirement already satisfied: typing-extensions in /usr/local/lib/python3.10/dist-packages (from qiskit-terra>=0.21.0->qiskit-aer-gpu) (4.5.0)\n",
            "Requirement already satisfied: six>=1.5 in /usr/local/lib/python3.10/dist-packages (from python-dateutil>=2.8.0->qiskit-terra>=0.21.0->qiskit-aer-gpu) (1.16.0)\n",
            "Requirement already satisfied: pbr!=2.1.0,>=2.0.0 in /usr/local/lib/python3.10/dist-packages (from stevedore>=3.0.0->qiskit-terra>=0.21.0->qiskit-aer-gpu) (6.0.0)\n",
            "Requirement already satisfied: mpmath>=0.19 in /usr/local/lib/python3.10/dist-packages (from sympy>=1.3->qiskit-terra>=0.21.0->qiskit-aer-gpu) (1.3.0)\n",
            "Installing collected packages: qiskit-aer-gpu\n",
            "Successfully installed qiskit-aer-gpu-0.13.1\n"
          ]
        }
      ],
      "source": [
        "!pip install -i https://test.pypi.org/simple/ qiskit-aer-gpu"
      ]
    },
    {
      "cell_type": "code",
      "execution_count": null,
      "metadata": {
        "colab": {
          "base_uri": "https://localhost:8080/"
        },
        "id": "BXk7iNlKMbIh",
        "outputId": "d279480c-70e6-4e8b-b5dc-abc8efdfb137"
      },
      "outputs": [
        {
          "output_type": "stream",
          "name": "stdout",
          "text": [
            "\tlinux-vdso.so.1 (0x00007ffe27b6f000)\n",
            "\tlibopenblas-r0-f650aae0.3.3.so => /usr/local/lib/python3.10/dist-packages/qiskit_aer/backends/../../qiskit_aer_gpu.libs/libopenblas-r0-f650aae0.3.3.so (0x00007cd5a3a00000)\n",
            "\tlibdl.so.2 => /lib/x86_64-linux-gnu/libdl.so.2 (0x00007cd5a607e000)\n",
            "\tlibcusolver.so.11 => /usr/local/lib/python3.10/dist-packages/qiskit_aer/backends/../../nvidia/cusolver/lib/libcusolver.so.11 (0x00007cd59c800000)\n",
            "\tlibcusparse.so.12 => /usr/local/lib/python3.10/dist-packages/qiskit_aer/backends/../../nvidia/cusparse/lib/libcusparse.so.12 (0x00007cd58c600000)\n",
            "\tlibcustatevec.so.1 => /usr/local/lib/python3.10/dist-packages/qiskit_aer/backends/../../cuquantum/lib/libcustatevec.so.1 (0x00007cd588000000)\n",
            "\tlibcutensornet.so.2 => /usr/local/lib/python3.10/dist-packages/qiskit_aer/backends/../../cuquantum/lib/libcutensornet.so.2 (0x00007cd587800000)\n",
            "\tlibcudart.so.12 => /usr/local/lib/python3.10/dist-packages/qiskit_aer/backends/../../nvidia/cuda_runtime/lib/libcudart.so.12 (0x00007cd587400000)\n",
            "\tlibpthread.so.0 => /lib/x86_64-linux-gnu/libpthread.so.0 (0x00007cd5a6077000)\n",
            "\tlibstdc++.so.6 => /lib/x86_64-linux-gnu/libstdc++.so.6 (0x00007cd5871d4000)\n",
            "\tlibm.so.6 => /lib/x86_64-linux-gnu/libm.so.6 (0x00007cd5a5f8e000)\n",
            "\tlibgomp-a34b3233.so.1.0.0 => /usr/local/lib/python3.10/dist-packages/qiskit_aer/backends/../../qiskit_aer_gpu.libs/libgomp-a34b3233.so.1.0.0 (0x00007cd586e00000)\n",
            "\tlibgcc_s.so.1 => /lib/x86_64-linux-gnu/libgcc_s.so.1 (0x00007cd5a39e0000)\n",
            "\tlibc.so.6 => /lib/x86_64-linux-gnu/libc.so.6 (0x00007cd586bd8000)\n",
            "\t/lib64/ld-linux-x86-64.so.2 (0x00007cd5a7a7c000)\n",
            "\tlibgfortran-91cc3cb1.so.3.0.0 => /usr/local/lib/python3.10/dist-packages/qiskit_aer/backends/../../qiskit_aer_gpu.libs/libgfortran-91cc3cb1.so.3.0.0 (0x00007cd586800000)\n",
            "\tlibnvJitLink.so.12 => /usr/local/lib/python3.10/dist-packages/qiskit_aer/backends/../../nvidia/cusolver/lib/../../nvjitlink/lib/libnvJitLink.so.12 (0x00007cd583200000)\n",
            "\tlibcublas.so.12 => /usr/local/lib/python3.10/dist-packages/qiskit_aer/backends/../../nvidia/cusolver/lib/../../cublas/lib/libcublas.so.12 (0x00007cd57ca00000)\n",
            "\tlibcublasLt.so.12 => /usr/local/lib/python3.10/dist-packages/qiskit_aer/backends/../../nvidia/cusolver/lib/../../cublas/lib/libcublasLt.so.12 (0x00007cd55a000000)\n",
            "\tlibrt.so.1 => /lib/x86_64-linux-gnu/librt.so.1 (0x00007cd5a39d9000)\n",
            "\tlibcutensor.so.1 => /usr/local/lib/python3.10/dist-packages/qiskit_aer/backends/../../cuquantum/lib/../../cutensor/lib/libcutensor.so.1 (0x00007cd54c000000)\n",
            "\tlibquadmath-96973f99.so.0.0.0 => /usr/local/lib/python3.10/dist-packages/qiskit_aer/backends/../../qiskit_aer_gpu.libs/libquadmath-96973f99.so.0.0.0 (0x00007cd54bc00000)\n",
            "\tlibcuda.so.1 => /usr/lib64-nvidia/libcuda.so.1 (0x00007cd549e00000)\n"
          ]
        }
      ],
      "source": [
        "!ldd /usr/local/lib/python3.10/dist-packages/qiskit_aer/backends/controller_wrappers.cpython-310-x86_64-linux-gnu.so"
      ]
    },
    {
      "cell_type": "markdown",
      "metadata": {
        "id": "M4PKtFV3V18h"
      },
      "source": [
        "## Installing qiskit-nature"
      ]
    },
    {
      "cell_type": "code",
      "execution_count": null,
      "metadata": {
        "colab": {
          "base_uri": "https://localhost:8080/"
        },
        "id": "1q2KCFzIMdBt",
        "outputId": "7df80bcc-105c-4054-c276-4305fff711d3"
      },
      "outputs": [
        {
          "output_type": "stream",
          "name": "stdout",
          "text": [
            "\u001b[33mWARNING: Skipping qiskit_nature as it is not installed.\u001b[0m\u001b[33m\n",
            "\u001b[0m\u001b[33mWARNING: Skipping pyscf as it is not installed.\u001b[0m\u001b[33m\n",
            "\u001b[0m"
          ]
        }
      ],
      "source": [
        "!pip uninstall qiskit_nature --yes\n",
        "!pip uninstall pyscf --yes"
      ]
    },
    {
      "cell_type": "code",
      "execution_count": null,
      "metadata": {
        "colab": {
          "base_uri": "https://localhost:8080/"
        },
        "id": "MT0x2ckMMfPp",
        "outputId": "3093319c-cfc7-4e7a-f19c-b3e8703f58c4"
      },
      "outputs": [
        {
          "output_type": "stream",
          "name": "stdout",
          "text": [
            "\u001b[33mWARNING: Package(s) not found: qiskit_nature\u001b[0m\u001b[33m\n",
            "\u001b[0m\u001b[33mWARNING: Package(s) not found: pyscf\u001b[0m\u001b[33m\n",
            "\u001b[0m"
          ]
        }
      ],
      "source": [
        "!pip show qiskit_nature\n",
        "!pip show pyscf"
      ]
    },
    {
      "cell_type": "code",
      "execution_count": null,
      "metadata": {
        "colab": {
          "base_uri": "https://localhost:8080/"
        },
        "id": "pP0_fj_bMg79",
        "outputId": "a4902757-f8dc-486b-c482-f594925c3648"
      },
      "outputs": [
        {
          "output_type": "stream",
          "name": "stdout",
          "text": [
            "Collecting qiskit-nature\n",
            "  Downloading qiskit_nature-0.7.1-py3-none-any.whl (2.2 MB)\n",
            "\u001b[2K     \u001b[90m━━━━━━━━━━━━━━━━━━━━━━━━━━━━━━━━━━━━━━━━\u001b[0m \u001b[32m2.2/2.2 MB\u001b[0m \u001b[31m10.3 MB/s\u001b[0m eta \u001b[36m0:00:00\u001b[0m\n",
            "\u001b[?25hRequirement already satisfied: qiskit>=0.44 in /usr/local/lib/python3.10/dist-packages (from qiskit-nature) (0.45.1)\n",
            "Collecting qiskit-algorithms>=0.2.1 (from qiskit-nature)\n",
            "  Downloading qiskit_algorithms-0.2.1-py3-none-any.whl (306 kB)\n",
            "\u001b[2K     \u001b[90m━━━━━━━━━━━━━━━━━━━━━━━━━━━━━━━━━━━━━━━━\u001b[0m \u001b[32m306.9/306.9 kB\u001b[0m \u001b[31m14.2 MB/s\u001b[0m eta \u001b[36m0:00:00\u001b[0m\n",
            "\u001b[?25hRequirement already satisfied: scipy>=1.4 in /usr/local/lib/python3.10/dist-packages (from qiskit-nature) (1.11.4)\n",
            "Requirement already satisfied: numpy>=1.17 in /usr/local/lib/python3.10/dist-packages (from qiskit-nature) (1.23.5)\n",
            "Requirement already satisfied: psutil>=5 in /usr/local/lib/python3.10/dist-packages (from qiskit-nature) (5.9.5)\n",
            "Requirement already satisfied: setuptools>=40.1.0 in /usr/local/lib/python3.10/dist-packages (from qiskit-nature) (67.7.2)\n",
            "Requirement already satisfied: typing-extensions in /usr/local/lib/python3.10/dist-packages (from qiskit-nature) (4.5.0)\n",
            "Requirement already satisfied: h5py in /usr/local/lib/python3.10/dist-packages (from qiskit-nature) (3.9.0)\n",
            "Requirement already satisfied: rustworkx>=0.12 in /usr/local/lib/python3.10/dist-packages (from qiskit-nature) (0.13.2)\n",
            "Requirement already satisfied: qiskit-terra==0.45.1 in /usr/local/lib/python3.10/dist-packages (from qiskit>=0.44->qiskit-nature) (0.45.1)\n",
            "Requirement already satisfied: ply>=3.10 in /usr/local/lib/python3.10/dist-packages (from qiskit-terra==0.45.1->qiskit>=0.44->qiskit-nature) (3.11)\n",
            "Requirement already satisfied: sympy>=1.3 in /usr/local/lib/python3.10/dist-packages (from qiskit-terra==0.45.1->qiskit>=0.44->qiskit-nature) (1.12)\n",
            "Requirement already satisfied: dill>=0.3 in /usr/local/lib/python3.10/dist-packages (from qiskit-terra==0.45.1->qiskit>=0.44->qiskit-nature) (0.3.7)\n",
            "Requirement already satisfied: python-dateutil>=2.8.0 in /usr/local/lib/python3.10/dist-packages (from qiskit-terra==0.45.1->qiskit>=0.44->qiskit-nature) (2.8.2)\n",
            "Requirement already satisfied: stevedore>=3.0.0 in /usr/local/lib/python3.10/dist-packages (from qiskit-terra==0.45.1->qiskit>=0.44->qiskit-nature) (5.1.0)\n",
            "Requirement already satisfied: symengine!=0.10.0,>=0.9 in /usr/local/lib/python3.10/dist-packages (from qiskit-terra==0.45.1->qiskit>=0.44->qiskit-nature) (0.11.0)\n",
            "Requirement already satisfied: six>=1.5 in /usr/local/lib/python3.10/dist-packages (from python-dateutil>=2.8.0->qiskit-terra==0.45.1->qiskit>=0.44->qiskit-nature) (1.16.0)\n",
            "Requirement already satisfied: pbr!=2.1.0,>=2.0.0 in /usr/local/lib/python3.10/dist-packages (from stevedore>=3.0.0->qiskit-terra==0.45.1->qiskit>=0.44->qiskit-nature) (6.0.0)\n",
            "Requirement already satisfied: mpmath>=0.19 in /usr/local/lib/python3.10/dist-packages (from sympy>=1.3->qiskit-terra==0.45.1->qiskit>=0.44->qiskit-nature) (1.3.0)\n",
            "Installing collected packages: qiskit-algorithms, qiskit-nature\n",
            "Successfully installed qiskit-algorithms-0.2.1 qiskit-nature-0.7.1\n"
          ]
        }
      ],
      "source": [
        "!pip install qiskit-nature"
      ]
    },
    {
      "cell_type": "code",
      "execution_count": null,
      "metadata": {
        "colab": {
          "base_uri": "https://localhost:8080/"
        },
        "id": "fXf9z3o1Xzu6",
        "outputId": "1b545cd5-e922-4652-fab9-549fdbb457ff"
      },
      "outputs": [
        {
          "output_type": "stream",
          "name": "stdout",
          "text": [
            "Collecting pyscf\n",
            "  Downloading pyscf-2.4.0-py3-none-manylinux_2_17_x86_64.manylinux2014_x86_64.whl (47.3 MB)\n",
            "\u001b[2K     \u001b[90m━━━━━━━━━━━━━━━━━━━━━━━━━━━━━━━━━━━━━━━━\u001b[0m \u001b[32m47.3/47.3 MB\u001b[0m \u001b[31m28.9 MB/s\u001b[0m eta \u001b[36m0:00:00\u001b[0m\n",
            "\u001b[?25hRequirement already satisfied: numpy!=1.16,!=1.17,>=1.13 in /usr/local/lib/python3.10/dist-packages (from pyscf) (1.23.5)\n",
            "Requirement already satisfied: scipy!=1.5.0,!=1.5.1 in /usr/local/lib/python3.10/dist-packages (from pyscf) (1.11.4)\n",
            "Requirement already satisfied: h5py>=2.7 in /usr/local/lib/python3.10/dist-packages (from pyscf) (3.9.0)\n",
            "Requirement already satisfied: setuptools in /usr/local/lib/python3.10/dist-packages (from pyscf) (67.7.2)\n",
            "Installing collected packages: pyscf\n",
            "Successfully installed pyscf-2.4.0\n"
          ]
        }
      ],
      "source": [
        "!pip install pyscf"
      ]
    },
    {
      "cell_type": "markdown",
      "metadata": {
        "id": "WS3QQAjuV5RO"
      },
      "source": [
        "## Imports"
      ]
    },
    {
      "cell_type": "code",
      "execution_count": null,
      "metadata": {
        "colab": {
          "base_uri": "https://localhost:8080/",
          "height": 455
        },
        "id": "q6NdnYJdMimX",
        "outputId": "a4281ac5-cc5f-433e-e91a-e2b30c4b4644"
      },
      "outputs": [
        {
          "output_type": "stream",
          "name": "stderr",
          "text": [
            "<ipython-input-11-504928f02f07>:3: DeprecationWarning: ``qiskit.algorithms`` has been migrated to an independent package: https://github.com/qiskit-community/qiskit-algorithms. The ``qiskit.algorithms`` import path is deprecated as of qiskit-terra 0.25.0 and will be removed no earlier than 3 months after the release date. Please run ``pip install qiskit_algorithms`` and use ``import qiskit_algorithms`` instead.\n",
            "  from qiskit.algorithms.minimum_eigensolvers import NumPyMinimumEigensolver, VQE\n"
          ]
        },
        {
          "output_type": "error",
          "ename": "KeyboardInterrupt",
          "evalue": "",
          "traceback": [
            "\u001b[0;31m---------------------------------------------------------------------------\u001b[0m",
            "\u001b[0;31mKeyboardInterrupt\u001b[0m                         Traceback (most recent call last)",
            "\u001b[0;32m<ipython-input-11-504928f02f07>\u001b[0m in \u001b[0;36m<cell line: 6>\u001b[0;34m()\u001b[0m\n\u001b[1;32m      4\u001b[0m \u001b[0;32mfrom\u001b[0m \u001b[0mqiskit\u001b[0m\u001b[0;34m.\u001b[0m\u001b[0malgorithms\u001b[0m\u001b[0;34m.\u001b[0m\u001b[0moptimizers\u001b[0m \u001b[0;32mimport\u001b[0m \u001b[0mSLSQP\u001b[0m\u001b[0;34m\u001b[0m\u001b[0;34m\u001b[0m\u001b[0m\n\u001b[1;32m      5\u001b[0m \u001b[0;34m\u001b[0m\u001b[0m\n\u001b[0;32m----> 6\u001b[0;31m \u001b[0;32mfrom\u001b[0m \u001b[0mqiskit_nature\u001b[0m\u001b[0;34m.\u001b[0m\u001b[0msecond_q\u001b[0m\u001b[0;34m.\u001b[0m\u001b[0mtransformers\u001b[0m \u001b[0;32mimport\u001b[0m \u001b[0mFreezeCoreTransformer\u001b[0m\u001b[0;34m\u001b[0m\u001b[0;34m\u001b[0m\u001b[0m\n\u001b[0m\u001b[1;32m      7\u001b[0m \u001b[0;32mfrom\u001b[0m \u001b[0mqiskit_nature\u001b[0m\u001b[0;34m.\u001b[0m\u001b[0msecond_q\u001b[0m\u001b[0;34m.\u001b[0m\u001b[0mformats\u001b[0m\u001b[0;34m.\u001b[0m\u001b[0mmolecule_info\u001b[0m \u001b[0;32mimport\u001b[0m \u001b[0mMoleculeInfo\u001b[0m\u001b[0;34m\u001b[0m\u001b[0;34m\u001b[0m\u001b[0m\n\u001b[1;32m      8\u001b[0m \u001b[0;32mfrom\u001b[0m \u001b[0mqiskit_nature\u001b[0m\u001b[0;34m.\u001b[0m\u001b[0msecond_q\u001b[0m\u001b[0;34m.\u001b[0m\u001b[0mmappers\u001b[0m \u001b[0;32mimport\u001b[0m \u001b[0mParityMapper\u001b[0m\u001b[0;34m\u001b[0m\u001b[0;34m\u001b[0m\u001b[0m\n",
            "\u001b[0;32m/usr/local/lib/python3.10/dist-packages/qiskit_nature/__init__.py\u001b[0m in \u001b[0;36m<module>\u001b[0;34m\u001b[0m\n\u001b[1;32m     51\u001b[0m \"\"\"\n\u001b[1;32m     52\u001b[0m \u001b[0;34m\u001b[0m\u001b[0m\n\u001b[0;32m---> 53\u001b[0;31m \u001b[0;32mfrom\u001b[0m \u001b[0mqiskit_algorithms\u001b[0m\u001b[0;34m.\u001b[0m\u001b[0mlist_or_dict\u001b[0m \u001b[0;32mimport\u001b[0m \u001b[0mListOrDict\u001b[0m \u001b[0;32mas\u001b[0m \u001b[0mListOrDictType\u001b[0m\u001b[0;34m\u001b[0m\u001b[0;34m\u001b[0m\u001b[0m\n\u001b[0m\u001b[1;32m     54\u001b[0m \u001b[0;34m\u001b[0m\u001b[0m\n\u001b[1;32m     55\u001b[0m \u001b[0;32mfrom\u001b[0m \u001b[0;34m.\u001b[0m\u001b[0mexceptions\u001b[0m \u001b[0;32mimport\u001b[0m \u001b[0mQiskitNatureError\u001b[0m\u001b[0;34m,\u001b[0m \u001b[0mUnsupportMethodError\u001b[0m\u001b[0;34m\u001b[0m\u001b[0;34m\u001b[0m\u001b[0m\n",
            "\u001b[0;32m/usr/local/lib/python3.10/dist-packages/qiskit_algorithms/__init__.py\u001b[0m in \u001b[0;36m<module>\u001b[0;34m\u001b[0m\n\u001b[1;32m    267\u001b[0m )\n\u001b[1;32m    268\u001b[0m \u001b[0;34m\u001b[0m\u001b[0m\n\u001b[0;32m--> 269\u001b[0;31m from .phase_estimators import (\n\u001b[0m\u001b[1;32m    270\u001b[0m     \u001b[0mHamiltonianPhaseEstimation\u001b[0m\u001b[0;34m,\u001b[0m\u001b[0;34m\u001b[0m\u001b[0;34m\u001b[0m\u001b[0m\n\u001b[1;32m    271\u001b[0m     \u001b[0mHamiltonianPhaseEstimationResult\u001b[0m\u001b[0;34m,\u001b[0m\u001b[0;34m\u001b[0m\u001b[0;34m\u001b[0m\u001b[0m\n",
            "\u001b[0;32m/usr/local/lib/python3.10/dist-packages/qiskit_algorithms/phase_estimators/__init__.py\u001b[0m in \u001b[0;36m<module>\u001b[0;34m\u001b[0m\n\u001b[1;32m     14\u001b[0m \u001b[0;34m\u001b[0m\u001b[0m\n\u001b[1;32m     15\u001b[0m \u001b[0;32mfrom\u001b[0m \u001b[0;34m.\u001b[0m\u001b[0mphase_estimator\u001b[0m \u001b[0;32mimport\u001b[0m \u001b[0mPhaseEstimator\u001b[0m\u001b[0;34m\u001b[0m\u001b[0;34m\u001b[0m\u001b[0m\n\u001b[0;32m---> 16\u001b[0;31m \u001b[0;32mfrom\u001b[0m \u001b[0;34m.\u001b[0m\u001b[0mphase_estimation\u001b[0m \u001b[0;32mimport\u001b[0m \u001b[0mPhaseEstimation\u001b[0m\u001b[0;34m\u001b[0m\u001b[0;34m\u001b[0m\u001b[0m\n\u001b[0m\u001b[1;32m     17\u001b[0m \u001b[0;32mfrom\u001b[0m \u001b[0;34m.\u001b[0m\u001b[0mphase_estimation_result\u001b[0m \u001b[0;32mimport\u001b[0m \u001b[0mPhaseEstimationResult\u001b[0m\u001b[0;34m\u001b[0m\u001b[0;34m\u001b[0m\u001b[0m\n\u001b[1;32m     18\u001b[0m \u001b[0;32mfrom\u001b[0m \u001b[0;34m.\u001b[0m\u001b[0mphase_estimation_scale\u001b[0m \u001b[0;32mimport\u001b[0m \u001b[0mPhaseEstimationScale\u001b[0m\u001b[0;34m\u001b[0m\u001b[0;34m\u001b[0m\u001b[0m\n",
            "\u001b[0;32m/usr/local/lib/python3.10/dist-packages/qiskit_algorithms/phase_estimators/phase_estimation.py\u001b[0m in \u001b[0;36m<module>\u001b[0;34m\u001b[0m\n\u001b[1;32m     26\u001b[0m \u001b[0;32mfrom\u001b[0m \u001b[0mqiskit_algorithms\u001b[0m\u001b[0;34m.\u001b[0m\u001b[0mexceptions\u001b[0m \u001b[0;32mimport\u001b[0m \u001b[0mAlgorithmError\u001b[0m\u001b[0;34m\u001b[0m\u001b[0;34m\u001b[0m\u001b[0m\n\u001b[1;32m     27\u001b[0m \u001b[0;34m\u001b[0m\u001b[0m\n\u001b[0;32m---> 28\u001b[0;31m \u001b[0;32mfrom\u001b[0m \u001b[0;34m.\u001b[0m\u001b[0mphase_estimation_result\u001b[0m \u001b[0;32mimport\u001b[0m \u001b[0mPhaseEstimationResult\u001b[0m\u001b[0;34m,\u001b[0m \u001b[0m_sort_phases\u001b[0m\u001b[0;34m\u001b[0m\u001b[0;34m\u001b[0m\u001b[0m\n\u001b[0m\u001b[1;32m     29\u001b[0m \u001b[0;32mfrom\u001b[0m \u001b[0;34m.\u001b[0m\u001b[0mphase_estimator\u001b[0m \u001b[0;32mimport\u001b[0m \u001b[0mPhaseEstimator\u001b[0m\u001b[0;34m\u001b[0m\u001b[0;34m\u001b[0m\u001b[0m\n\u001b[1;32m     30\u001b[0m \u001b[0;34m\u001b[0m\u001b[0m\n",
            "\u001b[0;32m/usr/local/lib/python3.10/dist-packages/qiskit_algorithms/phase_estimators/phase_estimation_result.py\u001b[0m in \u001b[0;36m<module>\u001b[0;34m\u001b[0m\n\u001b[1;32m     19\u001b[0m \u001b[0;34m\u001b[0m\u001b[0m\n\u001b[1;32m     20\u001b[0m \u001b[0;34m\u001b[0m\u001b[0m\n\u001b[0;32m---> 21\u001b[0;31m \u001b[0;32mclass\u001b[0m \u001b[0mPhaseEstimationResult\u001b[0m\u001b[0;34m(\u001b[0m\u001b[0mPhaseEstimatorResult\u001b[0m\u001b[0;34m)\u001b[0m\u001b[0;34m:\u001b[0m\u001b[0;34m\u001b[0m\u001b[0;34m\u001b[0m\u001b[0m\n\u001b[0m\u001b[1;32m     22\u001b[0m     \"\"\"Store and manipulate results from running `PhaseEstimation`.\n\u001b[1;32m     23\u001b[0m \u001b[0;34m\u001b[0m\u001b[0m\n",
            "\u001b[0;32m/usr/lib/python3.10/abc.py\u001b[0m in \u001b[0;36m__new__\u001b[0;34m(mcls, name, bases, namespace, **kwargs)\u001b[0m\n\u001b[1;32m    105\u001b[0m         \u001b[0;32mdef\u001b[0m \u001b[0m__new__\u001b[0m\u001b[0;34m(\u001b[0m\u001b[0mmcls\u001b[0m\u001b[0;34m,\u001b[0m \u001b[0mname\u001b[0m\u001b[0;34m,\u001b[0m \u001b[0mbases\u001b[0m\u001b[0;34m,\u001b[0m \u001b[0mnamespace\u001b[0m\u001b[0;34m,\u001b[0m \u001b[0;34m**\u001b[0m\u001b[0mkwargs\u001b[0m\u001b[0;34m)\u001b[0m\u001b[0;34m:\u001b[0m\u001b[0;34m\u001b[0m\u001b[0;34m\u001b[0m\u001b[0m\n\u001b[1;32m    106\u001b[0m             \u001b[0mcls\u001b[0m \u001b[0;34m=\u001b[0m \u001b[0msuper\u001b[0m\u001b[0;34m(\u001b[0m\u001b[0;34m)\u001b[0m\u001b[0;34m.\u001b[0m\u001b[0m__new__\u001b[0m\u001b[0;34m(\u001b[0m\u001b[0mmcls\u001b[0m\u001b[0;34m,\u001b[0m \u001b[0mname\u001b[0m\u001b[0;34m,\u001b[0m \u001b[0mbases\u001b[0m\u001b[0;34m,\u001b[0m \u001b[0mnamespace\u001b[0m\u001b[0;34m,\u001b[0m \u001b[0;34m**\u001b[0m\u001b[0mkwargs\u001b[0m\u001b[0;34m)\u001b[0m\u001b[0;34m\u001b[0m\u001b[0;34m\u001b[0m\u001b[0m\n\u001b[0;32m--> 107\u001b[0;31m             \u001b[0m_abc_init\u001b[0m\u001b[0;34m(\u001b[0m\u001b[0mcls\u001b[0m\u001b[0;34m)\u001b[0m\u001b[0;34m\u001b[0m\u001b[0;34m\u001b[0m\u001b[0m\n\u001b[0m\u001b[1;32m    108\u001b[0m             \u001b[0;32mreturn\u001b[0m \u001b[0mcls\u001b[0m\u001b[0;34m\u001b[0m\u001b[0;34m\u001b[0m\u001b[0m\n\u001b[1;32m    109\u001b[0m \u001b[0;34m\u001b[0m\u001b[0m\n",
            "\u001b[0;31mKeyboardInterrupt\u001b[0m: "
          ]
        }
      ],
      "source": [
        "from qiskit.primitives import Estimator\n",
        "\n",
        "from qiskit.algorithms.minimum_eigensolvers import NumPyMinimumEigensolver, VQE\n",
        "from qiskit.algorithms.optimizers import SLSQP\n",
        "\n",
        "from qiskit_nature.second_q.transformers import FreezeCoreTransformer\n",
        "from qiskit_nature.second_q.formats.molecule_info import MoleculeInfo\n",
        "from qiskit_nature.second_q.mappers import ParityMapper\n",
        "from qiskit_nature.second_q.circuit.library import UCCSD, HartreeFock\n",
        "from qiskit_nature.second_q.algorithms import GroundStateEigensolver\n",
        "from qiskit_aer.primitives import Estimator as AerEstimator\n",
        "from qiskit_nature.second_q.drivers import PySCFDriver\n",
        "\n",
        "import numpy as np\n",
        "import time\n",
        "import matplotlib.pyplot as plt"
      ]
    },
    {
      "cell_type": "code",
      "execution_count": null,
      "metadata": {
        "id": "WxQYnEEnMkbP"
      },
      "outputs": [],
      "source": [
        "def exact_solver(qubit_op, problem):\n",
        "    sol = NumPyMinimumEigensolver().compute_minimum_eigenvalue(qubit_op)\n",
        "    result = problem.interpret(sol)\n",
        "    return result\n",
        "\n",
        "def get_qubit_op(dist):\n",
        "    # Define Molecule\n",
        "    molecule = MoleculeInfo(\n",
        "        # Coordinates in Angstrom\n",
        "        symbols=[\"Li\", \"H\"],\n",
        "        coords=([0.0, 0.0, 0.0], [dist, 0.0, 0.0]),\n",
        "        multiplicity=1,  # = 2*spin + 1\n",
        "        charge=0,\n",
        "    )\n",
        "\n",
        "    driver = PySCFDriver.from_molecule(molecule)\n",
        "\n",
        "    # Get properties\n",
        "    properties = driver.run()\n",
        "\n",
        "    # Now you can get the reduced electronic structure problem\n",
        "    problem = FreezeCoreTransformer(\n",
        "        freeze_core=True, remove_orbitals=[-3, -2]\n",
        "    ).transform(properties)\n",
        "\n",
        "    num_particles = problem.num_particles\n",
        "    num_spatial_orbitals = problem.num_spatial_orbitals\n",
        "\n",
        "    mapper = ParityMapper(num_particles=num_particles)\n",
        "    qubit_op = mapper.map(problem.second_q_ops()[0])\n",
        "    return qubit_op, num_particles, num_spatial_orbitals, problem, mapper\n",
        "\n",
        "counts = []\n",
        "values = []\n",
        "params = []\n",
        "deviation = []\n",
        "\n",
        "def store_intermediate_result(eval_count, parameters, mean, std):\n",
        "    counts.append(eval_count)\n",
        "    values.append(mean)\n",
        "    params.append(parameters)\n",
        "    deviation.append(std)\n",
        "\n",
        "seed = 0\n",
        "optimizer = SLSQP(maxiter=100)\n",
        "# noiseless_estimator = Estimator(approximation=True)\n",
        "\n",
        "def UCCSD_VQE_LiH(use_gpu, dist):\n",
        "  estimator = Estimator()\n",
        "  if use_gpu:\n",
        "    estimator = AerEstimator(\n",
        "        run_options={\"seed\": seed},\n",
        "        transpile_options={\"seed_transpiler\": seed},)\n",
        "\n",
        "    estimator.set_options(device='GPU')\n",
        "    estimator.set_options(cuStateVec_enable=True)\n",
        "    estimator.set_options(approximation =True)\n",
        "    estimator.set_options(resilience_level=3)\n",
        "\n",
        "  # See how they get approximation, we can use error mitigation in our code.\n",
        "\n",
        "  (qubit_op, num_particles, num_spatial_orbitals, problem, mapper) = get_qubit_op(\n",
        "        dist\n",
        "    )\n",
        "\n",
        "  ref = exact_solver(qubit_op, problem)\n",
        "  exact_energy = ref.total_energies[0].real\n",
        "\n",
        "  init_state = HartreeFock(num_spatial_orbitals, num_particles, mapper)\n",
        "  ansatz = UCCSD(\n",
        "      num_spatial_orbitals, num_particles, mapper, initial_state=init_state\n",
        "  )\n",
        "  vqe = VQE(\n",
        "      estimator,\n",
        "      ansatz,\n",
        "      optimizer,\n",
        "      # initial_point=[0] * var_form.num_parameters,\n",
        "  )\n",
        "  # vqe_calc = vqe.compute_minimum_eigenvalue(qubit_op)\n",
        "  vqe = VQE(estimator, ansatz, optimizer, callback=store_intermediate_result)\n",
        "  vqe_ground_state_solver = GroundStateEigensolver(mapper, vqe)\n",
        "  start = time.time()\n",
        "  vqe_result = vqe_ground_state_solver.solve(problem)\n",
        "  energy = problem.interpret(vqe_result.raw_result).total_energies[0].real\n",
        "  end = time.time()\n",
        "\n",
        "  time_taken = end - start\n",
        "\n",
        "  return exact_energy, energy, time_taken"
      ]
    },
    {
      "cell_type": "code",
      "execution_count": null,
      "metadata": {
        "id": "juCC5_E2MySF"
      },
      "outputs": [],
      "source": [
        "# dist = 1.6\n",
        "\n",
        "# print(\"For CPU:\")\n",
        "# exact_energy, energy, time_taken = UCCSD_VQE_LiH(False, dist)\n",
        "# print(f\"Time taken: {time_taken} Energy: {energy} Exact Energy: {exact_energy}\")\n",
        "# # print(f\"Error: {100 * ((energy-exact_energy)/exact_energy)}\")\n",
        "\n",
        "# print(\"============================\\n\\n\")\n",
        "\n",
        "# print(\"For GPU:\")\n",
        "# exact_energy, energy, time_taken = UCCSD_VQE_LiH(True, dist)\n",
        "# print(f\"Time taken: {time_taken} Energy: {energy} Exact Energy: {exact_energy}\")\n",
        "# # print(f\"Error: {100 * ((energy-exact_energy)/exact_energy)}\")"
      ]
    },
    {
      "cell_type": "code",
      "execution_count": null,
      "metadata": {
        "id": "kie9TMoHNV9B"
      },
      "outputs": [],
      "source": [
        "distances = np.array([1.2, 1.4, 1.6, 1.8, 2.0])\n",
        "exact_energies_cpu = []\n",
        "vqe_energies_cpu = []\n",
        "\n",
        "exact_energies_gpu = []\n",
        "vqe_energies_gpu = []\n",
        "\n",
        "cpu_times = []\n",
        "gpu_times = []\n",
        "\n",
        "# For CPU\n",
        "for dist in distances:\n",
        "  print(\"For: \", dist)\n",
        "  exact_energy, energy, time_taken = UCCSD_VQE_LiH(False, dist)\n",
        "  cpu_times.append(time_taken)\n",
        "  exact_energies_cpu.append(exact_energy)\n",
        "  vqe_energies_cpu.append(energy)\n",
        "\n",
        "  print(f\"Time taken: {time_taken} Energy: {energy} Exact Energy: {exact_energy}\")"
      ]
    },
    {
      "cell_type": "code",
      "execution_count": null,
      "metadata": {
        "id": "3j0ILYw9v3Tk"
      },
      "outputs": [],
      "source": [
        "# For GPU\n",
        "for dist in distances:\n",
        "  print(\"For: \", dist)\n",
        "  exact_energy, energy, time_taken = UCCSD_VQE_LiH(True, dist)\n",
        "  gpu_times.append(time_taken)\n",
        "  exact_energies_gpu.append(exact_energy)\n",
        "  vqe_energies_gpu.append(energy)\n",
        "\n",
        "  print(f\"Time taken: {time_taken} Energy: {energy} Exact Energy: {exact_energy}\")"
      ]
    }
  ],
  "metadata": {
    "accelerator": "GPU",
    "colab": {
      "machine_shape": "hm",
      "provenance": []
    },
    "kernelspec": {
      "display_name": "Python 3",
      "name": "python3"
    },
    "language_info": {
      "name": "python"
    }
  },
  "nbformat": 4,
  "nbformat_minor": 0
}