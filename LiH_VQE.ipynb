{
  "cells": [
    {
      "cell_type": "markdown",
      "metadata": {
        "id": "jZF5wrkZVsNb"
      },
      "source": [
        "# Installation and Imports"
      ]
    },
    {
      "cell_type": "markdown",
      "metadata": {
        "id": "CesaxMYDVv9Z"
      },
      "source": [
        "## Installing qiksit-aer"
      ]
    },
    {
      "cell_type": "code",
      "execution_count": null,
      "metadata": {
        "colab": {
          "base_uri": "https://localhost:8080/"
        },
        "id": "8f9VAD-PMOtC",
        "outputId": "5c001b2a-6b32-427a-868c-c97c96d6ce16"
      },
      "outputs": [
        {
          "output_type": "stream",
          "name": "stdout",
          "text": [
            "Sat Mar  9 21:01:36 2024       \n",
            "+---------------------------------------------------------------------------------------+\n",
            "| NVIDIA-SMI 535.104.05             Driver Version: 535.104.05   CUDA Version: 12.2     |\n",
            "|-----------------------------------------+----------------------+----------------------+\n",
            "| GPU  Name                 Persistence-M | Bus-Id        Disp.A | Volatile Uncorr. ECC |\n",
            "| Fan  Temp   Perf          Pwr:Usage/Cap |         Memory-Usage | GPU-Util  Compute M. |\n",
            "|                                         |                      |               MIG M. |\n",
            "|=========================================+======================+======================|\n",
            "|   0  NVIDIA A100-SXM4-40GB          Off | 00000000:00:04.0 Off |                    0 |\n",
            "| N/A   32C    P0              44W / 400W |      2MiB / 40960MiB |      0%      Default |\n",
            "|                                         |                      |             Disabled |\n",
            "+-----------------------------------------+----------------------+----------------------+\n",
            "                                                                                         \n",
            "+---------------------------------------------------------------------------------------+\n",
            "| Processes:                                                                            |\n",
            "|  GPU   GI   CI        PID   Type   Process name                            GPU Memory |\n",
            "|        ID   ID                                                             Usage      |\n",
            "|=======================================================================================|\n",
            "|  No running processes found                                                           |\n",
            "+---------------------------------------------------------------------------------------+\n"
          ]
        }
      ],
      "source": [
        "!nvidia-smi"
      ]
    },
    {
      "cell_type": "code",
      "execution_count": null,
      "metadata": {
        "colab": {
          "base_uri": "https://localhost:8080/"
        },
        "id": "9L18y3E8MSh7",
        "outputId": "b7db38ae-6d6b-452c-999a-fc862657c052"
      },
      "outputs": [
        {
          "output_type": "stream",
          "name": "stdout",
          "text": [
            "Collecting qiskit-aer\n",
            "  Downloading qiskit_aer-0.13.3-cp310-cp310-manylinux_2_17_x86_64.manylinux2014_x86_64.whl (12.3 MB)\n",
            "\u001b[2K     \u001b[90m━━━━━━━━━━━━━━━━━━━━━━━━━━━━━━━━━━━━━━━━\u001b[0m \u001b[32m12.3/12.3 MB\u001b[0m \u001b[31m77.8 MB/s\u001b[0m eta \u001b[36m0:00:00\u001b[0m\n",
            "\u001b[?25hCollecting qiskit>=0.45.0 (from qiskit-aer)\n",
            "  Downloading qiskit-1.0.2-cp38-abi3-manylinux_2_17_x86_64.manylinux2014_x86_64.whl (5.6 MB)\n",
            "\u001b[2K     \u001b[90m━━━━━━━━━━━━━━━━━━━━━━━━━━━━━━━━━━━━━━━━\u001b[0m \u001b[32m5.6/5.6 MB\u001b[0m \u001b[31m88.5 MB/s\u001b[0m eta \u001b[36m0:00:00\u001b[0m\n",
            "\u001b[?25hRequirement already satisfied: numpy>=1.16.3 in /usr/local/lib/python3.10/dist-packages (from qiskit-aer) (1.25.2)\n",
            "Requirement already satisfied: scipy>=1.0 in /usr/local/lib/python3.10/dist-packages (from qiskit-aer) (1.11.4)\n",
            "Requirement already satisfied: psutil>=5 in /usr/local/lib/python3.10/dist-packages (from qiskit-aer) (5.9.5)\n",
            "Collecting rustworkx>=0.14.0 (from qiskit>=0.45.0->qiskit-aer)\n",
            "  Downloading rustworkx-0.14.1-cp310-cp310-manylinux_2_17_x86_64.manylinux2014_x86_64.whl (2.1 MB)\n",
            "\u001b[2K     \u001b[90m━━━━━━━━━━━━━━━━━━━━━━━━━━━━━━━━━━━━━━━━\u001b[0m \u001b[32m2.1/2.1 MB\u001b[0m \u001b[31m106.3 MB/s\u001b[0m eta \u001b[36m0:00:00\u001b[0m\n",
            "\u001b[?25hRequirement already satisfied: sympy>=1.3 in /usr/local/lib/python3.10/dist-packages (from qiskit>=0.45.0->qiskit-aer) (1.12)\n",
            "Collecting dill>=0.3 (from qiskit>=0.45.0->qiskit-aer)\n",
            "  Downloading dill-0.3.8-py3-none-any.whl (116 kB)\n",
            "\u001b[2K     \u001b[90m━━━━━━━━━━━━━━━━━━━━━━━━━━━━━━━━━━━━━━━━\u001b[0m \u001b[32m116.3/116.3 kB\u001b[0m \u001b[31m20.1 MB/s\u001b[0m eta \u001b[36m0:00:00\u001b[0m\n",
            "\u001b[?25hRequirement already satisfied: python-dateutil>=2.8.0 in /usr/local/lib/python3.10/dist-packages (from qiskit>=0.45.0->qiskit-aer) (2.8.2)\n",
            "Collecting stevedore>=3.0.0 (from qiskit>=0.45.0->qiskit-aer)\n",
            "  Downloading stevedore-5.2.0-py3-none-any.whl (49 kB)\n",
            "\u001b[2K     \u001b[90m━━━━━━━━━━━━━━━━━━━━━━━━━━━━━━━━━━━━━━━━\u001b[0m \u001b[32m49.7/49.7 kB\u001b[0m \u001b[31m8.8 MB/s\u001b[0m eta \u001b[36m0:00:00\u001b[0m\n",
            "\u001b[?25hRequirement already satisfied: typing-extensions in /usr/local/lib/python3.10/dist-packages (from qiskit>=0.45.0->qiskit-aer) (4.10.0)\n",
            "Collecting symengine>=0.11 (from qiskit>=0.45.0->qiskit-aer)\n",
            "  Downloading symengine-0.11.0-cp310-cp310-manylinux_2_12_x86_64.manylinux2010_x86_64.whl (39.4 MB)\n",
            "\u001b[2K     \u001b[90m━━━━━━━━━━━━━━━━━━━━━━━━━━━━━━━━━━━━━━━━\u001b[0m \u001b[32m39.4/39.4 MB\u001b[0m \u001b[31m39.9 MB/s\u001b[0m eta \u001b[36m0:00:00\u001b[0m\n",
            "\u001b[?25hRequirement already satisfied: six>=1.5 in /usr/local/lib/python3.10/dist-packages (from python-dateutil>=2.8.0->qiskit>=0.45.0->qiskit-aer) (1.16.0)\n",
            "Collecting pbr!=2.1.0,>=2.0.0 (from stevedore>=3.0.0->qiskit>=0.45.0->qiskit-aer)\n",
            "  Downloading pbr-6.0.0-py2.py3-none-any.whl (107 kB)\n",
            "\u001b[2K     \u001b[90m━━━━━━━━━━━━━━━━━━━━━━━━━━━━━━━━━━━━━━━━\u001b[0m \u001b[32m107.5/107.5 kB\u001b[0m \u001b[31m19.2 MB/s\u001b[0m eta \u001b[36m0:00:00\u001b[0m\n",
            "\u001b[?25hRequirement already satisfied: mpmath>=0.19 in /usr/local/lib/python3.10/dist-packages (from sympy>=1.3->qiskit>=0.45.0->qiskit-aer) (1.3.0)\n",
            "Installing collected packages: symengine, rustworkx, pbr, dill, stevedore, qiskit, qiskit-aer\n",
            "Successfully installed dill-0.3.8 pbr-6.0.0 qiskit-1.0.2 qiskit-aer-0.13.3 rustworkx-0.14.1 stevedore-5.2.0 symengine-0.11.0\n"
          ]
        }
      ],
      "source": [
        "!pip install qiskit-aer"
      ]
    },
    {
      "cell_type": "code",
      "execution_count": null,
      "metadata": {
        "colab": {
          "base_uri": "https://localhost:8080/"
        },
        "id": "CGH8fNN4MUCU",
        "outputId": "3c10baa4-64c8-44c2-b84b-daca7c99a144"
      },
      "outputs": [
        {
          "output_type": "stream",
          "name": "stdout",
          "text": [
            "Found existing installation: qiskit-aer 0.13.3\n",
            "Uninstalling qiskit-aer-0.13.3:\n",
            "  Successfully uninstalled qiskit-aer-0.13.3\n"
          ]
        }
      ],
      "source": [
        "!pip uninstall -y qiskit-aer"
      ]
    },
    {
      "cell_type": "code",
      "execution_count": null,
      "metadata": {
        "colab": {
          "base_uri": "https://localhost:8080/"
        },
        "id": "QpppwXhZMWqN",
        "outputId": "aad45f71-c545-4486-a4cb-227710331e12"
      },
      "outputs": [
        {
          "output_type": "stream",
          "name": "stdout",
          "text": [
            "Collecting nvidia-cuda-runtime-cu12\n",
            "  Downloading nvidia_cuda_runtime_cu12-12.4.99-py3-none-manylinux2014_x86_64.whl (883 kB)\n",
            "\u001b[?25l     \u001b[90m━━━━━━━━━━━━━━━━━━━━━━━━━━━━━━━━━━━━━━━━\u001b[0m \u001b[32m0.0/883.4 kB\u001b[0m \u001b[31m?\u001b[0m eta \u001b[36m-:--:--\u001b[0m\r\u001b[2K     \u001b[91m━━━━━━━━━━━━━━━━━━━━━\u001b[0m\u001b[90m╺\u001b[0m\u001b[90m━━━━━━━━━━━━━━━━━━\u001b[0m \u001b[32m471.0/883.4 kB\u001b[0m \u001b[31m13.9 MB/s\u001b[0m eta \u001b[36m0:00:01\u001b[0m\r\u001b[2K     \u001b[90m━━━━━━━━━━━━━━━━━━━━━━━━━━━━━━━━━━━━━━━━\u001b[0m \u001b[32m883.4/883.4 kB\u001b[0m \u001b[31m19.7 MB/s\u001b[0m eta \u001b[36m0:00:00\u001b[0m\n",
            "\u001b[?25hCollecting nvidia-cublas-cu12\n",
            "  Downloading nvidia_cublas_cu12-12.4.2.65-py3-none-manylinux2014_x86_64.whl (363.0 MB)\n",
            "\u001b[2K     \u001b[90m━━━━━━━━━━━━━━━━━━━━━━━━━━━━━━━━━━━━━━━━\u001b[0m \u001b[32m363.0/363.0 MB\u001b[0m \u001b[31m2.3 MB/s\u001b[0m eta \u001b[36m0:00:00\u001b[0m\n",
            "\u001b[?25hCollecting nvidia-cusolver-cu12\n",
            "  Downloading nvidia_cusolver_cu12-11.6.0.99-py3-none-manylinux2014_x86_64.whl (128.4 MB)\n",
            "\u001b[2K     \u001b[90m━━━━━━━━━━━━━━━━━━━━━━━━━━━━━━━━━━━━━━━━\u001b[0m \u001b[32m128.4/128.4 MB\u001b[0m \u001b[31m9.2 MB/s\u001b[0m eta \u001b[36m0:00:00\u001b[0m\n",
            "\u001b[?25hCollecting nvidia-cusparse-cu12\n",
            "  Downloading nvidia_cusparse_cu12-12.3.0.142-py3-none-manylinux2014_x86_64.whl (207.5 MB)\n",
            "\u001b[2K     \u001b[90m━━━━━━━━━━━━━━━━━━━━━━━━━━━━━━━━━━━━━━━━\u001b[0m \u001b[32m207.5/207.5 MB\u001b[0m \u001b[31m8.1 MB/s\u001b[0m eta \u001b[36m0:00:00\u001b[0m\n",
            "\u001b[?25hCollecting cuquantum-cu12\n",
            "  Downloading cuquantum_cu12-23.10.0-py3-none-manylinux2014_x86_64.whl (7.0 kB)\n",
            "Collecting nvidia-nvjitlink-cu12 (from nvidia-cusolver-cu12)\n",
            "  Downloading nvidia_nvjitlink_cu12-12.4.99-py3-none-manylinux2014_x86_64.whl (21.1 MB)\n",
            "\u001b[2K     \u001b[90m━━━━━━━━━━━━━━━━━━━━━━━━━━━━━━━━━━━━━━━━\u001b[0m \u001b[32m21.1/21.1 MB\u001b[0m \u001b[31m74.9 MB/s\u001b[0m eta \u001b[36m0:00:00\u001b[0m\n",
            "\u001b[?25hCollecting custatevec-cu12==1.5.0 (from cuquantum-cu12)\n",
            "  Downloading custatevec_cu12-1.5.0-py3-none-manylinux2014_x86_64.whl (38.4 MB)\n",
            "\u001b[2K     \u001b[90m━━━━━━━━━━━━━━━━━━━━━━━━━━━━━━━━━━━━━━━━\u001b[0m \u001b[32m38.4/38.4 MB\u001b[0m \u001b[31m43.1 MB/s\u001b[0m eta \u001b[36m0:00:00\u001b[0m\n",
            "\u001b[?25hCollecting cutensornet-cu12==2.3.0 (from cuquantum-cu12)\n",
            "  Downloading cutensornet_cu12-2.3.0-py3-none-manylinux2014_x86_64.whl (2.2 MB)\n",
            "\u001b[2K     \u001b[90m━━━━━━━━━━━━━━━━━━━━━━━━━━━━━━━━━━━━━━━━\u001b[0m \u001b[32m2.2/2.2 MB\u001b[0m \u001b[31m90.6 MB/s\u001b[0m eta \u001b[36m0:00:00\u001b[0m\n",
            "\u001b[?25hCollecting cutensor-cu12<2,>=1.6.1 (from cutensornet-cu12==2.3.0->cuquantum-cu12)\n",
            "  Downloading cutensor_cu12-1.7.0-py3-none-manylinux2014_x86_64.whl (146.8 MB)\n",
            "\u001b[2K     \u001b[90m━━━━━━━━━━━━━━━━━━━━━━━━━━━━━━━━━━━━━━━━\u001b[0m \u001b[32m146.8/146.8 MB\u001b[0m \u001b[31m11.5 MB/s\u001b[0m eta \u001b[36m0:00:00\u001b[0m\n",
            "\u001b[?25hInstalling collected packages: cutensor-cu12, custatevec-cu12, nvidia-nvjitlink-cu12, nvidia-cuda-runtime-cu12, nvidia-cublas-cu12, cutensornet-cu12, nvidia-cusparse-cu12, cuquantum-cu12, nvidia-cusolver-cu12\n",
            "Successfully installed cuquantum-cu12-23.10.0 custatevec-cu12-1.5.0 cutensor-cu12-1.7.0 cutensornet-cu12-2.3.0 nvidia-cublas-cu12-12.4.2.65 nvidia-cuda-runtime-cu12-12.4.99 nvidia-cusolver-cu12-11.6.0.99 nvidia-cusparse-cu12-12.3.0.142 nvidia-nvjitlink-cu12-12.4.99\n"
          ]
        }
      ],
      "source": [
        "!pip install nvidia-cuda-runtime-cu12 nvidia-cublas-cu12 nvidia-cusolver-cu12 nvidia-cusparse-cu12 cuquantum-cu12"
      ]
    },
    {
      "cell_type": "code",
      "execution_count": null,
      "metadata": {
        "colab": {
          "base_uri": "https://localhost:8080/"
        },
        "id": "tGwbAVgfMYQ4",
        "outputId": "c2c2afa4-5d87-4db5-b517-625d7993ff92"
      },
      "outputs": [
        {
          "output_type": "stream",
          "name": "stdout",
          "text": [
            "Collecting qiskit-aer-gpu\n",
            "  Downloading qiskit_aer_gpu-0.13.3-cp310-cp310-manylinux_2_17_x86_64.manylinux2014_x86_64.whl (19.5 MB)\n",
            "\u001b[2K     \u001b[90m━━━━━━━━━━━━━━━━━━━━━━━━━━━━━━━━━━━━━━━━\u001b[0m \u001b[32m19.5/19.5 MB\u001b[0m \u001b[31m75.0 MB/s\u001b[0m eta \u001b[36m0:00:00\u001b[0m\n",
            "\u001b[?25hRequirement already satisfied: qiskit>=0.45.0 in /usr/local/lib/python3.10/dist-packages (from qiskit-aer-gpu) (1.0.2)\n",
            "Requirement already satisfied: numpy>=1.16.3 in /usr/local/lib/python3.10/dist-packages (from qiskit-aer-gpu) (1.25.2)\n",
            "Requirement already satisfied: scipy>=1.0 in /usr/local/lib/python3.10/dist-packages (from qiskit-aer-gpu) (1.11.4)\n",
            "Requirement already satisfied: psutil>=5 in /usr/local/lib/python3.10/dist-packages (from qiskit-aer-gpu) (5.9.5)\n",
            "Requirement already satisfied: nvidia-cuda-runtime-cu12>=12.1.105 in /usr/local/lib/python3.10/dist-packages (from qiskit-aer-gpu) (12.4.99)\n",
            "Requirement already satisfied: nvidia-nvjitlink-cu12 in /usr/local/lib/python3.10/dist-packages (from qiskit-aer-gpu) (12.4.99)\n",
            "Requirement already satisfied: nvidia-cublas-cu12>=12.1.3.1 in /usr/local/lib/python3.10/dist-packages (from qiskit-aer-gpu) (12.4.2.65)\n",
            "Requirement already satisfied: nvidia-cusolver-cu12>=11.4.5.107 in /usr/local/lib/python3.10/dist-packages (from qiskit-aer-gpu) (11.6.0.99)\n",
            "Requirement already satisfied: nvidia-cusparse-cu12>=12.1.0.106 in /usr/local/lib/python3.10/dist-packages (from qiskit-aer-gpu) (12.3.0.142)\n",
            "Requirement already satisfied: cuquantum-cu12>=23.3.0 in /usr/local/lib/python3.10/dist-packages (from qiskit-aer-gpu) (23.10.0)\n",
            "Requirement already satisfied: custatevec-cu12==1.5.0 in /usr/local/lib/python3.10/dist-packages (from cuquantum-cu12>=23.3.0->qiskit-aer-gpu) (1.5.0)\n",
            "Requirement already satisfied: cutensornet-cu12==2.3.0 in /usr/local/lib/python3.10/dist-packages (from cuquantum-cu12>=23.3.0->qiskit-aer-gpu) (2.3.0)\n",
            "Requirement already satisfied: cutensor-cu12<2,>=1.6.1 in /usr/local/lib/python3.10/dist-packages (from cutensornet-cu12==2.3.0->cuquantum-cu12>=23.3.0->qiskit-aer-gpu) (1.7.0)\n",
            "Requirement already satisfied: rustworkx>=0.14.0 in /usr/local/lib/python3.10/dist-packages (from qiskit>=0.45.0->qiskit-aer-gpu) (0.14.1)\n",
            "Requirement already satisfied: sympy>=1.3 in /usr/local/lib/python3.10/dist-packages (from qiskit>=0.45.0->qiskit-aer-gpu) (1.12)\n",
            "Requirement already satisfied: dill>=0.3 in /usr/local/lib/python3.10/dist-packages (from qiskit>=0.45.0->qiskit-aer-gpu) (0.3.8)\n",
            "Requirement already satisfied: python-dateutil>=2.8.0 in /usr/local/lib/python3.10/dist-packages (from qiskit>=0.45.0->qiskit-aer-gpu) (2.8.2)\n",
            "Requirement already satisfied: stevedore>=3.0.0 in /usr/local/lib/python3.10/dist-packages (from qiskit>=0.45.0->qiskit-aer-gpu) (5.2.0)\n",
            "Requirement already satisfied: typing-extensions in /usr/local/lib/python3.10/dist-packages (from qiskit>=0.45.0->qiskit-aer-gpu) (4.10.0)\n",
            "Requirement already satisfied: symengine>=0.11 in /usr/local/lib/python3.10/dist-packages (from qiskit>=0.45.0->qiskit-aer-gpu) (0.11.0)\n",
            "Requirement already satisfied: six>=1.5 in /usr/local/lib/python3.10/dist-packages (from python-dateutil>=2.8.0->qiskit>=0.45.0->qiskit-aer-gpu) (1.16.0)\n",
            "Requirement already satisfied: pbr!=2.1.0,>=2.0.0 in /usr/local/lib/python3.10/dist-packages (from stevedore>=3.0.0->qiskit>=0.45.0->qiskit-aer-gpu) (6.0.0)\n",
            "Requirement already satisfied: mpmath>=0.19 in /usr/local/lib/python3.10/dist-packages (from sympy>=1.3->qiskit>=0.45.0->qiskit-aer-gpu) (1.3.0)\n",
            "Installing collected packages: qiskit-aer-gpu\n",
            "Successfully installed qiskit-aer-gpu-0.13.3\n"
          ]
        }
      ],
      "source": [
        "!pip install qiskit-aer-gpu"
      ]
    },
    {
      "cell_type": "code",
      "execution_count": null,
      "metadata": {
        "id": "BXk7iNlKMbIh",
        "colab": {
          "base_uri": "https://localhost:8080/"
        },
        "outputId": "9aa21f30-0534-4497-fd9d-c8be239c2ff8"
      },
      "outputs": [
        {
          "output_type": "stream",
          "name": "stdout",
          "text": [
            "\tlinux-vdso.so.1 (0x00007fff847d5000)\n",
            "\tlibopenblas-r0-f650aae0.3.3.so => /usr/local/lib/python3.10/dist-packages/qiskit_aer/backends/../../qiskit_aer_gpu.libs/libopenblas-r0-f650aae0.3.3.so (0x00007c1c6e600000)\n",
            "\tlibdl.so.2 => /lib/x86_64-linux-gnu/libdl.so.2 (0x00007c1c70bb4000)\n",
            "\tlibcusolver.so.11 => /usr/local/lib/python3.10/dist-packages/qiskit_aer/backends/../../nvidia/cusolver/lib/libcusolver.so.11 (0x00007c1c67000000)\n",
            "\tlibcusparse.so.12 => /usr/local/lib/python3.10/dist-packages/qiskit_aer/backends/../../nvidia/cusparse/lib/libcusparse.so.12 (0x00007c1c56000000)\n",
            "\tlibcustatevec.so.1 => /usr/local/lib/python3.10/dist-packages/qiskit_aer/backends/../../cuquantum/lib/libcustatevec.so.1 (0x00007c1c51a00000)\n",
            "\tlibcutensornet.so.2 => /usr/local/lib/python3.10/dist-packages/qiskit_aer/backends/../../cuquantum/lib/libcutensornet.so.2 (0x00007c1c51200000)\n",
            "\tlibcudart.so.12 => /usr/local/lib/python3.10/dist-packages/qiskit_aer/backends/../../nvidia/cuda_runtime/lib/libcudart.so.12 (0x00007c1c50e00000)\n",
            "\tlibpthread.so.0 => /lib/x86_64-linux-gnu/libpthread.so.0 (0x00007c1c70bad000)\n",
            "\tlibstdc++.so.6 => /lib/x86_64-linux-gnu/libstdc++.so.6 (0x00007c1c50bd4000)\n",
            "\tlibm.so.6 => /lib/x86_64-linux-gnu/libm.so.6 (0x00007c1c6e519000)\n",
            "\tlibgomp-a34b3233.so.1.0.0 => /usr/local/lib/python3.10/dist-packages/qiskit_aer/backends/../../qiskit_aer_gpu.libs/libgomp-a34b3233.so.1.0.0 (0x00007c1c50800000)\n",
            "\tlibgcc_s.so.1 => /lib/x86_64-linux-gnu/libgcc_s.so.1 (0x00007c1c66fe0000)\n",
            "\tlibc.so.6 => /lib/x86_64-linux-gnu/libc.so.6 (0x00007c1c505d7000)\n",
            "\t/lib64/ld-linux-x86-64.so.2 (0x00007c1c72892000)\n",
            "\tlibgfortran-91cc3cb1.so.3.0.0 => /usr/local/lib/python3.10/dist-packages/qiskit_aer/backends/../../qiskit_aer_gpu.libs/libgfortran-91cc3cb1.so.3.0.0 (0x00007c1c50200000)\n",
            "\tlibnvJitLink.so.12 => /usr/local/lib/python3.10/dist-packages/qiskit_aer/backends/../../nvidia/cusolver/lib/../../nvjitlink/lib/libnvJitLink.so.12 (0x00007c1c4cc00000)\n",
            "\tlibcublas.so.12 => /usr/local/lib/python3.10/dist-packages/qiskit_aer/backends/../../nvidia/cusolver/lib/../../cublas/lib/libcublas.so.12 (0x00007c1c46000000)\n",
            "\tlibcublasLt.so.12 => /usr/local/lib/python3.10/dist-packages/qiskit_aer/backends/../../nvidia/cusolver/lib/../../cublas/lib/libcublasLt.so.12 (0x00007c1c28000000)\n",
            "\tlibrt.so.1 => /lib/x86_64-linux-gnu/librt.so.1 (0x00007c1c70ba4000)\n",
            "\tlibcutensor.so.1 => /usr/local/lib/python3.10/dist-packages/qiskit_aer/backends/../../cuquantum/lib/../../cutensor/lib/libcutensor.so.1 (0x00007c1c1a000000)\n",
            "\tlibquadmath-96973f99.so.0.0.0 => /usr/local/lib/python3.10/dist-packages/qiskit_aer/backends/../../qiskit_aer_gpu.libs/libquadmath-96973f99.so.0.0.0 (0x00007c1c19c00000)\n",
            "\tlibcuda.so.1 => /usr/lib64-nvidia/libcuda.so.1 (0x00007c1c17e00000)\n"
          ]
        }
      ],
      "source": [
        "!ldd /usr/local/lib/python3.10/dist-packages/qiskit_aer/backends/controller_wrappers.cpython-310-x86_64-linux-gnu.so"
      ]
    },
    {
      "cell_type": "markdown",
      "metadata": {
        "id": "M4PKtFV3V18h"
      },
      "source": [
        "## Installing qiskit-nature"
      ]
    },
    {
      "cell_type": "code",
      "execution_count": null,
      "metadata": {
        "id": "1q2KCFzIMdBt",
        "colab": {
          "base_uri": "https://localhost:8080/"
        },
        "outputId": "432211ca-d838-4587-bf86-524c0e93ef6d"
      },
      "outputs": [
        {
          "output_type": "stream",
          "name": "stdout",
          "text": [
            "\u001b[33mWARNING: Skipping qiskit_nature as it is not installed.\u001b[0m\u001b[33m\n",
            "\u001b[0m\u001b[33mWARNING: Skipping pyscf as it is not installed.\u001b[0m\u001b[33m\n",
            "\u001b[0m"
          ]
        }
      ],
      "source": [
        "!pip uninstall qiskit_nature --yes\n",
        "!pip uninstall pyscf --yes"
      ]
    },
    {
      "cell_type": "code",
      "execution_count": null,
      "metadata": {
        "id": "MT0x2ckMMfPp",
        "colab": {
          "base_uri": "https://localhost:8080/"
        },
        "outputId": "a74a3fe7-76ae-47f7-8763-e115a63d4cdb"
      },
      "outputs": [
        {
          "output_type": "stream",
          "name": "stdout",
          "text": [
            "\u001b[33mWARNING: Package(s) not found: qiskit_nature\u001b[0m\u001b[33m\n",
            "\u001b[0m\u001b[33mWARNING: Package(s) not found: pyscf\u001b[0m\u001b[33m\n",
            "\u001b[0m"
          ]
        }
      ],
      "source": [
        "!pip show qiskit_nature\n",
        "!pip show pyscf"
      ]
    },
    {
      "cell_type": "code",
      "execution_count": null,
      "metadata": {
        "id": "pP0_fj_bMg79",
        "colab": {
          "base_uri": "https://localhost:8080/"
        },
        "outputId": "d0f0c6c8-87cb-4de0-97bc-18e78755f592"
      },
      "outputs": [
        {
          "output_type": "stream",
          "name": "stdout",
          "text": [
            "Collecting qiskit-nature\n",
            "  Downloading qiskit_nature-0.7.2-py3-none-any.whl (2.2 MB)\n",
            "\u001b[?25l     \u001b[90m━━━━━━━━━━━━━━━━━━━━━━━━━━━━━━━━━━━━━━━━\u001b[0m \u001b[32m0.0/2.2 MB\u001b[0m \u001b[31m?\u001b[0m eta \u001b[36m-:--:--\u001b[0m\r\u001b[2K     \u001b[91m━━━━━━━\u001b[0m\u001b[91m╸\u001b[0m\u001b[90m━━━━━━━━━━━━━━━━━━━━━━━━━━━━━━━━\u001b[0m \u001b[32m0.4/2.2 MB\u001b[0m \u001b[31m12.7 MB/s\u001b[0m eta \u001b[36m0:00:01\u001b[0m\r\u001b[2K     \u001b[90m━━━━━━━━━━━━━━━━━━━━━━━━━━━━━━━━━━━━━━━━\u001b[0m \u001b[32m2.2/2.2 MB\u001b[0m \u001b[31m34.4 MB/s\u001b[0m eta \u001b[36m0:00:00\u001b[0m\n",
            "\u001b[?25hRequirement already satisfied: qiskit>=0.44 in /usr/local/lib/python3.10/dist-packages (from qiskit-nature) (1.0.2)\n",
            "Collecting qiskit-algorithms>=0.2.1 (from qiskit-nature)\n",
            "  Downloading qiskit_algorithms-0.3.0-py3-none-any.whl (308 kB)\n",
            "\u001b[?25l     \u001b[90m━━━━━━━━━━━━━━━━━━━━━━━━━━━━━━━━━━━━━━━━\u001b[0m \u001b[32m0.0/308.6 kB\u001b[0m \u001b[31m?\u001b[0m eta \u001b[36m-:--:--\u001b[0m\r\u001b[2K     \u001b[90m━━━━━━━━━━━━━━━━━━━━━━━━━━━━━━━━━━━━━━━━\u001b[0m \u001b[32m308.6/308.6 kB\u001b[0m \u001b[31m37.5 MB/s\u001b[0m eta \u001b[36m0:00:00\u001b[0m\n",
            "\u001b[?25hRequirement already satisfied: scipy>=1.4 in /usr/local/lib/python3.10/dist-packages (from qiskit-nature) (1.11.4)\n",
            "Requirement already satisfied: numpy>=1.17 in /usr/local/lib/python3.10/dist-packages (from qiskit-nature) (1.25.2)\n",
            "Requirement already satisfied: psutil>=5 in /usr/local/lib/python3.10/dist-packages (from qiskit-nature) (5.9.5)\n",
            "Requirement already satisfied: setuptools>=40.1.0 in /usr/local/lib/python3.10/dist-packages (from qiskit-nature) (67.7.2)\n",
            "Requirement already satisfied: typing-extensions in /usr/local/lib/python3.10/dist-packages (from qiskit-nature) (4.10.0)\n",
            "Requirement already satisfied: h5py in /usr/local/lib/python3.10/dist-packages (from qiskit-nature) (3.9.0)\n",
            "Requirement already satisfied: rustworkx>=0.12 in /usr/local/lib/python3.10/dist-packages (from qiskit-nature) (0.14.1)\n",
            "Requirement already satisfied: sympy>=1.3 in /usr/local/lib/python3.10/dist-packages (from qiskit>=0.44->qiskit-nature) (1.12)\n",
            "Requirement already satisfied: dill>=0.3 in /usr/local/lib/python3.10/dist-packages (from qiskit>=0.44->qiskit-nature) (0.3.8)\n",
            "Requirement already satisfied: python-dateutil>=2.8.0 in /usr/local/lib/python3.10/dist-packages (from qiskit>=0.44->qiskit-nature) (2.8.2)\n",
            "Requirement already satisfied: stevedore>=3.0.0 in /usr/local/lib/python3.10/dist-packages (from qiskit>=0.44->qiskit-nature) (5.2.0)\n",
            "Requirement already satisfied: symengine>=0.11 in /usr/local/lib/python3.10/dist-packages (from qiskit>=0.44->qiskit-nature) (0.11.0)\n",
            "Requirement already satisfied: six>=1.5 in /usr/local/lib/python3.10/dist-packages (from python-dateutil>=2.8.0->qiskit>=0.44->qiskit-nature) (1.16.0)\n",
            "Requirement already satisfied: pbr!=2.1.0,>=2.0.0 in /usr/local/lib/python3.10/dist-packages (from stevedore>=3.0.0->qiskit>=0.44->qiskit-nature) (6.0.0)\n",
            "Requirement already satisfied: mpmath>=0.19 in /usr/local/lib/python3.10/dist-packages (from sympy>=1.3->qiskit>=0.44->qiskit-nature) (1.3.0)\n",
            "Installing collected packages: qiskit-algorithms, qiskit-nature\n",
            "Successfully installed qiskit-algorithms-0.3.0 qiskit-nature-0.7.2\n"
          ]
        }
      ],
      "source": [
        "!pip install qiskit-nature"
      ]
    },
    {
      "cell_type": "code",
      "execution_count": null,
      "metadata": {
        "id": "fXf9z3o1Xzu6",
        "colab": {
          "base_uri": "https://localhost:8080/"
        },
        "outputId": "26a2bd32-b20a-4feb-8ed7-93f6d6cd8f93"
      },
      "outputs": [
        {
          "output_type": "stream",
          "name": "stdout",
          "text": [
            "Collecting pyscf\n",
            "  Downloading pyscf-2.5.0-py3-none-manylinux_2_17_x86_64.manylinux2014_x86_64.whl (47.3 MB)\n",
            "\u001b[2K     \u001b[90m━━━━━━━━━━━━━━━━━━━━━━━━━━━━━━━━━━━━━━━━\u001b[0m \u001b[32m47.3/47.3 MB\u001b[0m \u001b[31m33.7 MB/s\u001b[0m eta \u001b[36m0:00:00\u001b[0m\n",
            "\u001b[?25hRequirement already satisfied: numpy!=1.16,!=1.17,>=1.13 in /usr/local/lib/python3.10/dist-packages (from pyscf) (1.25.2)\n",
            "Requirement already satisfied: scipy!=1.5.0,!=1.5.1 in /usr/local/lib/python3.10/dist-packages (from pyscf) (1.11.4)\n",
            "Requirement already satisfied: h5py>=2.7 in /usr/local/lib/python3.10/dist-packages (from pyscf) (3.9.0)\n",
            "Requirement already satisfied: setuptools in /usr/local/lib/python3.10/dist-packages (from pyscf) (67.7.2)\n",
            "Installing collected packages: pyscf\n",
            "Successfully installed pyscf-2.5.0\n"
          ]
        }
      ],
      "source": [
        "!pip install pyscf"
      ]
    },
    {
      "cell_type": "markdown",
      "metadata": {
        "id": "WS3QQAjuV5RO"
      },
      "source": [
        "## Imports"
      ]
    },
    {
      "cell_type": "code",
      "execution_count": null,
      "metadata": {
        "id": "q6NdnYJdMimX",
        "colab": {
          "base_uri": "https://localhost:8080/"
        },
        "outputId": "e7c441ba-8ecd-4c7a-9191-a62bed1111cd"
      },
      "outputs": [
        {
          "output_type": "stream",
          "name": "stdout",
          "text": [
            "Mounted at /content/drive\n"
          ]
        }
      ],
      "source": [
        "from qiskit_aer.primitives import Estimator as AerEstimator\n",
        "from qiskit.primitives import Estimator\n",
        "\n",
        "from qiskit_algorithms import NumPyMinimumEigensolver\n",
        "from qiskit_algorithms import VQE\n",
        "from qiskit_algorithms.optimizers import *\n",
        "\n",
        "from qiskit_nature.second_q.drivers.electronic_structure_driver import ElectronicStructureDriver, MethodType\n",
        "from qiskit_nature.second_q.formats.molecule_info import MoleculeInfo\n",
        "from qiskit_nature.second_q.problems import ElectronicStructureProblem\n",
        "from qiskit_nature.second_q.drivers import ElectronicStructureDriver,PySCFDriver\n",
        "from qiskit_nature.units import DistanceUnit\n",
        "from qiskit_nature.second_q.mappers import JordanWignerMapper,  ParityMapper\n",
        "from qiskit_nature.second_q.algorithms import GroundStateEigensolver\n",
        "from qiskit_nature.second_q.circuit.library import UCCSD, HartreeFock\n",
        "from qiskit_nature.second_q.transformers import FreezeCoreTransformer\n",
        "\n",
        "import time\n",
        "import numpy as np\n",
        "import matplotlib.pyplot as plt\n",
        "\n",
        "from google.colab import drive\n",
        "import json\n",
        "drive.mount('/content/drive')"
      ]
    },
    {
      "cell_type": "code",
      "execution_count": null,
      "metadata": {
        "id": "WxQYnEEnMkbP"
      },
      "outputs": [],
      "source": [
        "def exact_solver(qubit_op, problem):\n",
        "    sol = NumPyMinimumEigensolver().compute_minimum_eigenvalue(qubit_op)\n",
        "    result = problem.interpret(sol)\n",
        "    return result\n",
        "\n",
        "def get_qubit_op(dist):\n",
        "    # Define Molecule\n",
        "    molecule = MoleculeInfo(\n",
        "        # Coordinates in Angstrom\n",
        "        symbols=[\"Li\", \"H\"],\n",
        "        coords=([0.0, 0.0, 0.0], [dist, 0.0, 0.0]),\n",
        "        multiplicity=1,  # = 2*spin + 1\n",
        "        charge=0,\n",
        "    )\n",
        "\n",
        "    driver = PySCFDriver.from_molecule(molecule)\n",
        "\n",
        "    # Get properties\n",
        "    properties = driver.run()\n",
        "\n",
        "    # Now you can get the reduced electronic structure problem\n",
        "    problem = FreezeCoreTransformer(\n",
        "        freeze_core=True, remove_orbitals=[-3, -2]\n",
        "    ).transform(properties)\n",
        "\n",
        "    num_particles = problem.num_particles\n",
        "    num_spatial_orbitals = problem.num_spatial_orbitals\n",
        "\n",
        "    mapper = ParityMapper(num_particles=num_particles)\n",
        "    qubit_op = mapper.map(problem.second_q_ops()[0])\n",
        "    return qubit_op, num_particles, num_spatial_orbitals, problem, mapper\n",
        "\n",
        "counts = []\n",
        "values = []\n",
        "params = []\n",
        "deviation = []\n",
        "\n",
        "def store_intermediate_result(eval_count, parameters, mean, std):\n",
        "    counts.append(eval_count)\n",
        "    values.append(mean)\n",
        "    params.append(parameters)\n",
        "    deviation.append(std)\n",
        "\n",
        "seed = 0\n",
        "optimizer = TNC()\n",
        "# noiseless_estimator = Estimator(approximation=True)\n",
        "\n",
        "def UCCSD_VQE_LiH(use_gpu, dist):\n",
        "  estimator = Estimator()\n",
        "  if use_gpu:\n",
        "    estimator = AerEstimator(\n",
        "        run_options={\"seed\": seed},\n",
        "        transpile_options={\"seed_transpiler\": seed},)\n",
        "\n",
        "    estimator.set_options(device='GPU')\n",
        "    estimator.set_options(cuStateVec_enable=True)\n",
        "    estimator.set_options(approximation =True)\n",
        "    estimator.set_options(resilience_level=3)\n",
        "\n",
        "  # See how they get approximation, we can use error mitigation in our code.\n",
        "\n",
        "  (qubit_op, num_particles, num_spatial_orbitals, problem, mapper) = get_qubit_op(\n",
        "        dist\n",
        "    )\n",
        "\n",
        "  ref = exact_solver(qubit_op, problem)\n",
        "  exact_energy = ref.total_energies[0].real\n",
        "\n",
        "  init_state = HartreeFock(num_spatial_orbitals, num_particles, mapper)\n",
        "  ansatz = UCCSD(\n",
        "      num_spatial_orbitals, num_particles, mapper, initial_state=init_state\n",
        "  )\n",
        "  vqe = VQE(\n",
        "      estimator,\n",
        "      ansatz,\n",
        "      optimizer,\n",
        "      # initial_point=[0] * var_form.num_parameters,\n",
        "  )\n",
        "  # vqe_calc = vqe.compute_minimum_eigenvalue(qubit_op)\n",
        "  vqe = VQE(estimator, ansatz, optimizer, callback=store_intermediate_result)\n",
        "  vqe_ground_state_solver = GroundStateEigensolver(mapper, vqe)\n",
        "  start = time.time()\n",
        "  vqe_result = vqe_ground_state_solver.solve(problem)\n",
        "  energy = problem.interpret(vqe_result.raw_result).total_energies[0].real\n",
        "  end = time.time()\n",
        "\n",
        "  time_taken = end - start\n",
        "\n",
        "  return exact_energy, energy, time_taken"
      ]
    },
    {
      "cell_type": "code",
      "execution_count": null,
      "metadata": {
        "id": "juCC5_E2MySF",
        "colab": {
          "base_uri": "https://localhost:8080/"
        },
        "outputId": "f45c8123-4a66-4395-e910-687a2d9def01"
      },
      "outputs": [
        {
          "output_type": "stream",
          "name": "stdout",
          "text": [
            "For CPU:\n",
            "Time taken: 1011.0205535888672 Energy: -7.562040353297816 Exact Energy: -7.882096599921154\n",
            "============================\n",
            "\n",
            "\n",
            "For GPU:\n"
          ]
        },
        {
          "output_type": "stream",
          "name": "stderr",
          "text": [
            "<ipython-input-13-9c3b37b84e20>:11: DeprecationWarning: Option approximation=False is deprecated as of qiskit-aer 0.13. It will be removed no earlier than 3 months after the release date. Instead, use BackendEstimator from qiskit.primitives.\n",
            "  exact_energy, energy, time_taken = UCCSD_VQE_LiH(True, dist)\n"
          ]
        },
        {
          "output_type": "stream",
          "name": "stdout",
          "text": [
            "Time taken: 115.25452136993408 Energy: -7.214884212088578 Exact Energy: -7.882096599921158\n"
          ]
        }
      ],
      "source": [
        "dist = 1.6\n",
        "\n",
        "print(\"For CPU:\")\n",
        "exact_energy, energy, time_taken = UCCSD_VQE_LiH(False, dist)\n",
        "print(f\"Time taken: {time_taken} Energy: {energy} Exact Energy: {exact_energy}\")\n",
        "# print(f\"Error: {100 * ((energy-exact_energy)/exact_energy)}\")\n",
        "\n",
        "print(\"============================\\n\\n\")\n",
        "\n",
        "print(\"For GPU:\")\n",
        "exact_energy, energy, time_taken = UCCSD_VQE_LiH(True, dist)\n",
        "print(f\"Time taken: {time_taken} Energy: {energy} Exact Energy: {exact_energy}\")\n",
        "# print(f\"Error: {100 * ((energy-exact_energy)/exact_energy)}\")"
      ]
    },
    {
      "cell_type": "code",
      "source": [
        "def get_qubit_op_h2o():\n",
        "    # Define Molecule\n",
        "    molecule = MoleculeInfo(\n",
        "        # Coordinates in Angstrom\n",
        "        symbols=[\"O\", \"H\", \"H\"],\n",
        "        coords=([0.0, 0.0, 0.115], [0.0, 0.754, -0.459], [0.0, -0.754, -0.459]),\n",
        "        multiplicity=1,  # = 2*spin + 1\n",
        "        charge=0,\n",
        "    )\n",
        "\n",
        "    driver = PySCFDriver.from_molecule(molecule)\n",
        "\n",
        "    # Get properties\n",
        "    properties = driver.run()\n",
        "\n",
        "    # Now you can get the reduced electronic structure problem\n",
        "    problem = FreezeCoreTransformer(\n",
        "        freeze_core=True, remove_orbitals=[-3, -2]\n",
        "    ).transform(properties)\n",
        "\n",
        "    num_particles = problem.num_particles\n",
        "    num_spatial_orbitals = problem.num_spatial_orbitals\n",
        "\n",
        "    mapper = ParityMapper(num_particles=num_particles)\n",
        "    qubit_op = mapper.map(problem.second_q_ops()[0])\n",
        "    return qubit_op, num_particles, num_spatial_orbitals, problem, mapper\n",
        "\n",
        "counts = []\n",
        "values = []\n",
        "params = []\n",
        "deviation = []\n",
        "\n",
        "def store_intermediate_result(eval_count, parameters, mean, std):\n",
        "    counts.append(eval_count)\n",
        "    values.append(mean)\n",
        "    params.append(parameters)\n",
        "    deviation.append(std)\n",
        "\n",
        "seed = 0\n",
        "optimizer = TNC()\n",
        "# noiseless_estimator = Estimator(approximation=True)\n",
        "\n",
        "def UCCSD_VQE_H2O(use_gpu):\n",
        "  estimator = Estimator()\n",
        "  if use_gpu:\n",
        "    estimator = AerEstimator(\n",
        "        run_options={\"seed\": seed},\n",
        "        transpile_options={\"seed_transpiler\": seed},)\n",
        "\n",
        "    estimator.set_options(device='GPU')\n",
        "    estimator.set_options(cuStateVec_enable=True)\n",
        "    estimator.set_options(approximation =True)\n",
        "    estimator.set_options(resilience_level=3)\n",
        "\n",
        "  # See how they get approximation, we can use error mitigation in our code.\n",
        "\n",
        "  (qubit_op, num_particles, num_spatial_orbitals, problem, mapper) = get_qubit_op_h2o()\n",
        "\n",
        "  ref = exact_solver(qubit_op, problem)\n",
        "  exact_energy = ref.total_energies[0].real\n",
        "\n",
        "  init_state = HartreeFock(num_spatial_orbitals, num_particles, mapper)\n",
        "  ansatz = UCCSD(\n",
        "      num_spatial_orbitals, num_particles, mapper, initial_state=init_state\n",
        "  )\n",
        "  vqe = VQE(\n",
        "      estimator,\n",
        "      ansatz,\n",
        "      optimizer,\n",
        "      # initial_point=[0] * var_form.num_parameters,\n",
        "  )\n",
        "  # vqe_calc = vqe.compute_minimum_eigenvalue(qubit_op)\n",
        "  vqe = VQE(estimator, ansatz, optimizer, callback=store_intermediate_result)\n",
        "  vqe_ground_state_solver = GroundStateEigensolver(mapper, vqe)\n",
        "  start = time.time()\n",
        "  vqe_result = vqe_ground_state_solver.solve(problem)\n",
        "  energy = problem.interpret(vqe_result.raw_result).total_energies[0].real\n",
        "  end = time.time()\n",
        "\n",
        "  time_taken = end - start\n",
        "\n",
        "  return exact_energy, energy, time_taken"
      ],
      "metadata": {
        "id": "JHbIdfPWEufv"
      },
      "execution_count": null,
      "outputs": []
    },
    {
      "cell_type": "code",
      "source": [
        "print(\"For CPU:\")\n",
        "exact_energy, energy, time_taken = UCCSD_VQE_H2O(False)\n",
        "print(f\"Time taken: {time_taken} Energy: {energy} Exact Energy: {exact_energy}\")\n",
        "# print(f\"Error: {100 * ((energy-exact_energy)/exact_energy)}\")\n",
        "\n",
        "print(\"============================\\n\\n\")\n",
        "\n",
        "print(\"For GPU:\")\n",
        "exact_energy, energy, time_taken = UCCSD_VQE_H2O(True)\n",
        "print(f\"Time taken: {time_taken} Energy: {energy} Exact Energy: {exact_energy}\")\n",
        "# print(f\"Error: {100 * ((energy-exact_energy)/exact_energy)}\")"
      ],
      "metadata": {
        "colab": {
          "base_uri": "https://localhost:8080/"
        },
        "id": "2RWtxY33SHeq",
        "outputId": "fb42867c-54d3-4a04-963a-8d06db5a8b95"
      },
      "execution_count": null,
      "outputs": [
        {
          "metadata": {
            "tags": null
          },
          "name": "stdout",
          "output_type": "stream",
          "text": [
            "For CPU:\n",
            "Time taken: 21457.054010629654 Energy: -73.4390795771501 Exact Energy: -75.00904663617123\n",
            "============================\n",
            "\n",
            "\n",
            "For GPU:\n"
          ]
        },
        {
          "metadata": {
            "tags": null
          },
          "name": "stderr",
          "output_type": "stream",
          "text": [
            "<ipython-input-21-b4c11aed54d4>:9: DeprecationWarning: Option approximation=False is deprecated as of qiskit-aer 0.13. It will be removed no earlier than 3 months after the release date. Instead, use BackendEstimator from qiskit.primitives.\n",
            "  exact_energy, energy, time_taken = UCCSD_VQE_H2O(True)\n"
          ]
        },
        {
          "output_type": "stream",
          "name": "stdout",
          "text": [
            "Time taken: 3573.942621231079 Energy: -73.0245597358866 Exact Energy: -75.00904663617122\n"
          ]
        }
      ]
    },
    {
      "cell_type": "code",
      "source": [],
      "metadata": {
        "id": "xA89NHnKSPnx"
      },
      "execution_count": null,
      "outputs": []
    }
  ],
  "metadata": {
    "accelerator": "GPU",
    "colab": {
      "machine_shape": "hm",
      "provenance": [],
      "gpuType": "A100"
    },
    "kernelspec": {
      "display_name": "Python 3",
      "name": "python3"
    },
    "language_info": {
      "name": "python"
    }
  },
  "nbformat": 4,
  "nbformat_minor": 0
}