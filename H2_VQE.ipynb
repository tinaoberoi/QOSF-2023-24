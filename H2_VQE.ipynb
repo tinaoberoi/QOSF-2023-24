{
  "cells": [
    {
      "cell_type": "markdown",
      "metadata": {
        "id": "uiZ90ygLGZTu"
      },
      "source": [
        "# Installations and Imports"
      ]
    },
    {
      "cell_type": "markdown",
      "metadata": {
        "id": "sR7N15RRF-i7"
      },
      "source": [
        "## Intalling qiskit-aer"
      ]
    },
    {
      "cell_type": "code",
      "execution_count": null,
      "metadata": {
        "colab": {
          "base_uri": "https://localhost:8080/"
        },
        "id": "fI63uiJ7NbNd",
        "outputId": "4cec5647-f540-4653-8972-01699f4e3f25"
      },
      "outputs": [
        {
          "output_type": "stream",
          "name": "stdout",
          "text": [
            "Sat Mar  9 20:05:10 2024       \n",
            "+---------------------------------------------------------------------------------------+\n",
            "| NVIDIA-SMI 535.104.05             Driver Version: 535.104.05   CUDA Version: 12.2     |\n",
            "|-----------------------------------------+----------------------+----------------------+\n",
            "| GPU  Name                 Persistence-M | Bus-Id        Disp.A | Volatile Uncorr. ECC |\n",
            "| Fan  Temp   Perf          Pwr:Usage/Cap |         Memory-Usage | GPU-Util  Compute M. |\n",
            "|                                         |                      |               MIG M. |\n",
            "|=========================================+======================+======================|\n",
            "|   0  Tesla V100-SXM2-16GB           Off | 00000000:00:04.0 Off |                    0 |\n",
            "| N/A   32C    P0              25W / 300W |      0MiB / 16384MiB |      0%      Default |\n",
            "|                                         |                      |                  N/A |\n",
            "+-----------------------------------------+----------------------+----------------------+\n",
            "                                                                                         \n",
            "+---------------------------------------------------------------------------------------+\n",
            "| Processes:                                                                            |\n",
            "|  GPU   GI   CI        PID   Type   Process name                            GPU Memory |\n",
            "|        ID   ID                                                             Usage      |\n",
            "|=======================================================================================|\n",
            "|  No running processes found                                                           |\n",
            "+---------------------------------------------------------------------------------------+\n"
          ]
        }
      ],
      "source": [
        "!nvidia-smi"
      ]
    },
    {
      "cell_type": "code",
      "execution_count": null,
      "metadata": {
        "colab": {
          "base_uri": "https://localhost:8080/"
        },
        "id": "wrtnYBzrNfLw",
        "outputId": "816e101b-b54f-49df-e4d1-d420017c0a0e"
      },
      "outputs": [
        {
          "output_type": "stream",
          "name": "stdout",
          "text": [
            "Collecting qiskit-aer\n",
            "  Downloading qiskit_aer-0.13.3-cp310-cp310-manylinux_2_17_x86_64.manylinux2014_x86_64.whl (12.3 MB)\n",
            "\u001b[2K     \u001b[90m━━━━━━━━━━━━━━━━━━━━━━━━━━━━━━━━━━━━━━━━\u001b[0m \u001b[32m12.3/12.3 MB\u001b[0m \u001b[31m39.5 MB/s\u001b[0m eta \u001b[36m0:00:00\u001b[0m\n",
            "\u001b[?25hCollecting qiskit>=0.45.0 (from qiskit-aer)\n",
            "  Downloading qiskit-1.0.2-cp38-abi3-manylinux_2_17_x86_64.manylinux2014_x86_64.whl (5.6 MB)\n",
            "\u001b[2K     \u001b[90m━━━━━━━━━━━━━━━━━━━━━━━━━━━━━━━━━━━━━━━━\u001b[0m \u001b[32m5.6/5.6 MB\u001b[0m \u001b[31m97.7 MB/s\u001b[0m eta \u001b[36m0:00:00\u001b[0m\n",
            "\u001b[?25hRequirement already satisfied: numpy>=1.16.3 in /usr/local/lib/python3.10/dist-packages (from qiskit-aer) (1.25.2)\n",
            "Requirement already satisfied: scipy>=1.0 in /usr/local/lib/python3.10/dist-packages (from qiskit-aer) (1.11.4)\n",
            "Requirement already satisfied: psutil>=5 in /usr/local/lib/python3.10/dist-packages (from qiskit-aer) (5.9.5)\n",
            "Collecting rustworkx>=0.14.0 (from qiskit>=0.45.0->qiskit-aer)\n",
            "  Downloading rustworkx-0.14.1-cp310-cp310-manylinux_2_17_x86_64.manylinux2014_x86_64.whl (2.1 MB)\n",
            "\u001b[2K     \u001b[90m━━━━━━━━━━━━━━━━━━━━━━━━━━━━━━━━━━━━━━━━\u001b[0m \u001b[32m2.1/2.1 MB\u001b[0m \u001b[31m83.1 MB/s\u001b[0m eta \u001b[36m0:00:00\u001b[0m\n",
            "\u001b[?25hRequirement already satisfied: sympy>=1.3 in /usr/local/lib/python3.10/dist-packages (from qiskit>=0.45.0->qiskit-aer) (1.12)\n",
            "Collecting dill>=0.3 (from qiskit>=0.45.0->qiskit-aer)\n",
            "  Downloading dill-0.3.8-py3-none-any.whl (116 kB)\n",
            "\u001b[2K     \u001b[90m━━━━━━━━━━━━━━━━━━━━━━━━━━━━━━━━━━━━━━━━\u001b[0m \u001b[32m116.3/116.3 kB\u001b[0m \u001b[31m13.4 MB/s\u001b[0m eta \u001b[36m0:00:00\u001b[0m\n",
            "\u001b[?25hRequirement already satisfied: python-dateutil>=2.8.0 in /usr/local/lib/python3.10/dist-packages (from qiskit>=0.45.0->qiskit-aer) (2.8.2)\n",
            "Collecting stevedore>=3.0.0 (from qiskit>=0.45.0->qiskit-aer)\n",
            "  Downloading stevedore-5.2.0-py3-none-any.whl (49 kB)\n",
            "\u001b[2K     \u001b[90m━━━━━━━━━━━━━━━━━━━━━━━━━━━━━━━━━━━━━━━━\u001b[0m \u001b[32m49.7/49.7 kB\u001b[0m \u001b[31m6.2 MB/s\u001b[0m eta \u001b[36m0:00:00\u001b[0m\n",
            "\u001b[?25hRequirement already satisfied: typing-extensions in /usr/local/lib/python3.10/dist-packages (from qiskit>=0.45.0->qiskit-aer) (4.10.0)\n",
            "Collecting symengine>=0.11 (from qiskit>=0.45.0->qiskit-aer)\n",
            "  Downloading symengine-0.11.0-cp310-cp310-manylinux_2_12_x86_64.manylinux2010_x86_64.whl (39.4 MB)\n",
            "\u001b[2K     \u001b[90m━━━━━━━━━━━━━━━━━━━━━━━━━━━━━━━━━━━━━━━━\u001b[0m \u001b[32m39.4/39.4 MB\u001b[0m \u001b[31m38.3 MB/s\u001b[0m eta \u001b[36m0:00:00\u001b[0m\n",
            "\u001b[?25hRequirement already satisfied: six>=1.5 in /usr/local/lib/python3.10/dist-packages (from python-dateutil>=2.8.0->qiskit>=0.45.0->qiskit-aer) (1.16.0)\n",
            "Collecting pbr!=2.1.0,>=2.0.0 (from stevedore>=3.0.0->qiskit>=0.45.0->qiskit-aer)\n",
            "  Downloading pbr-6.0.0-py2.py3-none-any.whl (107 kB)\n",
            "\u001b[2K     \u001b[90m━━━━━━━━━━━━━━━━━━━━━━━━━━━━━━━━━━━━━━━━\u001b[0m \u001b[32m107.5/107.5 kB\u001b[0m \u001b[31m14.9 MB/s\u001b[0m eta \u001b[36m0:00:00\u001b[0m\n",
            "\u001b[?25hRequirement already satisfied: mpmath>=0.19 in /usr/local/lib/python3.10/dist-packages (from sympy>=1.3->qiskit>=0.45.0->qiskit-aer) (1.3.0)\n",
            "Installing collected packages: symengine, rustworkx, pbr, dill, stevedore, qiskit, qiskit-aer\n",
            "Successfully installed dill-0.3.8 pbr-6.0.0 qiskit-1.0.2 qiskit-aer-0.13.3 rustworkx-0.14.1 stevedore-5.2.0 symengine-0.11.0\n"
          ]
        }
      ],
      "source": [
        "\n",
        "!pip install qiskit-aer"
      ]
    },
    {
      "cell_type": "code",
      "execution_count": null,
      "metadata": {
        "colab": {
          "base_uri": "https://localhost:8080/"
        },
        "id": "RLANaBX0Nuh1",
        "outputId": "ac8ca14e-9509-454f-bcbb-144238b24f21"
      },
      "outputs": [
        {
          "output_type": "stream",
          "name": "stdout",
          "text": [
            "Found existing installation: qiskit-aer 0.13.3\n",
            "Uninstalling qiskit-aer-0.13.3:\n",
            "  Successfully uninstalled qiskit-aer-0.13.3\n"
          ]
        }
      ],
      "source": [
        "!pip uninstall -y qiskit-aer"
      ]
    },
    {
      "cell_type": "code",
      "execution_count": null,
      "metadata": {
        "colab": {
          "base_uri": "https://localhost:8080/"
        },
        "id": "15IyCdbzNg-N",
        "outputId": "10e4d24d-36bf-4062-ee88-fb728d74409f"
      },
      "outputs": [
        {
          "output_type": "stream",
          "name": "stdout",
          "text": [
            "Collecting nvidia-cuda-runtime-cu12\n",
            "  Downloading nvidia_cuda_runtime_cu12-12.4.99-py3-none-manylinux2014_x86_64.whl (883 kB)\n",
            "\u001b[?25l     \u001b[90m━━━━━━━━━━━━━━━━━━━━━━━━━━━━━━━━━━━━━━━━\u001b[0m \u001b[32m0.0/883.4 kB\u001b[0m \u001b[31m?\u001b[0m eta \u001b[36m-:--:--\u001b[0m\r\u001b[2K     \u001b[91m━━━━━━━━━━━━\u001b[0m\u001b[91m╸\u001b[0m\u001b[90m━━━━━━━━━━━━━━━━━━━━━━━━━━━\u001b[0m \u001b[32m286.7/883.4 kB\u001b[0m \u001b[31m8.3 MB/s\u001b[0m eta \u001b[36m0:00:01\u001b[0m\r\u001b[2K     \u001b[91m━━━━━━━━━━━━━━━━━━━━━━━━━━━━━━━━━━━━━━━\u001b[0m\u001b[91m╸\u001b[0m \u001b[32m880.6/883.4 kB\u001b[0m \u001b[31m13.5 MB/s\u001b[0m eta \u001b[36m0:00:01\u001b[0m\r\u001b[2K     \u001b[90m━━━━━━━━━━━━━━━━━━━━━━━━━━━━━━━━━━━━━━━━\u001b[0m \u001b[32m883.4/883.4 kB\u001b[0m \u001b[31m11.6 MB/s\u001b[0m eta \u001b[36m0:00:00\u001b[0m\n",
            "\u001b[?25hCollecting nvidia-cublas-cu12\n",
            "  Downloading nvidia_cublas_cu12-12.4.2.65-py3-none-manylinux2014_x86_64.whl (363.0 MB)\n",
            "\u001b[2K     \u001b[90m━━━━━━━━━━━━━━━━━━━━━━━━━━━━━━━━━━━━━━━━\u001b[0m \u001b[32m363.0/363.0 MB\u001b[0m \u001b[31m3.0 MB/s\u001b[0m eta \u001b[36m0:00:00\u001b[0m\n",
            "\u001b[?25hCollecting nvidia-cusolver-cu12\n",
            "  Downloading nvidia_cusolver_cu12-11.6.0.99-py3-none-manylinux2014_x86_64.whl (128.4 MB)\n",
            "\u001b[2K     \u001b[90m━━━━━━━━━━━━━━━━━━━━━━━━━━━━━━━━━━━━━━━━\u001b[0m \u001b[32m128.4/128.4 MB\u001b[0m \u001b[31m10.3 MB/s\u001b[0m eta \u001b[36m0:00:00\u001b[0m\n",
            "\u001b[?25hCollecting nvidia-cusparse-cu12\n",
            "  Downloading nvidia_cusparse_cu12-12.3.0.142-py3-none-manylinux2014_x86_64.whl (207.5 MB)\n",
            "\u001b[2K     \u001b[90m━━━━━━━━━━━━━━━━━━━━━━━━━━━━━━━━━━━━━━━━\u001b[0m \u001b[32m207.5/207.5 MB\u001b[0m \u001b[31m3.5 MB/s\u001b[0m eta \u001b[36m0:00:00\u001b[0m\n",
            "\u001b[?25hCollecting cuquantum-cu12\n",
            "  Downloading cuquantum_cu12-23.10.0-py3-none-manylinux2014_x86_64.whl (7.0 kB)\n",
            "Collecting nvidia-nvjitlink-cu12 (from nvidia-cusolver-cu12)\n",
            "  Downloading nvidia_nvjitlink_cu12-12.4.99-py3-none-manylinux2014_x86_64.whl (21.1 MB)\n",
            "\u001b[2K     \u001b[90m━━━━━━━━━━━━━━━━━━━━━━━━━━━━━━━━━━━━━━━━\u001b[0m \u001b[32m21.1/21.1 MB\u001b[0m \u001b[31m68.5 MB/s\u001b[0m eta \u001b[36m0:00:00\u001b[0m\n",
            "\u001b[?25hCollecting custatevec-cu12==1.5.0 (from cuquantum-cu12)\n",
            "  Downloading custatevec_cu12-1.5.0-py3-none-manylinux2014_x86_64.whl (38.4 MB)\n",
            "\u001b[2K     \u001b[90m━━━━━━━━━━━━━━━━━━━━━━━━━━━━━━━━━━━━━━━━\u001b[0m \u001b[32m38.4/38.4 MB\u001b[0m \u001b[31m13.1 MB/s\u001b[0m eta \u001b[36m0:00:00\u001b[0m\n",
            "\u001b[?25hCollecting cutensornet-cu12==2.3.0 (from cuquantum-cu12)\n",
            "  Downloading cutensornet_cu12-2.3.0-py3-none-manylinux2014_x86_64.whl (2.2 MB)\n",
            "\u001b[2K     \u001b[90m━━━━━━━━━━━━━━━━━━━━━━━━━━━━━━━━━━━━━━━━\u001b[0m \u001b[32m2.2/2.2 MB\u001b[0m \u001b[31m82.6 MB/s\u001b[0m eta \u001b[36m0:00:00\u001b[0m\n",
            "\u001b[?25hCollecting cutensor-cu12<2,>=1.6.1 (from cutensornet-cu12==2.3.0->cuquantum-cu12)\n",
            "  Downloading cutensor_cu12-1.7.0-py3-none-manylinux2014_x86_64.whl (146.8 MB)\n",
            "\u001b[2K     \u001b[90m━━━━━━━━━━━━━━━━━━━━━━━━━━━━━━━━━━━━━━━━\u001b[0m \u001b[32m146.8/146.8 MB\u001b[0m \u001b[31m9.2 MB/s\u001b[0m eta \u001b[36m0:00:00\u001b[0m\n",
            "\u001b[?25hInstalling collected packages: cutensor-cu12, custatevec-cu12, nvidia-nvjitlink-cu12, nvidia-cuda-runtime-cu12, nvidia-cublas-cu12, cutensornet-cu12, nvidia-cusparse-cu12, cuquantum-cu12, nvidia-cusolver-cu12\n",
            "Successfully installed cuquantum-cu12-23.10.0 custatevec-cu12-1.5.0 cutensor-cu12-1.7.0 cutensornet-cu12-2.3.0 nvidia-cublas-cu12-12.4.2.65 nvidia-cuda-runtime-cu12-12.4.99 nvidia-cusolver-cu12-11.6.0.99 nvidia-cusparse-cu12-12.3.0.142 nvidia-nvjitlink-cu12-12.4.99\n"
          ]
        }
      ],
      "source": [
        "!pip install nvidia-cuda-runtime-cu12 nvidia-cublas-cu12 nvidia-cusolver-cu12 nvidia-cusparse-cu12 cuquantum-cu12"
      ]
    },
    {
      "cell_type": "code",
      "execution_count": null,
      "metadata": {
        "colab": {
          "base_uri": "https://localhost:8080/"
        },
        "id": "S9j88go8ODeJ",
        "outputId": "92a86d37-bd44-43c7-9428-f7df105f8cbd"
      },
      "outputs": [
        {
          "output_type": "stream",
          "name": "stdout",
          "text": [
            "Collecting qiskit-aer-gpu\n",
            "  Downloading qiskit_aer_gpu-0.13.3-cp310-cp310-manylinux_2_17_x86_64.manylinux2014_x86_64.whl (19.5 MB)\n",
            "\u001b[2K     \u001b[90m━━━━━━━━━━━━━━━━━━━━━━━━━━━━━━━━━━━━━━━━\u001b[0m \u001b[32m19.5/19.5 MB\u001b[0m \u001b[31m14.1 MB/s\u001b[0m eta \u001b[36m0:00:00\u001b[0m\n",
            "\u001b[?25hRequirement already satisfied: qiskit>=0.45.0 in /usr/local/lib/python3.10/dist-packages (from qiskit-aer-gpu) (1.0.2)\n",
            "Requirement already satisfied: numpy>=1.16.3 in /usr/local/lib/python3.10/dist-packages (from qiskit-aer-gpu) (1.25.2)\n",
            "Requirement already satisfied: scipy>=1.0 in /usr/local/lib/python3.10/dist-packages (from qiskit-aer-gpu) (1.11.4)\n",
            "Requirement already satisfied: psutil>=5 in /usr/local/lib/python3.10/dist-packages (from qiskit-aer-gpu) (5.9.5)\n",
            "Requirement already satisfied: nvidia-cuda-runtime-cu12>=12.1.105 in /usr/local/lib/python3.10/dist-packages (from qiskit-aer-gpu) (12.4.99)\n",
            "Requirement already satisfied: nvidia-nvjitlink-cu12 in /usr/local/lib/python3.10/dist-packages (from qiskit-aer-gpu) (12.4.99)\n",
            "Requirement already satisfied: nvidia-cublas-cu12>=12.1.3.1 in /usr/local/lib/python3.10/dist-packages (from qiskit-aer-gpu) (12.4.2.65)\n",
            "Requirement already satisfied: nvidia-cusolver-cu12>=11.4.5.107 in /usr/local/lib/python3.10/dist-packages (from qiskit-aer-gpu) (11.6.0.99)\n",
            "Requirement already satisfied: nvidia-cusparse-cu12>=12.1.0.106 in /usr/local/lib/python3.10/dist-packages (from qiskit-aer-gpu) (12.3.0.142)\n",
            "Requirement already satisfied: cuquantum-cu12>=23.3.0 in /usr/local/lib/python3.10/dist-packages (from qiskit-aer-gpu) (23.10.0)\n",
            "Requirement already satisfied: custatevec-cu12==1.5.0 in /usr/local/lib/python3.10/dist-packages (from cuquantum-cu12>=23.3.0->qiskit-aer-gpu) (1.5.0)\n",
            "Requirement already satisfied: cutensornet-cu12==2.3.0 in /usr/local/lib/python3.10/dist-packages (from cuquantum-cu12>=23.3.0->qiskit-aer-gpu) (2.3.0)\n",
            "Requirement already satisfied: cutensor-cu12<2,>=1.6.1 in /usr/local/lib/python3.10/dist-packages (from cutensornet-cu12==2.3.0->cuquantum-cu12>=23.3.0->qiskit-aer-gpu) (1.7.0)\n",
            "Requirement already satisfied: rustworkx>=0.14.0 in /usr/local/lib/python3.10/dist-packages (from qiskit>=0.45.0->qiskit-aer-gpu) (0.14.1)\n",
            "Requirement already satisfied: sympy>=1.3 in /usr/local/lib/python3.10/dist-packages (from qiskit>=0.45.0->qiskit-aer-gpu) (1.12)\n",
            "Requirement already satisfied: dill>=0.3 in /usr/local/lib/python3.10/dist-packages (from qiskit>=0.45.0->qiskit-aer-gpu) (0.3.8)\n",
            "Requirement already satisfied: python-dateutil>=2.8.0 in /usr/local/lib/python3.10/dist-packages (from qiskit>=0.45.0->qiskit-aer-gpu) (2.8.2)\n",
            "Requirement already satisfied: stevedore>=3.0.0 in /usr/local/lib/python3.10/dist-packages (from qiskit>=0.45.0->qiskit-aer-gpu) (5.2.0)\n",
            "Requirement already satisfied: typing-extensions in /usr/local/lib/python3.10/dist-packages (from qiskit>=0.45.0->qiskit-aer-gpu) (4.10.0)\n",
            "Requirement already satisfied: symengine>=0.11 in /usr/local/lib/python3.10/dist-packages (from qiskit>=0.45.0->qiskit-aer-gpu) (0.11.0)\n",
            "Requirement already satisfied: six>=1.5 in /usr/local/lib/python3.10/dist-packages (from python-dateutil>=2.8.0->qiskit>=0.45.0->qiskit-aer-gpu) (1.16.0)\n",
            "Requirement already satisfied: pbr!=2.1.0,>=2.0.0 in /usr/local/lib/python3.10/dist-packages (from stevedore>=3.0.0->qiskit>=0.45.0->qiskit-aer-gpu) (6.0.0)\n",
            "Requirement already satisfied: mpmath>=0.19 in /usr/local/lib/python3.10/dist-packages (from sympy>=1.3->qiskit>=0.45.0->qiskit-aer-gpu) (1.3.0)\n",
            "Installing collected packages: qiskit-aer-gpu\n",
            "Successfully installed qiskit-aer-gpu-0.13.3\n"
          ]
        }
      ],
      "source": [
        "!pip install qiskit-aer-gpu"
      ]
    },
    {
      "cell_type": "code",
      "execution_count": null,
      "metadata": {
        "colab": {
          "base_uri": "https://localhost:8080/"
        },
        "id": "JJZwpQ6EOHiI",
        "outputId": "94dc38ae-a17d-4746-8417-c64440a6a75a"
      },
      "outputs": [
        {
          "output_type": "stream",
          "name": "stdout",
          "text": [
            "\tlinux-vdso.so.1 (0x00007fff4a7d4000)\n",
            "\tlibopenblas-r0-f650aae0.3.3.so => /usr/local/lib/python3.10/dist-packages/qiskit_aer/backends/../../qiskit_aer_gpu.libs/libopenblas-r0-f650aae0.3.3.so (0x00007a237fe00000)\n",
            "\tlibdl.so.2 => /lib/x86_64-linux-gnu/libdl.so.2 (0x00007a23823cb000)\n",
            "\tlibcusolver.so.11 => /usr/local/lib/python3.10/dist-packages/qiskit_aer/backends/../../nvidia/cusolver/lib/libcusolver.so.11 (0x00007a2378800000)\n",
            "\tlibcusparse.so.12 => /usr/local/lib/python3.10/dist-packages/qiskit_aer/backends/../../nvidia/cusparse/lib/libcusparse.so.12 (0x00007a2367800000)\n",
            "\tlibcustatevec.so.1 => /usr/local/lib/python3.10/dist-packages/qiskit_aer/backends/../../cuquantum/lib/libcustatevec.so.1 (0x00007a2363200000)\n",
            "\tlibcutensornet.so.2 => /usr/local/lib/python3.10/dist-packages/qiskit_aer/backends/../../cuquantum/lib/libcutensornet.so.2 (0x00007a2362a00000)\n",
            "\tlibcudart.so.12 => /usr/local/lib/python3.10/dist-packages/qiskit_aer/backends/../../nvidia/cuda_runtime/lib/libcudart.so.12 (0x00007a2362600000)\n",
            "\tlibpthread.so.0 => /lib/x86_64-linux-gnu/libpthread.so.0 (0x00007a23823c4000)\n",
            "\tlibstdc++.so.6 => /lib/x86_64-linux-gnu/libstdc++.so.6 (0x00007a23623d4000)\n",
            "\tlibm.so.6 => /lib/x86_64-linux-gnu/libm.so.6 (0x00007a237fd19000)\n",
            "\tlibgomp-a34b3233.so.1.0.0 => /usr/local/lib/python3.10/dist-packages/qiskit_aer/backends/../../qiskit_aer_gpu.libs/libgomp-a34b3233.so.1.0.0 (0x00007a2362000000)\n",
            "\tlibgcc_s.so.1 => /lib/x86_64-linux-gnu/libgcc_s.so.1 (0x00007a23823a2000)\n",
            "\tlibc.so.6 => /lib/x86_64-linux-gnu/libc.so.6 (0x00007a2361dd7000)\n",
            "\t/lib64/ld-linux-x86-64.so.2 (0x00007a23840a9000)\n",
            "\tlibgfortran-91cc3cb1.so.3.0.0 => /usr/local/lib/python3.10/dist-packages/qiskit_aer/backends/../../qiskit_aer_gpu.libs/libgfortran-91cc3cb1.so.3.0.0 (0x00007a2361a00000)\n",
            "\tlibnvJitLink.so.12 => /usr/local/lib/python3.10/dist-packages/qiskit_aer/backends/../../nvidia/cusolver/lib/../../nvjitlink/lib/libnvJitLink.so.12 (0x00007a235e400000)\n",
            "\tlibcublas.so.12 => /usr/local/lib/python3.10/dist-packages/qiskit_aer/backends/../../nvidia/cusolver/lib/../../cublas/lib/libcublas.so.12 (0x00007a2357800000)\n",
            "\tlibcublasLt.so.12 => /usr/local/lib/python3.10/dist-packages/qiskit_aer/backends/../../nvidia/cusolver/lib/../../cublas/lib/libcublasLt.so.12 (0x00007a2339800000)\n",
            "\tlibrt.so.1 => /lib/x86_64-linux-gnu/librt.so.1 (0x00007a238239b000)\n",
            "\tlibcutensor.so.1 => /usr/local/lib/python3.10/dist-packages/qiskit_aer/backends/../../cuquantum/lib/../../cutensor/lib/libcutensor.so.1 (0x00007a232b800000)\n",
            "\tlibquadmath-96973f99.so.0.0.0 => /usr/local/lib/python3.10/dist-packages/qiskit_aer/backends/../../qiskit_aer_gpu.libs/libquadmath-96973f99.so.0.0.0 (0x00007a232b400000)\n",
            "\tlibcuda.so.1 => /usr/lib64-nvidia/libcuda.so.1 (0x00007a2329600000)\n"
          ]
        }
      ],
      "source": [
        "!ldd /usr/local/lib/python3.10/dist-packages/qiskit_aer/backends/controller_wrappers.cpython-310-x86_64-linux-gnu.so"
      ]
    },
    {
      "cell_type": "markdown",
      "metadata": {
        "id": "-1PCyVHcGGCl"
      },
      "source": [
        "## Installing qiskit-nature"
      ]
    },
    {
      "cell_type": "code",
      "execution_count": null,
      "metadata": {
        "colab": {
          "base_uri": "https://localhost:8080/"
        },
        "id": "hcBfIjMYvwZx",
        "outputId": "e3798147-4571-49c6-edb7-e330ea3acbcb"
      },
      "outputs": [
        {
          "output_type": "stream",
          "name": "stdout",
          "text": [
            "\u001b[33mWARNING: Skipping qiskit_nature as it is not installed.\u001b[0m\u001b[33m\n",
            "\u001b[0m\u001b[33mWARNING: Skipping pyscf as it is not installed.\u001b[0m\u001b[33m\n",
            "\u001b[0m"
          ]
        }
      ],
      "source": [
        "!pip uninstall qiskit_nature --yes\n",
        "!pip uninstall pyscf --yes"
      ]
    },
    {
      "cell_type": "code",
      "execution_count": null,
      "metadata": {
        "colab": {
          "base_uri": "https://localhost:8080/"
        },
        "id": "w2OadLobv0l2",
        "outputId": "dcf8adee-449c-45ad-b2f2-03f3658f3fc8"
      },
      "outputs": [
        {
          "output_type": "stream",
          "name": "stdout",
          "text": [
            "\u001b[33mWARNING: Package(s) not found: qiskit_nature\u001b[0m\u001b[33m\n",
            "\u001b[0m\u001b[33mWARNING: Package(s) not found: pyscf\u001b[0m\u001b[33m\n",
            "\u001b[0m"
          ]
        }
      ],
      "source": [
        "!pip show qiskit_nature\n",
        "!pip show pyscf"
      ]
    },
    {
      "cell_type": "code",
      "execution_count": null,
      "metadata": {
        "colab": {
          "base_uri": "https://localhost:8080/"
        },
        "id": "rjlLVybDv4MQ",
        "outputId": "ab518b38-4488-46db-a460-a89d9b63c146"
      },
      "outputs": [
        {
          "output_type": "stream",
          "name": "stdout",
          "text": [
            "Collecting qiskit-nature\n",
            "  Downloading qiskit_nature-0.7.2-py3-none-any.whl (2.2 MB)\n",
            "\u001b[2K     \u001b[90m━━━━━━━━━━━━━━━━━━━━━━━━━━━━━━━━━━━━━━━━\u001b[0m \u001b[32m2.2/2.2 MB\u001b[0m \u001b[31m15.0 MB/s\u001b[0m eta \u001b[36m0:00:00\u001b[0m\n",
            "\u001b[?25hRequirement already satisfied: qiskit>=0.44 in /usr/local/lib/python3.10/dist-packages (from qiskit-nature) (1.0.2)\n",
            "Collecting qiskit-algorithms>=0.2.1 (from qiskit-nature)\n",
            "  Downloading qiskit_algorithms-0.3.0-py3-none-any.whl (308 kB)\n",
            "\u001b[2K     \u001b[90m━━━━━━━━━━━━━━━━━━━━━━━━━━━━━━━━━━━━━━━━\u001b[0m \u001b[32m308.6/308.6 kB\u001b[0m \u001b[31m21.0 MB/s\u001b[0m eta \u001b[36m0:00:00\u001b[0m\n",
            "\u001b[?25hRequirement already satisfied: scipy>=1.4 in /usr/local/lib/python3.10/dist-packages (from qiskit-nature) (1.11.4)\n",
            "Requirement already satisfied: numpy>=1.17 in /usr/local/lib/python3.10/dist-packages (from qiskit-nature) (1.25.2)\n",
            "Requirement already satisfied: psutil>=5 in /usr/local/lib/python3.10/dist-packages (from qiskit-nature) (5.9.5)\n",
            "Requirement already satisfied: setuptools>=40.1.0 in /usr/local/lib/python3.10/dist-packages (from qiskit-nature) (67.7.2)\n",
            "Requirement already satisfied: typing-extensions in /usr/local/lib/python3.10/dist-packages (from qiskit-nature) (4.10.0)\n",
            "Requirement already satisfied: h5py in /usr/local/lib/python3.10/dist-packages (from qiskit-nature) (3.9.0)\n",
            "Requirement already satisfied: rustworkx>=0.12 in /usr/local/lib/python3.10/dist-packages (from qiskit-nature) (0.14.1)\n",
            "Requirement already satisfied: sympy>=1.3 in /usr/local/lib/python3.10/dist-packages (from qiskit>=0.44->qiskit-nature) (1.12)\n",
            "Requirement already satisfied: dill>=0.3 in /usr/local/lib/python3.10/dist-packages (from qiskit>=0.44->qiskit-nature) (0.3.8)\n",
            "Requirement already satisfied: python-dateutil>=2.8.0 in /usr/local/lib/python3.10/dist-packages (from qiskit>=0.44->qiskit-nature) (2.8.2)\n",
            "Requirement already satisfied: stevedore>=3.0.0 in /usr/local/lib/python3.10/dist-packages (from qiskit>=0.44->qiskit-nature) (5.2.0)\n",
            "Requirement already satisfied: symengine>=0.11 in /usr/local/lib/python3.10/dist-packages (from qiskit>=0.44->qiskit-nature) (0.11.0)\n",
            "Requirement already satisfied: six>=1.5 in /usr/local/lib/python3.10/dist-packages (from python-dateutil>=2.8.0->qiskit>=0.44->qiskit-nature) (1.16.0)\n",
            "Requirement already satisfied: pbr!=2.1.0,>=2.0.0 in /usr/local/lib/python3.10/dist-packages (from stevedore>=3.0.0->qiskit>=0.44->qiskit-nature) (6.0.0)\n",
            "Requirement already satisfied: mpmath>=0.19 in /usr/local/lib/python3.10/dist-packages (from sympy>=1.3->qiskit>=0.44->qiskit-nature) (1.3.0)\n",
            "Installing collected packages: qiskit-algorithms, qiskit-nature\n",
            "Successfully installed qiskit-algorithms-0.3.0 qiskit-nature-0.7.2\n",
            "Collecting pyscf\n",
            "  Downloading pyscf-2.5.0-py3-none-manylinux_2_17_x86_64.manylinux2014_x86_64.whl (47.3 MB)\n",
            "\u001b[2K     \u001b[90m━━━━━━━━━━━━━━━━━━━━━━━━━━━━━━━━━━━━━━━━\u001b[0m \u001b[32m47.3/47.3 MB\u001b[0m \u001b[31m30.3 MB/s\u001b[0m eta \u001b[36m0:00:00\u001b[0m\n",
            "\u001b[?25hRequirement already satisfied: numpy!=1.16,!=1.17,>=1.13 in /usr/local/lib/python3.10/dist-packages (from pyscf) (1.25.2)\n",
            "Requirement already satisfied: scipy!=1.5.0,!=1.5.1 in /usr/local/lib/python3.10/dist-packages (from pyscf) (1.11.4)\n",
            "Requirement already satisfied: h5py>=2.7 in /usr/local/lib/python3.10/dist-packages (from pyscf) (3.9.0)\n",
            "Requirement already satisfied: setuptools in /usr/local/lib/python3.10/dist-packages (from pyscf) (67.7.2)\n",
            "Installing collected packages: pyscf\n",
            "Successfully installed pyscf-2.5.0\n"
          ]
        }
      ],
      "source": [
        "!pip install qiskit-nature\n",
        "!pip install pyscf"
      ]
    },
    {
      "cell_type": "markdown",
      "metadata": {
        "id": "dSqkLpStGjV-"
      },
      "source": [
        "## Imports"
      ]
    },
    {
      "cell_type": "code",
      "execution_count": null,
      "metadata": {
        "colab": {
          "base_uri": "https://localhost:8080/"
        },
        "id": "aIqXk6lJGljK",
        "outputId": "17a074e7-b4bf-476b-98da-58548d62a98c"
      },
      "outputs": [
        {
          "output_type": "stream",
          "name": "stdout",
          "text": [
            "Mounted at /content/drive\n"
          ]
        }
      ],
      "source": [
        "from qiskit_aer.primitives import Estimator as AerEstimator\n",
        "from qiskit.primitives import Estimator\n",
        "\n",
        "from qiskit_algorithms import NumPyMinimumEigensolver\n",
        "from qiskit_algorithms import VQE\n",
        "from qiskit_algorithms.optimizers import *\n",
        "\n",
        "from qiskit_nature.second_q.drivers.electronic_structure_driver import ElectronicStructureDriver, MethodType\n",
        "from qiskit_nature.second_q.formats.molecule_info import MoleculeInfo\n",
        "from qiskit_nature.second_q.problems import ElectronicStructureProblem\n",
        "from qiskit_nature.second_q.drivers import ElectronicStructureDriver,PySCFDriver\n",
        "from qiskit_nature.units import DistanceUnit\n",
        "from qiskit_nature.second_q.mappers import JordanWignerMapper,  ParityMapper\n",
        "from qiskit_nature.second_q.algorithms import GroundStateEigensolver\n",
        "from qiskit_nature.second_q.circuit.library import UCCSD, HartreeFock\n",
        "from qiskit_nature.second_q.transformers import FreezeCoreTransformer\n",
        "\n",
        "import time\n",
        "import numpy as np\n",
        "import matplotlib.pyplot as plt\n",
        "\n",
        "from google.colab import drive\n",
        "import json\n",
        "drive.mount('/content/drive')"
      ]
    },
    {
      "cell_type": "markdown",
      "metadata": {
        "id": "yEJO0_0VGLOa"
      },
      "source": [
        "# H2 VQE"
      ]
    },
    {
      "cell_type": "code",
      "execution_count": null,
      "metadata": {
        "id": "hZTgUm6xPzYG"
      },
      "outputs": [],
      "source": [
        "def exact_solver(qubit_op, problem):\n",
        "    sol = NumPyMinimumEigensolver().compute_minimum_eigenvalue(qubit_op)\n",
        "    result = problem.interpret(sol)\n",
        "    return result"
      ]
    },
    {
      "cell_type": "code",
      "execution_count": null,
      "metadata": {
        "id": "wwX5GyQs3mD8"
      },
      "outputs": [],
      "source": [
        "def UCCSD_VQE(molecule, use_gpu=False, iter=50):\n",
        "  driver = PySCFDriver.from_molecule(molecule, basis=\"sto3g\")\n",
        "  problem = driver.run()\n",
        "  time_taken = 0\n",
        "\n",
        "  # mapper\n",
        "  mapper = JordanWignerMapper()\n",
        "  qubit_op = mapper.map(problem.second_q_ops()[0])\n",
        "\n",
        "  estimator = Estimator()\n",
        "\n",
        "  gpu_estimator = AerEstimator(\n",
        "    run_options={\"seed\": seed},\n",
        "    transpile_options={\"seed_transpiler\": seed},)\n",
        "  gpu_estimator.set_options(device='GPU')\n",
        "  gpu_estimator.set_options(cuStateVec_enable=True)\n",
        "  # See how they get approximation, we can use error mitigation in our code.\n",
        "  # gpu_estimator.set_options(approximation =True)\n",
        "  gpu_estimator.set_options(resilience_level=3)\n",
        "  optimizer = TNC()\n",
        "  ansatz = UCCSD(\n",
        "      problem.num_spatial_orbitals,\n",
        "      problem.num_particles,\n",
        "      mapper,\n",
        "      initial_state=HartreeFock(\n",
        "          problem.num_spatial_orbitals,\n",
        "          problem.num_particles,\n",
        "          mapper,\n",
        "      ),\n",
        "  )\n",
        "\n",
        "  energy = 0\n",
        "  if use_gpu:\n",
        "    avg_gpu_time = 0\n",
        "    avg_gpu_energy = 0\n",
        "\n",
        "    for _ in range(iter):\n",
        "      start = time.time()\n",
        "      vqe = VQE(gpu_estimator, ansatz, optimizer)\n",
        "      vqe_ground_state_solver = GroundStateEigensolver(mapper, vqe)\n",
        "      vqe_results = vqe_ground_state_solver.solve(problem)\n",
        "      end = time.time()\n",
        "\n",
        "      avg_gpu_energy += vqe_results.groundenergy\n",
        "      avg_gpu_time += end - start\n",
        "\n",
        "    time_taken = avg_gpu_time/iter\n",
        "    energy = avg_gpu_energy/iter\n",
        "\n",
        "  else:\n",
        "    avg_cpu_time = 0\n",
        "    avg_cpu_energy = 0\n",
        "\n",
        "    for _ in range(iter):\n",
        "      start = time.time()\n",
        "      vqe = VQE(estimator, ansatz, optimizer)\n",
        "      vqe_ground_state_solver = GroundStateEigensolver(mapper, vqe)\n",
        "      vqe_results = vqe_ground_state_solver.solve(problem)\n",
        "      end = time.time()\n",
        "\n",
        "      avg_cpu_energy += vqe_results.groundenergy\n",
        "      avg_cpu_time += end - start\n",
        "\n",
        "    time_taken = avg_cpu_time/iter\n",
        "    energy = avg_cpu_energy/iter\n",
        "\n",
        "  return energy , time_taken\n"
      ]
    },
    {
      "cell_type": "code",
      "execution_count": null,
      "metadata": {
        "id": "l-mOuu3sPqDv"
      },
      "outputs": [],
      "source": [
        "molecule = MoleculeInfo([\"H\", \"H\"], [(0.0, 0.0, 0.0), (0.0, 0.0, 0.735)], charge=0, multiplicity=1)\n",
        "driver = PySCFDriver.from_molecule(molecule, basis=\"sto3g\")\n",
        "problem = driver.run()\n",
        "\n",
        "# mapper\n",
        "mapper = JordanWignerMapper()\n",
        "qubit_op = mapper.map(problem.second_q_ops()[0])\n",
        "result = exact_solver(qubit_op, problem)\n",
        "exact_energy = result.total_energies[0].real"
      ]
    },
    {
      "cell_type": "code",
      "execution_count": null,
      "metadata": {
        "colab": {
          "base_uri": "https://localhost:8080/"
        },
        "id": "GiLeeHWvuQod",
        "outputId": "8c972489-8e75-4204-d457-d66020940ce1"
      },
      "outputs": [
        {
          "output_type": "stream",
          "name": "stdout",
          "text": [
            "Exact energy = -1.1373060357533995\n",
            "______________________________________\n",
            "\n",
            "\n",
            "On CPU: VQE on H2 molecule\n"
          ]
        },
        {
          "output_type": "stream",
          "name": "stderr",
          "text": [
            "<ipython-input-14-0206caa57ae8>:9: DeprecationWarning: Option approximation=False is deprecated as of qiskit-aer 0.13. It will be removed no earlier than 3 months after the release date. Instead, use BackendEstimator from qiskit.primitives.\n",
            "  cpu_energy, time_taken = UCCSD_VQE(molecule)\n"
          ]
        },
        {
          "output_type": "stream",
          "name": "stdout",
          "text": [
            "Time taken: 8.727696404457092, Energy: -1.8542001908801058\n",
            "Error: 63.034410491966256\n",
            "______________________________________\n",
            "\n",
            "\n",
            "On GPU: VQE on H2 molecule\n"
          ]
        },
        {
          "output_type": "stream",
          "name": "stderr",
          "text": [
            "<ipython-input-14-0206caa57ae8>:16: DeprecationWarning: Option approximation=False is deprecated as of qiskit-aer 0.13. It will be removed no earlier than 3 months after the release date. Instead, use BackendEstimator from qiskit.primitives.\n",
            "  gpu_energy, time_taken = UCCSD_VQE(molecule, use_gpu=True)\n"
          ]
        },
        {
          "output_type": "stream",
          "name": "stdout",
          "text": [
            "Time taken: 0.26947972774505613, Energy: -1.1267342408187042\n",
            "Error: 0.929547070212468\n"
          ]
        }
      ],
      "source": [
        "# define molecule H2\n",
        "seed = 170\n",
        "\n",
        "print(f\"Exact energy = {exact_energy}\")\n",
        "\n",
        "print(\"______________________________________\\n\\n\")\n",
        "\n",
        "print(\"On CPU: VQE on H2 molecule\")\n",
        "cpu_energy, time_taken = UCCSD_VQE(molecule)\n",
        "print(f\"Time taken: {time_taken}, Energy: {cpu_energy}\")\n",
        "print(f\"Error: {abs(cpu_energy-exact_energy)/abs(exact_energy) * 100}\")\n",
        "\n",
        "print(\"______________________________________\\n\\n\")\n",
        "\n",
        "print(\"On GPU: VQE on H2 molecule\")\n",
        "gpu_energy, time_taken = UCCSD_VQE(molecule, use_gpu=True)\n",
        "\n",
        "print(f\"Time taken: {time_taken}, Energy: {gpu_energy}\")\n",
        "print(f\"Error: {abs(gpu_energy-exact_energy)/abs(exact_energy) * 100}\")\n",
        "# Note: Take avf for ground state energy\n",
        "# Error, 10%"
      ]
    },
    {
      "cell_type": "code",
      "execution_count": null,
      "metadata": {
        "id": "_IjZZvbNbANt"
      },
      "outputs": [],
      "source": [
        "distances = np.arange(0.7, 0.8, 0.005)"
      ]
    },
    {
      "cell_type": "code",
      "execution_count": null,
      "metadata": {
        "colab": {
          "base_uri": "https://localhost:8080/"
        },
        "id": "rlifECTRaIS6",
        "outputId": "98b873a5-d413-4092-bceb-b9d2808b1c86"
      },
      "outputs": [
        {
          "name": "stdout",
          "output_type": "stream",
          "text": [
            "\u001b[31m\"For dist = 0.7\"\u001b[0m\n",
            "Exact energy = -1.136189454065923\n",
            "______________________________________\n",
            "\n",
            "\n",
            "On CPU: VQE on H2 molecule\n"
          ]
        },
        {
          "name": "stderr",
          "output_type": "stream",
          "text": [
            "<ipython-input-14-c7aece5a7896>:28: DeprecationWarning: Option approximation=False is deprecated as of qiskit-aer 0.13. It will be removed no earlier than 3 months after the release date. Instead, use BackendEstimator from qiskit.primitives.\n",
            "  cpu_energy, time_taken = UCCSD_VQE(molecule)\n"
          ]
        },
        {
          "name": "stdout",
          "output_type": "stream",
          "text": [
            "Time taken: 1.2961813497543335, Energy: -1.8921567916375737\n",
            "Error: 0.6653532426888629\n",
            "______________________________________\n",
            "\n",
            "\n",
            "On GPU: VQE on H2 molecule\n"
          ]
        },
        {
          "name": "stderr",
          "output_type": "stream",
          "text": [
            "<ipython-input-14-c7aece5a7896>:37: DeprecationWarning: Option approximation=False is deprecated as of qiskit-aer 0.13. It will be removed no earlier than 3 months after the release date. Instead, use BackendEstimator from qiskit.primitives.\n",
            "  gpu_energy, time_taken = UCCSD_VQE(molecule, use_gpu=True)\n"
          ]
        },
        {
          "name": "stdout",
          "output_type": "stream",
          "text": [
            "Time taken: 0.2910675048828125, Energy: -1.0420812631481677\n",
            "Error: 0.08282790390368733\n",
            "\u001b[31m\"For dist = 0.705\"\u001b[0m\n",
            "Exact energy = -1.1364956748548296\n",
            "______________________________________\n",
            "\n",
            "\n",
            "On CPU: VQE on H2 molecule\n"
          ]
        },
        {
          "name": "stderr",
          "output_type": "stream",
          "text": [
            "<ipython-input-14-c7aece5a7896>:28: DeprecationWarning: Option approximation=False is deprecated as of qiskit-aer 0.13. It will be removed no earlier than 3 months after the release date. Instead, use BackendEstimator from qiskit.primitives.\n",
            "  cpu_energy, time_taken = UCCSD_VQE(molecule)\n"
          ]
        },
        {
          "name": "stdout",
          "output_type": "stream",
          "text": [
            "Time taken: 1.333441777229309, Energy: -1.8871015485835962\n",
            "Error: 0.6604564278915055\n",
            "______________________________________\n",
            "\n",
            "\n",
            "On GPU: VQE on H2 molecule\n"
          ]
        },
        {
          "name": "stderr",
          "output_type": "stream",
          "text": [
            "<ipython-input-14-c7aece5a7896>:37: DeprecationWarning: Option approximation=False is deprecated as of qiskit-aer 0.13. It will be removed no earlier than 3 months after the release date. Instead, use BackendEstimator from qiskit.primitives.\n",
            "  gpu_energy, time_taken = UCCSD_VQE(molecule, use_gpu=True)\n"
          ]
        },
        {
          "name": "stdout",
          "output_type": "stream",
          "text": [
            "Time taken: 0.2807155227661133, Energy: -1.059227241845309\n",
            "Error: 0.06798832122206754\n",
            "\u001b[31m\"For dist = 0.71\"\u001b[0m\n",
            "Exact energy = -1.1367503972832007\n",
            "______________________________________\n",
            "\n",
            "\n",
            "On CPU: VQE on H2 molecule\n"
          ]
        },
        {
          "name": "stderr",
          "output_type": "stream",
          "text": [
            "<ipython-input-14-c7aece5a7896>:28: DeprecationWarning: Option approximation=False is deprecated as of qiskit-aer 0.13. It will be removed no earlier than 3 months after the release date. Instead, use BackendEstimator from qiskit.primitives.\n",
            "  cpu_energy, time_taken = UCCSD_VQE(molecule)\n"
          ]
        },
        {
          "name": "stdout",
          "output_type": "stream",
          "text": [
            "Time taken: 1.284991660118103, Energy: -1.882070322947235\n",
            "Error: 0.6556583815104235\n",
            "______________________________________\n",
            "\n",
            "\n",
            "On GPU: VQE on H2 molecule\n"
          ]
        },
        {
          "name": "stderr",
          "output_type": "stream",
          "text": [
            "<ipython-input-14-c7aece5a7896>:37: DeprecationWarning: Option approximation=False is deprecated as of qiskit-aer 0.13. It will be removed no earlier than 3 months after the release date. Instead, use BackendEstimator from qiskit.primitives.\n",
            "  gpu_energy, time_taken = UCCSD_VQE(molecule, use_gpu=True)\n"
          ]
        },
        {
          "name": "stdout",
          "output_type": "stream",
          "text": [
            "Time taken: 0.2716343641281128, Energy: -1.0103863471423105\n",
            "Error: 0.11116253000033827\n",
            "\u001b[31m\"For dist = 0.715\"\u001b[0m\n",
            "Exact energy = -1.1369552252566262\n",
            "______________________________________\n",
            "\n",
            "\n",
            "On CPU: VQE on H2 molecule\n"
          ]
        },
        {
          "name": "stderr",
          "output_type": "stream",
          "text": [
            "<ipython-input-14-c7aece5a7896>:28: DeprecationWarning: Option approximation=False is deprecated as of qiskit-aer 0.13. It will be removed no earlier than 3 months after the release date. Instead, use BackendEstimator from qiskit.primitives.\n",
            "  cpu_energy, time_taken = UCCSD_VQE(molecule)\n"
          ]
        },
        {
          "name": "stdout",
          "output_type": "stream",
          "text": [
            "Time taken: 1.2961304187774658, Energy: -1.8770631274740806\n",
            "Error: 0.6509560673775892\n",
            "______________________________________\n",
            "\n",
            "\n",
            "On GPU: VQE on H2 molecule\n"
          ]
        },
        {
          "name": "stderr",
          "output_type": "stream",
          "text": [
            "<ipython-input-14-c7aece5a7896>:37: DeprecationWarning: Option approximation=False is deprecated as of qiskit-aer 0.13. It will be removed no earlier than 3 months after the release date. Instead, use BackendEstimator from qiskit.primitives.\n",
            "  gpu_energy, time_taken = UCCSD_VQE(molecule, use_gpu=True)\n"
          ]
        },
        {
          "name": "stdout",
          "output_type": "stream",
          "text": [
            "Time taken: 0.27478837490081787, Energy: -1.1023851062513856\n",
            "Error: 0.03040587547978206\n",
            "\u001b[31m\"For dist = 0.72\"\u001b[0m\n",
            "Exact energy = -1.137111715115467\n",
            "______________________________________\n",
            "\n",
            "\n",
            "On CPU: VQE on H2 molecule\n"
          ]
        },
        {
          "name": "stderr",
          "output_type": "stream",
          "text": [
            "<ipython-input-14-c7aece5a7896>:28: DeprecationWarning: Option approximation=False is deprecated as of qiskit-aer 0.13. It will be removed no earlier than 3 months after the release date. Instead, use BackendEstimator from qiskit.primitives.\n",
            "  cpu_energy, time_taken = UCCSD_VQE(molecule)\n"
          ]
        },
        {
          "name": "stdout",
          "output_type": "stream",
          "text": [
            "Time taken: 1.3376336479187012, Energy: -1.8720799233158996\n",
            "Error: 0.6463465272854046\n",
            "______________________________________\n",
            "\n",
            "\n",
            "On GPU: VQE on H2 molecule\n"
          ]
        },
        {
          "name": "stderr",
          "output_type": "stream",
          "text": [
            "<ipython-input-14-c7aece5a7896>:37: DeprecationWarning: Option approximation=False is deprecated as of qiskit-aer 0.13. It will be removed no earlier than 3 months after the release date. Instead, use BackendEstimator from qiskit.primitives.\n",
            "  gpu_energy, time_taken = UCCSD_VQE(molecule, use_gpu=True)\n"
          ]
        },
        {
          "name": "stdout",
          "output_type": "stream",
          "text": [
            "Time taken: 0.27643445014953616, Energy: -1.0906873195363602\n",
            "Error: 0.04082659158462078\n",
            "\u001b[31m\"For dist = 0.725\"\u001b[0m\n",
            "Exact energy = -1.1372213770723032\n",
            "______________________________________\n",
            "\n",
            "\n",
            "On CPU: VQE on H2 molecule\n"
          ]
        },
        {
          "name": "stderr",
          "output_type": "stream",
          "text": [
            "<ipython-input-14-c7aece5a7896>:28: DeprecationWarning: Option approximation=False is deprecated as of qiskit-aer 0.13. It will be removed no earlier than 3 months after the release date. Instead, use BackendEstimator from qiskit.primitives.\n",
            "  cpu_energy, time_taken = UCCSD_VQE(molecule)\n"
          ]
        },
        {
          "name": "stdout",
          "output_type": "stream",
          "text": [
            "Time taken: 1.2084616279602052, Energy: -1.867120840554183\n",
            "Error: 0.6418270692034957\n",
            "______________________________________\n",
            "\n",
            "\n",
            "On GPU: VQE on H2 molecule\n"
          ]
        },
        {
          "name": "stderr",
          "output_type": "stream",
          "text": [
            "<ipython-input-14-c7aece5a7896>:37: DeprecationWarning: Option approximation=False is deprecated as of qiskit-aer 0.13. It will be removed no earlier than 3 months after the release date. Instead, use BackendEstimator from qiskit.primitives.\n",
            "  gpu_energy, time_taken = UCCSD_VQE(molecule, use_gpu=True)\n"
          ]
        },
        {
          "name": "stdout",
          "output_type": "stream",
          "text": [
            "Time taken: 0.27325585365295413, Energy: -1.0071924105850447\n",
            "Error: 0.11433918593933659\n",
            "\u001b[31m\"For dist = 0.73\"\u001b[0m\n",
            "Exact energy = -1.137285676597108\n",
            "______________________________________\n",
            "\n",
            "\n",
            "On CPU: VQE on H2 molecule\n"
          ]
        },
        {
          "name": "stderr",
          "output_type": "stream",
          "text": [
            "<ipython-input-14-c7aece5a7896>:28: DeprecationWarning: Option approximation=False is deprecated as of qiskit-aer 0.13. It will be removed no earlier than 3 months after the release date. Instead, use BackendEstimator from qiskit.primitives.\n",
            "  cpu_energy, time_taken = UCCSD_VQE(molecule)\n"
          ]
        },
        {
          "name": "stdout",
          "output_type": "stream",
          "text": [
            "Time taken: 1.3223794221878051, Energy: -1.8621858346535902\n",
            "Error: 0.6373949597479047\n",
            "______________________________________\n",
            "\n",
            "\n",
            "On GPU: VQE on H2 molecule\n"
          ]
        },
        {
          "name": "stderr",
          "output_type": "stream",
          "text": [
            "<ipython-input-14-c7aece5a7896>:37: DeprecationWarning: Option approximation=False is deprecated as of qiskit-aer 0.13. It will be removed no earlier than 3 months after the release date. Instead, use BackendEstimator from qiskit.primitives.\n",
            "  gpu_energy, time_taken = UCCSD_VQE(molecule, use_gpu=True)\n"
          ]
        },
        {
          "name": "stdout",
          "output_type": "stream",
          "text": [
            "Time taken: 0.27215558528900147, Energy: -1.1112577280551625\n",
            "Error: 0.02288602510129568\n",
            "\u001b[31m\"For dist = 0.735\"\u001b[0m\n",
            "Exact energy = -1.1373060357534008\n",
            "______________________________________\n",
            "\n",
            "\n",
            "On CPU: VQE on H2 molecule\n"
          ]
        },
        {
          "name": "stderr",
          "output_type": "stream",
          "text": [
            "<ipython-input-14-c7aece5a7896>:28: DeprecationWarning: Option approximation=False is deprecated as of qiskit-aer 0.13. It will be removed no earlier than 3 months after the release date. Instead, use BackendEstimator from qiskit.primitives.\n",
            "  cpu_energy, time_taken = UCCSD_VQE(molecule)\n"
          ]
        },
        {
          "name": "stdout",
          "output_type": "stream",
          "text": [
            "Time taken: 1.2736612606048583, Energy: -1.857274918785804\n",
            "Error: 0.6330476234177941\n",
            "______________________________________\n",
            "\n",
            "\n",
            "On GPU: VQE on H2 molecule\n"
          ]
        },
        {
          "name": "stderr",
          "output_type": "stream",
          "text": [
            "<ipython-input-14-c7aece5a7896>:37: DeprecationWarning: Option approximation=False is deprecated as of qiskit-aer 0.13. It will be removed no earlier than 3 months after the release date. Instead, use BackendEstimator from qiskit.primitives.\n",
            "  gpu_energy, time_taken = UCCSD_VQE(molecule, use_gpu=True)\n"
          ]
        },
        {
          "name": "stdout",
          "output_type": "stream",
          "text": [
            "Time taken: 0.2755192804336548, Energy: -1.131534420001477\n",
            "Error: 0.005074813260883202\n",
            "\u001b[31m\"For dist = 0.74\"\u001b[0m\n",
            "Exact energy = -1.137283834488502\n",
            "______________________________________\n",
            "\n",
            "\n",
            "On CPU: VQE on H2 molecule\n"
          ]
        },
        {
          "name": "stderr",
          "output_type": "stream",
          "text": [
            "<ipython-input-14-c7aece5a7896>:28: DeprecationWarning: Option approximation=False is deprecated as of qiskit-aer 0.13. It will be removed no earlier than 3 months after the release date. Instead, use BackendEstimator from qiskit.primitives.\n",
            "  cpu_energy, time_taken = UCCSD_VQE(molecule)\n"
          ]
        },
        {
          "name": "stdout",
          "output_type": "stream",
          "text": [
            "Time taken: 1.305993013381958, Energy: -1.8523880906099217\n",
            "Error: 0.6287825733872678\n",
            "______________________________________\n",
            "\n",
            "\n",
            "On GPU: VQE on H2 molecule\n"
          ]
        },
        {
          "name": "stderr",
          "output_type": "stream",
          "text": [
            "<ipython-input-14-c7aece5a7896>:37: DeprecationWarning: Option approximation=False is deprecated as of qiskit-aer 0.13. It will be removed no earlier than 3 months after the release date. Instead, use BackendEstimator from qiskit.primitives.\n",
            "  gpu_energy, time_taken = UCCSD_VQE(molecule, use_gpu=True)\n"
          ]
        },
        {
          "name": "stdout",
          "output_type": "stream",
          "text": [
            "Time taken: 0.27208062171936037, Energy: -1.1118922110849483\n",
            "Error: 0.022326549128321688\n",
            "\u001b[31m\"For dist = 0.745\"\u001b[0m\n",
            "Exact energy = -1.137220411880675\n",
            "______________________________________\n",
            "\n",
            "\n",
            "On CPU: VQE on H2 molecule\n"
          ]
        },
        {
          "name": "stderr",
          "output_type": "stream",
          "text": [
            "<ipython-input-14-c7aece5a7896>:28: DeprecationWarning: Option approximation=False is deprecated as of qiskit-aer 0.13. It will be removed no earlier than 3 months after the release date. Instead, use BackendEstimator from qiskit.primitives.\n",
            "  cpu_energy, time_taken = UCCSD_VQE(molecule)\n"
          ]
        },
        {
          "name": "stdout",
          "output_type": "stream",
          "text": [
            "Time taken: 1.3273385763168335, Energy: -1.8475252650774225\n",
            "Error: 0.62459734786336\n",
            "______________________________________\n",
            "\n",
            "\n",
            "On GPU: VQE on H2 molecule\n"
          ]
        },
        {
          "name": "stderr",
          "output_type": "stream",
          "text": [
            "<ipython-input-14-c7aece5a7896>:37: DeprecationWarning: Option approximation=False is deprecated as of qiskit-aer 0.13. It will be removed no earlier than 3 months after the release date. Instead, use BackendEstimator from qiskit.primitives.\n",
            "  gpu_energy, time_taken = UCCSD_VQE(molecule, use_gpu=True)\n"
          ]
        },
        {
          "name": "stdout",
          "output_type": "stream",
          "text": [
            "Time taken: 0.270364408493042, Energy: -1.1408793283784804\n",
            "Error: 0.0032174207036562434\n",
            "\u001b[31m\"For dist = 0.75\"\u001b[0m\n",
            "Exact energy = -1.137117067345728\n",
            "______________________________________\n",
            "\n",
            "\n",
            "On CPU: VQE on H2 molecule\n"
          ]
        },
        {
          "name": "stderr",
          "output_type": "stream",
          "text": [
            "<ipython-input-14-c7aece5a7896>:28: DeprecationWarning: Option approximation=False is deprecated as of qiskit-aer 0.13. It will be removed no earlier than 3 months after the release date. Instead, use BackendEstimator from qiskit.primitives.\n",
            "  cpu_energy, time_taken = UCCSD_VQE(molecule)\n"
          ]
        },
        {
          "name": "stdout",
          "output_type": "stream",
          "text": [
            "Time taken: 1.384551019668579, Energy: -1.8426865695652532\n",
            "Error: 0.6204897652855337\n",
            "______________________________________\n",
            "\n",
            "\n",
            "On GPU: VQE on H2 molecule\n"
          ]
        },
        {
          "name": "stderr",
          "output_type": "stream",
          "text": [
            "<ipython-input-14-c7aece5a7896>:37: DeprecationWarning: Option approximation=False is deprecated as of qiskit-aer 0.13. It will be removed no earlier than 3 months after the release date. Instead, use BackendEstimator from qiskit.primitives.\n",
            "  gpu_energy, time_taken = UCCSD_VQE(molecule, use_gpu=True)\n"
          ]
        },
        {
          "name": "stdout",
          "output_type": "stream",
          "text": [
            "Time taken: 0.28337700843811037, Energy: -1.0635407859465873\n",
            "Error: 0.06470422748194551\n",
            "\u001b[31m\"For dist = 0.755\"\u001b[0m\n",
            "Exact energy = -1.1369750618055061\n",
            "______________________________________\n",
            "\n",
            "\n",
            "On CPU: VQE on H2 molecule\n"
          ]
        },
        {
          "name": "stderr",
          "output_type": "stream",
          "text": [
            "<ipython-input-14-c7aece5a7896>:28: DeprecationWarning: Option approximation=False is deprecated as of qiskit-aer 0.13. It will be removed no earlier than 3 months after the release date. Instead, use BackendEstimator from qiskit.primitives.\n",
            "  cpu_energy, time_taken = UCCSD_VQE(molecule)\n"
          ]
        },
        {
          "name": "stdout",
          "output_type": "stream",
          "text": [
            "Time taken: 1.3538691043853759, Energy: -1.8378719306880194\n",
            "Error: 0.6164575569225725\n",
            "______________________________________\n",
            "\n",
            "\n",
            "On GPU: VQE on H2 molecule\n"
          ]
        },
        {
          "name": "stderr",
          "output_type": "stream",
          "text": [
            "<ipython-input-14-c7aece5a7896>:37: DeprecationWarning: Option approximation=False is deprecated as of qiskit-aer 0.13. It will be removed no earlier than 3 months after the release date. Instead, use BackendEstimator from qiskit.primitives.\n",
            "  gpu_energy, time_taken = UCCSD_VQE(molecule, use_gpu=True)\n"
          ]
        },
        {
          "name": "stdout",
          "output_type": "stream",
          "text": [
            "Time taken: 0.28013195991516116, Energy: -0.972614375868793\n",
            "Error: 0.14455962268487216\n",
            "\u001b[31m\"For dist = 0.76\"\u001b[0m\n",
            "Exact energy = -1.1367956188204567\n",
            "______________________________________\n",
            "\n",
            "\n",
            "On CPU: VQE on H2 molecule\n"
          ]
        },
        {
          "name": "stderr",
          "output_type": "stream",
          "text": [
            "<ipython-input-14-c7aece5a7896>:28: DeprecationWarning: Option approximation=False is deprecated as of qiskit-aer 0.13. It will be removed no earlier than 3 months after the release date. Instead, use BackendEstimator from qiskit.primitives.\n",
            "  cpu_energy, time_taken = UCCSD_VQE(molecule)\n"
          ]
        },
        {
          "name": "stdout",
          "output_type": "stream",
          "text": [
            "Time taken: 1.342069010734558, Energy: -1.8330813780502655\n",
            "Error: 0.6124986300987662\n",
            "______________________________________\n",
            "\n",
            "\n",
            "On GPU: VQE on H2 molecule\n"
          ]
        },
        {
          "name": "stderr",
          "output_type": "stream",
          "text": [
            "<ipython-input-14-c7aece5a7896>:37: DeprecationWarning: Option approximation=False is deprecated as of qiskit-aer 0.13. It will be removed no earlier than 3 months after the release date. Instead, use BackendEstimator from qiskit.primitives.\n",
            "  gpu_energy, time_taken = UCCSD_VQE(molecule, use_gpu=True)\n"
          ]
        },
        {
          "name": "stdout",
          "output_type": "stream",
          "text": [
            "Time taken: 0.2852165937423706, Energy: -1.0669966319222055\n",
            "Error: 0.06139976768266826\n",
            "\u001b[31m\"For dist = 0.765\"\u001b[0m\n",
            "Exact energy = -1.1365799256882008\n",
            "______________________________________\n",
            "\n",
            "\n",
            "On CPU: VQE on H2 molecule\n"
          ]
        },
        {
          "name": "stderr",
          "output_type": "stream",
          "text": [
            "<ipython-input-14-c7aece5a7896>:28: DeprecationWarning: Option approximation=False is deprecated as of qiskit-aer 0.13. It will be removed no earlier than 3 months after the release date. Instead, use BackendEstimator from qiskit.primitives.\n",
            "  cpu_energy, time_taken = UCCSD_VQE(molecule)\n"
          ]
        },
        {
          "name": "stdout",
          "output_type": "stream",
          "text": [
            "Time taken: 1.3336655139923095, Energy: -1.8283147692056045\n",
            "Error: 0.6086108225944228\n",
            "______________________________________\n",
            "\n",
            "\n",
            "On GPU: VQE on H2 molecule\n"
          ]
        },
        {
          "name": "stderr",
          "output_type": "stream",
          "text": [
            "<ipython-input-14-c7aece5a7896>:37: DeprecationWarning: Option approximation=False is deprecated as of qiskit-aer 0.13. It will be removed no earlier than 3 months after the release date. Instead, use BackendEstimator from qiskit.primitives.\n",
            "  gpu_energy, time_taken = UCCSD_VQE(molecule, use_gpu=True)\n"
          ]
        },
        {
          "name": "stdout",
          "output_type": "stream",
          "text": [
            "Time taken: 0.2848800277709961, Energy: -1.0668364514600386\n",
            "Error: 0.06136257789871875\n",
            "\u001b[31m\"For dist = 0.77\"\u001b[0m\n",
            "Exact energy = -1.1363291345101934\n",
            "______________________________________\n",
            "\n",
            "\n",
            "On CPU: VQE on H2 molecule\n"
          ]
        },
        {
          "name": "stderr",
          "output_type": "stream",
          "text": [
            "<ipython-input-14-c7aece5a7896>:28: DeprecationWarning: Option approximation=False is deprecated as of qiskit-aer 0.13. It will be removed no earlier than 3 months after the release date. Instead, use BackendEstimator from qiskit.primitives.\n",
            "  cpu_energy, time_taken = UCCSD_VQE(molecule)\n"
          ]
        },
        {
          "name": "stdout",
          "output_type": "stream",
          "text": [
            "Time taken: 1.3595608854293824, Energy: -1.8235721531698552\n",
            "Error: 0.6047922188987024\n",
            "______________________________________\n",
            "\n",
            "\n",
            "On GPU: VQE on H2 molecule\n"
          ]
        },
        {
          "name": "stderr",
          "output_type": "stream",
          "text": [
            "<ipython-input-14-c7aece5a7896>:37: DeprecationWarning: Option approximation=False is deprecated as of qiskit-aer 0.13. It will be removed no earlier than 3 months after the release date. Instead, use BackendEstimator from qiskit.primitives.\n",
            "  gpu_energy, time_taken = UCCSD_VQE(molecule, use_gpu=True)\n"
          ]
        },
        {
          "name": "stdout",
          "output_type": "stream",
          "text": [
            "Time taken: 0.2833140516281128, Energy: -1.1692091848061634\n",
            "Error: 0.028935322784047767\n",
            "\u001b[31m\"For dist = 0.775\"\u001b[0m\n",
            "Exact energy = -1.136044363227914\n",
            "______________________________________\n",
            "\n",
            "\n",
            "On CPU: VQE on H2 molecule\n"
          ]
        },
        {
          "name": "stderr",
          "output_type": "stream",
          "text": [
            "<ipython-input-14-c7aece5a7896>:28: DeprecationWarning: Option approximation=False is deprecated as of qiskit-aer 0.13. It will be removed no earlier than 3 months after the release date. Instead, use BackendEstimator from qiskit.primitives.\n",
            "  cpu_energy, time_taken = UCCSD_VQE(molecule)\n"
          ]
        },
        {
          "name": "stdout",
          "output_type": "stream",
          "text": [
            "Time taken: 1.3838205766677856, Energy: -1.8188535782595554\n",
            "Error: 0.6010409779170356\n",
            "______________________________________\n",
            "\n",
            "\n",
            "On GPU: VQE on H2 molecule\n"
          ]
        },
        {
          "name": "stderr",
          "output_type": "stream",
          "text": [
            "<ipython-input-14-c7aece5a7896>:37: DeprecationWarning: Option approximation=False is deprecated as of qiskit-aer 0.13. It will be removed no earlier than 3 months after the release date. Instead, use BackendEstimator from qiskit.primitives.\n",
            "  gpu_energy, time_taken = UCCSD_VQE(molecule, use_gpu=True)\n"
          ]
        },
        {
          "name": "stdout",
          "output_type": "stream",
          "text": [
            "Time taken: 0.28407069683074954, Energy: -1.0216497332231076\n",
            "Error: 0.10069556586660912\n",
            "\u001b[31m\"For dist = 0.78\"\u001b[0m\n",
            "Exact energy = -1.1357266966302255\n",
            "______________________________________\n",
            "\n",
            "\n",
            "On CPU: VQE on H2 molecule\n"
          ]
        },
        {
          "name": "stderr",
          "output_type": "stream",
          "text": [
            "<ipython-input-14-c7aece5a7896>:28: DeprecationWarning: Option approximation=False is deprecated as of qiskit-aer 0.13. It will be removed no earlier than 3 months after the release date. Instead, use BackendEstimator from qiskit.primitives.\n",
            "  cpu_energy, time_taken = UCCSD_VQE(molecule)\n"
          ]
        },
        {
          "name": "stdout",
          "output_type": "stream",
          "text": [
            "Time taken: 1.367596616744995, Energy: -1.8141589385319443\n",
            "Error: 0.5973551946209164\n",
            "______________________________________\n",
            "\n",
            "\n",
            "On GPU: VQE on H2 molecule\n"
          ]
        },
        {
          "name": "stderr",
          "output_type": "stream",
          "text": [
            "<ipython-input-14-c7aece5a7896>:37: DeprecationWarning: Option approximation=False is deprecated as of qiskit-aer 0.13. It will be removed no earlier than 3 months after the release date. Instead, use BackendEstimator from qiskit.primitives.\n",
            "  gpu_energy, time_taken = UCCSD_VQE(molecule, use_gpu=True)\n"
          ]
        },
        {
          "name": "stdout",
          "output_type": "stream",
          "text": [
            "Time taken: 0.2897494792938232, Energy: -1.0216212537387017\n",
            "Error: 0.10046910337679128\n",
            "\u001b[31m\"For dist = 0.785\"\u001b[0m\n",
            "Exact energy = -1.135377187333353\n",
            "______________________________________\n",
            "\n",
            "\n",
            "On CPU: VQE on H2 molecule\n"
          ]
        },
        {
          "name": "stderr",
          "output_type": "stream",
          "text": [
            "<ipython-input-14-c7aece5a7896>:28: DeprecationWarning: Option approximation=False is deprecated as of qiskit-aer 0.13. It will be removed no earlier than 3 months after the release date. Instead, use BackendEstimator from qiskit.primitives.\n",
            "  cpu_energy, time_taken = UCCSD_VQE(molecule)\n"
          ]
        },
        {
          "name": "stdout",
          "output_type": "stream",
          "text": [
            "Time taken: 1.3882802820205689, Energy: -1.8094881623079968\n",
            "Error: 0.5937330628933284\n",
            "______________________________________\n",
            "\n",
            "\n",
            "On GPU: VQE on H2 molecule\n"
          ]
        },
        {
          "name": "stderr",
          "output_type": "stream",
          "text": [
            "<ipython-input-14-c7aece5a7896>:37: DeprecationWarning: Option approximation=False is deprecated as of qiskit-aer 0.13. It will be removed no earlier than 3 months after the release date. Instead, use BackendEstimator from qiskit.primitives.\n",
            "  gpu_energy, time_taken = UCCSD_VQE(molecule, use_gpu=True)\n"
          ]
        },
        {
          "name": "stdout",
          "output_type": "stream",
          "text": [
            "Time taken: 0.2853286790847778, Energy: -1.077640243293948\n",
            "Error: 0.05085265468034545\n",
            "\u001b[31m\"For dist = 0.79\"\u001b[0m\n",
            "Exact energy = -1.1349968567347248\n",
            "______________________________________\n",
            "\n",
            "\n",
            "On CPU: VQE on H2 molecule\n"
          ]
        },
        {
          "name": "stderr",
          "output_type": "stream",
          "text": [
            "<ipython-input-14-c7aece5a7896>:28: DeprecationWarning: Option approximation=False is deprecated as of qiskit-aer 0.13. It will be removed no earlier than 3 months after the release date. Instead, use BackendEstimator from qiskit.primitives.\n",
            "  cpu_energy, time_taken = UCCSD_VQE(molecule)\n"
          ]
        },
        {
          "name": "stdout",
          "output_type": "stream",
          "text": [
            "Time taken: 1.4084158086776732, Energy: -1.8048413254959355\n",
            "Error: 0.5901729725386974\n",
            "______________________________________\n",
            "\n",
            "\n",
            "On GPU: VQE on H2 molecule\n"
          ]
        },
        {
          "name": "stderr",
          "output_type": "stream",
          "text": [
            "<ipython-input-14-c7aece5a7896>:37: DeprecationWarning: Option approximation=False is deprecated as of qiskit-aer 0.13. It will be removed no earlier than 3 months after the release date. Instead, use BackendEstimator from qiskit.primitives.\n",
            "  gpu_energy, time_taken = UCCSD_VQE(molecule, use_gpu=True)\n"
          ]
        },
        {
          "name": "stdout",
          "output_type": "stream",
          "text": [
            "Time taken: 0.281400089263916, Energy: -1.047589816877956\n",
            "Error: 0.07701082107683567\n",
            "\u001b[31m\"For dist = 0.795\"\u001b[0m\n",
            "Exact energy = -1.1345866959418178\n",
            "______________________________________\n",
            "\n",
            "\n",
            "On CPU: VQE on H2 molecule\n"
          ]
        },
        {
          "name": "stderr",
          "output_type": "stream",
          "text": [
            "<ipython-input-14-c7aece5a7896>:28: DeprecationWarning: Option approximation=False is deprecated as of qiskit-aer 0.13. It will be removed no earlier than 3 months after the release date. Instead, use BackendEstimator from qiskit.primitives.\n",
            "  cpu_energy, time_taken = UCCSD_VQE(molecule)\n"
          ]
        },
        {
          "name": "stdout",
          "output_type": "stream",
          "text": [
            "Time taken: 1.3620097732543945, Energy: -1.8002182969363354\n",
            "Error: 0.5866731941907518\n",
            "______________________________________\n",
            "\n",
            "\n",
            "On GPU: VQE on H2 molecule\n"
          ]
        },
        {
          "name": "stderr",
          "output_type": "stream",
          "text": [
            "<ipython-input-14-c7aece5a7896>:37: DeprecationWarning: Option approximation=False is deprecated as of qiskit-aer 0.13. It will be removed no earlier than 3 months after the release date. Instead, use BackendEstimator from qiskit.primitives.\n",
            "  gpu_energy, time_taken = UCCSD_VQE(molecule, use_gpu=True)\n"
          ]
        },
        {
          "name": "stdout",
          "output_type": "stream",
          "text": [
            "Time taken: 0.28310986042022707, Energy: -1.1104543131874527\n",
            "Error: 0.02126975650312284\n",
            "\u001b[31m\"For dist = 0.8\"\u001b[0m\n",
            "Exact energy = -1.1341476666770995\n",
            "______________________________________\n",
            "\n",
            "\n",
            "On CPU: VQE on H2 molecule\n"
          ]
        },
        {
          "name": "stderr",
          "output_type": "stream",
          "text": [
            "<ipython-input-14-c7aece5a7896>:28: DeprecationWarning: Option approximation=False is deprecated as of qiskit-aer 0.13. It will be removed no earlier than 3 months after the release date. Instead, use BackendEstimator from qiskit.primitives.\n",
            "  cpu_energy, time_taken = UCCSD_VQE(molecule)\n"
          ]
        },
        {
          "name": "stdout",
          "output_type": "stream",
          "text": [
            "Time taken: 1.2835438966751098, Energy: -1.795619089287802\n",
            "Error: 0.583232185760012\n",
            "______________________________________\n",
            "\n",
            "\n",
            "On GPU: VQE on H2 molecule\n"
          ]
        },
        {
          "name": "stderr",
          "output_type": "stream",
          "text": [
            "<ipython-input-14-c7aece5a7896>:37: DeprecationWarning: Option approximation=False is deprecated as of qiskit-aer 0.13. It will be removed no earlier than 3 months after the release date. Instead, use BackendEstimator from qiskit.primitives.\n",
            "  gpu_energy, time_taken = UCCSD_VQE(molecule, use_gpu=True)\n"
          ]
        },
        {
          "name": "stdout",
          "output_type": "stream",
          "text": [
            "Time taken: 0.281599760055542, Energy: -1.1007547140066023\n",
            "Error: 0.029443214187738105\n"
          ]
        }
      ],
      "source": [
        "exacts = []\n",
        "cpu_errors = []\n",
        "cpu_times = []\n",
        "gpu_errors = []\n",
        "gpu_times = []\n",
        "\n",
        "for d in distances:\n",
        "  molecule = MoleculeInfo([\"H\", \"H\"], [(0.0, 0.0, 0.0), (0.0, 0.0, d)], charge=0, multiplicity=1)\n",
        "  driver = PySCFDriver.from_molecule(molecule, basis=\"sto3g\")\n",
        "  problem = driver.run()\n",
        "\n",
        "  # mapper\n",
        "  mapper = JordanWignerMapper()\n",
        "  qubit_op = mapper.map(problem.second_q_ops()[0])\n",
        "  result = exact_solver(qubit_op, problem)\n",
        "  exact_energy = result.total_energies[0].real\n",
        "  exacts.append(exact_energy)\n",
        "\n",
        "  seed = 170\n",
        "\n",
        "  print(f\"\\x1b[31m\\\"For dist = {d}\\\"\\x1b[0m\")\n",
        "\n",
        "  print(f\"Exact energy = {exact_energy}\")\n",
        "\n",
        "  print(\"______________________________________\\n\\n\")\n",
        "\n",
        "  print(\"On CPU: VQE on H2 molecule\")\n",
        "  cpu_energy, time_taken = UCCSD_VQE(molecule)\n",
        "  print(f\"Time taken: {time_taken}, Energy: {cpu_energy}\")\n",
        "  cpu_error = abs(cpu_energy-exact_energy)/abs(exact_energy)\n",
        "  print(f\"Error: {cpu_error}\")\n",
        "  cpu_errors.append(cpu_error)\n",
        "  cpu_times.append(time_taken)\n",
        "  print(\"______________________________________\\n\\n\")\n",
        "\n",
        "  print(\"On GPU: VQE on H2 molecule\")\n",
        "  gpu_energy, time_taken = UCCSD_VQE(molecule, use_gpu=True)\n",
        "\n",
        "  print(f\"Time taken: {time_taken}, Energy: {gpu_energy}\")\n",
        "  gpu_error = abs(gpu_energy-exact_energy)/abs(exact_energy)\n",
        "  print(f\"Error: {gpu_error}\")\n",
        "  gpu_errors.append(gpu_error)\n",
        "  gpu_times.append(time_taken)"
      ]
    },
    {
      "cell_type": "code",
      "execution_count": null,
      "metadata": {
        "colab": {
          "base_uri": "https://localhost:8080/"
        },
        "id": "kigAjxjIIRsi",
        "outputId": "7292561f-7a06-4c16-b151-0828a4f2d222"
      },
      "outputs": [
        {
          "name": "stdout",
          "output_type": "stream",
          "text": [
            "Mounted at /content/drive\n"
          ]
        }
      ],
      "source": [
        "from google.colab import drive\n",
        "import json\n",
        "drive.mount('/content/drive')"
      ]
    },
    {
      "cell_type": "code",
      "execution_count": null,
      "metadata": {
        "id": "x3FtBrRvjyBt"
      },
      "outputs": [],
      "source": [
        "with open('/content/drive/MyDrive/gpu_errors.txt', 'w') as f:\n",
        "  json.dump(gpu_errors, f)\n",
        "with open('/content/drive/MyDrive/gpu_times.txt', 'w') as f:\n",
        "  json.dump(gpu_times, f)\n",
        "with open('/content/drive/MyDrive/cpu_errors.txt', 'w') as f:\n",
        "  json.dump(cpu_errors, f)\n",
        "with open('/content/drive/MyDrive/cpu_times.txt', 'w') as f:\n",
        "  json.dump(cpu_times, f)"
      ]
    },
    {
      "cell_type": "code",
      "execution_count": null,
      "metadata": {
        "id": "OSvbD-I1LwZg"
      },
      "outputs": [],
      "source": [
        "exacts = []\n",
        "\n",
        "optimizer1 = SLSQP()\n",
        "optimizer1_errors = []\n",
        "optimizer1_times = []\n",
        "\n",
        "\n",
        "optimizer2 = ADAM()\n",
        "optimizer2_errors = []\n",
        "optimizer2_times = []\n",
        "\n",
        "optimizer3 = TNC()\n",
        "optimizer3_errors = []\n",
        "optimizer3_times = []"
      ]
    },
    {
      "cell_type": "code",
      "execution_count": null,
      "metadata": {
        "id": "La7p5o5-Qrl-"
      },
      "outputs": [],
      "source": [
        "def UCCSD_VQE_Optimizer(molecule, optimizer, iter=50):\n",
        "  driver = PySCFDriver.from_molecule(molecule, basis=\"sto3g\")\n",
        "  problem = driver.run()\n",
        "  time_taken = 0\n",
        "\n",
        "  # mapper\n",
        "  mapper = JordanWignerMapper()\n",
        "  qubit_op = mapper.map(problem.second_q_ops()[0])\n",
        "\n",
        "  gpu_estimator = AerEstimator(\n",
        "    run_options={\"seed\": seed},\n",
        "    transpile_options={\"seed_transpiler\": seed},)\n",
        "  gpu_estimator.set_options(device='GPU')\n",
        "  gpu_estimator.set_options(cuStateVec_enable=True)\n",
        "  # See how they get approximation, we can use error mitigation in our code.\n",
        "  gpu_estimator.set_options(approximation =True)\n",
        "  gpu_estimator.set_options(resilience_level=3)\n",
        "\n",
        "  ansatz = UCCSD(\n",
        "      problem.num_spatial_orbitals,\n",
        "      problem.num_particles,\n",
        "      mapper,\n",
        "      initial_state=HartreeFock(\n",
        "          problem.num_spatial_orbitals,\n",
        "          problem.num_particles,\n",
        "          mapper,\n",
        "      ),\n",
        "  )\n",
        "\n",
        "  energy = 0\n",
        "  avg_gpu_time = 0\n",
        "  avg_gpu_energy = 0\n",
        "\n",
        "  for _ in range(iter):\n",
        "    start = time.time()\n",
        "    vqe = VQE(gpu_estimator, ansatz, optimizer)\n",
        "    vqe_ground_state_solver = GroundStateEigensolver(mapper, vqe)\n",
        "    vqe_results = vqe_ground_state_solver.solve(problem)\n",
        "    end = time.time()\n",
        "\n",
        "    avg_gpu_energy += vqe_results.groundenergy\n",
        "    avg_gpu_time += end - start\n",
        "\n",
        "  time_taken = avg_gpu_time/iter\n",
        "  energy = avg_gpu_energy/iter\n",
        "\n",
        "  return energy , time_taken\n"
      ]
    },
    {
      "cell_type": "markdown",
      "metadata": {
        "id": "XFLtYJBlaxxL"
      },
      "source": [
        "## Finding top 4 optimizer candidates from the list of local optimizers in qiskit"
      ]
    },
    {
      "cell_type": "code",
      "execution_count": null,
      "metadata": {
        "colab": {
          "base_uri": "https://localhost:8080/",
          "height": 532
        },
        "id": "fuldxovwa-qk",
        "outputId": "e4cc14c2-01f9-42b9-e677-433471a75606"
      },
      "outputs": [
        {
          "output_type": "stream",
          "name": "stdout",
          "text": [
            "\u001b[31m\"For dist = 0.735 and optimizer = 0 \"\u001b[0m\n",
            "Exact energy = -1.137306035753403\n",
            "______________________________________\n",
            "\n",
            "\n",
            "On GPU: VQE on H2 molecule\n"
          ]
        },
        {
          "output_type": "stream",
          "name": "stderr",
          "text": [
            "<ipython-input-20-5478f699415c>:30: DeprecationWarning: Option approximation=False is deprecated as of qiskit-aer 0.13. It will be removed no earlier than 3 months after the release date. Instead, use BackendEstimator from qiskit.primitives.\n",
            "  gpu_energy, time_taken = UCCSD_VQE_Optimizer(molecule, optimizer)\n"
          ]
        },
        {
          "output_type": "error",
          "ename": "KeyboardInterrupt",
          "evalue": "",
          "traceback": [
            "\u001b[0;31m---------------------------------------------------------------------------\u001b[0m",
            "\u001b[0;31mKeyboardInterrupt\u001b[0m                         Traceback (most recent call last)",
            "\u001b[0;32m<ipython-input-20-5478f699415c>\u001b[0m in \u001b[0;36m<cell line: 7>\u001b[0;34m()\u001b[0m\n\u001b[1;32m     28\u001b[0m   \u001b[0mprint\u001b[0m\u001b[0;34m(\u001b[0m\u001b[0;34m\"On GPU: VQE on H2 molecule\"\u001b[0m\u001b[0;34m)\u001b[0m\u001b[0;34m\u001b[0m\u001b[0;34m\u001b[0m\u001b[0m\n\u001b[1;32m     29\u001b[0m \u001b[0;34m\u001b[0m\u001b[0m\n\u001b[0;32m---> 30\u001b[0;31m   \u001b[0mgpu_energy\u001b[0m\u001b[0;34m,\u001b[0m \u001b[0mtime_taken\u001b[0m \u001b[0;34m=\u001b[0m \u001b[0mUCCSD_VQE_Optimizer\u001b[0m\u001b[0;34m(\u001b[0m\u001b[0mmolecule\u001b[0m\u001b[0;34m,\u001b[0m \u001b[0moptimizer\u001b[0m\u001b[0;34m)\u001b[0m\u001b[0;34m\u001b[0m\u001b[0;34m\u001b[0m\u001b[0m\n\u001b[0m\u001b[1;32m     31\u001b[0m \u001b[0;34m\u001b[0m\u001b[0m\n\u001b[1;32m     32\u001b[0m   \u001b[0mprint\u001b[0m\u001b[0;34m(\u001b[0m\u001b[0;34mf\"Time taken: {time_taken}, Energy: {gpu_energy}\"\u001b[0m\u001b[0;34m)\u001b[0m\u001b[0;34m\u001b[0m\u001b[0;34m\u001b[0m\u001b[0m\n",
            "\u001b[0;32m<ipython-input-17-17e7408d2269>\u001b[0m in \u001b[0;36mUCCSD_VQE_Optimizer\u001b[0;34m(molecule, optimizer, iter)\u001b[0m\n\u001b[1;32m     36\u001b[0m     \u001b[0mvqe\u001b[0m \u001b[0;34m=\u001b[0m \u001b[0mVQE\u001b[0m\u001b[0;34m(\u001b[0m\u001b[0mgpu_estimator\u001b[0m\u001b[0;34m,\u001b[0m \u001b[0mansatz\u001b[0m\u001b[0;34m,\u001b[0m \u001b[0moptimizer\u001b[0m\u001b[0;34m)\u001b[0m\u001b[0;34m\u001b[0m\u001b[0;34m\u001b[0m\u001b[0m\n\u001b[1;32m     37\u001b[0m     \u001b[0mvqe_ground_state_solver\u001b[0m \u001b[0;34m=\u001b[0m \u001b[0mGroundStateEigensolver\u001b[0m\u001b[0;34m(\u001b[0m\u001b[0mmapper\u001b[0m\u001b[0;34m,\u001b[0m \u001b[0mvqe\u001b[0m\u001b[0;34m)\u001b[0m\u001b[0;34m\u001b[0m\u001b[0;34m\u001b[0m\u001b[0m\n\u001b[0;32m---> 38\u001b[0;31m     \u001b[0mvqe_results\u001b[0m \u001b[0;34m=\u001b[0m \u001b[0mvqe_ground_state_solver\u001b[0m\u001b[0;34m.\u001b[0m\u001b[0msolve\u001b[0m\u001b[0;34m(\u001b[0m\u001b[0mproblem\u001b[0m\u001b[0;34m)\u001b[0m\u001b[0;34m\u001b[0m\u001b[0;34m\u001b[0m\u001b[0m\n\u001b[0m\u001b[1;32m     39\u001b[0m     \u001b[0mend\u001b[0m \u001b[0;34m=\u001b[0m \u001b[0mtime\u001b[0m\u001b[0;34m.\u001b[0m\u001b[0mtime\u001b[0m\u001b[0;34m(\u001b[0m\u001b[0;34m)\u001b[0m\u001b[0;34m\u001b[0m\u001b[0;34m\u001b[0m\u001b[0m\n\u001b[1;32m     40\u001b[0m \u001b[0;34m\u001b[0m\u001b[0m\n",
            "\u001b[0;32m/usr/local/lib/python3.10/dist-packages/qiskit_nature/second_q/algorithms/ground_state_solvers/ground_state_eigensolver.py\u001b[0m in \u001b[0;36msolve\u001b[0;34m(self, problem, aux_operators)\u001b[0m\n\u001b[1;32m     70\u001b[0m             \u001b[0;34m:\u001b[0m\u001b[0mmeth\u001b[0m\u001b[0;34m:\u001b[0m\u001b[0;31m`\u001b[0m\u001b[0;34m~\u001b[0m\u001b[0;34m.\u001b[0m\u001b[0mBaseProblem\u001b[0m\u001b[0;34m.\u001b[0m\u001b[0minterpret\u001b[0m\u001b[0;31m`\u001b[0m\u001b[0;34m.\u001b[0m\u001b[0;34m\u001b[0m\u001b[0;34m\u001b[0m\u001b[0m\n\u001b[1;32m     71\u001b[0m         \"\"\"\n\u001b[0;32m---> 72\u001b[0;31m         \u001b[0mmain_operator\u001b[0m\u001b[0;34m,\u001b[0m \u001b[0maux_ops\u001b[0m \u001b[0;34m=\u001b[0m \u001b[0mself\u001b[0m\u001b[0;34m.\u001b[0m\u001b[0mget_qubit_operators\u001b[0m\u001b[0;34m(\u001b[0m\u001b[0mproblem\u001b[0m\u001b[0;34m,\u001b[0m \u001b[0maux_operators\u001b[0m\u001b[0;34m)\u001b[0m\u001b[0;34m\u001b[0m\u001b[0;34m\u001b[0m\u001b[0m\n\u001b[0m\u001b[1;32m     73\u001b[0m         \u001b[0mraw_mes_result\u001b[0m \u001b[0;34m=\u001b[0m \u001b[0mself\u001b[0m\u001b[0;34m.\u001b[0m\u001b[0msolver\u001b[0m\u001b[0;34m.\u001b[0m\u001b[0mcompute_minimum_eigenvalue\u001b[0m\u001b[0;34m(\u001b[0m\u001b[0mmain_operator\u001b[0m\u001b[0;34m,\u001b[0m \u001b[0maux_ops\u001b[0m\u001b[0;34m)\u001b[0m\u001b[0;34m\u001b[0m\u001b[0;34m\u001b[0m\u001b[0m\n\u001b[1;32m     74\u001b[0m \u001b[0;34m\u001b[0m\u001b[0m\n",
            "\u001b[0;32m/usr/local/lib/python3.10/dist-packages/qiskit_nature/second_q/algorithms/ground_state_solvers/ground_state_eigensolver.py\u001b[0m in \u001b[0;36mget_qubit_operators\u001b[0;34m(self, problem, aux_operators)\u001b[0m\n\u001b[1;32m     86\u001b[0m         \u001b[0mmain_second_q_op\u001b[0m\u001b[0;34m,\u001b[0m \u001b[0maux_second_q_ops\u001b[0m \u001b[0;34m=\u001b[0m \u001b[0mproblem\u001b[0m\u001b[0;34m.\u001b[0m\u001b[0msecond_q_ops\u001b[0m\u001b[0;34m(\u001b[0m\u001b[0;34m)\u001b[0m\u001b[0;34m\u001b[0m\u001b[0;34m\u001b[0m\u001b[0m\n\u001b[1;32m     87\u001b[0m \u001b[0;34m\u001b[0m\u001b[0m\n\u001b[0;32m---> 88\u001b[0;31m         \u001b[0mmain_operator\u001b[0m \u001b[0;34m=\u001b[0m \u001b[0mself\u001b[0m\u001b[0;34m.\u001b[0m\u001b[0m_qubit_mapper\u001b[0m\u001b[0;34m.\u001b[0m\u001b[0mmap\u001b[0m\u001b[0;34m(\u001b[0m\u001b[0mmain_second_q_op\u001b[0m\u001b[0;34m)\u001b[0m\u001b[0;34m\u001b[0m\u001b[0;34m\u001b[0m\u001b[0m\n\u001b[0m\u001b[1;32m     89\u001b[0m         \u001b[0maux_ops\u001b[0m \u001b[0;34m=\u001b[0m \u001b[0mself\u001b[0m\u001b[0;34m.\u001b[0m\u001b[0m_qubit_mapper\u001b[0m\u001b[0;34m.\u001b[0m\u001b[0mmap\u001b[0m\u001b[0;34m(\u001b[0m\u001b[0maux_second_q_ops\u001b[0m\u001b[0;34m)\u001b[0m\u001b[0;34m\u001b[0m\u001b[0;34m\u001b[0m\u001b[0m\n\u001b[1;32m     90\u001b[0m \u001b[0;34m\u001b[0m\u001b[0m\n",
            "\u001b[0;32m/usr/local/lib/python3.10/dist-packages/qiskit_nature/second_q/mappers/fermionic_mapper.py\u001b[0m in \u001b[0;36mmap\u001b[0;34m(self, second_q_ops, register_length)\u001b[0m\n\u001b[1;32m     31\u001b[0m         \u001b[0mregister_length\u001b[0m\u001b[0;34m:\u001b[0m \u001b[0mint\u001b[0m \u001b[0;34m|\u001b[0m \u001b[0;32mNone\u001b[0m \u001b[0;34m=\u001b[0m \u001b[0;32mNone\u001b[0m\u001b[0;34m,\u001b[0m\u001b[0;34m\u001b[0m\u001b[0;34m\u001b[0m\u001b[0m\n\u001b[1;32m     32\u001b[0m     ) -> SparsePauliOp | ListOrDictType[SparsePauliOp]:\n\u001b[0;32m---> 33\u001b[0;31m         \u001b[0;32mreturn\u001b[0m \u001b[0msuper\u001b[0m\u001b[0;34m(\u001b[0m\u001b[0;34m)\u001b[0m\u001b[0;34m.\u001b[0m\u001b[0mmap\u001b[0m\u001b[0;34m(\u001b[0m\u001b[0msecond_q_ops\u001b[0m\u001b[0;34m,\u001b[0m \u001b[0mregister_length\u001b[0m\u001b[0;34m=\u001b[0m\u001b[0mregister_length\u001b[0m\u001b[0;34m)\u001b[0m\u001b[0;34m\u001b[0m\u001b[0;34m\u001b[0m\u001b[0m\n\u001b[0m",
            "\u001b[0;32m/usr/local/lib/python3.10/dist-packages/qiskit_nature/second_q/mappers/qubit_mapper.py\u001b[0m in \u001b[0;36mmap\u001b[0;34m(self, second_q_ops, register_length)\u001b[0m\n\u001b[1;32m    163\u001b[0m         \u001b[0mqubit_ops\u001b[0m\u001b[0;34m:\u001b[0m \u001b[0m_ListOrDict\u001b[0m \u001b[0;34m=\u001b[0m \u001b[0m_ListOrDict\u001b[0m\u001b[0;34m(\u001b[0m\u001b[0;34m)\u001b[0m\u001b[0;34m\u001b[0m\u001b[0;34m\u001b[0m\u001b[0m\n\u001b[1;32m    164\u001b[0m         \u001b[0;32mfor\u001b[0m \u001b[0mname\u001b[0m\u001b[0;34m,\u001b[0m \u001b[0msecond_q_op\u001b[0m \u001b[0;32min\u001b[0m \u001b[0miter\u001b[0m\u001b[0;34m(\u001b[0m\u001b[0mwrapped_second_q_ops\u001b[0m\u001b[0;34m)\u001b[0m\u001b[0;34m:\u001b[0m\u001b[0;34m\u001b[0m\u001b[0;34m\u001b[0m\u001b[0m\n\u001b[0;32m--> 165\u001b[0;31m             \u001b[0mqubit_ops\u001b[0m\u001b[0;34m[\u001b[0m\u001b[0mname\u001b[0m\u001b[0;34m]\u001b[0m \u001b[0;34m=\u001b[0m \u001b[0mself\u001b[0m\u001b[0;34m.\u001b[0m\u001b[0m_map_single\u001b[0m\u001b[0;34m(\u001b[0m\u001b[0msecond_q_op\u001b[0m\u001b[0;34m,\u001b[0m \u001b[0mregister_length\u001b[0m\u001b[0;34m=\u001b[0m\u001b[0mregister_length\u001b[0m\u001b[0;34m)\u001b[0m\u001b[0;34m\u001b[0m\u001b[0;34m\u001b[0m\u001b[0m\n\u001b[0m\u001b[1;32m    166\u001b[0m \u001b[0;34m\u001b[0m\u001b[0m\n\u001b[1;32m    167\u001b[0m         \u001b[0mreturned_ops\u001b[0m \u001b[0;34m=\u001b[0m \u001b[0mqubit_ops\u001b[0m\u001b[0;34m.\u001b[0m\u001b[0munwrap\u001b[0m\u001b[0;34m(\u001b[0m\u001b[0mwrapped_type\u001b[0m\u001b[0;34m)\u001b[0m\u001b[0;34m\u001b[0m\u001b[0;34m\u001b[0m\u001b[0m\n",
            "\u001b[0;32m/usr/local/lib/python3.10/dist-packages/qiskit_nature/second_q/mappers/qubit_mapper.py\u001b[0m in \u001b[0;36m_map_single\u001b[0;34m(self, second_q_op, register_length)\u001b[0m\n\u001b[1;32m    138\u001b[0m             \u001b[0mThe\u001b[0m \u001b[0mqubit\u001b[0m \u001b[0moperator\u001b[0m \u001b[0mcorresponding\u001b[0m \u001b[0mto\u001b[0m \u001b[0mthe\u001b[0m \u001b[0mproblem\u001b[0m\u001b[0;34m-\u001b[0m\u001b[0mHamiltonian\u001b[0m \u001b[0;32min\u001b[0m \u001b[0mthe\u001b[0m \u001b[0mqubit\u001b[0m \u001b[0mspace\u001b[0m\u001b[0;34m.\u001b[0m\u001b[0;34m\u001b[0m\u001b[0;34m\u001b[0m\u001b[0m\n\u001b[1;32m    139\u001b[0m         \"\"\"\n\u001b[0;32m--> 140\u001b[0;31m         \u001b[0;32mreturn\u001b[0m \u001b[0mself\u001b[0m\u001b[0;34m.\u001b[0m\u001b[0mmode_based_mapping\u001b[0m\u001b[0;34m(\u001b[0m\u001b[0msecond_q_op\u001b[0m\u001b[0;34m,\u001b[0m \u001b[0mregister_length\u001b[0m\u001b[0;34m=\u001b[0m\u001b[0mregister_length\u001b[0m\u001b[0;34m)\u001b[0m\u001b[0;34m\u001b[0m\u001b[0;34m\u001b[0m\u001b[0m\n\u001b[0m\u001b[1;32m    141\u001b[0m \u001b[0;34m\u001b[0m\u001b[0m\n\u001b[1;32m    142\u001b[0m     def map(\n",
            "\u001b[0;32m/usr/local/lib/python3.10/dist-packages/qiskit_nature/second_q/mappers/qubit_mapper.py\u001b[0m in \u001b[0;36mmode_based_mapping\u001b[0;34m(cls, second_q_op, register_length)\u001b[0m\n\u001b[1;32m    262\u001b[0m                 \u001b[0mposition\u001b[0m \u001b[0;34m=\u001b[0m \u001b[0mint\u001b[0m\u001b[0;34m(\u001b[0m\u001b[0mterm\u001b[0m\u001b[0;34m[\u001b[0m\u001b[0;36m1\u001b[0m\u001b[0;34m]\u001b[0m\u001b[0;34m)\u001b[0m\u001b[0;34m\u001b[0m\u001b[0;34m\u001b[0m\u001b[0m\n\u001b[1;32m    263\u001b[0m                 \u001b[0;32mif\u001b[0m \u001b[0mchar\u001b[0m \u001b[0;34m==\u001b[0m \u001b[0;34m\"+\"\u001b[0m\u001b[0;34m:\u001b[0m\u001b[0;34m\u001b[0m\u001b[0;34m\u001b[0m\u001b[0m\n\u001b[0;32m--> 264\u001b[0;31m                     \u001b[0mret_op\u001b[0m \u001b[0;34m=\u001b[0m \u001b[0mret_op\u001b[0m\u001b[0;34m.\u001b[0m\u001b[0mcompose\u001b[0m\u001b[0;34m(\u001b[0m\u001b[0mtimes_creation_op\u001b[0m\u001b[0;34m[\u001b[0m\u001b[0mposition\u001b[0m\u001b[0;34m]\u001b[0m\u001b[0;34m,\u001b[0m \u001b[0mfront\u001b[0m\u001b[0;34m=\u001b[0m\u001b[0;32mTrue\u001b[0m\u001b[0;34m)\u001b[0m\u001b[0;34m.\u001b[0m\u001b[0msimplify\u001b[0m\u001b[0;34m(\u001b[0m\u001b[0;34m)\u001b[0m\u001b[0;34m\u001b[0m\u001b[0;34m\u001b[0m\u001b[0m\n\u001b[0m\u001b[1;32m    265\u001b[0m                 \u001b[0;32melif\u001b[0m \u001b[0mchar\u001b[0m \u001b[0;34m==\u001b[0m \u001b[0;34m\"-\"\u001b[0m\u001b[0;34m:\u001b[0m\u001b[0;34m\u001b[0m\u001b[0;34m\u001b[0m\u001b[0m\n\u001b[1;32m    266\u001b[0m                     \u001b[0mret_op\u001b[0m \u001b[0;34m=\u001b[0m \u001b[0mret_op\u001b[0m\u001b[0;34m.\u001b[0m\u001b[0mcompose\u001b[0m\u001b[0;34m(\u001b[0m\u001b[0mtimes_annihilation_op\u001b[0m\u001b[0;34m[\u001b[0m\u001b[0mposition\u001b[0m\u001b[0;34m]\u001b[0m\u001b[0;34m,\u001b[0m \u001b[0mfront\u001b[0m\u001b[0;34m=\u001b[0m\u001b[0;32mTrue\u001b[0m\u001b[0;34m)\u001b[0m\u001b[0;34m.\u001b[0m\u001b[0msimplify\u001b[0m\u001b[0;34m(\u001b[0m\u001b[0;34m)\u001b[0m\u001b[0;34m\u001b[0m\u001b[0;34m\u001b[0m\u001b[0m\n",
            "\u001b[0;32m/usr/local/lib/python3.10/dist-packages/qiskit/quantum_info/operators/symplectic/sparse_pauli_op.py\u001b[0m in \u001b[0;36mcompose\u001b[0;34m(self, other, qargs, front)\u001b[0m\n\u001b[1;32m    356\u001b[0m         \u001b[0;31m# since `self.coeffs` and `other.coeffs` are both 1d arrays.\u001b[0m\u001b[0;34m\u001b[0m\u001b[0;34m\u001b[0m\u001b[0m\n\u001b[1;32m    357\u001b[0m         \u001b[0mcoeffs\u001b[0m \u001b[0;34m=\u001b[0m \u001b[0mnp\u001b[0m\u001b[0;34m.\u001b[0m\u001b[0mmultiply\u001b[0m\u001b[0;34m.\u001b[0m\u001b[0mouter\u001b[0m\u001b[0;34m(\u001b[0m\u001b[0mself\u001b[0m\u001b[0;34m.\u001b[0m\u001b[0mcoeffs\u001b[0m\u001b[0;34m,\u001b[0m \u001b[0mother\u001b[0m\u001b[0;34m.\u001b[0m\u001b[0mcoeffs\u001b[0m\u001b[0;34m)\u001b[0m\u001b[0;34m.\u001b[0m\u001b[0mravel\u001b[0m\u001b[0;34m(\u001b[0m\u001b[0;34m)\u001b[0m\u001b[0;34m\u001b[0m\u001b[0;34m\u001b[0m\u001b[0m\n\u001b[0;32m--> 358\u001b[0;31m         \u001b[0;32mreturn\u001b[0m \u001b[0mSparsePauliOp\u001b[0m\u001b[0;34m(\u001b[0m\u001b[0mpauli_list\u001b[0m\u001b[0;34m,\u001b[0m \u001b[0mcoeffs\u001b[0m\u001b[0;34m,\u001b[0m \u001b[0mcopy\u001b[0m\u001b[0;34m=\u001b[0m\u001b[0;32mFalse\u001b[0m\u001b[0;34m)\u001b[0m\u001b[0;34m\u001b[0m\u001b[0;34m\u001b[0m\u001b[0m\n\u001b[0m\u001b[1;32m    359\u001b[0m \u001b[0;34m\u001b[0m\u001b[0m\n\u001b[1;32m    360\u001b[0m     \u001b[0;32mdef\u001b[0m \u001b[0mtensor\u001b[0m\u001b[0;34m(\u001b[0m\u001b[0mself\u001b[0m\u001b[0;34m,\u001b[0m \u001b[0mother\u001b[0m\u001b[0;34m:\u001b[0m \u001b[0mSparsePauliOp\u001b[0m\u001b[0;34m)\u001b[0m \u001b[0;34m->\u001b[0m \u001b[0mSparsePauliOp\u001b[0m\u001b[0;34m:\u001b[0m\u001b[0;34m\u001b[0m\u001b[0;34m\u001b[0m\u001b[0m\n",
            "\u001b[0;32m/usr/local/lib/python3.10/dist-packages/qiskit/quantum_info/operators/symplectic/sparse_pauli_op.py\u001b[0m in \u001b[0;36m__init__\u001b[0;34m(self, data, coeffs, ignore_pauli_phase, copy)\u001b[0m\n\u001b[1;32m    156\u001b[0m             \u001b[0mphase\u001b[0m \u001b[0;34m=\u001b[0m \u001b[0mpauli_list\u001b[0m\u001b[0;34m.\u001b[0m\u001b[0m_phase\u001b[0m\u001b[0;34m\u001b[0m\u001b[0;34m\u001b[0m\u001b[0m\n\u001b[1;32m    157\u001b[0m             \u001b[0mcount_y\u001b[0m \u001b[0;34m=\u001b[0m \u001b[0mpauli_list\u001b[0m\u001b[0;34m.\u001b[0m\u001b[0m_count_y\u001b[0m\u001b[0;34m(\u001b[0m\u001b[0;34m)\u001b[0m\u001b[0;34m\u001b[0m\u001b[0;34m\u001b[0m\u001b[0m\n\u001b[0;32m--> 158\u001b[0;31m             \u001b[0mself\u001b[0m\u001b[0;34m.\u001b[0m\u001b[0m_coeffs\u001b[0m \u001b[0;34m=\u001b[0m \u001b[0mnp\u001b[0m\u001b[0;34m.\u001b[0m\u001b[0masarray\u001b[0m\u001b[0;34m(\u001b[0m\u001b[0;34m(\u001b[0m\u001b[0;34m-\u001b[0m\u001b[0;36m1j\u001b[0m\u001b[0;34m)\u001b[0m \u001b[0;34m**\u001b[0m \u001b[0;34m(\u001b[0m\u001b[0mphase\u001b[0m \u001b[0;34m-\u001b[0m \u001b[0mcount_y\u001b[0m\u001b[0;34m)\u001b[0m \u001b[0;34m*\u001b[0m \u001b[0mcoeffs\u001b[0m\u001b[0;34m,\u001b[0m \u001b[0mdtype\u001b[0m\u001b[0;34m=\u001b[0m\u001b[0mcoeffs\u001b[0m\u001b[0;34m.\u001b[0m\u001b[0mdtype\u001b[0m\u001b[0;34m)\u001b[0m\u001b[0;34m\u001b[0m\u001b[0;34m\u001b[0m\u001b[0m\n\u001b[0m\u001b[1;32m    159\u001b[0m             \u001b[0mpauli_list\u001b[0m\u001b[0;34m.\u001b[0m\u001b[0m_phase\u001b[0m \u001b[0;34m=\u001b[0m \u001b[0mnp\u001b[0m\u001b[0;34m.\u001b[0m\u001b[0mmod\u001b[0m\u001b[0;34m(\u001b[0m\u001b[0mcount_y\u001b[0m\u001b[0;34m,\u001b[0m \u001b[0;36m4\u001b[0m\u001b[0;34m)\u001b[0m\u001b[0;34m\u001b[0m\u001b[0;34m\u001b[0m\u001b[0m\n\u001b[1;32m    160\u001b[0m             \u001b[0mself\u001b[0m\u001b[0;34m.\u001b[0m\u001b[0m_pauli_list\u001b[0m \u001b[0;34m=\u001b[0m \u001b[0mpauli_list\u001b[0m\u001b[0;34m\u001b[0m\u001b[0;34m\u001b[0m\u001b[0m\n",
            "\u001b[0;31mKeyboardInterrupt\u001b[0m: "
          ]
        }
      ],
      "source": [
        "exacts = []\n",
        "optimizer_times = []\n",
        "optimizer_errors = []\n",
        "\n",
        "optimizers = [SLSQP(), SPSA(), TNC()]\n",
        "\n",
        "for i, optimizer in enumerate(optimizers):\n",
        "  molecule = MoleculeInfo([\"H\", \"H\"], [(0.0, 0.0, 0.0), (0.0, 0.0, 0.735)], charge=0, multiplicity=1)\n",
        "  driver = PySCFDriver.from_molecule(molecule, basis=\"sto3g\")\n",
        "  problem = driver.run()\n",
        "\n",
        "  # mapper\n",
        "  mapper = JordanWignerMapper()\n",
        "  qubit_op = mapper.map(problem.second_q_ops()[0])\n",
        "  result = exact_solver(qubit_op, problem)\n",
        "  exact_energy = result.total_energies[0].real\n",
        "  exacts.append(exact_energy)\n",
        "\n",
        "  seed = 170\n",
        "\n",
        "  print(f\"\\x1b[31m\\\"For dist = 0.735 and optimizer = {i} \\\"\\x1b[0m\")\n",
        "\n",
        "  print(f\"Exact energy = {exact_energy}\")\n",
        "\n",
        "  print(\"______________________________________\\n\\n\")\n",
        "\n",
        "\n",
        "  print(\"On GPU: VQE on H2 molecule\")\n",
        "\n",
        "  gpu_energy, time_taken = UCCSD_VQE_Optimizer(molecule, optimizer)\n",
        "\n",
        "  print(f\"Time taken: {time_taken}, Energy: {gpu_energy}\")\n",
        "  gpu_error = (gpu_energy-exact_energy)/exact_energy\n",
        "  print(f\"Error: {gpu_error}\")\n",
        "  optimizer_errors.append(gpu_error)\n",
        "  optimizer_times.append(time_taken)\n"
      ]
    },
    {
      "cell_type": "code",
      "execution_count": null,
      "metadata": {
        "id": "faVRyprfSIaV"
      },
      "outputs": [],
      "source": [
        "optimizers = [CG(), GradientDescent(maxiter=100), TNC(), SciPyOptimizer(), UMDA()]\n",
        "\n",
        "for i, optimizer in enumerate(optimizers):\n",
        "  molecule = MoleculeInfo([\"H\", \"H\"], [(0.0, 0.0, 0.0), (0.0, 0.0, 0.735)], charge=0, multiplicity=1)\n",
        "  driver = PySCFDriver.from_molecule(molecule, basis=\"sto3g\")\n",
        "  problem = driver.run()\n",
        "\n",
        "  # mapper\n",
        "  mapper = JordanWignerMapper()\n",
        "  qubit_op = mapper.map(problem.second_q_ops()[0])\n",
        "  result = exact_solver(qubit_op, problem)\n",
        "  exact_energy = result.total_energies[0].real\n",
        "  exacts.append(exact_energy)\n",
        "\n",
        "  seed = 170\n",
        "\n",
        "  print(f\"\\x1b[31m\\\"For dist = 0.735 and optimizer = {i} \\\"\\x1b[0m\")\n",
        "\n",
        "  print(f\"Exact energy = {exact_energy}\")\n",
        "\n",
        "  print(\"______________________________________\\n\\n\")\n",
        "\n",
        "\n",
        "  print(\"On GPU: VQE on H2 molecule\")\n",
        "\n",
        "  gpu_energy, time_taken = UCCSD_VQE_Optimizer(molecule, optimizer)\n",
        "\n",
        "  print(f\"Time taken: {time_taken}, Energy: {gpu_energy}\")\n",
        "  gpu_error = (gpu_energy-exact_energy)/exact_energy\n",
        "  print(f\"Error: {gpu_error}\")\n",
        "  optimizer_errors.append(gpu_error)\n",
        "  optimizer_times.append(time_taken)\n"
      ]
    },
    {
      "cell_type": "code",
      "execution_count": null,
      "metadata": {
        "colab": {
          "base_uri": "https://localhost:8080/"
        },
        "id": "cky7WxHWBCFf",
        "outputId": "07c79244-a230-45a1-839e-f9ccfd2af58a"
      },
      "outputs": [
        {
          "name": "stdout",
          "output_type": "stream",
          "text": [
            "4\n"
          ]
        }
      ],
      "source": [
        "print(len(optimizer_errors))\n",
        "with open('/content/drive/MyDrive/all_opt_errors.txt', 'w') as f:\n",
        "  json.dump(optimizer_errors, f)\n",
        "\n",
        "with open('/content/drive/MyDrive/all_opt_times.txt', 'w') as f:\n",
        "  json.dump(optimizer_times, f)"
      ]
    },
    {
      "cell_type": "code",
      "source": [
        "for d in distances:\n",
        "  molecule = MoleculeInfo([\"H\", \"H\"], [(0.0, 0.0, 0.0), (0.0, 0.0, d)], charge=0, multiplicity=1)\n",
        "  driver = PySCFDriver.from_molecule(molecule, basis=\"sto3g\")\n",
        "  problem = driver.run()\n",
        "\n",
        "  # mapper\n",
        "  mapper = JordanWignerMapper()\n",
        "  qubit_op = mapper.map(problem.second_q_ops()[0])\n",
        "  result = exact_solver(qubit_op, problem)\n",
        "  exact_energy = result.total_energies[0].real\n",
        "  exacts.append(exact_energy)\n",
        "\n",
        "  seed = 170\n",
        "\n",
        "  print(f\"\\x1b[31m\\\"For dist = {d} and optimizer = {i} \\\"\\x1b[0m\")\n",
        "\n",
        "  print(f\"Exact energy = {exact_energy}\")\n",
        "\n",
        "  print(\"______________________________________\\n\\n\")\n",
        "\n",
        "\n",
        "  print(\"On GPU: VQE on H2 molecule\")\n",
        "  gpu_energy, time_taken = UCCSD_VQE_Optimizer(molecule, optimizer1)\n",
        "\n",
        "  print(f\"Time taken: {time_taken}, Energy: {gpu_energy}\")\n",
        "  gpu_error = (gpu_energy-exact_energy)/exact_energy\n",
        "  print(f\"Error: {gpu_error}\")\n",
        "  optimizer1_errors.append(gpu_error)\n",
        "  optimizer1_times.append(time_taken)"
      ],
      "metadata": {
        "colab": {
          "base_uri": "https://localhost:8080/"
        },
        "id": "u5xLImz9uBXf",
        "outputId": "e4680ad7-7d12-447d-9351-0a4e47348544"
      },
      "execution_count": null,
      "outputs": [
        {
          "output_type": "stream",
          "name": "stdout",
          "text": [
            "\u001b[31m\"For dist = 0.7 and optimizer = 0 \"\u001b[0m\n",
            "Exact energy = -1.136189454065926\n",
            "______________________________________\n",
            "\n",
            "\n",
            "On GPU: VQE on H2 molecule\n"
          ]
        },
        {
          "output_type": "stream",
          "name": "stderr",
          "text": [
            "<ipython-input-22-346cc6415e33>:23: DeprecationWarning: Option approximation=False is deprecated as of qiskit-aer 0.13. It will be removed no earlier than 3 months after the release date. Instead, use BackendEstimator from qiskit.primitives.\n",
            "  gpu_energy, time_taken = UCCSD_VQE_Optimizer(molecule, optimizer1)\n"
          ]
        },
        {
          "output_type": "stream",
          "name": "stdout",
          "text": [
            "Time taken: 0.24086863040924072, Energy: -1.1064767342848971\n",
            "Error: -0.026151201874564236\n",
            "\u001b[31m\"For dist = 0.705 and optimizer = 0 \"\u001b[0m\n",
            "Exact energy = -1.1364956748548265\n",
            "______________________________________\n",
            "\n",
            "\n",
            "On GPU: VQE on H2 molecule\n"
          ]
        },
        {
          "output_type": "stream",
          "name": "stderr",
          "text": [
            "<ipython-input-22-346cc6415e33>:23: DeprecationWarning: Option approximation=False is deprecated as of qiskit-aer 0.13. It will be removed no earlier than 3 months after the release date. Instead, use BackendEstimator from qiskit.primitives.\n",
            "  gpu_energy, time_taken = UCCSD_VQE_Optimizer(molecule, optimizer1)\n"
          ]
        },
        {
          "output_type": "stream",
          "name": "stdout",
          "text": [
            "Time taken: 0.24171157836914062, Energy: -1.0815296162962789\n",
            "Error: -0.04836451187160821\n",
            "\u001b[31m\"For dist = 0.71 and optimizer = 0 \"\u001b[0m\n",
            "Exact energy = -1.1367503972832027\n",
            "______________________________________\n",
            "\n",
            "\n",
            "On GPU: VQE on H2 molecule\n"
          ]
        },
        {
          "output_type": "stream",
          "name": "stderr",
          "text": [
            "<ipython-input-22-346cc6415e33>:23: DeprecationWarning: Option approximation=False is deprecated as of qiskit-aer 0.13. It will be removed no earlier than 3 months after the release date. Instead, use BackendEstimator from qiskit.primitives.\n",
            "  gpu_energy, time_taken = UCCSD_VQE_Optimizer(molecule, optimizer1)\n"
          ]
        },
        {
          "output_type": "stream",
          "name": "stdout",
          "text": [
            "Time taken: 0.24405604362487793, Energy: -1.015560120610718\n",
            "Error: -0.10661115840568476\n",
            "\u001b[31m\"For dist = 0.715 and optimizer = 0 \"\u001b[0m\n",
            "Exact energy = -1.1369552252566262\n",
            "______________________________________\n",
            "\n",
            "\n",
            "On GPU: VQE on H2 molecule\n"
          ]
        },
        {
          "output_type": "stream",
          "name": "stderr",
          "text": [
            "<ipython-input-22-346cc6415e33>:23: DeprecationWarning: Option approximation=False is deprecated as of qiskit-aer 0.13. It will be removed no earlier than 3 months after the release date. Instead, use BackendEstimator from qiskit.primitives.\n",
            "  gpu_energy, time_taken = UCCSD_VQE_Optimizer(molecule, optimizer1)\n"
          ]
        },
        {
          "output_type": "stream",
          "name": "stdout",
          "text": [
            "Time taken: 0.23710231304168702, Energy: -1.2036401080076764\n",
            "Error: 0.05865216260912873\n",
            "\u001b[31m\"For dist = 0.72 and optimizer = 0 \"\u001b[0m\n",
            "Exact energy = -1.137111715115466\n",
            "______________________________________\n",
            "\n",
            "\n",
            "On GPU: VQE on H2 molecule\n"
          ]
        },
        {
          "output_type": "stream",
          "name": "stderr",
          "text": [
            "<ipython-input-22-346cc6415e33>:23: DeprecationWarning: Option approximation=False is deprecated as of qiskit-aer 0.13. It will be removed no earlier than 3 months after the release date. Instead, use BackendEstimator from qiskit.primitives.\n",
            "  gpu_energy, time_taken = UCCSD_VQE_Optimizer(molecule, optimizer1)\n"
          ]
        },
        {
          "output_type": "stream",
          "name": "stdout",
          "text": [
            "Time taken: 0.24066869735717775, Energy: -1.070521825608826\n",
            "Error: -0.05856055180987926\n",
            "\u001b[31m\"For dist = 0.725 and optimizer = 0 \"\u001b[0m\n",
            "Exact energy = -1.1372213770723014\n",
            "______________________________________\n",
            "\n",
            "\n",
            "On GPU: VQE on H2 molecule\n"
          ]
        },
        {
          "output_type": "stream",
          "name": "stderr",
          "text": [
            "<ipython-input-22-346cc6415e33>:23: DeprecationWarning: Option approximation=False is deprecated as of qiskit-aer 0.13. It will be removed no earlier than 3 months after the release date. Instead, use BackendEstimator from qiskit.primitives.\n",
            "  gpu_energy, time_taken = UCCSD_VQE_Optimizer(molecule, optimizer1)\n"
          ]
        },
        {
          "output_type": "stream",
          "name": "stdout",
          "text": [
            "Time taken: 0.2371519660949707, Energy: -1.0381549554603118\n",
            "Error: -0.08711269732462237\n",
            "\u001b[31m\"For dist = 0.73 and optimizer = 0 \"\u001b[0m\n",
            "Exact energy = -1.1372856765971093\n",
            "______________________________________\n",
            "\n",
            "\n",
            "On GPU: VQE on H2 molecule\n"
          ]
        },
        {
          "output_type": "stream",
          "name": "stderr",
          "text": [
            "<ipython-input-22-346cc6415e33>:23: DeprecationWarning: Option approximation=False is deprecated as of qiskit-aer 0.13. It will be removed no earlier than 3 months after the release date. Instead, use BackendEstimator from qiskit.primitives.\n",
            "  gpu_energy, time_taken = UCCSD_VQE_Optimizer(molecule, optimizer1)\n"
          ]
        },
        {
          "output_type": "stream",
          "name": "stdout",
          "text": [
            "Time taken: 0.23919694423675536, Energy: -1.0268232206817531\n",
            "Error: -0.09712815186934622\n",
            "\u001b[31m\"For dist = 0.735 and optimizer = 0 \"\u001b[0m\n",
            "Exact energy = -1.1373060357533995\n",
            "______________________________________\n",
            "\n",
            "\n",
            "On GPU: VQE on H2 molecule\n"
          ]
        },
        {
          "output_type": "stream",
          "name": "stderr",
          "text": [
            "<ipython-input-22-346cc6415e33>:23: DeprecationWarning: Option approximation=False is deprecated as of qiskit-aer 0.13. It will be removed no earlier than 3 months after the release date. Instead, use BackendEstimator from qiskit.primitives.\n",
            "  gpu_energy, time_taken = UCCSD_VQE_Optimizer(molecule, optimizer1)\n"
          ]
        },
        {
          "output_type": "stream",
          "name": "stdout",
          "text": [
            "Time taken: 0.23815666675567626, Energy: -1.0316922856592958\n",
            "Error: -0.09286308765972623\n",
            "\u001b[31m\"For dist = 0.74 and optimizer = 0 \"\u001b[0m\n",
            "Exact energy = -1.137283834488501\n",
            "______________________________________\n",
            "\n",
            "\n",
            "On GPU: VQE on H2 molecule\n"
          ]
        },
        {
          "output_type": "stream",
          "name": "stderr",
          "text": [
            "<ipython-input-22-346cc6415e33>:23: DeprecationWarning: Option approximation=False is deprecated as of qiskit-aer 0.13. It will be removed no earlier than 3 months after the release date. Instead, use BackendEstimator from qiskit.primitives.\n",
            "  gpu_energy, time_taken = UCCSD_VQE_Optimizer(molecule, optimizer1)\n"
          ]
        },
        {
          "output_type": "stream",
          "name": "stdout",
          "text": [
            "Time taken: 0.23833348751068115, Energy: -1.0042058283166917\n",
            "Error: -0.1170138905840175\n",
            "\u001b[31m\"For dist = 0.745 and optimizer = 0 \"\u001b[0m\n",
            "Exact energy = -1.137220411880676\n",
            "______________________________________\n",
            "\n",
            "\n",
            "On GPU: VQE on H2 molecule\n"
          ]
        },
        {
          "output_type": "stream",
          "name": "stderr",
          "text": [
            "<ipython-input-22-346cc6415e33>:23: DeprecationWarning: Option approximation=False is deprecated as of qiskit-aer 0.13. It will be removed no earlier than 3 months after the release date. Instead, use BackendEstimator from qiskit.primitives.\n",
            "  gpu_energy, time_taken = UCCSD_VQE_Optimizer(molecule, optimizer1)\n"
          ]
        },
        {
          "output_type": "stream",
          "name": "stdout",
          "text": [
            "Time taken: 0.23872171401977538, Energy: -0.9805644243291611\n",
            "Error: -0.13775340814754217\n",
            "\u001b[31m\"For dist = 0.75 and optimizer = 0 \"\u001b[0m\n",
            "Exact energy = -1.137117067345729\n",
            "______________________________________\n",
            "\n",
            "\n",
            "On GPU: VQE on H2 molecule\n"
          ]
        },
        {
          "output_type": "stream",
          "name": "stderr",
          "text": [
            "<ipython-input-22-346cc6415e33>:23: DeprecationWarning: Option approximation=False is deprecated as of qiskit-aer 0.13. It will be removed no earlier than 3 months after the release date. Instead, use BackendEstimator from qiskit.primitives.\n",
            "  gpu_energy, time_taken = UCCSD_VQE_Optimizer(molecule, optimizer1)\n"
          ]
        },
        {
          "output_type": "stream",
          "name": "stdout",
          "text": [
            "Time taken: 0.2353513526916504, Energy: -1.1301714750389942\n",
            "Error: -0.006108071460880652\n",
            "\u001b[31m\"For dist = 0.755 and optimizer = 0 \"\u001b[0m\n",
            "Exact energy = -1.1369750618055003\n",
            "______________________________________\n",
            "\n",
            "\n",
            "On GPU: VQE on H2 molecule\n"
          ]
        },
        {
          "output_type": "stream",
          "name": "stderr",
          "text": [
            "<ipython-input-22-346cc6415e33>:23: DeprecationWarning: Option approximation=False is deprecated as of qiskit-aer 0.13. It will be removed no earlier than 3 months after the release date. Instead, use BackendEstimator from qiskit.primitives.\n",
            "  gpu_energy, time_taken = UCCSD_VQE_Optimizer(molecule, optimizer1)\n"
          ]
        },
        {
          "output_type": "stream",
          "name": "stdout",
          "text": [
            "Time taken: 0.23742023468017578, Energy: -1.0456799252966253\n",
            "Error: -0.08029651623484126\n",
            "\u001b[31m\"For dist = 0.76 and optimizer = 0 \"\u001b[0m\n",
            "Exact energy = -1.1367956188204564\n",
            "______________________________________\n",
            "\n",
            "\n",
            "On GPU: VQE on H2 molecule\n"
          ]
        },
        {
          "output_type": "stream",
          "name": "stderr",
          "text": [
            "<ipython-input-22-346cc6415e33>:23: DeprecationWarning: Option approximation=False is deprecated as of qiskit-aer 0.13. It will be removed no earlier than 3 months after the release date. Instead, use BackendEstimator from qiskit.primitives.\n",
            "  gpu_energy, time_taken = UCCSD_VQE_Optimizer(molecule, optimizer1)\n"
          ]
        },
        {
          "output_type": "stream",
          "name": "stdout",
          "text": [
            "Time taken: 0.2405550718307495, Energy: -1.0779709891777596\n",
            "Error: -0.05174600312388037\n",
            "\u001b[31m\"For dist = 0.765 and optimizer = 0 \"\u001b[0m\n",
            "Exact energy = -1.1365799256881988\n",
            "______________________________________\n",
            "\n",
            "\n",
            "On GPU: VQE on H2 molecule\n"
          ]
        },
        {
          "output_type": "stream",
          "name": "stderr",
          "text": [
            "<ipython-input-22-346cc6415e33>:23: DeprecationWarning: Option approximation=False is deprecated as of qiskit-aer 0.13. It will be removed no earlier than 3 months after the release date. Instead, use BackendEstimator from qiskit.primitives.\n",
            "  gpu_energy, time_taken = UCCSD_VQE_Optimizer(molecule, optimizer1)\n"
          ]
        },
        {
          "output_type": "stream",
          "name": "stdout",
          "text": [
            "Time taken: 0.23522735595703126, Energy: -1.1334206075249562\n",
            "Error: -0.002779670916085894\n",
            "\u001b[31m\"For dist = 0.77 and optimizer = 0 \"\u001b[0m\n",
            "Exact energy = -1.1363291345101911\n",
            "______________________________________\n",
            "\n",
            "\n",
            "On GPU: VQE on H2 molecule\n"
          ]
        },
        {
          "output_type": "stream",
          "name": "stderr",
          "text": [
            "<ipython-input-22-346cc6415e33>:23: DeprecationWarning: Option approximation=False is deprecated as of qiskit-aer 0.13. It will be removed no earlier than 3 months after the release date. Instead, use BackendEstimator from qiskit.primitives.\n",
            "  gpu_energy, time_taken = UCCSD_VQE_Optimizer(molecule, optimizer1)\n"
          ]
        },
        {
          "output_type": "stream",
          "name": "stdout",
          "text": [
            "Time taken: 0.24045102596282958, Energy: -1.1015576383207033\n",
            "Error: -0.030599845707974305\n",
            "\u001b[31m\"For dist = 0.775 and optimizer = 0 \"\u001b[0m\n",
            "Exact energy = -1.1360443632279105\n",
            "______________________________________\n",
            "\n",
            "\n",
            "On GPU: VQE on H2 molecule\n"
          ]
        },
        {
          "output_type": "stream",
          "name": "stderr",
          "text": [
            "<ipython-input-22-346cc6415e33>:23: DeprecationWarning: Option approximation=False is deprecated as of qiskit-aer 0.13. It will be removed no earlier than 3 months after the release date. Instead, use BackendEstimator from qiskit.primitives.\n",
            "  gpu_energy, time_taken = UCCSD_VQE_Optimizer(molecule, optimizer1)\n"
          ]
        },
        {
          "output_type": "stream",
          "name": "stdout",
          "text": [
            "Time taken: 0.23636730670928954, Energy: -1.1093614991815348\n",
            "Error: -0.023487519422709907\n",
            "\u001b[31m\"For dist = 0.78 and optimizer = 0 \"\u001b[0m\n",
            "Exact energy = -1.1357266966302229\n",
            "______________________________________\n",
            "\n",
            "\n",
            "On GPU: VQE on H2 molecule\n"
          ]
        },
        {
          "output_type": "stream",
          "name": "stderr",
          "text": [
            "<ipython-input-22-346cc6415e33>:23: DeprecationWarning: Option approximation=False is deprecated as of qiskit-aer 0.13. It will be removed no earlier than 3 months after the release date. Instead, use BackendEstimator from qiskit.primitives.\n",
            "  gpu_energy, time_taken = UCCSD_VQE_Optimizer(molecule, optimizer1)\n"
          ]
        },
        {
          "output_type": "stream",
          "name": "stdout",
          "text": [
            "Time taken: 0.23949602127075195, Energy: -1.0596804752024358\n",
            "Error: -0.06695820539696855\n",
            "\u001b[31m\"For dist = 0.785 and optimizer = 0 \"\u001b[0m\n",
            "Exact energy = -1.135377187333352\n",
            "______________________________________\n",
            "\n",
            "\n",
            "On GPU: VQE on H2 molecule\n"
          ]
        },
        {
          "output_type": "stream",
          "name": "stderr",
          "text": [
            "<ipython-input-22-346cc6415e33>:23: DeprecationWarning: Option approximation=False is deprecated as of qiskit-aer 0.13. It will be removed no earlier than 3 months after the release date. Instead, use BackendEstimator from qiskit.primitives.\n",
            "  gpu_energy, time_taken = UCCSD_VQE_Optimizer(molecule, optimizer1)\n"
          ]
        },
        {
          "output_type": "stream",
          "name": "stdout",
          "text": [
            "Time taken: 0.23828950881958008, Energy: -1.021226970001991\n",
            "Error: -0.10053946706421367\n",
            "\u001b[31m\"For dist = 0.79 and optimizer = 0 \"\u001b[0m\n",
            "Exact energy = -1.1349968567347302\n",
            "______________________________________\n",
            "\n",
            "\n",
            "On GPU: VQE on H2 molecule\n"
          ]
        },
        {
          "output_type": "stream",
          "name": "stderr",
          "text": [
            "<ipython-input-22-346cc6415e33>:23: DeprecationWarning: Option approximation=False is deprecated as of qiskit-aer 0.13. It will be removed no earlier than 3 months after the release date. Instead, use BackendEstimator from qiskit.primitives.\n",
            "  gpu_energy, time_taken = UCCSD_VQE_Optimizer(molecule, optimizer1)\n"
          ]
        },
        {
          "output_type": "stream",
          "name": "stdout",
          "text": [
            "Time taken: 0.2359285545349121, Energy: -1.1101863173534179\n",
            "Error: -0.021859566600642106\n",
            "\u001b[31m\"For dist = 0.795 and optimizer = 0 \"\u001b[0m\n",
            "Exact energy = -1.1345866959418212\n",
            "______________________________________\n",
            "\n",
            "\n",
            "On GPU: VQE on H2 molecule\n"
          ]
        },
        {
          "output_type": "stream",
          "name": "stderr",
          "text": [
            "<ipython-input-22-346cc6415e33>:23: DeprecationWarning: Option approximation=False is deprecated as of qiskit-aer 0.13. It will be removed no earlier than 3 months after the release date. Instead, use BackendEstimator from qiskit.primitives.\n",
            "  gpu_energy, time_taken = UCCSD_VQE_Optimizer(molecule, optimizer1)\n"
          ]
        },
        {
          "output_type": "stream",
          "name": "stdout",
          "text": [
            "Time taken: 0.2386156702041626, Energy: -1.1464561281979089\n",
            "Error: 0.010461459048076441\n",
            "\u001b[31m\"For dist = 0.8 and optimizer = 0 \"\u001b[0m\n",
            "Exact energy = -1.134147666677094\n",
            "______________________________________\n",
            "\n",
            "\n",
            "On GPU: VQE on H2 molecule\n"
          ]
        },
        {
          "output_type": "stream",
          "name": "stderr",
          "text": [
            "<ipython-input-22-346cc6415e33>:23: DeprecationWarning: Option approximation=False is deprecated as of qiskit-aer 0.13. It will be removed no earlier than 3 months after the release date. Instead, use BackendEstimator from qiskit.primitives.\n",
            "  gpu_energy, time_taken = UCCSD_VQE_Optimizer(molecule, optimizer1)\n"
          ]
        },
        {
          "output_type": "stream",
          "name": "stdout",
          "text": [
            "Time taken: 0.23552896976470947, Energy: -1.1032812829821623\n",
            "Error: -0.027215489306931413\n"
          ]
        }
      ]
    },
    {
      "cell_type": "code",
      "source": [
        "import json\n",
        "\n",
        "with open('/content/drive/MyDrive/opt1_errors.txt', 'w') as f:\n",
        "  json.dump(optimizer1_errors, f)\n",
        "\n",
        "with open('/content/drive/MyDrive/opt1_times.txt', 'w') as f:\n",
        "  json.dump(optimizer1_times, f)"
      ],
      "metadata": {
        "id": "HzMSgZvzuO9Q"
      },
      "execution_count": null,
      "outputs": []
    },
    {
      "cell_type": "code",
      "execution_count": null,
      "metadata": {
        "colab": {
          "base_uri": "https://localhost:8080/"
        },
        "id": "70EpOT1NR72Y",
        "outputId": "23640d8c-afbf-4713-b328-8ba4d8e4f79a"
      },
      "outputs": [
        {
          "output_type": "stream",
          "name": "stdout",
          "text": [
            "\u001b[31m\"For dist = 0.7 and optimizer = 0 \"\u001b[0m\n",
            "Exact energy = -1.1361894540659194\n",
            "______________________________________\n",
            "\n",
            "\n",
            "On GPU: VQE on H2 molecule\n"
          ]
        },
        {
          "output_type": "stream",
          "name": "stderr",
          "text": [
            "<ipython-input-24-71e0050618af>:24: DeprecationWarning: Option approximation=False is deprecated as of qiskit-aer 0.13. It will be removed no earlier than 3 months after the release date. Instead, use BackendEstimator from qiskit.primitives.\n",
            "  gpu_energy, time_taken = UCCSD_VQE_Optimizer(molecule, optimizer2)\n"
          ]
        },
        {
          "output_type": "stream",
          "name": "stdout",
          "text": [
            "Time taken: 0.2691443204879761, Energy: -1.03801426080637\n",
            "Error: -0.0864074146333816\n",
            "\u001b[31m\"For dist = 0.705 and optimizer = 0 \"\u001b[0m\n",
            "Exact energy = -1.1364956748548256\n",
            "______________________________________\n",
            "\n",
            "\n",
            "On GPU: VQE on H2 molecule\n"
          ]
        },
        {
          "output_type": "stream",
          "name": "stderr",
          "text": [
            "<ipython-input-24-71e0050618af>:24: DeprecationWarning: Option approximation=False is deprecated as of qiskit-aer 0.13. It will be removed no earlier than 3 months after the release date. Instead, use BackendEstimator from qiskit.primitives.\n",
            "  gpu_energy, time_taken = UCCSD_VQE_Optimizer(molecule, optimizer2)\n"
          ]
        },
        {
          "output_type": "stream",
          "name": "stdout",
          "text": [
            "Time taken: 0.26893517017364504, Energy: -0.9439188864450528\n",
            "Error: -0.1694478849946985\n",
            "\u001b[31m\"For dist = 0.71 and optimizer = 0 \"\u001b[0m\n",
            "Exact energy = -1.1367503972832\n",
            "______________________________________\n",
            "\n",
            "\n",
            "On GPU: VQE on H2 molecule\n"
          ]
        },
        {
          "output_type": "stream",
          "name": "stderr",
          "text": [
            "<ipython-input-24-71e0050618af>:24: DeprecationWarning: Option approximation=False is deprecated as of qiskit-aer 0.13. It will be removed no earlier than 3 months after the release date. Instead, use BackendEstimator from qiskit.primitives.\n",
            "  gpu_energy, time_taken = UCCSD_VQE_Optimizer(molecule, optimizer2)\n"
          ]
        },
        {
          "output_type": "stream",
          "name": "stdout",
          "text": [
            "Time taken: 0.2656968116760254, Energy: -1.0770486103769468\n",
            "Error: -0.05251969741901018\n",
            "\u001b[31m\"For dist = 0.715 and optimizer = 0 \"\u001b[0m\n",
            "Exact energy = -1.1369552252566288\n",
            "______________________________________\n",
            "\n",
            "\n",
            "On GPU: VQE on H2 molecule\n"
          ]
        },
        {
          "output_type": "stream",
          "name": "stderr",
          "text": [
            "<ipython-input-24-71e0050618af>:24: DeprecationWarning: Option approximation=False is deprecated as of qiskit-aer 0.13. It will be removed no earlier than 3 months after the release date. Instead, use BackendEstimator from qiskit.primitives.\n",
            "  gpu_energy, time_taken = UCCSD_VQE_Optimizer(molecule, optimizer2)\n"
          ]
        },
        {
          "output_type": "stream",
          "name": "stdout",
          "text": [
            "Time taken: 0.2683624410629272, Energy: -1.1095632760091627\n",
            "Error: -0.024092372891186927\n",
            "\u001b[31m\"For dist = 0.72 and optimizer = 0 \"\u001b[0m\n",
            "Exact energy = -1.1371117151154677\n",
            "______________________________________\n",
            "\n",
            "\n",
            "On GPU: VQE on H2 molecule\n"
          ]
        },
        {
          "output_type": "stream",
          "name": "stderr",
          "text": [
            "<ipython-input-24-71e0050618af>:24: DeprecationWarning: Option approximation=False is deprecated as of qiskit-aer 0.13. It will be removed no earlier than 3 months after the release date. Instead, use BackendEstimator from qiskit.primitives.\n",
            "  gpu_energy, time_taken = UCCSD_VQE_Optimizer(molecule, optimizer2)\n"
          ]
        },
        {
          "output_type": "stream",
          "name": "stdout",
          "text": [
            "Time taken: 0.2656972694396973, Energy: -1.0976165003264566\n",
            "Error: -0.03473292400738352\n",
            "\u001b[31m\"For dist = 0.725 and optimizer = 0 \"\u001b[0m\n",
            "Exact energy = -1.1372213770723036\n",
            "______________________________________\n",
            "\n",
            "\n",
            "On GPU: VQE on H2 molecule\n"
          ]
        },
        {
          "output_type": "stream",
          "name": "stderr",
          "text": [
            "<ipython-input-24-71e0050618af>:24: DeprecationWarning: Option approximation=False is deprecated as of qiskit-aer 0.13. It will be removed no earlier than 3 months after the release date. Instead, use BackendEstimator from qiskit.primitives.\n",
            "  gpu_energy, time_taken = UCCSD_VQE_Optimizer(molecule, optimizer2)\n"
          ]
        },
        {
          "output_type": "stream",
          "name": "stdout",
          "text": [
            "Time taken: 0.26824010372161866, Energy: -1.0296809102169562\n",
            "Error: -0.09456423263182304\n",
            "\u001b[31m\"For dist = 0.73 and optimizer = 0 \"\u001b[0m\n",
            "Exact energy = -1.1372856765971089\n",
            "______________________________________\n",
            "\n",
            "\n",
            "On GPU: VQE on H2 molecule\n"
          ]
        },
        {
          "output_type": "stream",
          "name": "stderr",
          "text": [
            "<ipython-input-24-71e0050618af>:24: DeprecationWarning: Option approximation=False is deprecated as of qiskit-aer 0.13. It will be removed no earlier than 3 months after the release date. Instead, use BackendEstimator from qiskit.primitives.\n",
            "  gpu_energy, time_taken = UCCSD_VQE_Optimizer(molecule, optimizer2)\n"
          ]
        },
        {
          "output_type": "stream",
          "name": "stdout",
          "text": [
            "Time taken: 0.26818628787994386, Energy: -1.0314567357441953\n",
            "Error: -0.09305396439139735\n",
            "\u001b[31m\"For dist = 0.735 and optimizer = 0 \"\u001b[0m\n",
            "Exact energy = -1.1373060357534\n",
            "______________________________________\n",
            "\n",
            "\n",
            "On GPU: VQE on H2 molecule\n"
          ]
        },
        {
          "output_type": "stream",
          "name": "stderr",
          "text": [
            "<ipython-input-24-71e0050618af>:24: DeprecationWarning: Option approximation=False is deprecated as of qiskit-aer 0.13. It will be removed no earlier than 3 months after the release date. Instead, use BackendEstimator from qiskit.primitives.\n",
            "  gpu_energy, time_taken = UCCSD_VQE_Optimizer(molecule, optimizer2)\n"
          ]
        },
        {
          "output_type": "stream",
          "name": "stdout",
          "text": [
            "Time taken: 0.26710071086883547, Energy: -1.0696060650274155\n",
            "Error: -0.05952660814038246\n",
            "\u001b[31m\"For dist = 0.74 and optimizer = 0 \"\u001b[0m\n",
            "Exact energy = -1.1372838344884995\n",
            "______________________________________\n",
            "\n",
            "\n",
            "On GPU: VQE on H2 molecule\n"
          ]
        },
        {
          "output_type": "stream",
          "name": "stderr",
          "text": [
            "<ipython-input-24-71e0050618af>:24: DeprecationWarning: Option approximation=False is deprecated as of qiskit-aer 0.13. It will be removed no earlier than 3 months after the release date. Instead, use BackendEstimator from qiskit.primitives.\n",
            "  gpu_energy, time_taken = UCCSD_VQE_Optimizer(molecule, optimizer2)\n"
          ]
        },
        {
          "output_type": "stream",
          "name": "stdout",
          "text": [
            "Time taken: 0.26497765064239504, Energy: -1.1276520825016154\n",
            "Error: -0.008469083701709328\n",
            "\u001b[31m\"For dist = 0.745 and optimizer = 0 \"\u001b[0m\n",
            "Exact energy = -1.1372204118806728\n",
            "______________________________________\n",
            "\n",
            "\n",
            "On GPU: VQE on H2 molecule\n"
          ]
        },
        {
          "output_type": "stream",
          "name": "stderr",
          "text": [
            "<ipython-input-24-71e0050618af>:24: DeprecationWarning: Option approximation=False is deprecated as of qiskit-aer 0.13. It will be removed no earlier than 3 months after the release date. Instead, use BackendEstimator from qiskit.primitives.\n",
            "  gpu_energy, time_taken = UCCSD_VQE_Optimizer(molecule, optimizer2)\n"
          ]
        },
        {
          "output_type": "stream",
          "name": "stdout",
          "text": [
            "Time taken: 0.2667849493026733, Energy: -1.062848857698151\n",
            "Error: -0.06539766030010861\n",
            "\u001b[31m\"For dist = 0.75 and optimizer = 0 \"\u001b[0m\n",
            "Exact energy = -1.1371170673457334\n",
            "______________________________________\n",
            "\n",
            "\n",
            "On GPU: VQE on H2 molecule\n"
          ]
        },
        {
          "output_type": "stream",
          "name": "stderr",
          "text": [
            "<ipython-input-24-71e0050618af>:24: DeprecationWarning: Option approximation=False is deprecated as of qiskit-aer 0.13. It will be removed no earlier than 3 months after the release date. Instead, use BackendEstimator from qiskit.primitives.\n",
            "  gpu_energy, time_taken = UCCSD_VQE_Optimizer(molecule, optimizer2)\n"
          ]
        },
        {
          "output_type": "stream",
          "name": "stdout",
          "text": [
            "Time taken: 0.2682561588287353, Energy: -1.0072621095421495\n",
            "Error: -0.1141966482894257\n",
            "\u001b[31m\"For dist = 0.755 and optimizer = 0 \"\u001b[0m\n",
            "Exact energy = -1.1369750618055054\n",
            "______________________________________\n",
            "\n",
            "\n",
            "On GPU: VQE on H2 molecule\n"
          ]
        },
        {
          "output_type": "stream",
          "name": "stderr",
          "text": [
            "<ipython-input-24-71e0050618af>:24: DeprecationWarning: Option approximation=False is deprecated as of qiskit-aer 0.13. It will be removed no earlier than 3 months after the release date. Instead, use BackendEstimator from qiskit.primitives.\n",
            "  gpu_energy, time_taken = UCCSD_VQE_Optimizer(molecule, optimizer2)\n"
          ]
        },
        {
          "output_type": "stream",
          "name": "stdout",
          "text": [
            "Time taken: 0.27057300090789793, Energy: -1.064284413927881\n",
            "Error: -0.06393337050171735\n",
            "\u001b[31m\"For dist = 0.76 and optimizer = 0 \"\u001b[0m\n",
            "Exact energy = -1.1367956188204555\n",
            "______________________________________\n",
            "\n",
            "\n",
            "On GPU: VQE on H2 molecule\n"
          ]
        },
        {
          "output_type": "stream",
          "name": "stderr",
          "text": [
            "<ipython-input-24-71e0050618af>:24: DeprecationWarning: Option approximation=False is deprecated as of qiskit-aer 0.13. It will be removed no earlier than 3 months after the release date. Instead, use BackendEstimator from qiskit.primitives.\n",
            "  gpu_energy, time_taken = UCCSD_VQE_Optimizer(molecule, optimizer2)\n"
          ]
        },
        {
          "output_type": "stream",
          "name": "stdout",
          "text": [
            "Time taken: 0.26877198696136473, Energy: -1.1065623982732786\n",
            "Error: -0.026595124089717245\n",
            "\u001b[31m\"For dist = 0.765 and optimizer = 0 \"\u001b[0m\n",
            "Exact energy = -1.1365799256881992\n",
            "______________________________________\n",
            "\n",
            "\n",
            "On GPU: VQE on H2 molecule\n"
          ]
        },
        {
          "output_type": "stream",
          "name": "stderr",
          "text": [
            "<ipython-input-24-71e0050618af>:24: DeprecationWarning: Option approximation=False is deprecated as of qiskit-aer 0.13. It will be removed no earlier than 3 months after the release date. Instead, use BackendEstimator from qiskit.primitives.\n",
            "  gpu_energy, time_taken = UCCSD_VQE_Optimizer(molecule, optimizer2)\n"
          ]
        },
        {
          "output_type": "stream",
          "name": "stdout",
          "text": [
            "Time taken: 0.267145676612854, Energy: -0.9609004860488901\n",
            "Error: -0.15456848715054966\n",
            "\u001b[31m\"For dist = 0.77 and optimizer = 0 \"\u001b[0m\n",
            "Exact energy = -1.1363291345101934\n",
            "______________________________________\n",
            "\n",
            "\n",
            "On GPU: VQE on H2 molecule\n"
          ]
        },
        {
          "output_type": "stream",
          "name": "stderr",
          "text": [
            "<ipython-input-24-71e0050618af>:24: DeprecationWarning: Option approximation=False is deprecated as of qiskit-aer 0.13. It will be removed no earlier than 3 months after the release date. Instead, use BackendEstimator from qiskit.primitives.\n",
            "  gpu_energy, time_taken = UCCSD_VQE_Optimizer(molecule, optimizer2)\n"
          ]
        },
        {
          "output_type": "stream",
          "name": "stdout",
          "text": [
            "Time taken: 0.26706164360046386, Energy: -1.136233988141726\n",
            "Error: -8.37313464714735e-05\n",
            "\u001b[31m\"For dist = 0.775 and optimizer = 0 \"\u001b[0m\n",
            "Exact energy = -1.1360443632279185\n",
            "______________________________________\n",
            "\n",
            "\n",
            "On GPU: VQE on H2 molecule\n"
          ]
        },
        {
          "output_type": "stream",
          "name": "stderr",
          "text": [
            "<ipython-input-24-71e0050618af>:24: DeprecationWarning: Option approximation=False is deprecated as of qiskit-aer 0.13. It will be removed no earlier than 3 months after the release date. Instead, use BackendEstimator from qiskit.primitives.\n",
            "  gpu_energy, time_taken = UCCSD_VQE_Optimizer(molecule, optimizer2)\n"
          ]
        },
        {
          "output_type": "stream",
          "name": "stdout",
          "text": [
            "Time taken: 0.2661558532714844, Energy: -1.06936866367071\n",
            "Error: -0.05869110548443577\n",
            "\u001b[31m\"For dist = 0.78 and optimizer = 0 \"\u001b[0m\n",
            "Exact energy = -1.1357266966302206\n",
            "______________________________________\n",
            "\n",
            "\n",
            "On GPU: VQE on H2 molecule\n"
          ]
        },
        {
          "output_type": "stream",
          "name": "stderr",
          "text": [
            "<ipython-input-24-71e0050618af>:24: DeprecationWarning: Option approximation=False is deprecated as of qiskit-aer 0.13. It will be removed no earlier than 3 months after the release date. Instead, use BackendEstimator from qiskit.primitives.\n",
            "  gpu_energy, time_taken = UCCSD_VQE_Optimizer(molecule, optimizer2)\n"
          ]
        },
        {
          "output_type": "stream",
          "name": "stdout",
          "text": [
            "Time taken: 0.267765474319458, Energy: -1.1406656153670105\n",
            "Error: 0.004348685957144424\n",
            "\u001b[31m\"For dist = 0.785 and optimizer = 0 \"\u001b[0m\n",
            "Exact energy = -1.1353771873333516\n",
            "______________________________________\n",
            "\n",
            "\n",
            "On GPU: VQE on H2 molecule\n"
          ]
        },
        {
          "output_type": "stream",
          "name": "stderr",
          "text": [
            "<ipython-input-24-71e0050618af>:24: DeprecationWarning: Option approximation=False is deprecated as of qiskit-aer 0.13. It will be removed no earlier than 3 months after the release date. Instead, use BackendEstimator from qiskit.primitives.\n",
            "  gpu_energy, time_taken = UCCSD_VQE_Optimizer(molecule, optimizer2)\n"
          ]
        },
        {
          "output_type": "stream",
          "name": "stdout",
          "text": [
            "Time taken: 0.2645057964324951, Energy: -1.1020553969366393\n",
            "Error: -0.029348652384829726\n",
            "\u001b[31m\"For dist = 0.79 and optimizer = 0 \"\u001b[0m\n",
            "Exact energy = -1.1349968567347266\n",
            "______________________________________\n",
            "\n",
            "\n",
            "On GPU: VQE on H2 molecule\n"
          ]
        },
        {
          "output_type": "stream",
          "name": "stderr",
          "text": [
            "<ipython-input-24-71e0050618af>:24: DeprecationWarning: Option approximation=False is deprecated as of qiskit-aer 0.13. It will be removed no earlier than 3 months after the release date. Instead, use BackendEstimator from qiskit.primitives.\n",
            "  gpu_energy, time_taken = UCCSD_VQE_Optimizer(molecule, optimizer2)\n"
          ]
        },
        {
          "output_type": "stream",
          "name": "stdout",
          "text": [
            "Time taken: 0.26823169708251954, Energy: -1.0427037961303551\n",
            "Error: -0.08131569709354919\n",
            "\u001b[31m\"For dist = 0.795 and optimizer = 0 \"\u001b[0m\n",
            "Exact energy = -1.134586695941825\n",
            "______________________________________\n",
            "\n",
            "\n",
            "On GPU: VQE on H2 molecule\n"
          ]
        },
        {
          "output_type": "stream",
          "name": "stderr",
          "text": [
            "<ipython-input-24-71e0050618af>:24: DeprecationWarning: Option approximation=False is deprecated as of qiskit-aer 0.13. It will be removed no earlier than 3 months after the release date. Instead, use BackendEstimator from qiskit.primitives.\n",
            "  gpu_energy, time_taken = UCCSD_VQE_Optimizer(molecule, optimizer2)\n"
          ]
        },
        {
          "output_type": "stream",
          "name": "stdout",
          "text": [
            "Time taken: 0.26766149044036863, Energy: -1.040587858385848\n",
            "Error: -0.08284852791962981\n",
            "\u001b[31m\"For dist = 0.8 and optimizer = 0 \"\u001b[0m\n",
            "Exact energy = -1.1341476666770935\n",
            "______________________________________\n",
            "\n",
            "\n",
            "On GPU: VQE on H2 molecule\n"
          ]
        },
        {
          "output_type": "stream",
          "name": "stderr",
          "text": [
            "<ipython-input-24-71e0050618af>:24: DeprecationWarning: Option approximation=False is deprecated as of qiskit-aer 0.13. It will be removed no earlier than 3 months after the release date. Instead, use BackendEstimator from qiskit.primitives.\n",
            "  gpu_energy, time_taken = UCCSD_VQE_Optimizer(molecule, optimizer2)\n"
          ]
        },
        {
          "output_type": "stream",
          "name": "stdout",
          "text": [
            "Time taken: 0.2642622423171997, Energy: -0.989414469653228\n",
            "Error: -0.127614067617769\n"
          ]
        }
      ],
      "source": [
        "for d in distances:\n",
        "  molecule = MoleculeInfo([\"H\", \"H\"], [(0.0, 0.0, 0.0), (0.0, 0.0, d)], charge=0, multiplicity=1)\n",
        "  driver = PySCFDriver.from_molecule(molecule, basis=\"sto3g\")\n",
        "  problem = driver.run()\n",
        "\n",
        "  # mapper\n",
        "  mapper = JordanWignerMapper()\n",
        "  qubit_op = mapper.map(problem.second_q_ops()[0])\n",
        "  result = exact_solver(qubit_op, problem)\n",
        "  exact_energy = result.total_energies[0].real\n",
        "  exacts.append(exact_energy)\n",
        "\n",
        "  seed = 170\n",
        "\n",
        "  print(f\"\\x1b[31m\\\"For dist = {d} and optimizer = {i} \\\"\\x1b[0m\")\n",
        "\n",
        "  print(f\"Exact energy = {exact_energy}\")\n",
        "\n",
        "  print(\"______________________________________\\n\\n\")\n",
        "\n",
        "\n",
        "  print(\"On GPU: VQE on H2 molecule\")\n",
        "\n",
        "  gpu_energy, time_taken = UCCSD_VQE_Optimizer(molecule, optimizer2)\n",
        "\n",
        "  print(f\"Time taken: {time_taken}, Energy: {gpu_energy}\")\n",
        "  gpu_error = (gpu_energy-exact_energy)/exact_energy\n",
        "  print(f\"Error: {gpu_error}\")\n",
        "  optimizer2_errors.append(gpu_error)\n",
        "  optimizer2_times.append(time_taken)"
      ]
    },
    {
      "cell_type": "code",
      "execution_count": null,
      "metadata": {
        "id": "G6UJk1l7hlir"
      },
      "outputs": [],
      "source": [
        "with open('/content/drive/MyDrive/opt2_errors.txt', 'w') as f:\n",
        "  json.dump(optimizer2_errors, f)\n",
        "\n",
        "with open('/content/drive/MyDrive/opt2_times.txt', 'w') as f:\n",
        "  json.dump(optimizer2_times, f)"
      ]
    },
    {
      "cell_type": "code",
      "execution_count": null,
      "metadata": {
        "id": "PWwUtvr8SIw5",
        "colab": {
          "base_uri": "https://localhost:8080/"
        },
        "outputId": "3f80b708-2b46-43a1-af5e-c7bba66adfe1"
      },
      "outputs": [
        {
          "output_type": "stream",
          "name": "stdout",
          "text": [
            "\u001b[31m\"For dist = 0.7 and optimizer = 0 \"\u001b[0m\n",
            "Exact energy = -1.136189454065926\n",
            "______________________________________\n",
            "\n",
            "\n",
            "On GPU: VQE on H2 molecule\n"
          ]
        },
        {
          "output_type": "stream",
          "name": "stderr",
          "text": [
            "<ipython-input-26-db8817539213>:24: DeprecationWarning: Option approximation=False is deprecated as of qiskit-aer 0.13. It will be removed no earlier than 3 months after the release date. Instead, use BackendEstimator from qiskit.primitives.\n",
            "  gpu_energy, time_taken = UCCSD_VQE_Optimizer(molecule, optimizer3)\n"
          ]
        },
        {
          "output_type": "stream",
          "name": "stdout",
          "text": [
            "Time taken: 0.24279426097869872, Energy: -1.057154173434696\n",
            "Error: -0.06956170940365379\n",
            "\u001b[31m\"For dist = 0.705 and optimizer = 0 \"\u001b[0m\n",
            "Exact energy = -1.1364956748548263\n",
            "______________________________________\n",
            "\n",
            "\n",
            "On GPU: VQE on H2 molecule\n"
          ]
        },
        {
          "output_type": "stream",
          "name": "stderr",
          "text": [
            "<ipython-input-26-db8817539213>:24: DeprecationWarning: Option approximation=False is deprecated as of qiskit-aer 0.13. It will be removed no earlier than 3 months after the release date. Instead, use BackendEstimator from qiskit.primitives.\n",
            "  gpu_energy, time_taken = UCCSD_VQE_Optimizer(molecule, optimizer3)\n"
          ]
        },
        {
          "output_type": "stream",
          "name": "stdout",
          "text": [
            "Time taken: 0.23724255561828614, Energy: -1.0524938742108798\n",
            "Error: -0.07391299632941999\n",
            "\u001b[31m\"For dist = 0.71 and optimizer = 0 \"\u001b[0m\n",
            "Exact energy = -1.136750397283203\n",
            "______________________________________\n",
            "\n",
            "\n",
            "On GPU: VQE on H2 molecule\n"
          ]
        },
        {
          "output_type": "stream",
          "name": "stderr",
          "text": [
            "<ipython-input-26-db8817539213>:24: DeprecationWarning: Option approximation=False is deprecated as of qiskit-aer 0.13. It will be removed no earlier than 3 months after the release date. Instead, use BackendEstimator from qiskit.primitives.\n",
            "  gpu_energy, time_taken = UCCSD_VQE_Optimizer(molecule, optimizer3)\n"
          ]
        },
        {
          "output_type": "stream",
          "name": "stdout",
          "text": [
            "Time taken: 0.24083178520202636, Energy: -1.0224047886330625\n",
            "Error: -0.10058989987900842\n",
            "\u001b[31m\"For dist = 0.715 and optimizer = 0 \"\u001b[0m\n",
            "Exact energy = -1.1369552252566244\n",
            "______________________________________\n",
            "\n",
            "\n",
            "On GPU: VQE on H2 molecule\n"
          ]
        },
        {
          "output_type": "stream",
          "name": "stderr",
          "text": [
            "<ipython-input-26-db8817539213>:24: DeprecationWarning: Option approximation=False is deprecated as of qiskit-aer 0.13. It will be removed no earlier than 3 months after the release date. Instead, use BackendEstimator from qiskit.primitives.\n",
            "  gpu_energy, time_taken = UCCSD_VQE_Optimizer(molecule, optimizer3)\n"
          ]
        },
        {
          "output_type": "stream",
          "name": "stdout",
          "text": [
            "Time taken: 0.24091657161712646, Energy: -0.9867678687914971\n",
            "Error: -0.13209610469157057\n",
            "\u001b[31m\"For dist = 0.72 and optimizer = 0 \"\u001b[0m\n",
            "Exact energy = -1.137111715115467\n",
            "______________________________________\n",
            "\n",
            "\n",
            "On GPU: VQE on H2 molecule\n"
          ]
        },
        {
          "output_type": "stream",
          "name": "stderr",
          "text": [
            "<ipython-input-26-db8817539213>:24: DeprecationWarning: Option approximation=False is deprecated as of qiskit-aer 0.13. It will be removed no earlier than 3 months after the release date. Instead, use BackendEstimator from qiskit.primitives.\n",
            "  gpu_energy, time_taken = UCCSD_VQE_Optimizer(molecule, optimizer3)\n"
          ]
        },
        {
          "output_type": "stream",
          "name": "stdout",
          "text": [
            "Time taken: 0.2379633045196533, Energy: -1.0997933081627342\n",
            "Error: -0.03281859333314787\n",
            "\u001b[31m\"For dist = 0.725 and optimizer = 0 \"\u001b[0m\n",
            "Exact energy = -1.1372213770723036\n",
            "______________________________________\n",
            "\n",
            "\n",
            "On GPU: VQE on H2 molecule\n"
          ]
        },
        {
          "output_type": "stream",
          "name": "stderr",
          "text": [
            "<ipython-input-26-db8817539213>:24: DeprecationWarning: Option approximation=False is deprecated as of qiskit-aer 0.13. It will be removed no earlier than 3 months after the release date. Instead, use BackendEstimator from qiskit.primitives.\n",
            "  gpu_energy, time_taken = UCCSD_VQE_Optimizer(molecule, optimizer3)\n"
          ]
        },
        {
          "output_type": "stream",
          "name": "stdout",
          "text": [
            "Time taken: 0.24057267665863036, Energy: -0.9900987652818621\n",
            "Error: -0.12937024818263468\n",
            "\u001b[31m\"For dist = 0.73 and optimizer = 0 \"\u001b[0m\n",
            "Exact energy = -1.1372856765971062\n",
            "______________________________________\n",
            "\n",
            "\n",
            "On GPU: VQE on H2 molecule\n"
          ]
        },
        {
          "output_type": "stream",
          "name": "stderr",
          "text": [
            "<ipython-input-26-db8817539213>:24: DeprecationWarning: Option approximation=False is deprecated as of qiskit-aer 0.13. It will be removed no earlier than 3 months after the release date. Instead, use BackendEstimator from qiskit.primitives.\n",
            "  gpu_energy, time_taken = UCCSD_VQE_Optimizer(molecule, optimizer3)\n"
          ]
        },
        {
          "output_type": "stream",
          "name": "stdout",
          "text": [
            "Time taken: 0.23780269145965577, Energy: -1.0569008935076039\n",
            "Error: -0.07068125867022539\n",
            "\u001b[31m\"For dist = 0.735 and optimizer = 0 \"\u001b[0m\n",
            "Exact energy = -1.137306035753399\n",
            "______________________________________\n",
            "\n",
            "\n",
            "On GPU: VQE on H2 molecule\n"
          ]
        },
        {
          "output_type": "stream",
          "name": "stderr",
          "text": [
            "<ipython-input-26-db8817539213>:24: DeprecationWarning: Option approximation=False is deprecated as of qiskit-aer 0.13. It will be removed no earlier than 3 months after the release date. Instead, use BackendEstimator from qiskit.primitives.\n",
            "  gpu_energy, time_taken = UCCSD_VQE_Optimizer(molecule, optimizer3)\n"
          ]
        },
        {
          "output_type": "stream",
          "name": "stdout",
          "text": [
            "Time taken: 0.23811084747314454, Energy: -0.996233763608899\n",
            "Error: -0.12404073108699178\n",
            "\u001b[31m\"For dist = 0.74 and optimizer = 0 \"\u001b[0m\n",
            "Exact energy = -1.1372838344885008\n",
            "______________________________________\n",
            "\n",
            "\n",
            "On GPU: VQE on H2 molecule\n"
          ]
        },
        {
          "output_type": "stream",
          "name": "stderr",
          "text": [
            "<ipython-input-26-db8817539213>:24: DeprecationWarning: Option approximation=False is deprecated as of qiskit-aer 0.13. It will be removed no earlier than 3 months after the release date. Instead, use BackendEstimator from qiskit.primitives.\n",
            "  gpu_energy, time_taken = UCCSD_VQE_Optimizer(molecule, optimizer3)\n"
          ]
        },
        {
          "output_type": "stream",
          "name": "stdout",
          "text": [
            "Time taken: 0.23831029891967773, Energy: -1.0340672721647441\n",
            "Error: -0.09075708208776116\n",
            "\u001b[31m\"For dist = 0.745 and optimizer = 0 \"\u001b[0m\n",
            "Exact energy = -1.1372204118806812\n",
            "______________________________________\n",
            "\n",
            "\n",
            "On GPU: VQE on H2 molecule\n"
          ]
        },
        {
          "output_type": "stream",
          "name": "stderr",
          "text": [
            "<ipython-input-26-db8817539213>:24: DeprecationWarning: Option approximation=False is deprecated as of qiskit-aer 0.13. It will be removed no earlier than 3 months after the release date. Instead, use BackendEstimator from qiskit.primitives.\n",
            "  gpu_energy, time_taken = UCCSD_VQE_Optimizer(molecule, optimizer3)\n"
          ]
        },
        {
          "output_type": "stream",
          "name": "stdout",
          "text": [
            "Time taken: 0.23558911800384522, Energy: -1.18130538881314\n",
            "Error: 0.038765551929861225\n",
            "\u001b[31m\"For dist = 0.75 and optimizer = 0 \"\u001b[0m\n",
            "Exact energy = -1.1371170673457311\n",
            "______________________________________\n",
            "\n",
            "\n",
            "On GPU: VQE on H2 molecule\n"
          ]
        },
        {
          "output_type": "stream",
          "name": "stderr",
          "text": [
            "<ipython-input-26-db8817539213>:24: DeprecationWarning: Option approximation=False is deprecated as of qiskit-aer 0.13. It will be removed no earlier than 3 months after the release date. Instead, use BackendEstimator from qiskit.primitives.\n",
            "  gpu_energy, time_taken = UCCSD_VQE_Optimizer(molecule, optimizer3)\n"
          ]
        },
        {
          "output_type": "stream",
          "name": "stdout",
          "text": [
            "Time taken: 0.24150796890258788, Energy: -1.0107941751593181\n",
            "Error: -0.11109048998910644\n",
            "\u001b[31m\"For dist = 0.755 and optimizer = 0 \"\u001b[0m\n",
            "Exact energy = -1.1369750618055006\n",
            "______________________________________\n",
            "\n",
            "\n",
            "On GPU: VQE on H2 molecule\n"
          ]
        },
        {
          "output_type": "stream",
          "name": "stderr",
          "text": [
            "<ipython-input-26-db8817539213>:24: DeprecationWarning: Option approximation=False is deprecated as of qiskit-aer 0.13. It will be removed no earlier than 3 months after the release date. Instead, use BackendEstimator from qiskit.primitives.\n",
            "  gpu_energy, time_taken = UCCSD_VQE_Optimizer(molecule, optimizer3)\n"
          ]
        },
        {
          "output_type": "stream",
          "name": "stdout",
          "text": [
            "Time taken: 0.23680789470672609, Energy: -1.064389457084784\n",
            "Error: -0.06384098223355188\n",
            "\u001b[31m\"For dist = 0.76 and optimizer = 0 \"\u001b[0m\n",
            "Exact energy = -1.1367956188204573\n",
            "______________________________________\n",
            "\n",
            "\n",
            "On GPU: VQE on H2 molecule\n"
          ]
        },
        {
          "output_type": "stream",
          "name": "stderr",
          "text": [
            "<ipython-input-26-db8817539213>:24: DeprecationWarning: Option approximation=False is deprecated as of qiskit-aer 0.13. It will be removed no earlier than 3 months after the release date. Instead, use BackendEstimator from qiskit.primitives.\n",
            "  gpu_energy, time_taken = UCCSD_VQE_Optimizer(molecule, optimizer3)\n"
          ]
        },
        {
          "output_type": "stream",
          "name": "stdout",
          "text": [
            "Time taken: 0.2431031036376953, Energy: -1.1240866712734583\n",
            "Error: -0.011179623968102438\n",
            "\u001b[31m\"For dist = 0.765 and optimizer = 0 \"\u001b[0m\n",
            "Exact energy = -1.1365799256881965\n",
            "______________________________________\n",
            "\n",
            "\n",
            "On GPU: VQE on H2 molecule\n"
          ]
        },
        {
          "output_type": "stream",
          "name": "stderr",
          "text": [
            "<ipython-input-26-db8817539213>:24: DeprecationWarning: Option approximation=False is deprecated as of qiskit-aer 0.13. It will be removed no earlier than 3 months after the release date. Instead, use BackendEstimator from qiskit.primitives.\n",
            "  gpu_energy, time_taken = UCCSD_VQE_Optimizer(molecule, optimizer3)\n"
          ]
        },
        {
          "output_type": "stream",
          "name": "stdout",
          "text": [
            "Time taken: 0.2379877758026123, Energy: -1.0333309404642104\n",
            "Error: -0.09084181665576149\n",
            "\u001b[31m\"For dist = 0.77 and optimizer = 0 \"\u001b[0m\n",
            "Exact energy = -1.136329134510194\n",
            "______________________________________\n",
            "\n",
            "\n",
            "On GPU: VQE on H2 molecule\n"
          ]
        },
        {
          "output_type": "stream",
          "name": "stderr",
          "text": [
            "<ipython-input-26-db8817539213>:24: DeprecationWarning: Option approximation=False is deprecated as of qiskit-aer 0.13. It will be removed no earlier than 3 months after the release date. Instead, use BackendEstimator from qiskit.primitives.\n",
            "  gpu_energy, time_taken = UCCSD_VQE_Optimizer(molecule, optimizer3)\n"
          ]
        },
        {
          "output_type": "stream",
          "name": "stdout",
          "text": [
            "Time taken: 0.24026226997375488, Energy: -1.1380002207758684\n",
            "Error: 0.0014706005636251408\n",
            "\u001b[31m\"For dist = 0.775 and optimizer = 0 \"\u001b[0m\n",
            "Exact energy = -1.1360443632279162\n",
            "______________________________________\n",
            "\n",
            "\n",
            "On GPU: VQE on H2 molecule\n"
          ]
        },
        {
          "output_type": "stream",
          "name": "stderr",
          "text": [
            "<ipython-input-26-db8817539213>:24: DeprecationWarning: Option approximation=False is deprecated as of qiskit-aer 0.13. It will be removed no earlier than 3 months after the release date. Instead, use BackendEstimator from qiskit.primitives.\n",
            "  gpu_energy, time_taken = UCCSD_VQE_Optimizer(molecule, optimizer3)\n"
          ]
        },
        {
          "output_type": "stream",
          "name": "stdout",
          "text": [
            "Time taken: 0.23906739234924315, Energy: -1.105160626573864\n",
            "Error: -0.02718532625460175\n",
            "\u001b[31m\"For dist = 0.78 and optimizer = 0 \"\u001b[0m\n",
            "Exact energy = -1.1357266966302206\n",
            "______________________________________\n",
            "\n",
            "\n",
            "On GPU: VQE on H2 molecule\n"
          ]
        },
        {
          "output_type": "stream",
          "name": "stderr",
          "text": [
            "<ipython-input-26-db8817539213>:24: DeprecationWarning: Option approximation=False is deprecated as of qiskit-aer 0.13. It will be removed no earlier than 3 months after the release date. Instead, use BackendEstimator from qiskit.primitives.\n",
            "  gpu_energy, time_taken = UCCSD_VQE_Optimizer(molecule, optimizer3)\n"
          ]
        },
        {
          "output_type": "stream",
          "name": "stdout",
          "text": [
            "Time taken: 0.23692487716674804, Energy: -1.0357772013059223\n",
            "Error: -0.0880048832354257\n",
            "\u001b[31m\"For dist = 0.785 and optimizer = 0 \"\u001b[0m\n",
            "Exact energy = -1.1353771873333498\n",
            "______________________________________\n",
            "\n",
            "\n",
            "On GPU: VQE on H2 molecule\n"
          ]
        },
        {
          "output_type": "stream",
          "name": "stderr",
          "text": [
            "<ipython-input-26-db8817539213>:24: DeprecationWarning: Option approximation=False is deprecated as of qiskit-aer 0.13. It will be removed no earlier than 3 months after the release date. Instead, use BackendEstimator from qiskit.primitives.\n",
            "  gpu_energy, time_taken = UCCSD_VQE_Optimizer(molecule, optimizer3)\n"
          ]
        },
        {
          "output_type": "stream",
          "name": "stdout",
          "text": [
            "Time taken: 0.2392720413208008, Energy: -1.0999898501123377\n",
            "Error: -0.03116791284500438\n",
            "\u001b[31m\"For dist = 0.79 and optimizer = 0 \"\u001b[0m\n",
            "Exact energy = -1.1349968567347213\n",
            "______________________________________\n",
            "\n",
            "\n",
            "On GPU: VQE on H2 molecule\n"
          ]
        },
        {
          "output_type": "stream",
          "name": "stderr",
          "text": [
            "<ipython-input-26-db8817539213>:24: DeprecationWarning: Option approximation=False is deprecated as of qiskit-aer 0.13. It will be removed no earlier than 3 months after the release date. Instead, use BackendEstimator from qiskit.primitives.\n",
            "  gpu_energy, time_taken = UCCSD_VQE_Optimizer(molecule, optimizer3)\n"
          ]
        },
        {
          "output_type": "stream",
          "name": "stdout",
          "text": [
            "Time taken: 0.2397710371017456, Energy: -1.1318061032300029\n",
            "Error: -0.0028112443534847494\n",
            "\u001b[31m\"For dist = 0.795 and optimizer = 0 \"\u001b[0m\n",
            "Exact energy = -1.1345866959418196\n",
            "______________________________________\n",
            "\n",
            "\n",
            "On GPU: VQE on H2 molecule\n"
          ]
        },
        {
          "output_type": "stream",
          "name": "stderr",
          "text": [
            "<ipython-input-26-db8817539213>:24: DeprecationWarning: Option approximation=False is deprecated as of qiskit-aer 0.13. It will be removed no earlier than 3 months after the release date. Instead, use BackendEstimator from qiskit.primitives.\n",
            "  gpu_energy, time_taken = UCCSD_VQE_Optimizer(molecule, optimizer3)\n"
          ]
        },
        {
          "output_type": "stream",
          "name": "stdout",
          "text": [
            "Time taken: 0.23741694450378417, Energy: -1.01356567076842\n",
            "Error: -0.10666529548272216\n",
            "\u001b[31m\"For dist = 0.8 and optimizer = 0 \"\u001b[0m\n",
            "Exact energy = -1.1341476666770918\n",
            "______________________________________\n",
            "\n",
            "\n",
            "On GPU: VQE on H2 molecule\n"
          ]
        },
        {
          "output_type": "stream",
          "name": "stderr",
          "text": [
            "<ipython-input-26-db8817539213>:24: DeprecationWarning: Option approximation=False is deprecated as of qiskit-aer 0.13. It will be removed no earlier than 3 months after the release date. Instead, use BackendEstimator from qiskit.primitives.\n",
            "  gpu_energy, time_taken = UCCSD_VQE_Optimizer(molecule, optimizer3)\n"
          ]
        },
        {
          "output_type": "stream",
          "name": "stdout",
          "text": [
            "Time taken: 0.24152610778808595, Energy: -1.0963663359508704\n",
            "Error: -0.03331253225333157\n"
          ]
        }
      ],
      "source": [
        "for d in distances:\n",
        "  molecule = MoleculeInfo([\"H\", \"H\"], [(0.0, 0.0, 0.0), (0.0, 0.0, d)], charge=0, multiplicity=1)\n",
        "  driver = PySCFDriver.from_molecule(molecule, basis=\"sto3g\")\n",
        "  problem = driver.run()\n",
        "\n",
        "  # mapper\n",
        "  mapper = JordanWignerMapper()\n",
        "  qubit_op = mapper.map(problem.second_q_ops()[0])\n",
        "  result = exact_solver(qubit_op, problem)\n",
        "  exact_energy = result.total_energies[0].real\n",
        "  exacts.append(exact_energy)\n",
        "\n",
        "  seed = 170\n",
        "\n",
        "  print(f\"\\x1b[31m\\\"For dist = {d} and optimizer = {i} \\\"\\x1b[0m\")\n",
        "\n",
        "  print(f\"Exact energy = {exact_energy}\")\n",
        "\n",
        "  print(\"______________________________________\\n\\n\")\n",
        "\n",
        "\n",
        "  print(\"On GPU: VQE on H2 molecule\")\n",
        "\n",
        "  gpu_energy, time_taken = UCCSD_VQE_Optimizer(molecule, optimizer3)\n",
        "\n",
        "  print(f\"Time taken: {time_taken}, Energy: {gpu_energy}\")\n",
        "  gpu_error = (gpu_energy-exact_energy)/exact_energy\n",
        "  print(f\"Error: {gpu_error}\")\n",
        "  optimizer3_errors.append(gpu_error)\n",
        "  optimizer3_times.append(time_taken)"
      ]
    },
    {
      "cell_type": "code",
      "execution_count": null,
      "metadata": {
        "id": "kVB-dE6UhqqU"
      },
      "outputs": [],
      "source": [
        "with open('/content/drive/MyDrive/opt3_errors.txt', 'w') as f:\n",
        "  json.dump(optimizer3_errors, f)\n",
        "\n",
        "with open('/content/drive/MyDrive/opt3_times.txt', 'w') as f:\n",
        "  json.dump(optimizer3_times, f)"
      ]
    },
    {
      "cell_type": "markdown",
      "source": [
        "Performance of GPU against different **resilience levels**"
      ],
      "metadata": {
        "id": "--CvVwGa-Ic9"
      }
    },
    {
      "cell_type": "code",
      "source": [
        "def UCCSD_VQE_R1(molecule, iter=1):\n",
        "  driver = PySCFDriver.from_molecule(molecule, basis=\"sto3g\")\n",
        "  problem = driver.run()\n",
        "  time_taken = 0\n",
        "\n",
        "  # mapper\n",
        "  mapper = JordanWignerMapper()\n",
        "  qubit_op = mapper.map(problem.second_q_ops()[0])\n",
        "\n",
        "  gpu_estimator = AerEstimator(\n",
        "    run_options={\"seed\": seed},\n",
        "    transpile_options={\"seed_transpiler\": seed},)\n",
        "  gpu_estimator.set_options(device='GPU')\n",
        "  gpu_estimator.set_options(cuStateVec_enable=True)\n",
        "  # See how they get approximation, we can use error mitigation in our code.\n",
        "  gpu_estimator.set_options(approximation =True)\n",
        "  gpu_estimator.set_options(resilience_level=1)\n",
        "  optimizer = TNC()\n",
        "\n",
        "  ansatz = UCCSD(\n",
        "      problem.num_spatial_orbitals,\n",
        "      problem.num_particles,\n",
        "      mapper,\n",
        "      initial_state=HartreeFock(\n",
        "          problem.num_spatial_orbitals,\n",
        "          problem.num_particles,\n",
        "          mapper,\n",
        "      ),\n",
        "  )\n",
        "\n",
        "  energy = 0\n",
        "\n",
        "  avg_gpu_time = 0\n",
        "  avg_gpu_energy = 0\n",
        "\n",
        "  for _ in range(iter):\n",
        "    start = time.time()\n",
        "    vqe = VQE(gpu_estimator, ansatz, optimizer)\n",
        "    vqe_ground_state_solver = GroundStateEigensolver(mapper, vqe)\n",
        "    vqe_results = vqe_ground_state_solver.solve(problem)\n",
        "    end = time.time()\n",
        "\n",
        "    avg_gpu_energy += vqe_results.groundenergy\n",
        "    avg_gpu_time += end - start\n",
        "\n",
        "  time_taken = avg_gpu_time/iter\n",
        "  energy = avg_gpu_energy/iter\n",
        "\n",
        "  return energy , time_taken\n",
        "\n",
        "\n",
        "def UCCSD_VQE_R2(molecule, iter=1):\n",
        "  driver = PySCFDriver.from_molecule(molecule, basis=\"sto3g\")\n",
        "  problem = driver.run()\n",
        "  time_taken = 0\n",
        "\n",
        "  # mapper\n",
        "  mapper = JordanWignerMapper()\n",
        "  qubit_op = mapper.map(problem.second_q_ops()[0])\n",
        "\n",
        "  gpu_estimator = AerEstimator(\n",
        "    run_options={\"seed\": seed},\n",
        "    transpile_options={\"seed_transpiler\": seed},)\n",
        "  gpu_estimator.set_options(device='GPU')\n",
        "  gpu_estimator.set_options(cuStateVec_enable=True)\n",
        "  # See how they get approximation, we can use error mitigation in our code.\n",
        "  gpu_estimator.set_options(approximation =True)\n",
        "  gpu_estimator.set_options(resilience_level=2)\n",
        "  optimizer = TNC()\n",
        "\n",
        "  ansatz = UCCSD(\n",
        "      problem.num_spatial_orbitals,\n",
        "      problem.num_particles,\n",
        "      mapper,\n",
        "      initial_state=HartreeFock(\n",
        "          problem.num_spatial_orbitals,\n",
        "          problem.num_particles,\n",
        "          mapper,\n",
        "      ),\n",
        "  )\n",
        "\n",
        "  energy = 0\n",
        "\n",
        "  avg_gpu_time = 0\n",
        "  avg_gpu_energy = 0\n",
        "\n",
        "  for _ in range(iter):\n",
        "    start = time.time()\n",
        "    vqe = VQE(gpu_estimator, ansatz, optimizer)\n",
        "    vqe_ground_state_solver = GroundStateEigensolver(mapper, vqe)\n",
        "    vqe_results = vqe_ground_state_solver.solve(problem)\n",
        "    end = time.time()\n",
        "\n",
        "    avg_gpu_energy += vqe_results.groundenergy\n",
        "    avg_gpu_time += end - start\n",
        "\n",
        "  time_taken = avg_gpu_time/iter\n",
        "  energy = avg_gpu_energy/iter\n",
        "\n",
        "  return energy , time_taken\n",
        "\n",
        "def UCCSD_VQE_R3(molecule, iter=1):\n",
        "  driver = PySCFDriver.from_molecule(molecule, basis=\"sto3g\")\n",
        "  problem = driver.run()\n",
        "  time_taken = 0\n",
        "\n",
        "  # mapper\n",
        "  mapper = JordanWignerMapper()\n",
        "  qubit_op = mapper.map(problem.second_q_ops()[0])\n",
        "\n",
        "  gpu_estimator = AerEstimator(\n",
        "    run_options={\"seed\": seed},\n",
        "    transpile_options={\"seed_transpiler\": seed},)\n",
        "  gpu_estimator.set_options(device='GPU')\n",
        "  gpu_estimator.set_options(cuStateVec_enable=True)\n",
        "  # See how they get approximation, we can use error mitigation in our code.\n",
        "  gpu_estimator.set_options(approximation =True)\n",
        "  gpu_estimator.set_options(resilience_level=3)\n",
        "  optimizer = TNC()\n",
        "\n",
        "  ansatz = UCCSD(\n",
        "      problem.num_spatial_orbitals,\n",
        "      problem.num_particles,\n",
        "      mapper,\n",
        "      initial_state=HartreeFock(\n",
        "          problem.num_spatial_orbitals,\n",
        "          problem.num_particles,\n",
        "          mapper,\n",
        "      ),\n",
        "  )\n",
        "\n",
        "  energy = 0\n",
        "\n",
        "  avg_gpu_time = 0\n",
        "  avg_gpu_energy = 0\n",
        "\n",
        "  for _ in range(iter):\n",
        "    start = time.time()\n",
        "    vqe = VQE(gpu_estimator, ansatz, optimizer)\n",
        "    vqe_ground_state_solver = GroundStateEigensolver(mapper, vqe)\n",
        "    vqe_results = vqe_ground_state_solver.solve(problem)\n",
        "    end = time.time()\n",
        "\n",
        "    avg_gpu_energy += vqe_results.groundenergy\n",
        "    avg_gpu_time += end - start\n",
        "\n",
        "  time_taken = avg_gpu_time/iter\n",
        "  energy = avg_gpu_energy/iter\n",
        "\n",
        "  return energy , time_taken"
      ],
      "metadata": {
        "id": "mKoPFnjW9kge"
      },
      "execution_count": null,
      "outputs": []
    },
    {
      "cell_type": "code",
      "source": [
        "exacts = []\n",
        "gpu_errorsR1 = []\n",
        "gpu_timesR1 = []\n",
        "gpu_errorsR2 = []\n",
        "gpu_timesR2 = []\n",
        "gpu_errorsR3 = []\n",
        "gpu_timesR3 = []\n",
        "niter = 100\n",
        "\n",
        "for i in range(3):\n",
        "  for d in distances:\n",
        "    molecule = MoleculeInfo([\"H\", \"H\"], [(0.0, 0.0, 0.0), (0.0, 0.0, d)], charge=0, multiplicity=1)\n",
        "    driver = PySCFDriver.from_molecule(molecule, basis=\"sto3g\")\n",
        "    problem = driver.run()\n",
        "\n",
        "    # mapper\n",
        "    mapper = JordanWignerMapper()\n",
        "    qubit_op = mapper.map(problem.second_q_ops()[0])\n",
        "    result = exact_solver(qubit_op, problem)\n",
        "    exact_energy = result.total_energies[0].real\n",
        "    exacts.append(exact_energy)\n",
        "\n",
        "    seed = 170\n",
        "\n",
        "    print(f\"\\x1b[31m\\\"For dist = {d} and resilience level = {i} \\\"\\x1b[0m\")\n",
        "\n",
        "    print(f\"Exact energy = {exact_energy}\")\n",
        "\n",
        "    print(\"______________________________________\\n\\n\")\n",
        "\n",
        "\n",
        "    print(\"On GPU: VQE on H2 molecule\")\n",
        "    if i == 0:\n",
        "      gpu_energy, time_taken = UCCSD_VQE_R1(molecule)\n",
        "\n",
        "      print(f\"Time taken: {time_taken}, Energy: {gpu_energy}\")\n",
        "      gpu_error = abs(gpu_energy-exact_energy)/abs(exact_energy)\n",
        "      print(f\"Error: {gpu_error}\")\n",
        "      gpu_errorsR1.append(gpu_error)\n",
        "      gpu_timesR1.append(time_taken)\n",
        "    elif i == 1:\n",
        "      gpu_energy, time_taken = UCCSD_VQE_R2(molecule)\n",
        "\n",
        "      print(f\"Time taken: {time_taken}, Energy: {gpu_energy}\")\n",
        "      gpu_error = abs(gpu_energy-exact_energy)/abs(exact_energy)\n",
        "      print(f\"Error: {gpu_error}\")\n",
        "      gpu_errorsR2.append(gpu_error)\n",
        "      gpu_timesR2.append(time_taken)\n",
        "    else:\n",
        "      gpu_energy, time_taken = UCCSD_VQE_R3(molecule)\n",
        "\n",
        "      print(f\"Time taken: {time_taken}, Energy: {gpu_energy}\")\n",
        "      gpu_error = abs(gpu_energy-exact_energy)/abs(exact_energy)\n",
        "      print(f\"Error: {gpu_error}\")\n",
        "      gpu_errorsR3.append(gpu_error)\n",
        "      gpu_timesR3.append(time_taken)"
      ],
      "metadata": {
        "colab": {
          "base_uri": "https://localhost:8080/"
        },
        "id": "veYCBOlA926f",
        "outputId": "ff0e2c2a-1a67-4d53-c95a-64c22b53c1ac"
      },
      "execution_count": null,
      "outputs": [
        {
          "output_type": "stream",
          "name": "stdout",
          "text": [
            "\u001b[31m\"For dist = 0.7 and resilience level = 0 \"\u001b[0m\n",
            "Exact energy = -1.1361894540659208\n",
            "______________________________________\n",
            "\n",
            "\n",
            "On GPU: VQE on H2 molecule\n"
          ]
        },
        {
          "output_type": "stream",
          "name": "stderr",
          "text": [
            "<ipython-input-14-7e5d6fa6b3b1>:34: DeprecationWarning: Option approximation=False is deprecated as of qiskit-aer 0.13. It will be removed no earlier than 3 months after the release date. Instead, use BackendEstimator from qiskit.primitives.\n",
            "  gpu_energy, time_taken = UCCSD_VQE_R1(molecule)\n"
          ]
        },
        {
          "output_type": "stream",
          "name": "stdout",
          "text": [
            "Time taken: 0.6257054805755615, Energy: -1.3816622335918864\n",
            "Error: 0.21604916208958544\n",
            "\u001b[31m\"For dist = 0.705 and resilience level = 0 \"\u001b[0m\n",
            "Exact energy = -1.1364956748548256\n",
            "______________________________________\n",
            "\n",
            "\n",
            "On GPU: VQE on H2 molecule\n"
          ]
        },
        {
          "output_type": "stream",
          "name": "stderr",
          "text": [
            "<ipython-input-14-7e5d6fa6b3b1>:34: DeprecationWarning: Option approximation=False is deprecated as of qiskit-aer 0.13. It will be removed no earlier than 3 months after the release date. Instead, use BackendEstimator from qiskit.primitives.\n",
            "  gpu_energy, time_taken = UCCSD_VQE_R1(molecule)\n"
          ]
        },
        {
          "output_type": "stream",
          "name": "stdout",
          "text": [
            "Time taken: 0.37845611572265625, Energy: -1.2859060984861008\n",
            "Error: 0.13146589726385075\n",
            "\u001b[31m\"For dist = 0.71 and resilience level = 0 \"\u001b[0m\n",
            "Exact energy = -1.1367503972831983\n",
            "______________________________________\n",
            "\n",
            "\n",
            "On GPU: VQE on H2 molecule\n"
          ]
        },
        {
          "output_type": "stream",
          "name": "stderr",
          "text": [
            "<ipython-input-14-7e5d6fa6b3b1>:34: DeprecationWarning: Option approximation=False is deprecated as of qiskit-aer 0.13. It will be removed no earlier than 3 months after the release date. Instead, use BackendEstimator from qiskit.primitives.\n",
            "  gpu_energy, time_taken = UCCSD_VQE_R1(molecule)\n"
          ]
        },
        {
          "output_type": "stream",
          "name": "stdout",
          "text": [
            "Time taken: 0.3967463970184326, Energy: -1.5871860802915012\n",
            "Error: 0.3962485380122423\n",
            "\u001b[31m\"For dist = 0.715 and resilience level = 0 \"\u001b[0m\n",
            "Exact energy = -1.136955225256627\n",
            "______________________________________\n",
            "\n",
            "\n",
            "On GPU: VQE on H2 molecule\n"
          ]
        },
        {
          "output_type": "stream",
          "name": "stderr",
          "text": [
            "<ipython-input-14-7e5d6fa6b3b1>:34: DeprecationWarning: Option approximation=False is deprecated as of qiskit-aer 0.13. It will be removed no earlier than 3 months after the release date. Instead, use BackendEstimator from qiskit.primitives.\n",
            "  gpu_energy, time_taken = UCCSD_VQE_R1(molecule)\n"
          ]
        },
        {
          "output_type": "stream",
          "name": "stdout",
          "text": [
            "Time taken: 0.37638258934020996, Energy: -0.9917054181208567\n",
            "Error: 0.1277533221266347\n",
            "\u001b[31m\"For dist = 0.72 and resilience level = 0 \"\u001b[0m\n",
            "Exact energy = -1.1371117151154657\n",
            "______________________________________\n",
            "\n",
            "\n",
            "On GPU: VQE on H2 molecule\n"
          ]
        },
        {
          "output_type": "stream",
          "name": "stderr",
          "text": [
            "<ipython-input-14-7e5d6fa6b3b1>:34: DeprecationWarning: Option approximation=False is deprecated as of qiskit-aer 0.13. It will be removed no earlier than 3 months after the release date. Instead, use BackendEstimator from qiskit.primitives.\n",
            "  gpu_energy, time_taken = UCCSD_VQE_R1(molecule)\n"
          ]
        },
        {
          "output_type": "stream",
          "name": "stdout",
          "text": [
            "Time taken: 0.45937108993530273, Energy: -0.7656975963070995\n",
            "Error: 0.3266294013782557\n",
            "\u001b[31m\"For dist = 0.725 and resilience level = 0 \"\u001b[0m\n",
            "Exact energy = -1.1372213770723072\n",
            "______________________________________\n",
            "\n",
            "\n",
            "On GPU: VQE on H2 molecule\n"
          ]
        },
        {
          "output_type": "stream",
          "name": "stderr",
          "text": [
            "<ipython-input-14-7e5d6fa6b3b1>:34: DeprecationWarning: Option approximation=False is deprecated as of qiskit-aer 0.13. It will be removed no earlier than 3 months after the release date. Instead, use BackendEstimator from qiskit.primitives.\n",
            "  gpu_energy, time_taken = UCCSD_VQE_R1(molecule)\n"
          ]
        },
        {
          "output_type": "stream",
          "name": "stdout",
          "text": [
            "Time taken: 0.3777182102203369, Energy: -0.6938389243549761\n",
            "Error: 0.3898822706435458\n",
            "\u001b[31m\"For dist = 0.73 and resilience level = 0 \"\u001b[0m\n",
            "Exact energy = -1.137285676597108\n",
            "______________________________________\n",
            "\n",
            "\n",
            "On GPU: VQE on H2 molecule\n"
          ]
        },
        {
          "output_type": "stream",
          "name": "stderr",
          "text": [
            "<ipython-input-14-7e5d6fa6b3b1>:34: DeprecationWarning: Option approximation=False is deprecated as of qiskit-aer 0.13. It will be removed no earlier than 3 months after the release date. Instead, use BackendEstimator from qiskit.primitives.\n",
            "  gpu_energy, time_taken = UCCSD_VQE_R1(molecule)\n"
          ]
        },
        {
          "output_type": "stream",
          "name": "stdout",
          "text": [
            "Time taken: 0.41574883460998535, Energy: -1.3930218724897152\n",
            "Error: 0.22486539763500749\n",
            "\u001b[31m\"For dist = 0.735 and resilience level = 0 \"\u001b[0m\n",
            "Exact energy = -1.1373060357534\n",
            "______________________________________\n",
            "\n",
            "\n",
            "On GPU: VQE on H2 molecule\n"
          ]
        },
        {
          "output_type": "stream",
          "name": "stderr",
          "text": [
            "<ipython-input-14-7e5d6fa6b3b1>:34: DeprecationWarning: Option approximation=False is deprecated as of qiskit-aer 0.13. It will be removed no earlier than 3 months after the release date. Instead, use BackendEstimator from qiskit.primitives.\n",
            "  gpu_energy, time_taken = UCCSD_VQE_R1(molecule)\n"
          ]
        },
        {
          "output_type": "stream",
          "name": "stdout",
          "text": [
            "Time taken: 0.4066314697265625, Energy: -1.3586422615255576\n",
            "Error: 0.19461448265816603\n",
            "\u001b[31m\"For dist = 0.74 and resilience level = 0 \"\u001b[0m\n",
            "Exact energy = -1.1372838344885012\n",
            "______________________________________\n",
            "\n",
            "\n",
            "On GPU: VQE on H2 molecule\n"
          ]
        },
        {
          "output_type": "stream",
          "name": "stderr",
          "text": [
            "<ipython-input-14-7e5d6fa6b3b1>:34: DeprecationWarning: Option approximation=False is deprecated as of qiskit-aer 0.13. It will be removed no earlier than 3 months after the release date. Instead, use BackendEstimator from qiskit.primitives.\n",
            "  gpu_energy, time_taken = UCCSD_VQE_R1(molecule)\n"
          ]
        },
        {
          "output_type": "stream",
          "name": "stdout",
          "text": [
            "Time taken: 0.42507314682006836, Energy: -1.154003496335488\n",
            "Error: 0.014701397610655784\n",
            "\u001b[31m\"For dist = 0.745 and resilience level = 0 \"\u001b[0m\n",
            "Exact energy = -1.137220411880675\n",
            "______________________________________\n",
            "\n",
            "\n",
            "On GPU: VQE on H2 molecule\n"
          ]
        },
        {
          "output_type": "stream",
          "name": "stderr",
          "text": [
            "<ipython-input-14-7e5d6fa6b3b1>:34: DeprecationWarning: Option approximation=False is deprecated as of qiskit-aer 0.13. It will be removed no earlier than 3 months after the release date. Instead, use BackendEstimator from qiskit.primitives.\n",
            "  gpu_energy, time_taken = UCCSD_VQE_R1(molecule)\n"
          ]
        },
        {
          "output_type": "stream",
          "name": "stdout",
          "text": [
            "Time taken: 0.4564533233642578, Energy: -1.0005988147358196\n",
            "Error: 0.12013642713193819\n",
            "\u001b[31m\"For dist = 0.75 and resilience level = 0 \"\u001b[0m\n",
            "Exact energy = -1.1371170673457272\n",
            "______________________________________\n",
            "\n",
            "\n",
            "On GPU: VQE on H2 molecule\n"
          ]
        },
        {
          "output_type": "stream",
          "name": "stderr",
          "text": [
            "<ipython-input-14-7e5d6fa6b3b1>:34: DeprecationWarning: Option approximation=False is deprecated as of qiskit-aer 0.13. It will be removed no earlier than 3 months after the release date. Instead, use BackendEstimator from qiskit.primitives.\n",
            "  gpu_energy, time_taken = UCCSD_VQE_R1(molecule)\n"
          ]
        },
        {
          "output_type": "stream",
          "name": "stdout",
          "text": [
            "Time taken: 0.5608012676239014, Energy: -0.9674622356699675\n",
            "Error: 0.14919733116992967\n",
            "\u001b[31m\"For dist = 0.755 and resilience level = 0 \"\u001b[0m\n",
            "Exact energy = -1.1369750618055077\n",
            "______________________________________\n",
            "\n",
            "\n",
            "On GPU: VQE on H2 molecule\n"
          ]
        },
        {
          "output_type": "stream",
          "name": "stderr",
          "text": [
            "<ipython-input-14-7e5d6fa6b3b1>:34: DeprecationWarning: Option approximation=False is deprecated as of qiskit-aer 0.13. It will be removed no earlier than 3 months after the release date. Instead, use BackendEstimator from qiskit.primitives.\n",
            "  gpu_energy, time_taken = UCCSD_VQE_R1(molecule)\n"
          ]
        },
        {
          "output_type": "stream",
          "name": "stdout",
          "text": [
            "Time taken: 0.4280376434326172, Energy: -1.2522328441959483\n",
            "Error: 0.10137230469014169\n",
            "\u001b[31m\"For dist = 0.76 and resilience level = 0 \"\u001b[0m\n",
            "Exact energy = -1.1367956188204558\n",
            "______________________________________\n",
            "\n",
            "\n",
            "On GPU: VQE on H2 molecule\n"
          ]
        },
        {
          "output_type": "stream",
          "name": "stderr",
          "text": [
            "<ipython-input-14-7e5d6fa6b3b1>:34: DeprecationWarning: Option approximation=False is deprecated as of qiskit-aer 0.13. It will be removed no earlier than 3 months after the release date. Instead, use BackendEstimator from qiskit.primitives.\n",
            "  gpu_energy, time_taken = UCCSD_VQE_R1(molecule)\n"
          ]
        },
        {
          "output_type": "stream",
          "name": "stdout",
          "text": [
            "Time taken: 0.45011448860168457, Energy: -1.6214518982785786\n",
            "Error: 0.4263354568176506\n",
            "\u001b[31m\"For dist = 0.765 and resilience level = 0 \"\u001b[0m\n",
            "Exact energy = -1.136579925688195\n",
            "______________________________________\n",
            "\n",
            "\n",
            "On GPU: VQE on H2 molecule\n"
          ]
        },
        {
          "output_type": "stream",
          "name": "stderr",
          "text": [
            "<ipython-input-14-7e5d6fa6b3b1>:34: DeprecationWarning: Option approximation=False is deprecated as of qiskit-aer 0.13. It will be removed no earlier than 3 months after the release date. Instead, use BackendEstimator from qiskit.primitives.\n",
            "  gpu_energy, time_taken = UCCSD_VQE_R1(molecule)\n"
          ]
        },
        {
          "output_type": "stream",
          "name": "stdout",
          "text": [
            "Time taken: 0.3699381351470947, Energy: -1.6082612445979452\n",
            "Error: 0.4150005716704427\n",
            "\u001b[31m\"For dist = 0.77 and resilience level = 0 \"\u001b[0m\n",
            "Exact energy = -1.1363291345101914\n",
            "______________________________________\n",
            "\n",
            "\n",
            "On GPU: VQE on H2 molecule\n"
          ]
        },
        {
          "output_type": "stream",
          "name": "stderr",
          "text": [
            "<ipython-input-14-7e5d6fa6b3b1>:34: DeprecationWarning: Option approximation=False is deprecated as of qiskit-aer 0.13. It will be removed no earlier than 3 months after the release date. Instead, use BackendEstimator from qiskit.primitives.\n",
            "  gpu_energy, time_taken = UCCSD_VQE_R1(molecule)\n"
          ]
        },
        {
          "output_type": "stream",
          "name": "stdout",
          "text": [
            "Time taken: 0.37809276580810547, Energy: -0.33565690446266766\n",
            "Error: 0.7046129556404002\n",
            "\u001b[31m\"For dist = 0.775 and resilience level = 0 \"\u001b[0m\n",
            "Exact energy = -1.1360443632279118\n",
            "______________________________________\n",
            "\n",
            "\n",
            "On GPU: VQE on H2 molecule\n"
          ]
        },
        {
          "output_type": "stream",
          "name": "stderr",
          "text": [
            "<ipython-input-14-7e5d6fa6b3b1>:34: DeprecationWarning: Option approximation=False is deprecated as of qiskit-aer 0.13. It will be removed no earlier than 3 months after the release date. Instead, use BackendEstimator from qiskit.primitives.\n",
            "  gpu_energy, time_taken = UCCSD_VQE_R1(molecule)\n"
          ]
        },
        {
          "output_type": "stream",
          "name": "stdout",
          "text": [
            "Time taken: 0.3697974681854248, Energy: -0.37746925119496066\n",
            "Error: 0.6677337052908441\n",
            "\u001b[31m\"For dist = 0.78 and resilience level = 0 \"\u001b[0m\n",
            "Exact energy = -1.1357266966302237\n",
            "______________________________________\n",
            "\n",
            "\n",
            "On GPU: VQE on H2 molecule\n"
          ]
        },
        {
          "output_type": "stream",
          "name": "stderr",
          "text": [
            "<ipython-input-14-7e5d6fa6b3b1>:34: DeprecationWarning: Option approximation=False is deprecated as of qiskit-aer 0.13. It will be removed no earlier than 3 months after the release date. Instead, use BackendEstimator from qiskit.primitives.\n",
            "  gpu_energy, time_taken = UCCSD_VQE_R1(molecule)\n"
          ]
        },
        {
          "output_type": "stream",
          "name": "stdout",
          "text": [
            "Time taken: 0.37245774269104004, Energy: -1.0392372131365717\n",
            "Error: 0.08495836522989442\n",
            "\u001b[31m\"For dist = 0.785 and resilience level = 0 \"\u001b[0m\n",
            "Exact energy = -1.1353771873333494\n",
            "______________________________________\n",
            "\n",
            "\n",
            "On GPU: VQE on H2 molecule\n"
          ]
        },
        {
          "output_type": "stream",
          "name": "stderr",
          "text": [
            "<ipython-input-14-7e5d6fa6b3b1>:34: DeprecationWarning: Option approximation=False is deprecated as of qiskit-aer 0.13. It will be removed no earlier than 3 months after the release date. Instead, use BackendEstimator from qiskit.primitives.\n",
            "  gpu_energy, time_taken = UCCSD_VQE_R1(molecule)\n"
          ]
        },
        {
          "output_type": "stream",
          "name": "stdout",
          "text": [
            "Time taken: 0.4919567108154297, Energy: -0.7482743823405261\n",
            "Error: 0.34094643552069975\n",
            "\u001b[31m\"For dist = 0.79 and resilience level = 0 \"\u001b[0m\n",
            "Exact energy = -1.1349968567347262\n",
            "______________________________________\n",
            "\n",
            "\n",
            "On GPU: VQE on H2 molecule\n"
          ]
        },
        {
          "output_type": "stream",
          "name": "stderr",
          "text": [
            "<ipython-input-14-7e5d6fa6b3b1>:34: DeprecationWarning: Option approximation=False is deprecated as of qiskit-aer 0.13. It will be removed no earlier than 3 months after the release date. Instead, use BackendEstimator from qiskit.primitives.\n",
            "  gpu_energy, time_taken = UCCSD_VQE_R1(molecule)\n"
          ]
        },
        {
          "output_type": "stream",
          "name": "stdout",
          "text": [
            "Time taken: 0.3997232913970947, Energy: -1.1704283626509708\n",
            "Error: 0.03121727228230183\n",
            "\u001b[31m\"For dist = 0.795 and resilience level = 0 \"\u001b[0m\n",
            "Exact energy = -1.1345866959418227\n",
            "______________________________________\n",
            "\n",
            "\n",
            "On GPU: VQE on H2 molecule\n"
          ]
        },
        {
          "output_type": "stream",
          "name": "stderr",
          "text": [
            "<ipython-input-14-7e5d6fa6b3b1>:34: DeprecationWarning: Option approximation=False is deprecated as of qiskit-aer 0.13. It will be removed no earlier than 3 months after the release date. Instead, use BackendEstimator from qiskit.primitives.\n",
            "  gpu_energy, time_taken = UCCSD_VQE_R1(molecule)\n"
          ]
        },
        {
          "output_type": "stream",
          "name": "stdout",
          "text": [
            "Time taken: 0.3923311233520508, Energy: -0.6881109875236002\n",
            "Error: 0.39351396417318474\n",
            "\u001b[31m\"For dist = 0.8 and resilience level = 0 \"\u001b[0m\n",
            "Exact energy = -1.1341476666770942\n",
            "______________________________________\n",
            "\n",
            "\n",
            "On GPU: VQE on H2 molecule\n"
          ]
        },
        {
          "output_type": "stream",
          "name": "stderr",
          "text": [
            "<ipython-input-14-7e5d6fa6b3b1>:34: DeprecationWarning: Option approximation=False is deprecated as of qiskit-aer 0.13. It will be removed no earlier than 3 months after the release date. Instead, use BackendEstimator from qiskit.primitives.\n",
            "  gpu_energy, time_taken = UCCSD_VQE_R1(molecule)\n"
          ]
        },
        {
          "output_type": "stream",
          "name": "stdout",
          "text": [
            "Time taken: 0.38234400749206543, Energy: -0.9853447369444182\n",
            "Error: 0.13120242989931757\n",
            "\u001b[31m\"For dist = 0.7 and resilience level = 1 \"\u001b[0m\n",
            "Exact energy = -1.1361894540659234\n",
            "______________________________________\n",
            "\n",
            "\n",
            "On GPU: VQE on H2 molecule\n"
          ]
        },
        {
          "output_type": "stream",
          "name": "stderr",
          "text": [
            "<ipython-input-14-7e5d6fa6b3b1>:42: DeprecationWarning: Option approximation=False is deprecated as of qiskit-aer 0.13. It will be removed no earlier than 3 months after the release date. Instead, use BackendEstimator from qiskit.primitives.\n",
            "  gpu_energy, time_taken = UCCSD_VQE_R2(molecule)\n"
          ]
        },
        {
          "output_type": "stream",
          "name": "stdout",
          "text": [
            "Time taken: 0.37693285942077637, Energy: -1.0697096669605644\n",
            "Error: 0.05851118127127222\n",
            "\u001b[31m\"For dist = 0.705 and resilience level = 1 \"\u001b[0m\n",
            "Exact energy = -1.136495674854824\n",
            "______________________________________\n",
            "\n",
            "\n",
            "On GPU: VQE on H2 molecule\n"
          ]
        },
        {
          "output_type": "stream",
          "name": "stderr",
          "text": [
            "<ipython-input-14-7e5d6fa6b3b1>:42: DeprecationWarning: Option approximation=False is deprecated as of qiskit-aer 0.13. It will be removed no earlier than 3 months after the release date. Instead, use BackendEstimator from qiskit.primitives.\n",
            "  gpu_energy, time_taken = UCCSD_VQE_R2(molecule)\n"
          ]
        },
        {
          "output_type": "stream",
          "name": "stdout",
          "text": [
            "Time taken: 0.3724510669708252, Energy: -1.1999440893117754\n",
            "Error: 0.055828117836925574\n",
            "\u001b[31m\"For dist = 0.71 and resilience level = 1 \"\u001b[0m\n",
            "Exact energy = -1.1367503972832045\n",
            "______________________________________\n",
            "\n",
            "\n",
            "On GPU: VQE on H2 molecule\n"
          ]
        },
        {
          "output_type": "stream",
          "name": "stderr",
          "text": [
            "<ipython-input-14-7e5d6fa6b3b1>:42: DeprecationWarning: Option approximation=False is deprecated as of qiskit-aer 0.13. It will be removed no earlier than 3 months after the release date. Instead, use BackendEstimator from qiskit.primitives.\n",
            "  gpu_energy, time_taken = UCCSD_VQE_R2(molecule)\n"
          ]
        },
        {
          "output_type": "stream",
          "name": "stdout",
          "text": [
            "Time taken: 0.37325096130371094, Energy: -1.7450309965885407\n",
            "Error: 0.5351048046775321\n",
            "\u001b[31m\"For dist = 0.715 and resilience level = 1 \"\u001b[0m\n",
            "Exact energy = -1.1369552252566302\n",
            "______________________________________\n",
            "\n",
            "\n",
            "On GPU: VQE on H2 molecule\n"
          ]
        },
        {
          "output_type": "stream",
          "name": "stderr",
          "text": [
            "<ipython-input-14-7e5d6fa6b3b1>:42: DeprecationWarning: Option approximation=False is deprecated as of qiskit-aer 0.13. It will be removed no earlier than 3 months after the release date. Instead, use BackendEstimator from qiskit.primitives.\n",
            "  gpu_energy, time_taken = UCCSD_VQE_R2(molecule)\n"
          ]
        },
        {
          "output_type": "stream",
          "name": "stdout",
          "text": [
            "Time taken: 0.38957643508911133, Energy: -1.1446668064623189\n",
            "Error: 0.006782660420024963\n",
            "\u001b[31m\"For dist = 0.72 and resilience level = 1 \"\u001b[0m\n",
            "Exact energy = -1.1371117151154597\n",
            "______________________________________\n",
            "\n",
            "\n",
            "On GPU: VQE on H2 molecule\n"
          ]
        },
        {
          "output_type": "stream",
          "name": "stderr",
          "text": [
            "<ipython-input-14-7e5d6fa6b3b1>:42: DeprecationWarning: Option approximation=False is deprecated as of qiskit-aer 0.13. It will be removed no earlier than 3 months after the release date. Instead, use BackendEstimator from qiskit.primitives.\n",
            "  gpu_energy, time_taken = UCCSD_VQE_R2(molecule)\n"
          ]
        },
        {
          "output_type": "stream",
          "name": "stdout",
          "text": [
            "Time taken: 0.38251447677612305, Energy: -0.4969595720745777\n",
            "Error: 0.5629632819110324\n",
            "\u001b[31m\"For dist = 0.725 and resilience level = 1 \"\u001b[0m\n",
            "Exact energy = -1.1372213770723023\n",
            "______________________________________\n",
            "\n",
            "\n",
            "On GPU: VQE on H2 molecule\n"
          ]
        },
        {
          "output_type": "stream",
          "name": "stderr",
          "text": [
            "<ipython-input-14-7e5d6fa6b3b1>:42: DeprecationWarning: Option approximation=False is deprecated as of qiskit-aer 0.13. It will be removed no earlier than 3 months after the release date. Instead, use BackendEstimator from qiskit.primitives.\n",
            "  gpu_energy, time_taken = UCCSD_VQE_R2(molecule)\n"
          ]
        },
        {
          "output_type": "stream",
          "name": "stdout",
          "text": [
            "Time taken: 0.39484167098999023, Energy: -0.7699629741216235\n",
            "Error: 0.3229436329241015\n",
            "\u001b[31m\"For dist = 0.73 and resilience level = 1 \"\u001b[0m\n",
            "Exact energy = -1.1372856765971098\n",
            "______________________________________\n",
            "\n",
            "\n",
            "On GPU: VQE on H2 molecule\n"
          ]
        },
        {
          "output_type": "stream",
          "name": "stderr",
          "text": [
            "<ipython-input-14-7e5d6fa6b3b1>:42: DeprecationWarning: Option approximation=False is deprecated as of qiskit-aer 0.13. It will be removed no earlier than 3 months after the release date. Instead, use BackendEstimator from qiskit.primitives.\n",
            "  gpu_energy, time_taken = UCCSD_VQE_R2(molecule)\n"
          ]
        },
        {
          "output_type": "stream",
          "name": "stdout",
          "text": [
            "Time taken: 0.37827348709106445, Energy: -1.084826648731993\n",
            "Error: 0.046126517676790026\n",
            "\u001b[31m\"For dist = 0.735 and resilience level = 1 \"\u001b[0m\n",
            "Exact energy = -1.1373060357533973\n",
            "______________________________________\n",
            "\n",
            "\n",
            "On GPU: VQE on H2 molecule\n"
          ]
        },
        {
          "output_type": "stream",
          "name": "stderr",
          "text": [
            "<ipython-input-14-7e5d6fa6b3b1>:42: DeprecationWarning: Option approximation=False is deprecated as of qiskit-aer 0.13. It will be removed no earlier than 3 months after the release date. Instead, use BackendEstimator from qiskit.primitives.\n",
            "  gpu_energy, time_taken = UCCSD_VQE_R2(molecule)\n"
          ]
        },
        {
          "output_type": "stream",
          "name": "stdout",
          "text": [
            "Time taken: 0.3712644577026367, Energy: -1.5905198032250276\n",
            "Error: 0.39849763671693106\n",
            "\u001b[31m\"For dist = 0.74 and resilience level = 1 \"\u001b[0m\n",
            "Exact energy = -1.1372838344885028\n",
            "______________________________________\n",
            "\n",
            "\n",
            "On GPU: VQE on H2 molecule\n"
          ]
        },
        {
          "output_type": "stream",
          "name": "stderr",
          "text": [
            "<ipython-input-14-7e5d6fa6b3b1>:42: DeprecationWarning: Option approximation=False is deprecated as of qiskit-aer 0.13. It will be removed no earlier than 3 months after the release date. Instead, use BackendEstimator from qiskit.primitives.\n",
            "  gpu_energy, time_taken = UCCSD_VQE_R2(molecule)\n"
          ]
        },
        {
          "output_type": "stream",
          "name": "stdout",
          "text": [
            "Time taken: 0.38938140869140625, Energy: -0.7228773538947452\n",
            "Error: 0.3643826352109703\n",
            "\u001b[31m\"For dist = 0.745 and resilience level = 1 \"\u001b[0m\n",
            "Exact energy = -1.137220411880676\n",
            "______________________________________\n",
            "\n",
            "\n",
            "On GPU: VQE on H2 molecule\n"
          ]
        },
        {
          "output_type": "stream",
          "name": "stderr",
          "text": [
            "<ipython-input-14-7e5d6fa6b3b1>:42: DeprecationWarning: Option approximation=False is deprecated as of qiskit-aer 0.13. It will be removed no earlier than 3 months after the release date. Instead, use BackendEstimator from qiskit.primitives.\n",
            "  gpu_energy, time_taken = UCCSD_VQE_R2(molecule)\n"
          ]
        },
        {
          "output_type": "stream",
          "name": "stdout",
          "text": [
            "Time taken: 0.3734920024871826, Energy: -0.9947202250284269\n",
            "Error: 0.12530568864534322\n",
            "\u001b[31m\"For dist = 0.75 and resilience level = 1 \"\u001b[0m\n",
            "Exact energy = -1.1371170673457258\n",
            "______________________________________\n",
            "\n",
            "\n",
            "On GPU: VQE on H2 molecule\n"
          ]
        },
        {
          "output_type": "stream",
          "name": "stderr",
          "text": [
            "<ipython-input-14-7e5d6fa6b3b1>:42: DeprecationWarning: Option approximation=False is deprecated as of qiskit-aer 0.13. It will be removed no earlier than 3 months after the release date. Instead, use BackendEstimator from qiskit.primitives.\n",
            "  gpu_energy, time_taken = UCCSD_VQE_R2(molecule)\n"
          ]
        },
        {
          "output_type": "stream",
          "name": "stdout",
          "text": [
            "Time taken: 0.3700902462005615, Energy: -1.3416825864641393\n",
            "Error: 0.17989838073217307\n",
            "\u001b[31m\"For dist = 0.755 and resilience level = 1 \"\u001b[0m\n",
            "Exact energy = -1.1369750618055015\n",
            "______________________________________\n",
            "\n",
            "\n",
            "On GPU: VQE on H2 molecule\n"
          ]
        },
        {
          "output_type": "stream",
          "name": "stderr",
          "text": [
            "<ipython-input-14-7e5d6fa6b3b1>:42: DeprecationWarning: Option approximation=False is deprecated as of qiskit-aer 0.13. It will be removed no earlier than 3 months after the release date. Instead, use BackendEstimator from qiskit.primitives.\n",
            "  gpu_energy, time_taken = UCCSD_VQE_R2(molecule)\n"
          ]
        },
        {
          "output_type": "stream",
          "name": "stdout",
          "text": [
            "Time taken: 0.40227794647216797, Energy: -1.077263010119492\n",
            "Error: 0.052518347756183414\n",
            "\u001b[31m\"For dist = 0.76 and resilience level = 1 \"\u001b[0m\n",
            "Exact energy = -1.1367956188204542\n",
            "______________________________________\n",
            "\n",
            "\n",
            "On GPU: VQE on H2 molecule\n"
          ]
        },
        {
          "output_type": "stream",
          "name": "stderr",
          "text": [
            "<ipython-input-14-7e5d6fa6b3b1>:42: DeprecationWarning: Option approximation=False is deprecated as of qiskit-aer 0.13. It will be removed no earlier than 3 months after the release date. Instead, use BackendEstimator from qiskit.primitives.\n",
            "  gpu_energy, time_taken = UCCSD_VQE_R2(molecule)\n"
          ]
        },
        {
          "output_type": "stream",
          "name": "stdout",
          "text": [
            "Time taken: 0.3731710910797119, Energy: -0.6134845338727203\n",
            "Error: 0.46033875947791264\n",
            "\u001b[31m\"For dist = 0.765 and resilience level = 1 \"\u001b[0m\n",
            "Exact energy = -1.1365799256882005\n",
            "______________________________________\n",
            "\n",
            "\n",
            "On GPU: VQE on H2 molecule\n"
          ]
        },
        {
          "output_type": "stream",
          "name": "stderr",
          "text": [
            "<ipython-input-14-7e5d6fa6b3b1>:42: DeprecationWarning: Option approximation=False is deprecated as of qiskit-aer 0.13. It will be removed no earlier than 3 months after the release date. Instead, use BackendEstimator from qiskit.primitives.\n",
            "  gpu_energy, time_taken = UCCSD_VQE_R2(molecule)\n"
          ]
        },
        {
          "output_type": "stream",
          "name": "stdout",
          "text": [
            "Time taken: 0.37085890769958496, Energy: -1.048809819059116\n",
            "Error: 0.07722299562517759\n",
            "\u001b[31m\"For dist = 0.77 and resilience level = 1 \"\u001b[0m\n",
            "Exact energy = -1.1363291345101962\n",
            "______________________________________\n",
            "\n",
            "\n",
            "On GPU: VQE on H2 molecule\n"
          ]
        },
        {
          "output_type": "stream",
          "name": "stderr",
          "text": [
            "<ipython-input-14-7e5d6fa6b3b1>:42: DeprecationWarning: Option approximation=False is deprecated as of qiskit-aer 0.13. It will be removed no earlier than 3 months after the release date. Instead, use BackendEstimator from qiskit.primitives.\n",
            "  gpu_energy, time_taken = UCCSD_VQE_R2(molecule)\n"
          ]
        },
        {
          "output_type": "stream",
          "name": "stdout",
          "text": [
            "Time taken: 0.37688350677490234, Energy: -1.4614391831537286\n",
            "Error: 0.2861055294368281\n",
            "\u001b[31m\"For dist = 0.775 and resilience level = 1 \"\u001b[0m\n",
            "Exact energy = -1.1360443632279162\n",
            "______________________________________\n",
            "\n",
            "\n",
            "On GPU: VQE on H2 molecule\n"
          ]
        },
        {
          "output_type": "stream",
          "name": "stderr",
          "text": [
            "<ipython-input-14-7e5d6fa6b3b1>:42: DeprecationWarning: Option approximation=False is deprecated as of qiskit-aer 0.13. It will be removed no earlier than 3 months after the release date. Instead, use BackendEstimator from qiskit.primitives.\n",
            "  gpu_energy, time_taken = UCCSD_VQE_R2(molecule)\n"
          ]
        },
        {
          "output_type": "stream",
          "name": "stdout",
          "text": [
            "Time taken: 0.3787384033203125, Energy: -1.2516199842925437\n",
            "Error: 0.10173513007558525\n",
            "\u001b[31m\"For dist = 0.78 and resilience level = 1 \"\u001b[0m\n",
            "Exact energy = -1.135726696630222\n",
            "______________________________________\n",
            "\n",
            "\n",
            "On GPU: VQE on H2 molecule\n"
          ]
        },
        {
          "output_type": "stream",
          "name": "stderr",
          "text": [
            "<ipython-input-14-7e5d6fa6b3b1>:42: DeprecationWarning: Option approximation=False is deprecated as of qiskit-aer 0.13. It will be removed no earlier than 3 months after the release date. Instead, use BackendEstimator from qiskit.primitives.\n",
            "  gpu_energy, time_taken = UCCSD_VQE_R2(molecule)\n"
          ]
        },
        {
          "output_type": "stream",
          "name": "stdout",
          "text": [
            "Time taken: 0.37316370010375977, Energy: -1.739021891576532\n",
            "Error: 0.5311975114579307\n",
            "\u001b[31m\"For dist = 0.785 and resilience level = 1 \"\u001b[0m\n",
            "Exact energy = -1.1353771873333471\n",
            "______________________________________\n",
            "\n",
            "\n",
            "On GPU: VQE on H2 molecule\n"
          ]
        },
        {
          "output_type": "stream",
          "name": "stderr",
          "text": [
            "<ipython-input-14-7e5d6fa6b3b1>:42: DeprecationWarning: Option approximation=False is deprecated as of qiskit-aer 0.13. It will be removed no earlier than 3 months after the release date. Instead, use BackendEstimator from qiskit.primitives.\n",
            "  gpu_energy, time_taken = UCCSD_VQE_R2(molecule)\n"
          ]
        },
        {
          "output_type": "stream",
          "name": "stdout",
          "text": [
            "Time taken: 0.37781262397766113, Energy: -0.7808684663062146\n",
            "Error: 0.312238721177554\n",
            "\u001b[31m\"For dist = 0.79 and resilience level = 1 \"\u001b[0m\n",
            "Exact energy = -1.1349968567347253\n",
            "______________________________________\n",
            "\n",
            "\n",
            "On GPU: VQE on H2 molecule\n"
          ]
        },
        {
          "output_type": "stream",
          "name": "stderr",
          "text": [
            "<ipython-input-14-7e5d6fa6b3b1>:42: DeprecationWarning: Option approximation=False is deprecated as of qiskit-aer 0.13. It will be removed no earlier than 3 months after the release date. Instead, use BackendEstimator from qiskit.primitives.\n",
            "  gpu_energy, time_taken = UCCSD_VQE_R2(molecule)\n"
          ]
        },
        {
          "output_type": "stream",
          "name": "stdout",
          "text": [
            "Time taken: 0.374157190322876, Energy: -1.3344392419134166\n",
            "Error: 0.17572064979322277\n",
            "\u001b[31m\"For dist = 0.795 and resilience level = 1 \"\u001b[0m\n",
            "Exact energy = -1.1345866959418192\n",
            "______________________________________\n",
            "\n",
            "\n",
            "On GPU: VQE on H2 molecule\n"
          ]
        },
        {
          "output_type": "stream",
          "name": "stderr",
          "text": [
            "<ipython-input-14-7e5d6fa6b3b1>:42: DeprecationWarning: Option approximation=False is deprecated as of qiskit-aer 0.13. It will be removed no earlier than 3 months after the release date. Instead, use BackendEstimator from qiskit.primitives.\n",
            "  gpu_energy, time_taken = UCCSD_VQE_R2(molecule)\n"
          ]
        },
        {
          "output_type": "stream",
          "name": "stdout",
          "text": [
            "Time taken: 0.41077685356140137, Energy: -1.531992963748089\n",
            "Error: 0.35026522805856036\n",
            "\u001b[31m\"For dist = 0.8 and resilience level = 1 \"\u001b[0m\n",
            "Exact energy = -1.1341476666770978\n",
            "______________________________________\n",
            "\n",
            "\n",
            "On GPU: VQE on H2 molecule\n"
          ]
        },
        {
          "output_type": "stream",
          "name": "stderr",
          "text": [
            "<ipython-input-14-7e5d6fa6b3b1>:42: DeprecationWarning: Option approximation=False is deprecated as of qiskit-aer 0.13. It will be removed no earlier than 3 months after the release date. Instead, use BackendEstimator from qiskit.primitives.\n",
            "  gpu_energy, time_taken = UCCSD_VQE_R2(molecule)\n"
          ]
        },
        {
          "output_type": "stream",
          "name": "stdout",
          "text": [
            "Time taken: 0.3791186809539795, Energy: -0.906431413205399\n",
            "Error: 0.20078183834639204\n",
            "\u001b[31m\"For dist = 0.7 and resilience level = 2 \"\u001b[0m\n",
            "Exact energy = -1.136189454065922\n",
            "______________________________________\n",
            "\n",
            "\n",
            "On GPU: VQE on H2 molecule\n"
          ]
        },
        {
          "output_type": "stream",
          "name": "stderr",
          "text": [
            "<ipython-input-14-7e5d6fa6b3b1>:50: DeprecationWarning: Option approximation=False is deprecated as of qiskit-aer 0.13. It will be removed no earlier than 3 months after the release date. Instead, use BackendEstimator from qiskit.primitives.\n",
            "  gpu_energy, time_taken = UCCSD_VQE_R3(molecule)\n"
          ]
        },
        {
          "output_type": "stream",
          "name": "stdout",
          "text": [
            "Time taken: 0.3842620849609375, Energy: -1.6883418451418168\n",
            "Error: 0.4859685936178903\n",
            "\u001b[31m\"For dist = 0.705 and resilience level = 2 \"\u001b[0m\n",
            "Exact energy = -1.1364956748548307\n",
            "______________________________________\n",
            "\n",
            "\n",
            "On GPU: VQE on H2 molecule\n"
          ]
        },
        {
          "output_type": "stream",
          "name": "stderr",
          "text": [
            "<ipython-input-14-7e5d6fa6b3b1>:50: DeprecationWarning: Option approximation=False is deprecated as of qiskit-aer 0.13. It will be removed no earlier than 3 months after the release date. Instead, use BackendEstimator from qiskit.primitives.\n",
            "  gpu_energy, time_taken = UCCSD_VQE_R3(molecule)\n"
          ]
        },
        {
          "output_type": "stream",
          "name": "stdout",
          "text": [
            "Time taken: 0.3859257698059082, Energy: -0.7513268243229159\n",
            "Error: 0.3389092092947156\n",
            "\u001b[31m\"For dist = 0.71 and resilience level = 2 \"\u001b[0m\n",
            "Exact energy = -1.1367503972832032\n",
            "______________________________________\n",
            "\n",
            "\n",
            "On GPU: VQE on H2 molecule\n"
          ]
        },
        {
          "output_type": "stream",
          "name": "stderr",
          "text": [
            "<ipython-input-14-7e5d6fa6b3b1>:50: DeprecationWarning: Option approximation=False is deprecated as of qiskit-aer 0.13. It will be removed no earlier than 3 months after the release date. Instead, use BackendEstimator from qiskit.primitives.\n",
            "  gpu_energy, time_taken = UCCSD_VQE_R3(molecule)\n"
          ]
        },
        {
          "output_type": "stream",
          "name": "stdout",
          "text": [
            "Time taken: 0.39547204971313477, Energy: -1.5751042140955116\n",
            "Error: 0.3856201131400173\n",
            "\u001b[31m\"For dist = 0.715 and resilience level = 2 \"\u001b[0m\n",
            "Exact energy = -1.1369552252566235\n",
            "______________________________________\n",
            "\n",
            "\n",
            "On GPU: VQE on H2 molecule\n"
          ]
        },
        {
          "output_type": "stream",
          "name": "stderr",
          "text": [
            "<ipython-input-14-7e5d6fa6b3b1>:50: DeprecationWarning: Option approximation=False is deprecated as of qiskit-aer 0.13. It will be removed no earlier than 3 months after the release date. Instead, use BackendEstimator from qiskit.primitives.\n",
            "  gpu_energy, time_taken = UCCSD_VQE_R3(molecule)\n"
          ]
        },
        {
          "output_type": "stream",
          "name": "stdout",
          "text": [
            "Time taken: 0.39536380767822266, Energy: -1.0474945406614515\n",
            "Error: 0.07868443946416598\n",
            "\u001b[31m\"For dist = 0.72 and resilience level = 2 \"\u001b[0m\n",
            "Exact energy = -1.1371117151154668\n",
            "______________________________________\n",
            "\n",
            "\n",
            "On GPU: VQE on H2 molecule\n"
          ]
        },
        {
          "output_type": "stream",
          "name": "stderr",
          "text": [
            "<ipython-input-14-7e5d6fa6b3b1>:50: DeprecationWarning: Option approximation=False is deprecated as of qiskit-aer 0.13. It will be removed no earlier than 3 months after the release date. Instead, use BackendEstimator from qiskit.primitives.\n",
            "  gpu_energy, time_taken = UCCSD_VQE_R3(molecule)\n"
          ]
        },
        {
          "output_type": "stream",
          "name": "stdout",
          "text": [
            "Time taken: 0.39728403091430664, Energy: -0.5040067395992749\n",
            "Error: 0.556765854313535\n",
            "\u001b[31m\"For dist = 0.725 and resilience level = 2 \"\u001b[0m\n",
            "Exact energy = -1.1372213770723023\n",
            "______________________________________\n",
            "\n",
            "\n",
            "On GPU: VQE on H2 molecule\n"
          ]
        },
        {
          "output_type": "stream",
          "name": "stderr",
          "text": [
            "<ipython-input-14-7e5d6fa6b3b1>:50: DeprecationWarning: Option approximation=False is deprecated as of qiskit-aer 0.13. It will be removed no earlier than 3 months after the release date. Instead, use BackendEstimator from qiskit.primitives.\n",
            "  gpu_energy, time_taken = UCCSD_VQE_R3(molecule)\n"
          ]
        },
        {
          "output_type": "stream",
          "name": "stdout",
          "text": [
            "Time taken: 0.38187694549560547, Energy: -0.7546129925341859\n",
            "Error: 0.3364414284254093\n",
            "\u001b[31m\"For dist = 0.73 and resilience level = 2 \"\u001b[0m\n",
            "Exact energy = -1.1372856765971049\n",
            "______________________________________\n",
            "\n",
            "\n",
            "On GPU: VQE on H2 molecule\n"
          ]
        },
        {
          "output_type": "stream",
          "name": "stderr",
          "text": [
            "<ipython-input-14-7e5d6fa6b3b1>:50: DeprecationWarning: Option approximation=False is deprecated as of qiskit-aer 0.13. It will be removed no earlier than 3 months after the release date. Instead, use BackendEstimator from qiskit.primitives.\n",
            "  gpu_energy, time_taken = UCCSD_VQE_R3(molecule)\n"
          ]
        },
        {
          "output_type": "stream",
          "name": "stdout",
          "text": [
            "Time taken: 0.37720274925231934, Energy: -0.9569700194299526\n",
            "Error: 0.15854913226963196\n",
            "\u001b[31m\"For dist = 0.735 and resilience level = 2 \"\u001b[0m\n",
            "Exact energy = -1.1373060357534013\n",
            "______________________________________\n",
            "\n",
            "\n",
            "On GPU: VQE on H2 molecule\n"
          ]
        },
        {
          "output_type": "stream",
          "name": "stderr",
          "text": [
            "<ipython-input-14-7e5d6fa6b3b1>:50: DeprecationWarning: Option approximation=False is deprecated as of qiskit-aer 0.13. It will be removed no earlier than 3 months after the release date. Instead, use BackendEstimator from qiskit.primitives.\n",
            "  gpu_energy, time_taken = UCCSD_VQE_R3(molecule)\n"
          ]
        },
        {
          "output_type": "stream",
          "name": "stdout",
          "text": [
            "Time taken: 0.38277387619018555, Energy: -0.9240203369473196\n",
            "Error: 0.1875358892866439\n",
            "\u001b[31m\"For dist = 0.74 and resilience level = 2 \"\u001b[0m\n",
            "Exact energy = -1.1372838344885021\n",
            "______________________________________\n",
            "\n",
            "\n",
            "On GPU: VQE on H2 molecule\n"
          ]
        },
        {
          "output_type": "stream",
          "name": "stderr",
          "text": [
            "<ipython-input-14-7e5d6fa6b3b1>:50: DeprecationWarning: Option approximation=False is deprecated as of qiskit-aer 0.13. It will be removed no earlier than 3 months after the release date. Instead, use BackendEstimator from qiskit.primitives.\n",
            "  gpu_energy, time_taken = UCCSD_VQE_R3(molecule)\n"
          ]
        },
        {
          "output_type": "stream",
          "name": "stdout",
          "text": [
            "Time taken: 0.3779873847961426, Energy: -1.0317727707419808\n",
            "Error: 0.09277460959776618\n",
            "\u001b[31m\"For dist = 0.745 and resilience level = 2 \"\u001b[0m\n",
            "Exact energy = -1.1372204118806701\n",
            "______________________________________\n",
            "\n",
            "\n",
            "On GPU: VQE on H2 molecule\n"
          ]
        },
        {
          "output_type": "stream",
          "name": "stderr",
          "text": [
            "<ipython-input-14-7e5d6fa6b3b1>:50: DeprecationWarning: Option approximation=False is deprecated as of qiskit-aer 0.13. It will be removed no earlier than 3 months after the release date. Instead, use BackendEstimator from qiskit.primitives.\n",
            "  gpu_energy, time_taken = UCCSD_VQE_R3(molecule)\n"
          ]
        },
        {
          "output_type": "stream",
          "name": "stdout",
          "text": [
            "Time taken: 0.3885047435760498, Energy: -0.8616573230823896\n",
            "Error: 0.24231282337130233\n",
            "\u001b[31m\"For dist = 0.75 and resilience level = 2 \"\u001b[0m\n",
            "Exact energy = -1.1371170673457351\n",
            "______________________________________\n",
            "\n",
            "\n",
            "On GPU: VQE on H2 molecule\n"
          ]
        },
        {
          "output_type": "stream",
          "name": "stderr",
          "text": [
            "<ipython-input-14-7e5d6fa6b3b1>:50: DeprecationWarning: Option approximation=False is deprecated as of qiskit-aer 0.13. It will be removed no earlier than 3 months after the release date. Instead, use BackendEstimator from qiskit.primitives.\n",
            "  gpu_energy, time_taken = UCCSD_VQE_R3(molecule)\n"
          ]
        },
        {
          "output_type": "stream",
          "name": "stdout",
          "text": [
            "Time taken: 0.3684248924255371, Energy: -1.492548979219654\n",
            "Error: 0.31257284063422774\n",
            "\u001b[31m\"For dist = 0.755 and resilience level = 2 \"\u001b[0m\n",
            "Exact energy = -1.1369750618055028\n",
            "______________________________________\n",
            "\n",
            "\n",
            "On GPU: VQE on H2 molecule\n"
          ]
        },
        {
          "output_type": "stream",
          "name": "stderr",
          "text": [
            "<ipython-input-14-7e5d6fa6b3b1>:50: DeprecationWarning: Option approximation=False is deprecated as of qiskit-aer 0.13. It will be removed no earlier than 3 months after the release date. Instead, use BackendEstimator from qiskit.primitives.\n",
            "  gpu_energy, time_taken = UCCSD_VQE_R3(molecule)\n"
          ]
        },
        {
          "output_type": "stream",
          "name": "stdout",
          "text": [
            "Time taken: 0.37825489044189453, Energy: -1.1774460937229216\n",
            "Error: 0.035595355849891146\n",
            "\u001b[31m\"For dist = 0.76 and resilience level = 2 \"\u001b[0m\n",
            "Exact energy = -1.136795618820457\n",
            "______________________________________\n",
            "\n",
            "\n",
            "On GPU: VQE on H2 molecule\n"
          ]
        },
        {
          "output_type": "stream",
          "name": "stderr",
          "text": [
            "<ipython-input-14-7e5d6fa6b3b1>:50: DeprecationWarning: Option approximation=False is deprecated as of qiskit-aer 0.13. It will be removed no earlier than 3 months after the release date. Instead, use BackendEstimator from qiskit.primitives.\n",
            "  gpu_energy, time_taken = UCCSD_VQE_R3(molecule)\n"
          ]
        },
        {
          "output_type": "stream",
          "name": "stdout",
          "text": [
            "Time taken: 0.37688231468200684, Energy: -1.1333555410184402\n",
            "Error: 0.003026118103433909\n",
            "\u001b[31m\"For dist = 0.765 and resilience level = 2 \"\u001b[0m\n",
            "Exact energy = -1.1365799256881994\n",
            "______________________________________\n",
            "\n",
            "\n",
            "On GPU: VQE on H2 molecule\n"
          ]
        },
        {
          "output_type": "stream",
          "name": "stderr",
          "text": [
            "<ipython-input-14-7e5d6fa6b3b1>:50: DeprecationWarning: Option approximation=False is deprecated as of qiskit-aer 0.13. It will be removed no earlier than 3 months after the release date. Instead, use BackendEstimator from qiskit.primitives.\n",
            "  gpu_energy, time_taken = UCCSD_VQE_R3(molecule)\n"
          ]
        },
        {
          "output_type": "stream",
          "name": "stdout",
          "text": [
            "Time taken: 0.37779688835144043, Energy: -0.796006993522882\n",
            "Error: 0.2996471470839154\n",
            "\u001b[31m\"For dist = 0.77 and resilience level = 2 \"\u001b[0m\n",
            "Exact energy = -1.1363291345101922\n",
            "______________________________________\n",
            "\n",
            "\n",
            "On GPU: VQE on H2 molecule\n"
          ]
        },
        {
          "output_type": "stream",
          "name": "stderr",
          "text": [
            "<ipython-input-14-7e5d6fa6b3b1>:50: DeprecationWarning: Option approximation=False is deprecated as of qiskit-aer 0.13. It will be removed no earlier than 3 months after the release date. Instead, use BackendEstimator from qiskit.primitives.\n",
            "  gpu_energy, time_taken = UCCSD_VQE_R3(molecule)\n"
          ]
        },
        {
          "output_type": "stream",
          "name": "stdout",
          "text": [
            "Time taken: 0.38140106201171875, Energy: -1.3099459486940483\n",
            "Error: 0.15278743535753184\n",
            "\u001b[31m\"For dist = 0.775 and resilience level = 2 \"\u001b[0m\n",
            "Exact energy = -1.1360443632279091\n",
            "______________________________________\n",
            "\n",
            "\n",
            "On GPU: VQE on H2 molecule\n"
          ]
        },
        {
          "output_type": "stream",
          "name": "stderr",
          "text": [
            "<ipython-input-14-7e5d6fa6b3b1>:50: DeprecationWarning: Option approximation=False is deprecated as of qiskit-aer 0.13. It will be removed no earlier than 3 months after the release date. Instead, use BackendEstimator from qiskit.primitives.\n",
            "  gpu_energy, time_taken = UCCSD_VQE_R3(molecule)\n"
          ]
        },
        {
          "output_type": "stream",
          "name": "stdout",
          "text": [
            "Time taken: 0.4734609127044678, Energy: -1.3973325052233814\n",
            "Error: 0.2299981853288361\n",
            "\u001b[31m\"For dist = 0.78 and resilience level = 2 \"\u001b[0m\n",
            "Exact energy = -1.1357266966302224\n",
            "______________________________________\n",
            "\n",
            "\n",
            "On GPU: VQE on H2 molecule\n"
          ]
        },
        {
          "output_type": "stream",
          "name": "stderr",
          "text": [
            "<ipython-input-14-7e5d6fa6b3b1>:50: DeprecationWarning: Option approximation=False is deprecated as of qiskit-aer 0.13. It will be removed no earlier than 3 months after the release date. Instead, use BackendEstimator from qiskit.primitives.\n",
            "  gpu_energy, time_taken = UCCSD_VQE_R3(molecule)\n"
          ]
        },
        {
          "output_type": "stream",
          "name": "stdout",
          "text": [
            "Time taken: 0.3759148120880127, Energy: -1.5667857576512667\n",
            "Error: 0.37954471115280247\n",
            "\u001b[31m\"For dist = 0.785 and resilience level = 2 \"\u001b[0m\n",
            "Exact energy = -1.1353771873333507\n",
            "______________________________________\n",
            "\n",
            "\n",
            "On GPU: VQE on H2 molecule\n"
          ]
        },
        {
          "output_type": "stream",
          "name": "stderr",
          "text": [
            "<ipython-input-14-7e5d6fa6b3b1>:50: DeprecationWarning: Option approximation=False is deprecated as of qiskit-aer 0.13. It will be removed no earlier than 3 months after the release date. Instead, use BackendEstimator from qiskit.primitives.\n",
            "  gpu_energy, time_taken = UCCSD_VQE_R3(molecule)\n"
          ]
        },
        {
          "output_type": "stream",
          "name": "stdout",
          "text": [
            "Time taken: 0.3772103786468506, Energy: -1.1502923072733071\n",
            "Error: 0.013136709197925157\n",
            "\u001b[31m\"For dist = 0.79 and resilience level = 2 \"\u001b[0m\n",
            "Exact energy = -1.1349968567347242\n",
            "______________________________________\n",
            "\n",
            "\n",
            "On GPU: VQE on H2 molecule\n"
          ]
        },
        {
          "output_type": "stream",
          "name": "stderr",
          "text": [
            "<ipython-input-14-7e5d6fa6b3b1>:50: DeprecationWarning: Option approximation=False is deprecated as of qiskit-aer 0.13. It will be removed no earlier than 3 months after the release date. Instead, use BackendEstimator from qiskit.primitives.\n",
            "  gpu_energy, time_taken = UCCSD_VQE_R3(molecule)\n"
          ]
        },
        {
          "output_type": "stream",
          "name": "stdout",
          "text": [
            "Time taken: 0.3746340274810791, Energy: -0.912233578600927\n",
            "Error: 0.1962677489474865\n",
            "\u001b[31m\"For dist = 0.795 and resilience level = 2 \"\u001b[0m\n",
            "Exact energy = -1.134586695941823\n",
            "______________________________________\n",
            "\n",
            "\n",
            "On GPU: VQE on H2 molecule\n"
          ]
        },
        {
          "output_type": "stream",
          "name": "stderr",
          "text": [
            "<ipython-input-14-7e5d6fa6b3b1>:50: DeprecationWarning: Option approximation=False is deprecated as of qiskit-aer 0.13. It will be removed no earlier than 3 months after the release date. Instead, use BackendEstimator from qiskit.primitives.\n",
            "  gpu_energy, time_taken = UCCSD_VQE_R3(molecule)\n"
          ]
        },
        {
          "output_type": "stream",
          "name": "stdout",
          "text": [
            "Time taken: 0.3736145496368408, Energy: -1.2278192714400273\n",
            "Error: 0.08217316123278869\n",
            "\u001b[31m\"For dist = 0.8 and resilience level = 2 \"\u001b[0m\n",
            "Exact energy = -1.1341476666770982\n",
            "______________________________________\n",
            "\n",
            "\n",
            "On GPU: VQE on H2 molecule\n"
          ]
        },
        {
          "output_type": "stream",
          "name": "stderr",
          "text": [
            "<ipython-input-14-7e5d6fa6b3b1>:50: DeprecationWarning: Option approximation=False is deprecated as of qiskit-aer 0.13. It will be removed no earlier than 3 months after the release date. Instead, use BackendEstimator from qiskit.primitives.\n",
            "  gpu_energy, time_taken = UCCSD_VQE_R3(molecule)\n"
          ]
        },
        {
          "output_type": "stream",
          "name": "stdout",
          "text": [
            "Time taken: 0.37328195571899414, Energy: -1.2158338325732982\n",
            "Error: 0.0720242771697707\n"
          ]
        }
      ]
    },
    {
      "cell_type": "code",
      "source": [
        "from google.colab import drive\n",
        "import json\n",
        "drive.mount('/content/drive')\n",
        "\n",
        "\n",
        "with open('/content/drive/MyDrive/gpu_errorsR1.txt', 'w') as f:\n",
        "  json.dump(gpu_errorsR1, f)\n",
        "with open('/content/drive/MyDrive/gpu_timesR1.txt', 'w') as f:\n",
        "  json.dump(gpu_timesR1, f)\n",
        "\n",
        "with open('/content/drive/MyDrive/gpu_errorsR2.txt', 'w') as f:\n",
        "  json.dump(gpu_errorsR2, f)\n",
        "with open('/content/drive/MyDrive/gpu_timesR2.txt', 'w') as f:\n",
        "  json.dump(gpu_timesR2, f)\n",
        "\n",
        "with open('/content/drive/MyDrive/gpu_errorsR3.txt', 'w') as f:\n",
        "  json.dump(gpu_errorsR3, f)\n",
        "with open('/content/drive/MyDrive/gpu_timesR3.txt', 'w') as f:\n",
        "  json.dump(gpu_timesR3, f)"
      ],
      "metadata": {
        "colab": {
          "base_uri": "https://localhost:8080/"
        },
        "id": "ojidSc7Q9_5G",
        "outputId": "f2701d93-e90d-4d64-ce19-9c64198a0e0f"
      },
      "execution_count": null,
      "outputs": [
        {
          "output_type": "stream",
          "name": "stdout",
          "text": [
            "Drive already mounted at /content/drive; to attempt to forcibly remount, call drive.mount(\"/content/drive\", force_remount=True).\n"
          ]
        }
      ]
    },
    {
      "cell_type": "code",
      "source": [],
      "metadata": {
        "id": "x7tGxvAg-GNm"
      },
      "execution_count": null,
      "outputs": []
    },
    {
      "cell_type": "markdown",
      "metadata": {
        "id": "bbiYegizUpEU"
      },
      "source": [
        "References\n",
        "\n",
        "- [Stack overflow](https://quantumcomputing.stackexchange.com/questions/32667/what-are-the-differences-between-the-two-estimator-in-the-qiskit)\n",
        "\n",
        "- [qiskit_nature simulator deprication](https://github.com/qiskit-community/qiskit-nature/blob/978fcaddd272c64051768a310fec4dee3cc11176/docs/migration/0.5_b_solving_problems.rst#L211)\n",
        "\n",
        "- [qiskit nature h2o tutorial](https://github.com/qiskit-community/qiskit-application-modules-demo-sessions/blob/main/qiskit-nature/Qiskit_Nature_YouTube_Tutorial.ipynb)\n",
        "\n",
        "- [LiH molecule VQE](https://rodneyosodo.medium.com/simulating-molecules-lih-using-vqe-de40d7456fcc)/[LiH molecule VQE](https://gist.github.com/rodneyosodo/698ee32dde649ace70ad1152d276f748)\n",
        "\n"
      ]
    },
    {
      "cell_type": "markdown",
      "metadata": {
        "id": "vRhR8p5XP9gK"
      },
      "source": [
        "Next steps:\n",
        "\n",
        "- For another molecule\n",
        "- Add Error mitigation(https://quantumcomputing.stackexchange.com/questions/29502/what-do-the-resilience-levels-in-qiskit-runtimes-primitives-mean)"
      ]
    },
    {
      "cell_type": "code",
      "execution_count": null,
      "metadata": {
        "id": "4wihmH24Snw9"
      },
      "outputs": [],
      "source": [
        "def get_qubit_op(dist):\n",
        "    # Define Molecule\n",
        "    # accurate dist = 0\n",
        "    molecule = MoleculeInfo(\n",
        "        symbols=[\"H\", \"H\"],\n",
        "        coords=[(0.0, dist, 0.0), (0.0, 0.0, dist)],\n",
        "        charge=0,\n",
        "        multiplicity=1\n",
        "    )\n",
        "\n",
        "    driver = PySCFDriver.from_molecule(molecule, basis=\"sto3g\")\n",
        "\n",
        "    # Get properties\n",
        "    properties = driver.run()\n",
        "\n",
        "    # Now you can get the reduced electronic structure problem\n",
        "    problem = FreezeCoreTransformer(\n",
        "        freeze_core=True, remove_orbitals=[-3, -2]\n",
        "    ).transform(properties)\n",
        "\n",
        "    num_particles = problem.num_particles\n",
        "    num_spatial_orbitals = problem.num_spatial_orbitals\n",
        "\n",
        "    mapper = ParityMapper(num_particles=num_particles)\n",
        "    qubit_op = mapper.map(problem.second_q_ops()[0])\n",
        "    return qubit_op, num_particles, num_spatial_orbitals, problem, mapper\n",
        "\n",
        "def exact_solver(qubit_op, problem):\n",
        "    sol = NumPyMinimumEigensolver().compute_minimum_eigenvalue(qubit_op)\n",
        "    result = problem.interpret(sol)\n",
        "    return result"
      ]
    },
    {
      "cell_type": "code",
      "execution_count": null,
      "metadata": {
        "colab": {
          "base_uri": "https://localhost:8080/"
        },
        "id": "Q3fwzeDU_hr4",
        "outputId": "84bb3f61-dc18-44f0-98b5-7b03519fb60f"
      },
      "outputs": [
        {
          "name": "stderr",
          "output_type": "stream",
          "text": [
            "/usr/local/lib/python3.10/dist-packages/pyscf/dft/libxc.py:771: UserWarning: Since PySCF-2.3, B3LYP (and B3P86) are changed to the VWN-RPA variant, corresponding to the original definition by Stephens et al. (issue 1480) and the same as the B3LYP functional in Gaussian. To restore the VWN5 definition, you can put the setting \"B3LYP_WITH_VWN5 = True\" in pyscf_conf.py\n",
            "  warnings.warn('Since PySCF-2.3, B3LYP (and B3P86) are changed to the VWN-RPA variant, '\n"
          ]
        }
      ],
      "source": [
        "# pylint: disable=undefined-loop-variable,line-too-long\n",
        "distances = np.arange(0.5, 1.5, 0.025)\n",
        "exact_energies = []\n",
        "\n",
        "for dist in distances:\n",
        "    (qubit_op, num_particles, num_spatial_orbitals, problem, mapper) = get_qubit_op(\n",
        "        dist\n",
        "    )\n",
        "\n",
        "    result = exact_solver(qubit_op, problem)\n",
        "    exact_energies.append(result.total_energies[0].real)\n",
        "    # print(\n",
        "    #     f\"Exact Energy: {exact_energies[-1]:.5f}\",\n",
        "    # )"
      ]
    },
    {
      "cell_type": "code",
      "execution_count": null,
      "metadata": {
        "colab": {
          "base_uri": "https://localhost:8080/"
        },
        "id": "XE3P4OsJeWEl",
        "outputId": "65435113-89cf-417a-f1ce-7cb4660c1c88"
      },
      "outputs": [
        {
          "name": "stdout",
          "output_type": "stream",
          "text": [
            "Interatomic Distance: 0.5 VQE Result: -1.13660 Exact Energy: -1.13661 Error: 0.00000\n",
            "Interatomic Distance: 0.52 VQE Result: -1.13726 Exact Energy: -1.13726 Error: 0.00000\n",
            "Interatomic Distance: 0.55 VQE Result: -1.13587 Exact Energy: -1.13587 Error: 0.00000\n",
            "Interatomic Distance: 0.58 VQE Result: -1.13286 Exact Energy: -1.13286 Error: 0.00000\n",
            "Interatomic Distance: 0.6 VQE Result: -1.12856 Exact Energy: -1.12856 Error: 0.00000\n",
            "Interatomic Distance: 0.63 VQE Result: -1.12325 Exact Energy: -1.12326 Error: 0.00000\n",
            "Interatomic Distance: 0.65 VQE Result: -1.11715 Exact Energy: -1.11715 Error: 0.00000\n",
            "Interatomic Distance: 0.68 VQE Result: -1.11044 Exact Energy: -1.11044 Error: 0.00000\n",
            "Interatomic Distance: 0.7 VQE Result: -1.10326 Exact Energy: -1.10326 Error: 0.00000\n",
            "Interatomic Distance: 0.73 VQE Result: -1.09418 Exact Energy: -1.09574 Error: 0.00143\n",
            "Interatomic Distance: 0.75 VQE Result: -1.08799 Exact Energy: -1.08799 Error: 0.00000\n",
            "Interatomic Distance: 0.78 VQE Result: -1.08009 Exact Energy: -1.08009 Error: 0.00000\n",
            "Interatomic Distance: 0.8 VQE Result: -1.07213 Exact Energy: -1.07213 Error: 0.00000\n",
            "Interatomic Distance: 0.83 VQE Result: -1.06417 Exact Energy: -1.06417 Error: 0.00000\n",
            "Interatomic Distance: 0.85 VQE Result: -1.05628 Exact Energy: -1.05628 Error: 0.00000\n",
            "Interatomic Distance: 0.88 VQE Result: -1.04851 Exact Energy: -1.04851 Error: 0.00000\n",
            "Interatomic Distance: 0.9 VQE Result: -0.99161 Exact Energy: -1.04090 Error: 0.04735\n",
            "Interatomic Distance: 0.93 VQE Result: -1.03339 Exact Energy: -1.03350 Error: 0.00011\n",
            "Interatomic Distance: 0.95 VQE Result: -0.96056 Exact Energy: -1.02634 Error: 0.06410\n",
            "Interatomic Distance: 0.98 VQE Result: -1.01945 Exact Energy: -1.01945 Error: 0.00000\n",
            "Interatomic Distance: 1.0 VQE Result: -1.01282 Exact Energy: -1.01285 Error: 0.00003\n",
            "Interatomic Distance: 1.03 VQE Result: -1.00656 Exact Energy: -1.00656 Error: 0.00000\n",
            "Interatomic Distance: 1.05 VQE Result: -1.00059 Exact Energy: -1.00059 Error: 0.00000\n",
            "Interatomic Distance: 1.08 VQE Result: -0.99496 Exact Energy: -0.99496 Error: 0.00000\n",
            "Interatomic Distance: 1.1 VQE Result: -0.98957 Exact Energy: -0.98965 Error: 0.00009\n",
            "Interatomic Distance: 1.13 VQE Result: -0.98468 Exact Energy: -0.98469 Error: 0.00000\n",
            "Interatomic Distance: 1.15 VQE Result: -0.98005 Exact Energy: -0.98005 Error: 0.00000\n",
            "Interatomic Distance: 1.18 VQE Result: -0.94144 Exact Energy: -0.97574 Error: 0.03515\n",
            "Interatomic Distance: 1.2 VQE Result: -0.97174 Exact Energy: -0.97175 Error: 0.00001\n",
            "Interatomic Distance: 1.23 VQE Result: -0.96627 Exact Energy: -0.96806 Error: 0.00185\n",
            "Interatomic Distance: 1.25 VQE Result: -0.96466 Exact Energy: -0.96467 Error: 0.00000\n",
            "Interatomic Distance: 1.28 VQE Result: -0.95121 Exact Energy: -0.96155 Error: 0.01076\n",
            "Interatomic Distance: 1.3 VQE Result: -0.95870 Exact Energy: -0.95871 Error: 0.00000\n",
            "Interatomic Distance: 1.33 VQE Result: -0.95411 Exact Energy: -0.95611 Error: 0.00209\n",
            "Interatomic Distance: 1.35 VQE Result: -0.95371 Exact Energy: -0.95375 Error: 0.00004\n",
            "Interatomic Distance: 1.38 VQE Result: -0.94429 Exact Energy: -0.95160 Error: 0.00768\n",
            "Interatomic Distance: 1.4 VQE Result: -0.94966 Exact Energy: -0.94966 Error: 0.00000\n",
            "Interatomic Distance: 1.43 VQE Result: -0.94791 Exact Energy: -0.94791 Error: 0.00000\n",
            "Interatomic Distance: 1.45 VQE Result: -0.93649 Exact Energy: -0.94632 Error: 0.01040\n",
            "Interatomic Distance: 1.48 VQE Result: -0.94313 Exact Energy: -0.94490 Error: 0.00187\n",
            "All energies have been calculated\n"
          ]
        }
      ],
      "source": [
        "vqe_energies = []\n",
        "cpu_times = []\n",
        "cpu_errors = []\n",
        "optimizer = SLSQP(maxiter=10)\n",
        "estimator = Estimator()\n",
        "\n",
        "# pylint: disable=undefined-loop-variable,line-too-long\n",
        "for i, dist in enumerate(distances):\n",
        "    (qubit_op, num_particles, num_spatial_orbitals, problem, mapper) = get_qubit_op(\n",
        "        dist\n",
        "    )\n",
        "\n",
        "    init_state = HartreeFock(num_spatial_orbitals, num_particles, mapper)\n",
        "    init_state = HartreeFock(num_spatial_orbitals, num_particles, mapper)\n",
        "    ansatz = UCCSD(\n",
        "        num_spatial_orbitals, num_particles, mapper, initial_state=init_state\n",
        "    )\n",
        "    vqe = VQE(\n",
        "        estimator,\n",
        "        ansatz,\n",
        "        optimizer,\n",
        "        initial_point=[0] * ansatz.num_parameters,\n",
        "    )\n",
        "\n",
        "    vqe = VQE(estimator, ansatz, optimizer)\n",
        "    vqe_ground_state_solver = GroundStateEigensolver(mapper, vqe)\n",
        "\n",
        "    time_taken = 0\n",
        "    error = 0\n",
        "\n",
        "\n",
        "    start = time.time()\n",
        "    vqe_result = vqe_ground_state_solver.solve(problem)\n",
        "    energy = problem.interpret(vqe_result.raw_result).total_energies[0].real\n",
        "    end = time.time()\n",
        "\n",
        "    error =  1 - energy/exact_energies[i]\n",
        "\n",
        "    cpu_times.append(end - start)\n",
        "    cpu_errors.append(error)\n",
        "\n",
        "    print(\n",
        "        f\"Interatomic Distance: {np.round(dist, 2)}\",\n",
        "        f\"VQE Result: {energy:.5f}\",\n",
        "        f\"Exact Energy: {exact_energies[i]:.5f}\",\n",
        "        f\"Error: {cpu_errors[i]:.5f}\",\n",
        "    )\n",
        "\n",
        "print(\"All energies have been calculated\")"
      ]
    },
    {
      "cell_type": "code",
      "execution_count": null,
      "metadata": {
        "colab": {
          "base_uri": "https://localhost:8080/"
        },
        "id": "V4zJivOJhwiQ",
        "outputId": "2bacab13-06d4-49b1-e1a8-2cdd10c160d6"
      },
      "outputs": [
        {
          "name": "stdout",
          "output_type": "stream",
          "text": [
            "Interatomic Distance: 0.5 Seed: 0 Exact Energy: -1.13661  Error: 0.42135\n",
            "Interatomic Distance: 0.52 Seed: 0 Exact Energy: -1.13726  Error: 1.38703\n",
            "Interatomic Distance: 0.55 Seed: 0 Exact Energy: -1.13587  Error: 0.81209\n",
            "Interatomic Distance: 0.58 Seed: 0 Exact Energy: -1.13286  Error: 0.16148\n",
            "Interatomic Distance: 0.6 Seed: 0 Exact Energy: -1.12856  Error: 0.37824\n",
            "Interatomic Distance: 0.63 Seed: 0 Exact Energy: -1.12326  Error: 0.54493\n",
            "Interatomic Distance: 0.65 Seed: 0 Exact Energy: -1.11715  Error: 0.82240\n",
            "Interatomic Distance: 0.68 Seed: 0 Exact Energy: -1.11044  Error: 0.65752\n",
            "Interatomic Distance: 0.7 Seed: 0 Exact Energy: -1.10326  Error: 0.59730\n",
            "Interatomic Distance: 0.73 Seed: 0 Exact Energy: -1.09574  Error: 0.91773\n",
            "Interatomic Distance: 0.75 Seed: 0 Exact Energy: -1.08799  Error: 0.74329\n",
            "Interatomic Distance: 0.78 Seed: 0 Exact Energy: -1.08009  Error: 0.41159\n",
            "Interatomic Distance: 0.8 Seed: 0 Exact Energy: -1.07213  Error: 0.39335\n",
            "Interatomic Distance: 0.83 Seed: 0 Exact Energy: -1.06417  Error: 0.24550\n",
            "Interatomic Distance: 0.85 Seed: 0 Exact Energy: -1.05628  Error: 0.40659\n",
            "Interatomic Distance: 0.88 Seed: 0 Exact Energy: -1.04851  Error: 0.28909\n",
            "Interatomic Distance: 0.9 Seed: 0 Exact Energy: -1.04090  Error: 0.11344\n",
            "Interatomic Distance: 0.93 Seed: 0 Exact Energy: -1.03350  Error: 0.31701\n",
            "Interatomic Distance: 0.95 Seed: 0 Exact Energy: -1.02634  Error: 0.40219\n",
            "Interatomic Distance: 0.98 Seed: 0 Exact Energy: -1.01945  Error: 0.43332\n",
            "Interatomic Distance: 1.0 Seed: 0 Exact Energy: -1.01285  Error: 0.56433\n",
            "Interatomic Distance: 1.03 Seed: 0 Exact Energy: -1.00656  Error: 0.30992\n",
            "Interatomic Distance: 1.05 Seed: 0 Exact Energy: -1.00059  Error: 0.43536\n",
            "Interatomic Distance: 1.08 Seed: 0 Exact Energy: -0.99496  Error: 0.49593\n",
            "Interatomic Distance: 1.1 Seed: 0 Exact Energy: -0.98965  Error: 0.44451\n",
            "Interatomic Distance: 1.13 Seed: 0 Exact Energy: -0.98469  Error: 0.37116\n",
            "Interatomic Distance: 1.15 Seed: 0 Exact Energy: -0.98005  Error: 0.22977\n",
            "Interatomic Distance: 1.18 Seed: 0 Exact Energy: -0.97574  Error: 0.05507\n",
            "Interatomic Distance: 1.2 Seed: 0 Exact Energy: -0.97175  Error: 0.23122\n",
            "Interatomic Distance: 1.23 Seed: 0 Exact Energy: -0.96806  Error: 0.53404\n",
            "Interatomic Distance: 1.25 Seed: 0 Exact Energy: -0.96467  Error: 0.58664\n",
            "Interatomic Distance: 1.28 Seed: 0 Exact Energy: -0.96155  Error: 0.25976\n",
            "Interatomic Distance: 1.3 Seed: 0 Exact Energy: -0.95871  Error: 0.27574\n",
            "Interatomic Distance: 1.33 Seed: 0 Exact Energy: -0.95611  Error: 0.30691\n",
            "Interatomic Distance: 1.35 Seed: 0 Exact Energy: -0.95375  Error: 0.45626\n",
            "Interatomic Distance: 1.38 Seed: 0 Exact Energy: -0.95160  Error: 0.27080\n",
            "Interatomic Distance: 1.4 Seed: 0 Exact Energy: -0.94966  Error: 0.08394\n",
            "Interatomic Distance: 1.43 Seed: 0 Exact Energy: -0.94791  Error: 0.34384\n",
            "Interatomic Distance: 1.45 Seed: 0 Exact Energy: -0.94632  Error: 0.17186\n",
            "Interatomic Distance: 1.48 Seed: 0 Exact Energy: -0.94490  Error: 0.10668\n",
            "All energies have been calculated\n"
          ]
        }
      ],
      "source": [
        "seed = 0\n",
        "niter = 1\n",
        "gpu_errors = [0] * len(distances)\n",
        "gpu_times = [0] * len(distances)\n",
        "\n",
        "\n",
        "estimator = AerEstimator(\n",
        "    # run_options={\"shots\": 1024},\n",
        "    # transpile_options={\"optimization_level\": 3},\n",
        ")\n",
        "estimator.set_options(approximation =True)\n",
        "estimator.set_options(skip_transpilation =True)\n",
        "estimator.set_options(device='GPU')\n",
        "estimator.set_options(cuStateVec_enable=True)\n",
        "\n",
        "# pylint: disable=undefined-loop-variable,line-too-long\n",
        "for i, dist in enumerate(distances):\n",
        "    exact_energy = exact_energies[i]\n",
        "    (qubit_op, num_particles, num_spatial_orbitals, problem, mapper) = get_qubit_op(\n",
        "        dist\n",
        "    )\n",
        "\n",
        "    init_state = HartreeFock(num_spatial_orbitals, num_particles, mapper)\n",
        "    init_state = HartreeFock(num_spatial_orbitals, num_particles, mapper)\n",
        "    ansatz = UCCSD(\n",
        "        num_spatial_orbitals, num_particles, mapper, initial_state=init_state\n",
        "    )\n",
        "    vqe = VQE(\n",
        "        estimator,\n",
        "        ansatz,\n",
        "        optimizer,\n",
        "        initial_point=[0] * ansatz.num_parameters,\n",
        "    )\n",
        "\n",
        "    vqe = VQE(estimator, ansatz, optimizer)\n",
        "    vqe_ground_state_solver = GroundStateEigensolver(mapper, vqe)\n",
        "    error = 0\n",
        "    time_taken = 0\n",
        "\n",
        "    for _ in range(niter):\n",
        "      start = time.time()\n",
        "      vqe_result = vqe_ground_state_solver.solve(problem)\n",
        "      energy = problem.interpret(vqe_result.raw_result).total_energies[0].real\n",
        "      end = time.time()\n",
        "      time_taken += end - start\n",
        "      error +=  1 - energy/exact_energy\n",
        "\n",
        "    gpu_times[i] = time_taken/niter\n",
        "    gpu_errors[i] = (error/niter)\n",
        "\n",
        "    print(\n",
        "        f\"Interatomic Distance: {np.round(dist, 2)}\",\n",
        "        f\"Seed: {seed}\",\n",
        "        f\"Exact Energy: {exact_energy:.5f} \",\n",
        "        f\"Error: {gpu_errors[i]:.5f}\",\n",
        "    )\n",
        "\n",
        "print(\"All energies have been calculated\")"
      ]
    },
    {
      "cell_type": "code",
      "execution_count": null,
      "metadata": {
        "colab": {
          "base_uri": "https://localhost:8080/"
        },
        "id": "ruL4w6eqAf1e",
        "outputId": "96b0cf7a-ef61-4bbe-a714-6a298b244011"
      },
      "outputs": [
        {
          "name": "stdout",
          "output_type": "stream",
          "text": [
            "[0.4245604937306899, 0.32219038498738123, 0.4013438021467066, 0.32389737083960884, 0.3956723805304946, 0.36499955008632873, 0.3350239301007201, 0.40873536175717406, 0.3881386471170453, 0.40015795040306557, 0.40580149887634076, 0.3960218567476644, 0.3538444618787263, 0.39697632171716424, 0.344489002916833, 0.39455589026516324, 0.3918128698513062, 0.4069158618995085, 0.38700765763180883, 0.3670006956874679, 0.41177098164332443, 0.28684782171701245, 0.40649177407638964, 0.2942091874381603, 0.4007121870476977, 0.3528970687264149, 0.37605525729348327, 0.4217959203279513, 0.38778909336749073, 0.4144262703304279, 0.3989680181426861, 0.3977638263191158, 0.3909158854566747, 0.3993907605888315, 0.4000963919689923, 0.4018163850517773, 0.3626223974236846, 0.37556833073433443, 0.405126007465704, 0.38033157020370834]\n",
            "Max Speedup:  0.4245604937306899\n"
          ]
        }
      ],
      "source": [
        "speedups = [ai / bi for ai, bi in zip(cpu_times, gpu_times)]\n",
        "max_speedup = max(speedups)\n",
        "max_index = speedups.index(max_speedup)\n",
        "\n",
        "print(speedups)\n",
        "print(\"Max Speedup: \", cpu_times[max_index]/gpu_times[max_index])"
      ]
    },
    {
      "cell_type": "code",
      "execution_count": null,
      "metadata": {
        "colab": {
          "base_uri": "https://localhost:8080/",
          "height": 472
        },
        "id": "mH0SHaz1gAac",
        "outputId": "23449ae9-c2a8-4bd3-a29e-0db14298e9f3"
      },
      "outputs": [
        {
          "data": {
            "image/png": "[encoded data removed]",
            "text/plain": [
              "<Figure size 640x480 with 1 Axes>"
            ]
          },
          "metadata": {},
          "output_type": "display_data"
        }
      ],
      "source": [
        "import matplotlib.pyplot as plt\n",
        "\n",
        "plt.plot(distances, cpu_times, label=\"CPU\")\n",
        "plt.plot(distances, gpu_times, label=\"GPU\")\n",
        "plt.axvline(x=distances[max_index], color='red', linestyle='--', label='Max speedup')\n",
        "plt.text(distances[max_index], gpu_times[max_index], f' ({distances[max_index]}, {cpu_times[max_index]/gpu_times[max_index]})',\n",
        "         horizontalalignment='right', verticalalignment='bottom')\n",
        "plt.xlabel(\"Atomic distance (Angstrom)\")\n",
        "plt.ylabel(\"Time Taken\")\n",
        "plt.title(\"v100\")\n",
        "plt.legend()\n",
        "plt.show()"
      ]
    },
    {
      "cell_type": "code",
      "execution_count": null,
      "metadata": {
        "colab": {
          "base_uri": "https://localhost:8080/",
          "height": 472
        },
        "id": "CYJtARIWo1bM",
        "outputId": "95c43dbf-a9e6-4047-cb06-6ba542b3e3bc"
      },
      "outputs": [
        {
          "data": {
            "image/png": "[encoded data removed]",
            "text/plain": [
              "<Figure size 640x480 with 1 Axes>"
            ]
          },
          "metadata": {},
          "output_type": "display_data"
        }
      ],
      "source": [
        "plt.plot(distances, cpu_errors, label=\"CPU\")\n",
        "plt.plot(distances, gpu_errors, label=\"GPU\")\n",
        "plt.xlabel(\"Atomic distance (Angstrom)\")\n",
        "plt.ylabel(\"Erros\")\n",
        "plt.title(\"v100\")\n",
        "plt.legend()\n",
        "plt.show()"
      ]
    },
    {
      "cell_type": "code",
      "execution_count": null,
      "metadata": {
        "id": "_ELLpQIlqHev"
      },
      "outputs": [],
      "source": [
        "# Summarize the data we have\n",
        "# Why is error so huge in GPU case\n",
        "# Try with resilience level\n",
        "# Make errors in percentage and logscale\n",
        "# Compare noisy with GPU.\n",
        "# Try changing shots, resilience levels, approximation\n",
        "# Try simulating with fake QPU.\n",
        "\n",
        "#Research Papers - Write introductions\n",
        "https://ieeexplore.ieee.org/stamp/stamp.jsp?tp=&arnumber=10247886\n"
      ]
    },
    {
      "cell_type": "code",
      "execution_count": null,
      "metadata": {
        "id": "0GfTiiVwPmGt"
      },
      "outputs": [],
      "source": []
    },
    {
      "cell_type": "markdown",
      "metadata": {
        "id": "50FdXQ04Isub"
      },
      "source": [
        "# LiH"
      ]
    },
    {
      "cell_type": "code",
      "execution_count": null,
      "metadata": {
        "id": "EGr537dYIuHt"
      },
      "outputs": [],
      "source": [
        "molecule = MoleculeInfo([\"H\", \"H\"], [(0.0, 0.0, 0.0), (0.0, 0.0, 0.735)], charge=0, multiplicity=1)\n",
        "driver = PySCFDriver.from_molecule(molecule, basis=\"sto3g\")\n",
        "problem = driver.run()\n",
        "\n",
        "# mapper\n",
        "mapper = JordanWignerMapper()\n",
        "qubit_op = mapper.map(problem.second_q_ops()[0])\n",
        "result = exact_solver(qubit_op, problem)\n",
        "exact_energy = result.total_energies[0].real"
      ]
    }
  ],
  "metadata": {
    "accelerator": "GPU",
    "colab": {
      "machine_shape": "hm",
      "provenance": [],
      "gpuType": "V100"
    },
    "kernelspec": {
      "display_name": "Python 3",
      "name": "python3"
    },
    "language_info": {
      "name": "python"
    }
  },
  "nbformat": 4,
  "nbformat_minor": 0
}