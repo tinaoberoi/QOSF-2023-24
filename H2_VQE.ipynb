{
  "cells": [
    {
      "cell_type": "code",
      "execution_count": 1,
      "metadata": {
        "colab": {
          "base_uri": "https://localhost:8080/"
        },
        "id": "fI63uiJ7NbNd",
        "outputId": "19491b1b-f64b-4c52-95e1-9604112dabeb"
      },
      "outputs": [
        {
          "output_type": "stream",
          "name": "stdout",
          "text": [
            "Wed Dec 13 16:59:28 2023       \n",
            "+-----------------------------------------------------------------------------+\n",
            "| NVIDIA-SMI 525.105.17   Driver Version: 525.105.17   CUDA Version: 12.0     |\n",
            "|-------------------------------+----------------------+----------------------+\n",
            "| GPU  Name        Persistence-M| Bus-Id        Disp.A | Volatile Uncorr. ECC |\n",
            "| Fan  Temp  Perf  Pwr:Usage/Cap|         Memory-Usage | GPU-Util  Compute M. |\n",
            "|                               |                      |               MIG M. |\n",
            "|===============================+======================+======================|\n",
            "|   0  Tesla T4            Off  | 00000000:00:04.0 Off |                    0 |\n",
            "| N/A   69C    P8    11W /  70W |      0MiB / 15360MiB |      0%      Default |\n",
            "|                               |                      |                  N/A |\n",
            "+-------------------------------+----------------------+----------------------+\n",
            "                                                                               \n",
            "+-----------------------------------------------------------------------------+\n",
            "| Processes:                                                                  |\n",
            "|  GPU   GI   CI        PID   Type   Process name                  GPU Memory |\n",
            "|        ID   ID                                                   Usage      |\n",
            "|=============================================================================|\n",
            "|  No running processes found                                                 |\n",
            "+-----------------------------------------------------------------------------+\n"
          ]
        }
      ],
      "source": [
        "!nvidia-smi"
      ]
    },
    {
      "cell_type": "code",
      "execution_count": 2,
      "metadata": {
        "colab": {
          "base_uri": "https://localhost:8080/"
        },
        "id": "wrtnYBzrNfLw",
        "outputId": "0e629b18-b5ed-4372-e16d-facd222d376f"
      },
      "outputs": [
        {
          "output_type": "stream",
          "name": "stdout",
          "text": [
            "Collecting qiskit-aer\n",
            "  Downloading qiskit_aer-0.13.1-cp310-cp310-manylinux_2_17_x86_64.manylinux2014_x86_64.whl (12.3 MB)\n",
            "\u001b[2K     \u001b[90m━━━━━━━━━━━━━━━━━━━━━━━━━━━━━━━━━━━━━━━━\u001b[0m \u001b[32m12.3/12.3 MB\u001b[0m \u001b[31m64.5 MB/s\u001b[0m eta \u001b[36m0:00:00\u001b[0m\n",
            "\u001b[?25hCollecting qiskit>=0.44.0 (from qiskit-aer)\n",
            "  Downloading qiskit-0.45.1-py3-none-any.whl (9.6 kB)\n",
            "Requirement already satisfied: numpy>=1.16.3 in /usr/local/lib/python3.10/dist-packages (from qiskit-aer) (1.23.5)\n",
            "Requirement already satisfied: scipy>=1.0 in /usr/local/lib/python3.10/dist-packages (from qiskit-aer) (1.11.4)\n",
            "Requirement already satisfied: psutil>=5 in /usr/local/lib/python3.10/dist-packages (from qiskit-aer) (5.9.5)\n",
            "Collecting qiskit-terra==0.45.1 (from qiskit>=0.44.0->qiskit-aer)\n",
            "  Downloading qiskit_terra-0.45.1-cp38-abi3-manylinux_2_17_x86_64.manylinux2014_x86_64.whl (6.3 MB)\n",
            "\u001b[2K     \u001b[90m━━━━━━━━━━━━━━━━━━━━━━━━━━━━━━━━━━━━━━━━\u001b[0m \u001b[32m6.3/6.3 MB\u001b[0m \u001b[31m77.3 MB/s\u001b[0m eta \u001b[36m0:00:00\u001b[0m\n",
            "\u001b[?25hCollecting rustworkx>=0.13.0 (from qiskit-terra==0.45.1->qiskit>=0.44.0->qiskit-aer)\n",
            "  Downloading rustworkx-0.13.2-cp310-cp310-manylinux_2_17_x86_64.manylinux2014_x86_64.whl (2.0 MB)\n",
            "\u001b[2K     \u001b[90m━━━━━━━━━━━━━━━━━━━━━━━━━━━━━━━━━━━━━━━━\u001b[0m \u001b[32m2.0/2.0 MB\u001b[0m \u001b[31m22.8 MB/s\u001b[0m eta \u001b[36m0:00:00\u001b[0m\n",
            "\u001b[?25hCollecting ply>=3.10 (from qiskit-terra==0.45.1->qiskit>=0.44.0->qiskit-aer)\n",
            "  Downloading ply-3.11-py2.py3-none-any.whl (49 kB)\n",
            "\u001b[2K     \u001b[90m━━━━━━━━━━━━━━━━━━━━━━━━━━━━━━━━━━━━━━━━\u001b[0m \u001b[32m49.6/49.6 kB\u001b[0m \u001b[31m7.1 MB/s\u001b[0m eta \u001b[36m0:00:00\u001b[0m\n",
            "\u001b[?25hRequirement already satisfied: sympy>=1.3 in /usr/local/lib/python3.10/dist-packages (from qiskit-terra==0.45.1->qiskit>=0.44.0->qiskit-aer) (1.12)\n",
            "Collecting dill>=0.3 (from qiskit-terra==0.45.1->qiskit>=0.44.0->qiskit-aer)\n",
            "  Downloading dill-0.3.7-py3-none-any.whl (115 kB)\n",
            "\u001b[2K     \u001b[90m━━━━━━━━━━━━━━━━━━━━━━━━━━━━━━━━━━━━━━━━\u001b[0m \u001b[32m115.3/115.3 kB\u001b[0m \u001b[31m17.0 MB/s\u001b[0m eta \u001b[36m0:00:00\u001b[0m\n",
            "\u001b[?25hRequirement already satisfied: python-dateutil>=2.8.0 in /usr/local/lib/python3.10/dist-packages (from qiskit-terra==0.45.1->qiskit>=0.44.0->qiskit-aer) (2.8.2)\n",
            "Collecting stevedore>=3.0.0 (from qiskit-terra==0.45.1->qiskit>=0.44.0->qiskit-aer)\n",
            "  Downloading stevedore-5.1.0-py3-none-any.whl (49 kB)\n",
            "\u001b[2K     \u001b[90m━━━━━━━━━━━━━━━━━━━━━━━━━━━━━━━━━━━━━━━━\u001b[0m \u001b[32m49.6/49.6 kB\u001b[0m \u001b[31m7.1 MB/s\u001b[0m eta \u001b[36m0:00:00\u001b[0m\n",
            "\u001b[?25hCollecting symengine!=0.10.0,>=0.9 (from qiskit-terra==0.45.1->qiskit>=0.44.0->qiskit-aer)\n",
            "  Downloading symengine-0.11.0-cp310-cp310-manylinux_2_12_x86_64.manylinux2010_x86_64.whl (39.4 MB)\n",
            "\u001b[2K     \u001b[90m━━━━━━━━━━━━━━━━━━━━━━━━━━━━━━━━━━━━━━━━\u001b[0m \u001b[32m39.4/39.4 MB\u001b[0m \u001b[31m16.0 MB/s\u001b[0m eta \u001b[36m0:00:00\u001b[0m\n",
            "\u001b[?25hRequirement already satisfied: typing-extensions in /usr/local/lib/python3.10/dist-packages (from qiskit-terra==0.45.1->qiskit>=0.44.0->qiskit-aer) (4.5.0)\n",
            "Requirement already satisfied: six>=1.5 in /usr/local/lib/python3.10/dist-packages (from python-dateutil>=2.8.0->qiskit-terra==0.45.1->qiskit>=0.44.0->qiskit-aer) (1.16.0)\n",
            "Collecting pbr!=2.1.0,>=2.0.0 (from stevedore>=3.0.0->qiskit-terra==0.45.1->qiskit>=0.44.0->qiskit-aer)\n",
            "  Downloading pbr-6.0.0-py2.py3-none-any.whl (107 kB)\n",
            "\u001b[2K     \u001b[90m━━━━━━━━━━━━━━━━━━━━━━━━━━━━━━━━━━━━━━━━\u001b[0m \u001b[32m107.5/107.5 kB\u001b[0m \u001b[31m14.7 MB/s\u001b[0m eta \u001b[36m0:00:00\u001b[0m\n",
            "\u001b[?25hRequirement already satisfied: mpmath>=0.19 in /usr/local/lib/python3.10/dist-packages (from sympy>=1.3->qiskit-terra==0.45.1->qiskit>=0.44.0->qiskit-aer) (1.3.0)\n",
            "Installing collected packages: ply, symengine, rustworkx, pbr, dill, stevedore, qiskit-terra, qiskit, qiskit-aer\n",
            "Successfully installed dill-0.3.7 pbr-6.0.0 ply-3.11 qiskit-0.45.1 qiskit-aer-0.13.1 qiskit-terra-0.45.1 rustworkx-0.13.2 stevedore-5.1.0 symengine-0.11.0\n"
          ]
        }
      ],
      "source": [
        "!pip install qiskit-aer"
      ]
    },
    {
      "cell_type": "code",
      "execution_count": 3,
      "metadata": {
        "colab": {
          "base_uri": "https://localhost:8080/"
        },
        "id": "RLANaBX0Nuh1",
        "outputId": "a3c6ee10-e67e-4be9-bfee-e54442900863"
      },
      "outputs": [
        {
          "output_type": "stream",
          "name": "stdout",
          "text": [
            "Found existing installation: qiskit-aer 0.13.1\n",
            "Uninstalling qiskit-aer-0.13.1:\n",
            "  Successfully uninstalled qiskit-aer-0.13.1\n"
          ]
        }
      ],
      "source": [
        "!pip uninstall -y qiskit-aer"
      ]
    },
    {
      "cell_type": "code",
      "execution_count": 4,
      "metadata": {
        "colab": {
          "base_uri": "https://localhost:8080/"
        },
        "id": "15IyCdbzNg-N",
        "outputId": "1a506b7e-2791-44b7-94d5-13e3c11e1b21"
      },
      "outputs": [
        {
          "output_type": "stream",
          "name": "stdout",
          "text": [
            "Collecting nvidia-cuda-runtime-cu12\n",
            "  Downloading nvidia_cuda_runtime_cu12-12.3.101-py3-none-manylinux1_x86_64.whl (867 kB)\n",
            "\u001b[2K     \u001b[90m━━━━━━━━━━━━━━━━━━━━━━━━━━━━━━━━━━━━━━━━\u001b[0m \u001b[32m867.7/867.7 kB\u001b[0m \u001b[31m5.0 MB/s\u001b[0m eta \u001b[36m0:00:00\u001b[0m\n",
            "\u001b[?25hCollecting nvidia-cublas-cu12\n",
            "  Downloading nvidia_cublas_cu12-12.3.4.1-py3-none-manylinux1_x86_64.whl (412.6 MB)\n",
            "\u001b[2K     \u001b[90m━━━━━━━━━━━━━━━━━━━━━━━━━━━━━━━━━━━━━━━━\u001b[0m \u001b[32m412.6/412.6 MB\u001b[0m \u001b[31m3.9 MB/s\u001b[0m eta \u001b[36m0:00:00\u001b[0m\n",
            "\u001b[?25hCollecting nvidia-cusolver-cu12\n",
            "  Downloading nvidia_cusolver_cu12-11.5.4.101-py3-none-manylinux1_x86_64.whl (125.2 MB)\n",
            "\u001b[2K     \u001b[90m━━━━━━━━━━━━━━━━━━━━━━━━━━━━━━━━━━━━━━━━\u001b[0m \u001b[32m125.2/125.2 MB\u001b[0m \u001b[31m8.3 MB/s\u001b[0m eta \u001b[36m0:00:00\u001b[0m\n",
            "\u001b[?25hCollecting nvidia-cusparse-cu12\n",
            "  Downloading nvidia_cusparse_cu12-12.2.0.103-py3-none-manylinux1_x86_64.whl (197.5 MB)\n",
            "\u001b[2K     \u001b[90m━━━━━━━━━━━━━━━━━━━━━━━━━━━━━━━━━━━━━━━━\u001b[0m \u001b[32m197.5/197.5 MB\u001b[0m \u001b[31m6.7 MB/s\u001b[0m eta \u001b[36m0:00:00\u001b[0m\n",
            "\u001b[?25hCollecting cuquantum-cu12\n",
            "  Downloading cuquantum_cu12-23.10.0-py3-none-manylinux2014_x86_64.whl (7.0 kB)\n",
            "Collecting nvidia-nvjitlink-cu12 (from nvidia-cusolver-cu12)\n",
            "  Downloading nvidia_nvjitlink_cu12-12.3.101-py3-none-manylinux1_x86_64.whl (20.5 MB)\n",
            "\u001b[2K     \u001b[90m━━━━━━━━━━━━━━━━━━━━━━━━━━━━━━━━━━━━━━━━\u001b[0m \u001b[32m20.5/20.5 MB\u001b[0m \u001b[31m60.8 MB/s\u001b[0m eta \u001b[36m0:00:00\u001b[0m\n",
            "\u001b[?25hCollecting custatevec-cu12==1.5.0 (from cuquantum-cu12)\n",
            "  Downloading custatevec_cu12-1.5.0-py3-none-manylinux2014_x86_64.whl (38.4 MB)\n",
            "\u001b[2K     \u001b[90m━━━━━━━━━━━━━━━━━━━━━━━━━━━━━━━━━━━━━━━━\u001b[0m \u001b[32m38.4/38.4 MB\u001b[0m \u001b[31m14.3 MB/s\u001b[0m eta \u001b[36m0:00:00\u001b[0m\n",
            "\u001b[?25hCollecting cutensornet-cu12==2.3.0 (from cuquantum-cu12)\n",
            "  Downloading cutensornet_cu12-2.3.0-py3-none-manylinux2014_x86_64.whl (2.2 MB)\n",
            "\u001b[2K     \u001b[90m━━━━━━━━━━━━━━━━━━━━━━━━━━━━━━━━━━━━━━━━\u001b[0m \u001b[32m2.2/2.2 MB\u001b[0m \u001b[31m92.8 MB/s\u001b[0m eta \u001b[36m0:00:00\u001b[0m\n",
            "\u001b[?25hCollecting cutensor-cu12<2,>=1.6.1 (from cutensornet-cu12==2.3.0->cuquantum-cu12)\n",
            "  Downloading cutensor_cu12-1.7.0-py3-none-manylinux2014_x86_64.whl (146.8 MB)\n",
            "\u001b[2K     \u001b[90m━━━━━━━━━━━━━━━━━━━━━━━━━━━━━━━━━━━━━━━━\u001b[0m \u001b[32m146.8/146.8 MB\u001b[0m \u001b[31m8.9 MB/s\u001b[0m eta \u001b[36m0:00:00\u001b[0m\n",
            "\u001b[?25hInstalling collected packages: cutensor-cu12, custatevec-cu12, nvidia-nvjitlink-cu12, nvidia-cuda-runtime-cu12, nvidia-cublas-cu12, cutensornet-cu12, nvidia-cusparse-cu12, cuquantum-cu12, nvidia-cusolver-cu12\n",
            "Successfully installed cuquantum-cu12-23.10.0 custatevec-cu12-1.5.0 cutensor-cu12-1.7.0 cutensornet-cu12-2.3.0 nvidia-cublas-cu12-12.3.4.1 nvidia-cuda-runtime-cu12-12.3.101 nvidia-cusolver-cu12-11.5.4.101 nvidia-cusparse-cu12-12.2.0.103 nvidia-nvjitlink-cu12-12.3.101\n"
          ]
        }
      ],
      "source": [
        "!pip install nvidia-cuda-runtime-cu12 nvidia-cublas-cu12 nvidia-cusolver-cu12 nvidia-cusparse-cu12 cuquantum-cu12"
      ]
    },
    {
      "cell_type": "code",
      "execution_count": 5,
      "metadata": {
        "colab": {
          "base_uri": "https://localhost:8080/"
        },
        "id": "S9j88go8ODeJ",
        "outputId": "f860f07b-7c1e-418a-9839-a8a9e16064f5"
      },
      "outputs": [
        {
          "output_type": "stream",
          "name": "stdout",
          "text": [
            "Looking in indexes: https://test.pypi.org/simple/\n",
            "Collecting qiskit-aer-gpu\n",
            "  Downloading https://test-files.pythonhosted.org/packages/76/77/d53bfc99ab3b0ef5517e6fb4b7a4a37aaa8d046a88a5cf8b01483fe26b77/qiskit_aer_gpu-0.13.1-cp310-cp310-manylinux_2_17_x86_64.manylinux2014_x86_64.whl (18.7 MB)\n",
            "\u001b[2K     \u001b[90m━━━━━━━━━━━━━━━━━━━━━━━━━━━━━━━━━━━━━━━━\u001b[0m \u001b[32m18.7/18.7 MB\u001b[0m \u001b[31m37.7 MB/s\u001b[0m eta \u001b[36m0:00:00\u001b[0m\n",
            "\u001b[?25hRequirement already satisfied: qiskit-terra>=0.21.0 in /usr/local/lib/python3.10/dist-packages (from qiskit-aer-gpu) (0.45.1)\n",
            "Requirement already satisfied: numpy>=1.16.3 in /usr/local/lib/python3.10/dist-packages (from qiskit-aer-gpu) (1.23.5)\n",
            "Requirement already satisfied: scipy>=1.0 in /usr/local/lib/python3.10/dist-packages (from qiskit-aer-gpu) (1.11.4)\n",
            "Requirement already satisfied: nvidia-cuda-runtime-cu12>=12.1.105 in /usr/local/lib/python3.10/dist-packages (from qiskit-aer-gpu) (12.3.101)\n",
            "Requirement already satisfied: nvidia-nvjitlink-cu12 in /usr/local/lib/python3.10/dist-packages (from qiskit-aer-gpu) (12.3.101)\n",
            "Requirement already satisfied: nvidia-cublas-cu12>=12.1.3.1 in /usr/local/lib/python3.10/dist-packages (from qiskit-aer-gpu) (12.3.4.1)\n",
            "Requirement already satisfied: nvidia-cusolver-cu12>=11.4.5.107 in /usr/local/lib/python3.10/dist-packages (from qiskit-aer-gpu) (11.5.4.101)\n",
            "Requirement already satisfied: nvidia-cusparse-cu12>=12.1.0.106 in /usr/local/lib/python3.10/dist-packages (from qiskit-aer-gpu) (12.2.0.103)\n",
            "Requirement already satisfied: cuquantum-cu12>=23.3.0 in /usr/local/lib/python3.10/dist-packages (from qiskit-aer-gpu) (23.10.0)\n",
            "Requirement already satisfied: custatevec-cu12==1.5.0 in /usr/local/lib/python3.10/dist-packages (from cuquantum-cu12>=23.3.0->qiskit-aer-gpu) (1.5.0)\n",
            "Requirement already satisfied: cutensornet-cu12==2.3.0 in /usr/local/lib/python3.10/dist-packages (from cuquantum-cu12>=23.3.0->qiskit-aer-gpu) (2.3.0)\n",
            "Requirement already satisfied: cutensor-cu12<2,>=1.6.1 in /usr/local/lib/python3.10/dist-packages (from cutensornet-cu12==2.3.0->cuquantum-cu12>=23.3.0->qiskit-aer-gpu) (1.7.0)\n",
            "Requirement already satisfied: rustworkx>=0.13.0 in /usr/local/lib/python3.10/dist-packages (from qiskit-terra>=0.21.0->qiskit-aer-gpu) (0.13.2)\n",
            "Requirement already satisfied: ply>=3.10 in /usr/local/lib/python3.10/dist-packages (from qiskit-terra>=0.21.0->qiskit-aer-gpu) (3.11)\n",
            "Requirement already satisfied: psutil>=5 in /usr/local/lib/python3.10/dist-packages (from qiskit-terra>=0.21.0->qiskit-aer-gpu) (5.9.5)\n",
            "Requirement already satisfied: sympy>=1.3 in /usr/local/lib/python3.10/dist-packages (from qiskit-terra>=0.21.0->qiskit-aer-gpu) (1.12)\n",
            "Requirement already satisfied: dill>=0.3 in /usr/local/lib/python3.10/dist-packages (from qiskit-terra>=0.21.0->qiskit-aer-gpu) (0.3.7)\n",
            "Requirement already satisfied: python-dateutil>=2.8.0 in /usr/local/lib/python3.10/dist-packages (from qiskit-terra>=0.21.0->qiskit-aer-gpu) (2.8.2)\n",
            "Requirement already satisfied: stevedore>=3.0.0 in /usr/local/lib/python3.10/dist-packages (from qiskit-terra>=0.21.0->qiskit-aer-gpu) (5.1.0)\n",
            "Requirement already satisfied: symengine!=0.10.0,>=0.9 in /usr/local/lib/python3.10/dist-packages (from qiskit-terra>=0.21.0->qiskit-aer-gpu) (0.11.0)\n",
            "Requirement already satisfied: typing-extensions in /usr/local/lib/python3.10/dist-packages (from qiskit-terra>=0.21.0->qiskit-aer-gpu) (4.5.0)\n",
            "Requirement already satisfied: six>=1.5 in /usr/local/lib/python3.10/dist-packages (from python-dateutil>=2.8.0->qiskit-terra>=0.21.0->qiskit-aer-gpu) (1.16.0)\n",
            "Requirement already satisfied: pbr!=2.1.0,>=2.0.0 in /usr/local/lib/python3.10/dist-packages (from stevedore>=3.0.0->qiskit-terra>=0.21.0->qiskit-aer-gpu) (6.0.0)\n",
            "Requirement already satisfied: mpmath>=0.19 in /usr/local/lib/python3.10/dist-packages (from sympy>=1.3->qiskit-terra>=0.21.0->qiskit-aer-gpu) (1.3.0)\n",
            "Installing collected packages: qiskit-aer-gpu\n",
            "Successfully installed qiskit-aer-gpu-0.13.1\n"
          ]
        }
      ],
      "source": [
        "!pip install -i https://test.pypi.org/simple/ qiskit-aer-gpu"
      ]
    },
    {
      "cell_type": "code",
      "execution_count": 6,
      "metadata": {
        "colab": {
          "base_uri": "https://localhost:8080/"
        },
        "id": "JJZwpQ6EOHiI",
        "outputId": "9b9c7309-1c17-46b1-b3ef-0e2becedf84a"
      },
      "outputs": [
        {
          "output_type": "stream",
          "name": "stdout",
          "text": [
            "\tlinux-vdso.so.1 (0x00007ffd981dc000)\n",
            "\tlibopenblas-r0-f650aae0.3.3.so => /usr/local/lib/python3.10/dist-packages/qiskit_aer/backends/../../qiskit_aer_gpu.libs/libopenblas-r0-f650aae0.3.3.so (0x00007e4d68c00000)\n",
            "\tlibdl.so.2 => /lib/x86_64-linux-gnu/libdl.so.2 (0x00007e4d6b227000)\n",
            "\tlibcusolver.so.11 => /usr/local/lib/python3.10/dist-packages/qiskit_aer/backends/../../nvidia/cusolver/lib/libcusolver.so.11 (0x00007e4d61a00000)\n",
            "\tlibcusparse.so.12 => /usr/local/lib/python3.10/dist-packages/qiskit_aer/backends/../../nvidia/cusparse/lib/libcusparse.so.12 (0x00007e4d51800000)\n",
            "\tlibcustatevec.so.1 => /usr/local/lib/python3.10/dist-packages/qiskit_aer/backends/../../cuquantum/lib/libcustatevec.so.1 (0x00007e4d4d200000)\n",
            "\tlibcutensornet.so.2 => /usr/local/lib/python3.10/dist-packages/qiskit_aer/backends/../../cuquantum/lib/libcutensornet.so.2 (0x00007e4d4ca00000)\n",
            "\tlibcudart.so.12 => /usr/local/lib/python3.10/dist-packages/qiskit_aer/backends/../../nvidia/cuda_runtime/lib/libcudart.so.12 (0x00007e4d4c600000)\n",
            "\tlibpthread.so.0 => /lib/x86_64-linux-gnu/libpthread.so.0 (0x00007e4d6b220000)\n",
            "\tlibstdc++.so.6 => /lib/x86_64-linux-gnu/libstdc++.so.6 (0x00007e4d4c3d4000)\n",
            "\tlibm.so.6 => /lib/x86_64-linux-gnu/libm.so.6 (0x00007e4d68b19000)\n",
            "\tlibgomp-a34b3233.so.1.0.0 => /usr/local/lib/python3.10/dist-packages/qiskit_aer/backends/../../qiskit_aer_gpu.libs/libgomp-a34b3233.so.1.0.0 (0x00007e4d4c000000)\n",
            "\tlibgcc_s.so.1 => /lib/x86_64-linux-gnu/libgcc_s.so.1 (0x00007e4d6b1fe000)\n",
            "\tlibc.so.6 => /lib/x86_64-linux-gnu/libc.so.6 (0x00007e4d4bdd8000)\n",
            "\t/lib64/ld-linux-x86-64.so.2 (0x00007e4d6cc25000)\n",
            "\tlibgfortran-91cc3cb1.so.3.0.0 => /usr/local/lib/python3.10/dist-packages/qiskit_aer/backends/../../qiskit_aer_gpu.libs/libgfortran-91cc3cb1.so.3.0.0 (0x00007e4d4ba00000)\n",
            "\tlibnvJitLink.so.12 => /usr/local/lib/python3.10/dist-packages/qiskit_aer/backends/../../nvidia/cusolver/lib/../../nvjitlink/lib/libnvJitLink.so.12 (0x00007e4d48400000)\n",
            "\tlibcublas.so.12 => /usr/local/lib/python3.10/dist-packages/qiskit_aer/backends/../../nvidia/cusolver/lib/../../cublas/lib/libcublas.so.12 (0x00007e4d41c00000)\n",
            "\tlibcublasLt.so.12 => /usr/local/lib/python3.10/dist-packages/qiskit_aer/backends/../../nvidia/cusolver/lib/../../cublas/lib/libcublasLt.so.12 (0x00007e4d1f200000)\n",
            "\tlibrt.so.1 => /lib/x86_64-linux-gnu/librt.so.1 (0x00007e4d6b1f7000)\n",
            "\tlibcutensor.so.1 => /usr/local/lib/python3.10/dist-packages/qiskit_aer/backends/../../cuquantum/lib/../../cutensor/lib/libcutensor.so.1 (0x00007e4d11200000)\n",
            "\tlibquadmath-96973f99.so.0.0.0 => /usr/local/lib/python3.10/dist-packages/qiskit_aer/backends/../../qiskit_aer_gpu.libs/libquadmath-96973f99.so.0.0.0 (0x00007e4d10e00000)\n",
            "\tlibcuda.so.1 => /usr/lib64-nvidia/libcuda.so.1 (0x00007e4d0f11f000)\n"
          ]
        }
      ],
      "source": [
        "!ldd /usr/local/lib/python3.10/dist-packages/qiskit_aer/backends/controller_wrappers.cpython-310-x86_64-linux-gnu.so"
      ]
    },
    {
      "cell_type": "code",
      "execution_count": 7,
      "metadata": {
        "colab": {
          "base_uri": "https://localhost:8080/"
        },
        "id": "hcBfIjMYvwZx",
        "outputId": "eceb9d59-0703-4fae-bed8-59764aeb83d8"
      },
      "outputs": [
        {
          "output_type": "stream",
          "name": "stdout",
          "text": [
            "\u001b[33mWARNING: Skipping qiskit_nature as it is not installed.\u001b[0m\u001b[33m\n",
            "\u001b[0m\u001b[33mWARNING: Skipping pyscf as it is not installed.\u001b[0m\u001b[33m\n",
            "\u001b[0m"
          ]
        }
      ],
      "source": [
        "!pip uninstall qiskit_nature --yes\n",
        "!pip uninstall pyscf --yes"
      ]
    },
    {
      "cell_type": "code",
      "execution_count": 8,
      "metadata": {
        "colab": {
          "base_uri": "https://localhost:8080/"
        },
        "id": "w2OadLobv0l2",
        "outputId": "93d3a866-32b6-4d7c-f307-efc5fe8ea36f"
      },
      "outputs": [
        {
          "output_type": "stream",
          "name": "stdout",
          "text": [
            "\u001b[33mWARNING: Package(s) not found: qiskit_nature\u001b[0m\u001b[33m\n",
            "\u001b[0m\u001b[33mWARNING: Package(s) not found: pyscf\u001b[0m\u001b[33m\n",
            "\u001b[0m"
          ]
        }
      ],
      "source": [
        "!pip show qiskit_nature\n",
        "!pip show pyscf"
      ]
    },
    {
      "cell_type": "code",
      "execution_count": 9,
      "metadata": {
        "colab": {
          "base_uri": "https://localhost:8080/"
        },
        "id": "rjlLVybDv4MQ",
        "outputId": "83932078-0641-4d48-cb61-1ed2c1607453"
      },
      "outputs": [
        {
          "output_type": "stream",
          "name": "stdout",
          "text": [
            "Collecting qiskit-nature\n",
            "  Downloading qiskit_nature-0.7.1-py3-none-any.whl (2.2 MB)\n",
            "\u001b[2K     \u001b[90m━━━━━━━━━━━━━━━━━━━━━━━━━━━━━━━━━━━━━━━━\u001b[0m \u001b[32m2.2/2.2 MB\u001b[0m \u001b[31m9.9 MB/s\u001b[0m eta \u001b[36m0:00:00\u001b[0m\n",
            "\u001b[?25hRequirement already satisfied: qiskit>=0.44 in /usr/local/lib/python3.10/dist-packages (from qiskit-nature) (0.45.1)\n",
            "Collecting qiskit-algorithms>=0.2.1 (from qiskit-nature)\n",
            "  Downloading qiskit_algorithms-0.2.1-py3-none-any.whl (306 kB)\n",
            "\u001b[2K     \u001b[90m━━━━━━━━━━━━━━━━━━━━━━━━━━━━━━━━━━━━━━━━\u001b[0m \u001b[32m306.9/306.9 kB\u001b[0m \u001b[31m36.1 MB/s\u001b[0m eta \u001b[36m0:00:00\u001b[0m\n",
            "\u001b[?25hRequirement already satisfied: scipy>=1.4 in /usr/local/lib/python3.10/dist-packages (from qiskit-nature) (1.11.4)\n",
            "Requirement already satisfied: numpy>=1.17 in /usr/local/lib/python3.10/dist-packages (from qiskit-nature) (1.23.5)\n",
            "Requirement already satisfied: psutil>=5 in /usr/local/lib/python3.10/dist-packages (from qiskit-nature) (5.9.5)\n",
            "Requirement already satisfied: setuptools>=40.1.0 in /usr/local/lib/python3.10/dist-packages (from qiskit-nature) (67.7.2)\n",
            "Requirement already satisfied: typing-extensions in /usr/local/lib/python3.10/dist-packages (from qiskit-nature) (4.5.0)\n",
            "Requirement already satisfied: h5py in /usr/local/lib/python3.10/dist-packages (from qiskit-nature) (3.9.0)\n",
            "Requirement already satisfied: rustworkx>=0.12 in /usr/local/lib/python3.10/dist-packages (from qiskit-nature) (0.13.2)\n",
            "Requirement already satisfied: qiskit-terra==0.45.1 in /usr/local/lib/python3.10/dist-packages (from qiskit>=0.44->qiskit-nature) (0.45.1)\n",
            "Requirement already satisfied: ply>=3.10 in /usr/local/lib/python3.10/dist-packages (from qiskit-terra==0.45.1->qiskit>=0.44->qiskit-nature) (3.11)\n",
            "Requirement already satisfied: sympy>=1.3 in /usr/local/lib/python3.10/dist-packages (from qiskit-terra==0.45.1->qiskit>=0.44->qiskit-nature) (1.12)\n",
            "Requirement already satisfied: dill>=0.3 in /usr/local/lib/python3.10/dist-packages (from qiskit-terra==0.45.1->qiskit>=0.44->qiskit-nature) (0.3.7)\n",
            "Requirement already satisfied: python-dateutil>=2.8.0 in /usr/local/lib/python3.10/dist-packages (from qiskit-terra==0.45.1->qiskit>=0.44->qiskit-nature) (2.8.2)\n",
            "Requirement already satisfied: stevedore>=3.0.0 in /usr/local/lib/python3.10/dist-packages (from qiskit-terra==0.45.1->qiskit>=0.44->qiskit-nature) (5.1.0)\n",
            "Requirement already satisfied: symengine!=0.10.0,>=0.9 in /usr/local/lib/python3.10/dist-packages (from qiskit-terra==0.45.1->qiskit>=0.44->qiskit-nature) (0.11.0)\n",
            "Requirement already satisfied: six>=1.5 in /usr/local/lib/python3.10/dist-packages (from python-dateutil>=2.8.0->qiskit-terra==0.45.1->qiskit>=0.44->qiskit-nature) (1.16.0)\n",
            "Requirement already satisfied: pbr!=2.1.0,>=2.0.0 in /usr/local/lib/python3.10/dist-packages (from stevedore>=3.0.0->qiskit-terra==0.45.1->qiskit>=0.44->qiskit-nature) (6.0.0)\n",
            "Requirement already satisfied: mpmath>=0.19 in /usr/local/lib/python3.10/dist-packages (from sympy>=1.3->qiskit-terra==0.45.1->qiskit>=0.44->qiskit-nature) (1.3.0)\n",
            "Installing collected packages: qiskit-algorithms, qiskit-nature\n",
            "Successfully installed qiskit-algorithms-0.2.1 qiskit-nature-0.7.1\n",
            "Collecting pyscf\n",
            "  Downloading pyscf-2.4.0-py3-none-manylinux_2_17_x86_64.manylinux2014_x86_64.whl (47.3 MB)\n",
            "\u001b[2K     \u001b[90m━━━━━━━━━━━━━━━━━━━━━━━━━━━━━━━━━━━━━━━━\u001b[0m \u001b[32m47.3/47.3 MB\u001b[0m \u001b[31m14.9 MB/s\u001b[0m eta \u001b[36m0:00:00\u001b[0m\n",
            "\u001b[?25hRequirement already satisfied: numpy!=1.16,!=1.17,>=1.13 in /usr/local/lib/python3.10/dist-packages (from pyscf) (1.23.5)\n",
            "Requirement already satisfied: scipy!=1.5.0,!=1.5.1 in /usr/local/lib/python3.10/dist-packages (from pyscf) (1.11.4)\n",
            "Requirement already satisfied: h5py>=2.7 in /usr/local/lib/python3.10/dist-packages (from pyscf) (3.9.0)\n",
            "Requirement already satisfied: setuptools in /usr/local/lib/python3.10/dist-packages (from pyscf) (67.7.2)\n",
            "Installing collected packages: pyscf\n",
            "Successfully installed pyscf-2.4.0\n"
          ]
        }
      ],
      "source": [
        "!pip install qiskit-nature\n",
        "!pip install pyscf"
      ]
    },
    {
      "cell_type": "code",
      "execution_count": 10,
      "metadata": {
        "id": "jNWkOVvAqd6c"
      },
      "outputs": [],
      "source": [
        "from qiskit_nature.second_q.drivers.electronic_structure_driver import ElectronicStructureDriver, MethodType\n",
        "from qiskit_nature.second_q.formats.molecule_info import MoleculeInfo"
      ]
    },
    {
      "cell_type": "code",
      "execution_count": 11,
      "metadata": {
        "id": "d-4UflhJ0iXh"
      },
      "outputs": [],
      "source": [
        "from qiskit_nature.second_q.problems import ElectronicStructureProblem\n",
        "from qiskit_nature.second_q.drivers import ElectronicStructureDriver,PySCFDriver\n",
        "from qiskit_nature.units import DistanceUnit\n",
        "from qiskit_nature.second_q.mappers import JordanWignerMapper\n",
        "from qiskit_algorithms import NumPyMinimumEigensolver\n",
        "from qiskit_nature.second_q.algorithms import GroundStateEigensolver"
      ]
    },
    {
      "cell_type": "code",
      "execution_count": 12,
      "metadata": {
        "colab": {
          "base_uri": "https://localhost:8080/"
        },
        "id": "Pzxo29Dfa0Ms",
        "outputId": "3a61fdd7-3643-4d74-f821-51a2c963a5b1"
      },
      "outputs": [
        {
          "output_type": "stream",
          "name": "stderr",
          "text": [
            "<ipython-input-12-8fd8f3f2cd9e>:5: DeprecationWarning: ``qiskit.algorithms`` has been migrated to an independent package: https://github.com/qiskit-community/qiskit-algorithms. The ``qiskit.algorithms`` import path is deprecated as of qiskit-terra 0.25.0 and will be removed no earlier than 3 months after the release date. Please run ``pip install qiskit_algorithms`` and use ``import qiskit_algorithms`` instead.\n",
            "  from qiskit.algorithms.optimizers import SLSQP\n"
          ]
        }
      ],
      "source": [
        "from qiskit_aer.primitives import Estimator as AerEstimator\n",
        "from qiskit.primitives import Estimator\n",
        "from qiskit_algorithms import VQE\n",
        "from qiskit_nature.second_q.circuit.library import UCCSD, HartreeFock\n",
        "from qiskit.algorithms.optimizers import SLSQP\n",
        "import time"
      ]
    },
    {
      "cell_type": "code",
      "execution_count": 39,
      "metadata": {
        "id": "fVdeHUPoqw8b"
      },
      "outputs": [],
      "source": [
        "def UCCSD_VQE(molecule, show_energy_res=False, use_gpu=False):\n",
        "  driver = PySCFDriver.from_molecule(molecule, basis=\"sto3g\")\n",
        "  problem = driver.run()\n",
        "\n",
        "  # mapper\n",
        "  mapper = JordanWignerMapper()\n",
        "\n",
        "  # solver\n",
        "  numpy_solver = NumPyMinimumEigensolver()\n",
        "  numpy_ground_state_solver = GroundStateEigensolver(mapper, numpy_solver)\n",
        "  numpy_results = numpy_ground_state_solver.solve(problem)\n",
        "\n",
        "  if show_energy_res:\n",
        "    exact_energy = numpy_results.computed_energies[0]\n",
        "    print(f\"Exact electronic energy: {exact_energy:.6f} Hartree\\n\")\n",
        "    print(numpy_results)\n",
        "\n",
        "\n",
        "  seed = 170\n",
        "\n",
        "  # estimator = AerEstimator(\n",
        "  #     run_options={\"seed\": seed},\n",
        "  #     transpile_options={\"seed_transpiler\": seed},)\n",
        "\n",
        "  estimator = Estimator()\n",
        "\n",
        "  gpu_estimator = AerEstimator(\n",
        "    run_options={\"seed\": seed},\n",
        "    transpile_options={\"seed_transpiler\": seed},)\n",
        "  gpu_estimator.set_options(device='GPU')\n",
        "  gpu_estimator.set_options(cuStateVec_enable=True)\n",
        "  # See how they get approximation, we can use error mitigation in our code.\n",
        "  gpu_estimator.set_options(approximation =True)\n",
        "  # gpu_estimator.set_options(shots = None)\n",
        "\n",
        "  ansatz = UCCSD(\n",
        "      problem.num_spatial_orbitals,\n",
        "      problem.num_particles,\n",
        "      mapper,\n",
        "      initial_state=HartreeFock(\n",
        "          problem.num_spatial_orbitals,\n",
        "          problem.num_particles,\n",
        "          mapper,\n",
        "      ),\n",
        "  )\n",
        "\n",
        "  optimizer = SLSQP()\n",
        "\n",
        "  if use_gpu:\n",
        "    avg_gpu_time = 0\n",
        "\n",
        "    for _ in range(10):\n",
        "      start = time.time()\n",
        "\n",
        "      vqe = VQE(gpu_estimator, ansatz, optimizer)\n",
        "      vqe_ground_state_solver = GroundStateEigensolver(mapper, vqe)\n",
        "      vqe_results = vqe_ground_state_solver.solve(problem)\n",
        "\n",
        "      end = time.time()\n",
        "      # print(\"______________________________________\")\n",
        "      # print(\"RESULT:\")\n",
        "      # print(vqe_results)\n",
        "      # print(\"______________________________________\")\n",
        "      avg_gpu_time += end - start\n",
        "\n",
        "    print(avg_gpu_time/1)\n",
        "\n",
        "  else:\n",
        "    avg_cpu_time = 0\n",
        "\n",
        "    for _ in range(10):\n",
        "      start = time.time()\n",
        "      vqe = VQE(estimator, ansatz, optimizer)\n",
        "\n",
        "      vqe_ground_state_solver = GroundStateEigensolver(mapper, vqe)\n",
        "      vqe_results = vqe_ground_state_solver.solve(problem)\n",
        "      end = time.time()\n",
        "      # print(\"______________________________________\")\n",
        "      # print(\"RESULT:\")\n",
        "      # print(vqe_results)\n",
        "      # print(\"______________________________________\")\n",
        "      avg_cpu_time += end - start\n",
        "\n",
        "    print(\"TIME:\")\n",
        "    print(avg_cpu_time/1)\n",
        "    print(\"______________________________________\")\n"
      ]
    },
    {
      "cell_type": "code",
      "execution_count": 40,
      "metadata": {
        "colab": {
          "base_uri": "https://localhost:8080/"
        },
        "id": "GiLeeHWvuQod",
        "outputId": "4f4c9f8a-2896-47a6-8727-50d09487533c"
      },
      "outputs": [
        {
          "output_type": "stream",
          "name": "stdout",
          "text": [
            "On CPU: VQE on H2 molecule\n",
            "TIME:\n",
            "12.773578882217407\n",
            "______________________________________\n",
            "On GPU: VQE on H2 molecule\n"
          ]
        },
        {
          "output_type": "stream",
          "name": "stderr",
          "text": [
            "/usr/local/lib/python3.10/dist-packages/qiskit_aer/primitives/estimator.py:169: RuntimeWarning: If `shots` is None and `approximation` is False, the number of shots is automatically set to backend options' shots=1024.\n",
            "  warn(\n"
          ]
        },
        {
          "output_type": "stream",
          "name": "stdout",
          "text": [
            "2.2070343494415283\n",
            "______________________________________\n"
          ]
        }
      ],
      "source": [
        "# define molecule H2\n",
        "\n",
        "molecule_h2 = MoleculeInfo([\"H\", \"H\"], [(0.0, 0.0, 0.0), (0.0, 0.0, 0.735)], charge=0, multiplicity=1)\n",
        "\n",
        "print(\"On CPU: VQE on H2 molecule\")\n",
        "UCCSD_VQE(molecule_h2)\n",
        "\n",
        "\n",
        "print(\"On GPU: VQE on H2 molecule\")\n",
        "UCCSD_VQE(molecule_h2, use_gpu=True)\n",
        "\n",
        "print(\"______________________________________\")\n",
        "# Note: Take avf for ground state energy\n",
        "# Error, 10%\n",
        "# print(\"Error: 0.37\")"
      ]
    },
    {
      "cell_type": "code",
      "execution_count": null,
      "metadata": {
        "colab": {
          "background_save": true,
          "base_uri": "https://localhost:8080/"
        },
        "id": "tJjkxX20cuhY",
        "outputId": "23a439a9-28d2-4e32-eb30-2bc2c3d9fcbe"
      },
      "outputs": [
        {
          "name": "stdout",
          "output_type": "stream",
          "text": [
            "On CPU: VQE on LiH molecule\n"
          ]
        }
      ],
      "source": [
        "# define molecule LiH\n",
        "\n",
        "# https://github.com/qiskit-community/qiskit-nature/blob/978fcaddd272c64051768a310fec4dee3cc11176/test/second_q/drivers/gaussiand/test_driver_gaussian_forces.py#L282\n",
        "# https://github.com/qiskit-community/qiskit-nature/blob/978fcaddd272c64051768a310fec4dee3cc11176/test/second_q/mappers/resources/bksf_lih.py#L33\n",
        "\n",
        "molecule_lih = MoleculeInfo([\"Li\", \"H\"], [(0.0, 0.0, 0.0), (0.0, 0.0, 1.6)], charge=0, multiplicity=1)\n",
        "\n",
        "print(\"On CPU: VQE on LiH molecule\")\n",
        "UCCSD_VQE(molecule_lih)\n",
        "\n",
        "\n",
        "print(\"On GPU: VQE on LiH molecule\")\n",
        "UCCSD_VQE(molecule_lih, use_gpu=True)"
      ]
    },
    {
      "cell_type": "code",
      "execution_count": null,
      "metadata": {
        "id": "ofJGMA42c7_N"
      },
      "outputs": [],
      "source": [
        "# define molecule H20\n",
        "\n",
        "molecule_h2o = MoleculeInfo([\"O\", \"H\", \"H\"], [(0.0, 0.0, 0.115), (0.0, 0.754, -0.459), (0.0, -0.754, -0.459)], charge=0, multiplicity=1)\n",
        "\n",
        "print(\"On CPU: VQE on H2O molecule\")\n",
        "UCCSD_VQE(molecule_h2o, True)\n",
        "\n",
        "\n",
        "print(\"On GPU: VQE on H2O molecule\")\n",
        "UCCSD_VQE(molecule_h2o, True, use_gpu=True)"
      ]
    },
    {
      "cell_type": "code",
      "execution_count": null,
      "metadata": {
        "id": "RyeF6aFxQKUQ"
      },
      "outputs": [],
      "source": [
        "from qiskit import *\n",
        "from qiskit.circuit.library import *\n",
        "from qiskit.providers.aer import *\n",
        "import sys\n",
        "\n",
        "sim = AerSimulator(method='statevector')\n",
        "sim_gpu = AerSimulator(method='statevector', device='GPU')\n",
        "\n",
        "shots = 100\n",
        "depth=10\n",
        "qubits = 25\n",
        "block_bits = 10\n",
        "\n",
        "circuit_cpu = transpile(QuantumVolume(qubits, depth, seed=0),\n",
        "                    backend=sim,\n",
        "                    optimization_level=0)\n",
        "circuit_cpu.measure_all()\n",
        "\n",
        "result_base = execute(circuit_cpu,sim,shots=shots,seed_simulator=12345).result()\n",
        "\n",
        "print(\"result_base: \")\n",
        "#if result_base.to_dict()['metadata']['mpi_rank'] == 0:\n",
        "print(result_base.to_dict()['backend_name'])\n",
        "print(result_base.to_dict()['results'][0]['time_taken'])\n",
        "print(sorted(result_base.to_dict()['results'][0]['data']['counts'].items(),key=lambda x:x[0]))\n",
        "\n",
        "circuit_gpu = transpile(QuantumVolume(qubits, depth, seed=0),\n",
        "                    backend=sim,\n",
        "                    optimization_level=0)\n",
        "circuit_gpu.measure_all()\n",
        "\n",
        "result_gpu = execute(circuit_gpu,sim_gpu,shots=shots,seed_simulator=12345,blocking_qubits=block_bits).result()\n",
        "\n",
        "print(\"result_gpu: \")\n",
        "#if result_gpu.to_dict()['metadata']['mpi_rank'] == 0:\n",
        "print(result_gpu.to_dict()['backend_name'])\n",
        "print(result_gpu.to_dict()['results'][0]['time_taken'])\n",
        "print(sorted(result_gpu.to_dict()['results'][0]['data']['counts'].items(),key=lambda x:x[0]))"
      ]
    },
    {
      "cell_type": "markdown",
      "metadata": {
        "id": "bbiYegizUpEU"
      },
      "source": [
        "References\n",
        "\n",
        "- [Stack overflow](https://quantumcomputing.stackexchange.com/questions/32667/what-are-the-differences-between-the-two-estimator-in-the-qiskit)\n",
        "\n",
        "- [qiskit_nature simulator deprication](https://github.com/qiskit-community/qiskit-nature/blob/978fcaddd272c64051768a310fec4dee3cc11176/docs/migration/0.5_b_solving_problems.rst#L211)\n",
        "\n",
        "- [qiskit nature h2o tutorial](https://github.com/qiskit-community/qiskit-application-modules-demo-sessions/blob/main/qiskit-nature/Qiskit_Nature_YouTube_Tutorial.ipynb)\n",
        "\n",
        "- [LiH molecule VQE](https://rodneyosodo.medium.com/simulating-molecules-lih-using-vqe-de40d7456fcc)/[LiH molecule VQE](https://gist.github.com/rodneyosodo/698ee32dde649ace70ad1152d276f748)\n",
        "\n"
      ]
    },
    {
      "cell_type": "markdown",
      "source": [
        "Next steps:\n",
        "\n",
        "- For another molecule\n",
        "- Add Error mitigation(https://quantumcomputing.stackexchange.com/questions/29502/what-do-the-resilience-levels-in-qiskit-runtimes-primitives-mean)"
      ],
      "metadata": {
        "id": "vRhR8p5XP9gK"
      }
    },
    {
      "cell_type": "code",
      "execution_count": null,
      "metadata": {
        "id": "4wihmH24Snw9"
      },
      "outputs": [],
      "source": []
    }
  ],
  "metadata": {
    "accelerator": "GPU",
    "colab": {
      "provenance": []
    },
    "kernelspec": {
      "display_name": "Python 3",
      "name": "python3"
    },
    "language_info": {
      "name": "python"
    }
  },
  "nbformat": 4,
  "nbformat_minor": 0
}