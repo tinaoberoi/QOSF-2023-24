{
  "cells": [
    {
      "cell_type": "markdown",
      "metadata": {
        "id": "uiZ90ygLGZTu"
      },
      "source": [
        "# Installations and Imports"
      ]
    },
    {
      "cell_type": "markdown",
      "metadata": {
        "id": "sR7N15RRF-i7"
      },
      "source": [
        "## Intalling qiskit-aer"
      ]
    },
    {
      "cell_type": "code",
      "execution_count": null,
      "metadata": {
        "colab": {
          "base_uri": "https://localhost:8080/"
        },
        "id": "fI63uiJ7NbNd",
        "outputId": "803a9599-a62f-441f-ac07-182b5e5b6fcf"
      },
      "outputs": [
        {
          "name": "stdout",
          "output_type": "stream",
          "text": [
            "Wed Jan 10 03:04:43 2024       \n",
            "+---------------------------------------------------------------------------------------+\n",
            "| NVIDIA-SMI 535.104.05             Driver Version: 535.104.05   CUDA Version: 12.2     |\n",
            "|-----------------------------------------+----------------------+----------------------+\n",
            "| GPU  Name                 Persistence-M | Bus-Id        Disp.A | Volatile Uncorr. ECC |\n",
            "| Fan  Temp   Perf          Pwr:Usage/Cap |         Memory-Usage | GPU-Util  Compute M. |\n",
            "|                                         |                      |               MIG M. |\n",
            "|=========================================+======================+======================|\n",
            "|   0  Tesla T4                       Off | 00000000:00:04.0 Off |                    0 |\n",
            "| N/A   66C    P8              11W /  70W |      0MiB / 15360MiB |      0%      Default |\n",
            "|                                         |                      |                  N/A |\n",
            "+-----------------------------------------+----------------------+----------------------+\n",
            "                                                                                         \n",
            "+---------------------------------------------------------------------------------------+\n",
            "| Processes:                                                                            |\n",
            "|  GPU   GI   CI        PID   Type   Process name                            GPU Memory |\n",
            "|        ID   ID                                                             Usage      |\n",
            "|=======================================================================================|\n",
            "|  No running processes found                                                           |\n",
            "+---------------------------------------------------------------------------------------+\n"
          ]
        }
      ],
      "source": [
        "!nvidia-smi"
      ]
    },
    {
      "cell_type": "code",
      "execution_count": null,
      "metadata": {
        "colab": {
          "base_uri": "https://localhost:8080/"
        },
        "id": "wrtnYBzrNfLw",
        "outputId": "0cabac8a-b72a-4be7-c8fc-1a0dbf269188"
      },
      "outputs": [
        {
          "name": "stdout",
          "output_type": "stream",
          "text": [
            "Collecting qiskit-aer\n",
            "  Downloading qiskit_aer-0.13.1-cp310-cp310-manylinux_2_17_x86_64.manylinux2014_x86_64.whl (12.3 MB)\n",
            "\u001b[2K     \u001b[90m━━━━━━━━━━━━━━━━━━━━━━━━━━━━━━━━━━━━━━━━\u001b[0m \u001b[32m12.3/12.3 MB\u001b[0m \u001b[31m78.1 MB/s\u001b[0m eta \u001b[36m0:00:00\u001b[0m\n",
            "\u001b[?25hCollecting qiskit>=0.44.0 (from qiskit-aer)\n",
            "  Downloading qiskit-0.45.1-py3-none-any.whl (9.6 kB)\n",
            "Requirement already satisfied: numpy>=1.16.3 in /usr/local/lib/python3.10/dist-packages (from qiskit-aer) (1.23.5)\n",
            "Requirement already satisfied: scipy>=1.0 in /usr/local/lib/python3.10/dist-packages (from qiskit-aer) (1.11.4)\n",
            "Requirement already satisfied: psutil>=5 in /usr/local/lib/python3.10/dist-packages (from qiskit-aer) (5.9.5)\n",
            "Collecting qiskit-terra==0.45.1 (from qiskit>=0.44.0->qiskit-aer)\n",
            "  Downloading qiskit_terra-0.45.1-cp38-abi3-manylinux_2_17_x86_64.manylinux2014_x86_64.whl (6.3 MB)\n",
            "\u001b[2K     \u001b[90m━━━━━━━━━━━━━━━━━━━━━━━━━━━━━━━━━━━━━━━━\u001b[0m \u001b[32m6.3/6.3 MB\u001b[0m \u001b[31m18.6 MB/s\u001b[0m eta \u001b[36m0:00:00\u001b[0m\n",
            "\u001b[?25hCollecting rustworkx>=0.13.0 (from qiskit-terra==0.45.1->qiskit>=0.44.0->qiskit-aer)\n",
            "  Downloading rustworkx-0.13.2-cp310-cp310-manylinux_2_17_x86_64.manylinux2014_x86_64.whl (2.0 MB)\n",
            "\u001b[2K     \u001b[90m━━━━━━━━━━━━━━━━━━━━━━━━━━━━━━━━━━━━━━━━\u001b[0m \u001b[32m2.0/2.0 MB\u001b[0m \u001b[31m74.7 MB/s\u001b[0m eta \u001b[36m0:00:00\u001b[0m\n",
            "\u001b[?25hCollecting ply>=3.10 (from qiskit-terra==0.45.1->qiskit>=0.44.0->qiskit-aer)\n",
            "  Downloading ply-3.11-py2.py3-none-any.whl (49 kB)\n",
            "\u001b[2K     \u001b[90m━━━━━━━━━━━━━━━━━━━━━━━━━━━━━━━━━━━━━━━━\u001b[0m \u001b[32m49.6/49.6 kB\u001b[0m \u001b[31m5.9 MB/s\u001b[0m eta \u001b[36m0:00:00\u001b[0m\n",
            "\u001b[?25hRequirement already satisfied: sympy>=1.3 in /usr/local/lib/python3.10/dist-packages (from qiskit-terra==0.45.1->qiskit>=0.44.0->qiskit-aer) (1.12)\n",
            "Collecting dill>=0.3 (from qiskit-terra==0.45.1->qiskit>=0.44.0->qiskit-aer)\n",
            "  Downloading dill-0.3.7-py3-none-any.whl (115 kB)\n",
            "\u001b[2K     \u001b[90m━━━━━━━━━━━━━━━━━━━━━━━━━━━━━━━━━━━━━━━━\u001b[0m \u001b[32m115.3/115.3 kB\u001b[0m \u001b[31m13.8 MB/s\u001b[0m eta \u001b[36m0:00:00\u001b[0m\n",
            "\u001b[?25hRequirement already satisfied: python-dateutil>=2.8.0 in /usr/local/lib/python3.10/dist-packages (from qiskit-terra==0.45.1->qiskit>=0.44.0->qiskit-aer) (2.8.2)\n",
            "Collecting stevedore>=3.0.0 (from qiskit-terra==0.45.1->qiskit>=0.44.0->qiskit-aer)\n",
            "  Downloading stevedore-5.1.0-py3-none-any.whl (49 kB)\n",
            "\u001b[2K     \u001b[90m━━━━━━━━━━━━━━━━━━━━━━━━━━━━━━━━━━━━━━━━\u001b[0m \u001b[32m49.6/49.6 kB\u001b[0m \u001b[31m4.9 MB/s\u001b[0m eta \u001b[36m0:00:00\u001b[0m\n",
            "\u001b[?25hCollecting symengine!=0.10.0,>=0.9 (from qiskit-terra==0.45.1->qiskit>=0.44.0->qiskit-aer)\n",
            "  Downloading symengine-0.11.0-cp310-cp310-manylinux_2_12_x86_64.manylinux2010_x86_64.whl (39.4 MB)\n",
            "\u001b[2K     \u001b[90m━━━━━━━━━━━━━━━━━━━━━━━━━━━━━━━━━━━━━━━━\u001b[0m \u001b[32m39.4/39.4 MB\u001b[0m \u001b[31m35.5 MB/s\u001b[0m eta \u001b[36m0:00:00\u001b[0m\n",
            "\u001b[?25hRequirement already satisfied: typing-extensions in /usr/local/lib/python3.10/dist-packages (from qiskit-terra==0.45.1->qiskit>=0.44.0->qiskit-aer) (4.5.0)\n",
            "Requirement already satisfied: six>=1.5 in /usr/local/lib/python3.10/dist-packages (from python-dateutil>=2.8.0->qiskit-terra==0.45.1->qiskit>=0.44.0->qiskit-aer) (1.16.0)\n",
            "Collecting pbr!=2.1.0,>=2.0.0 (from stevedore>=3.0.0->qiskit-terra==0.45.1->qiskit>=0.44.0->qiskit-aer)\n",
            "  Downloading pbr-6.0.0-py2.py3-none-any.whl (107 kB)\n",
            "\u001b[2K     \u001b[90m━━━━━━━━━━━━━━━━━━━━━━━━━━━━━━━━━━━━━━━━\u001b[0m \u001b[32m107.5/107.5 kB\u001b[0m \u001b[31m15.3 MB/s\u001b[0m eta \u001b[36m0:00:00\u001b[0m\n",
            "\u001b[?25hRequirement already satisfied: mpmath>=0.19 in /usr/local/lib/python3.10/dist-packages (from sympy>=1.3->qiskit-terra==0.45.1->qiskit>=0.44.0->qiskit-aer) (1.3.0)\n",
            "Installing collected packages: ply, symengine, rustworkx, pbr, dill, stevedore, qiskit-terra, qiskit, qiskit-aer\n",
            "Successfully installed dill-0.3.7 pbr-6.0.0 ply-3.11 qiskit-0.45.1 qiskit-aer-0.13.1 qiskit-terra-0.45.1 rustworkx-0.13.2 stevedore-5.1.0 symengine-0.11.0\n"
          ]
        }
      ],
      "source": [
        "!pip install qiskit-aer"
      ]
    },
    {
      "cell_type": "code",
      "execution_count": null,
      "metadata": {
        "colab": {
          "base_uri": "https://localhost:8080/"
        },
        "id": "RLANaBX0Nuh1",
        "outputId": "66b850e5-9837-4829-a477-f0c6aead169e"
      },
      "outputs": [
        {
          "name": "stdout",
          "output_type": "stream",
          "text": [
            "Found existing installation: qiskit-aer 0.13.1\n",
            "Uninstalling qiskit-aer-0.13.1:\n",
            "  Successfully uninstalled qiskit-aer-0.13.1\n"
          ]
        }
      ],
      "source": [
        "!pip uninstall -y qiskit-aer"
      ]
    },
    {
      "cell_type": "code",
      "execution_count": null,
      "metadata": {
        "colab": {
          "base_uri": "https://localhost:8080/"
        },
        "id": "15IyCdbzNg-N",
        "outputId": "7e815b88-b0b2-45e8-aef8-63aae79eb312"
      },
      "outputs": [
        {
          "name": "stdout",
          "output_type": "stream",
          "text": [
            "Collecting nvidia-cuda-runtime-cu12\n",
            "  Downloading nvidia_cuda_runtime_cu12-12.3.101-py3-none-manylinux1_x86_64.whl (867 kB)\n",
            "\u001b[2K     \u001b[90m━━━━━━━━━━━━━━━━━━━━━━━━━━━━━━━━━━━━━━━━\u001b[0m \u001b[32m867.7/867.7 kB\u001b[0m \u001b[31m13.9 MB/s\u001b[0m eta \u001b[36m0:00:00\u001b[0m\n",
            "\u001b[?25hCollecting nvidia-cublas-cu12\n",
            "  Downloading nvidia_cublas_cu12-12.3.4.1-py3-none-manylinux1_x86_64.whl (412.6 MB)\n",
            "\u001b[2K     \u001b[90m━━━━━━━━━━━━━━━━━━━━━━━━━━━━━━━━━━━━━━━━\u001b[0m \u001b[32m412.6/412.6 MB\u001b[0m \u001b[31m3.2 MB/s\u001b[0m eta \u001b[36m0:00:00\u001b[0m\n",
            "\u001b[?25hCollecting nvidia-cusolver-cu12\n",
            "  Downloading nvidia_cusolver_cu12-11.5.4.101-py3-none-manylinux1_x86_64.whl (125.2 MB)\n",
            "\u001b[2K     \u001b[90m━━━━━━━━━━━━━━━━━━━━━━━━━━━━━━━━━━━━━━━━\u001b[0m \u001b[32m125.2/125.2 MB\u001b[0m \u001b[31m9.8 MB/s\u001b[0m eta \u001b[36m0:00:00\u001b[0m\n",
            "\u001b[?25hCollecting nvidia-cusparse-cu12\n",
            "  Downloading nvidia_cusparse_cu12-12.2.0.103-py3-none-manylinux1_x86_64.whl (197.5 MB)\n",
            "\u001b[2K     \u001b[90m━━━━━━━━━━━━━━━━━━━━━━━━━━━━━━━━━━━━━━━━\u001b[0m \u001b[32m197.5/197.5 MB\u001b[0m \u001b[31m4.2 MB/s\u001b[0m eta \u001b[36m0:00:00\u001b[0m\n",
            "\u001b[?25hCollecting cuquantum-cu12\n",
            "  Downloading cuquantum_cu12-23.10.0-py3-none-manylinux2014_x86_64.whl (7.0 kB)\n",
            "Collecting nvidia-nvjitlink-cu12 (from nvidia-cusolver-cu12)\n",
            "  Downloading nvidia_nvjitlink_cu12-12.3.101-py3-none-manylinux1_x86_64.whl (20.5 MB)\n",
            "\u001b[2K     \u001b[90m━━━━━━━━━━━━━━━━━━━━━━━━━━━━━━━━━━━━━━━━\u001b[0m \u001b[32m20.5/20.5 MB\u001b[0m \u001b[31m78.2 MB/s\u001b[0m eta \u001b[36m0:00:00\u001b[0m\n",
            "\u001b[?25hCollecting custatevec-cu12==1.5.0 (from cuquantum-cu12)\n",
            "  Downloading custatevec_cu12-1.5.0-py3-none-manylinux2014_x86_64.whl (38.4 MB)\n",
            "\u001b[2K     \u001b[90m━━━━━━━━━━━━━━━━━━━━━━━━━━━━━━━━━━━━━━━━\u001b[0m \u001b[32m38.4/38.4 MB\u001b[0m \u001b[31m38.8 MB/s\u001b[0m eta \u001b[36m0:00:00\u001b[0m\n",
            "\u001b[?25hCollecting cutensornet-cu12==2.3.0 (from cuquantum-cu12)\n",
            "  Downloading cutensornet_cu12-2.3.0-py3-none-manylinux2014_x86_64.whl (2.2 MB)\n",
            "\u001b[2K     \u001b[90m━━━━━━━━━━━━━━━━━━━━━━━━━━━━━━━━━━━━━━━━\u001b[0m \u001b[32m2.2/2.2 MB\u001b[0m \u001b[31m96.9 MB/s\u001b[0m eta \u001b[36m0:00:00\u001b[0m\n",
            "\u001b[?25hCollecting cutensor-cu12<2,>=1.6.1 (from cutensornet-cu12==2.3.0->cuquantum-cu12)\n",
            "  Downloading cutensor_cu12-1.7.0-py3-none-manylinux2014_x86_64.whl (146.8 MB)\n",
            "\u001b[2K     \u001b[90m━━━━━━━━━━━━━━━━━━━━━━━━━━━━━━━━━━━━━━━━\u001b[0m \u001b[32m146.8/146.8 MB\u001b[0m \u001b[31m5.8 MB/s\u001b[0m eta \u001b[36m0:00:00\u001b[0m\n",
            "\u001b[?25hInstalling collected packages: cutensor-cu12, custatevec-cu12, nvidia-nvjitlink-cu12, nvidia-cuda-runtime-cu12, nvidia-cublas-cu12, cutensornet-cu12, nvidia-cusparse-cu12, cuquantum-cu12, nvidia-cusolver-cu12\n",
            "Successfully installed cuquantum-cu12-23.10.0 custatevec-cu12-1.5.0 cutensor-cu12-1.7.0 cutensornet-cu12-2.3.0 nvidia-cublas-cu12-12.3.4.1 nvidia-cuda-runtime-cu12-12.3.101 nvidia-cusolver-cu12-11.5.4.101 nvidia-cusparse-cu12-12.2.0.103 nvidia-nvjitlink-cu12-12.3.101\n"
          ]
        }
      ],
      "source": [
        "!pip install nvidia-cuda-runtime-cu12 nvidia-cublas-cu12 nvidia-cusolver-cu12 nvidia-cusparse-cu12 cuquantum-cu12"
      ]
    },
    {
      "cell_type": "code",
      "execution_count": null,
      "metadata": {
        "colab": {
          "base_uri": "https://localhost:8080/"
        },
        "id": "S9j88go8ODeJ",
        "outputId": "2fb6db84-5b11-4d7d-d998-bfbd779a0a67"
      },
      "outputs": [
        {
          "name": "stdout",
          "output_type": "stream",
          "text": [
            "Looking in indexes: https://test.pypi.org/simple/\n",
            "Collecting qiskit-aer-gpu\n",
            "  Downloading https://test-files.pythonhosted.org/packages/76/77/d53bfc99ab3b0ef5517e6fb4b7a4a37aaa8d046a88a5cf8b01483fe26b77/qiskit_aer_gpu-0.13.1-cp310-cp310-manylinux_2_17_x86_64.manylinux2014_x86_64.whl (18.7 MB)\n",
            "\u001b[2K     \u001b[90m━━━━━━━━━━━━━━━━━━━━━━━━━━━━━━━━━━━━━━━━\u001b[0m \u001b[32m18.7/18.7 MB\u001b[0m \u001b[31m2.6 MB/s\u001b[0m eta \u001b[36m0:00:00\u001b[0m\n",
            "\u001b[?25hRequirement already satisfied: qiskit-terra>=0.21.0 in /usr/local/lib/python3.10/dist-packages (from qiskit-aer-gpu) (0.45.1)\n",
            "Requirement already satisfied: numpy>=1.16.3 in /usr/local/lib/python3.10/dist-packages (from qiskit-aer-gpu) (1.23.5)\n",
            "Requirement already satisfied: scipy>=1.0 in /usr/local/lib/python3.10/dist-packages (from qiskit-aer-gpu) (1.11.4)\n",
            "Requirement already satisfied: nvidia-cuda-runtime-cu12>=12.1.105 in /usr/local/lib/python3.10/dist-packages (from qiskit-aer-gpu) (12.3.101)\n",
            "Requirement already satisfied: nvidia-nvjitlink-cu12 in /usr/local/lib/python3.10/dist-packages (from qiskit-aer-gpu) (12.3.101)\n",
            "Requirement already satisfied: nvidia-cublas-cu12>=12.1.3.1 in /usr/local/lib/python3.10/dist-packages (from qiskit-aer-gpu) (12.3.4.1)\n",
            "Requirement already satisfied: nvidia-cusolver-cu12>=11.4.5.107 in /usr/local/lib/python3.10/dist-packages (from qiskit-aer-gpu) (11.5.4.101)\n",
            "Requirement already satisfied: nvidia-cusparse-cu12>=12.1.0.106 in /usr/local/lib/python3.10/dist-packages (from qiskit-aer-gpu) (12.2.0.103)\n",
            "Requirement already satisfied: cuquantum-cu12>=23.3.0 in /usr/local/lib/python3.10/dist-packages (from qiskit-aer-gpu) (23.10.0)\n",
            "Requirement already satisfied: custatevec-cu12==1.5.0 in /usr/local/lib/python3.10/dist-packages (from cuquantum-cu12>=23.3.0->qiskit-aer-gpu) (1.5.0)\n",
            "Requirement already satisfied: cutensornet-cu12==2.3.0 in /usr/local/lib/python3.10/dist-packages (from cuquantum-cu12>=23.3.0->qiskit-aer-gpu) (2.3.0)\n",
            "Requirement already satisfied: cutensor-cu12<2,>=1.6.1 in /usr/local/lib/python3.10/dist-packages (from cutensornet-cu12==2.3.0->cuquantum-cu12>=23.3.0->qiskit-aer-gpu) (1.7.0)\n",
            "Requirement already satisfied: rustworkx>=0.13.0 in /usr/local/lib/python3.10/dist-packages (from qiskit-terra>=0.21.0->qiskit-aer-gpu) (0.13.2)\n",
            "Requirement already satisfied: ply>=3.10 in /usr/local/lib/python3.10/dist-packages (from qiskit-terra>=0.21.0->qiskit-aer-gpu) (3.11)\n",
            "Requirement already satisfied: psutil>=5 in /usr/local/lib/python3.10/dist-packages (from qiskit-terra>=0.21.0->qiskit-aer-gpu) (5.9.5)\n",
            "Requirement already satisfied: sympy>=1.3 in /usr/local/lib/python3.10/dist-packages (from qiskit-terra>=0.21.0->qiskit-aer-gpu) (1.12)\n",
            "Requirement already satisfied: dill>=0.3 in /usr/local/lib/python3.10/dist-packages (from qiskit-terra>=0.21.0->qiskit-aer-gpu) (0.3.7)\n",
            "Requirement already satisfied: python-dateutil>=2.8.0 in /usr/local/lib/python3.10/dist-packages (from qiskit-terra>=0.21.0->qiskit-aer-gpu) (2.8.2)\n",
            "Requirement already satisfied: stevedore>=3.0.0 in /usr/local/lib/python3.10/dist-packages (from qiskit-terra>=0.21.0->qiskit-aer-gpu) (5.1.0)\n",
            "Requirement already satisfied: symengine!=0.10.0,>=0.9 in /usr/local/lib/python3.10/dist-packages (from qiskit-terra>=0.21.0->qiskit-aer-gpu) (0.11.0)\n",
            "Requirement already satisfied: typing-extensions in /usr/local/lib/python3.10/dist-packages (from qiskit-terra>=0.21.0->qiskit-aer-gpu) (4.5.0)\n",
            "Requirement already satisfied: six>=1.5 in /usr/local/lib/python3.10/dist-packages (from python-dateutil>=2.8.0->qiskit-terra>=0.21.0->qiskit-aer-gpu) (1.16.0)\n",
            "Requirement already satisfied: pbr!=2.1.0,>=2.0.0 in /usr/local/lib/python3.10/dist-packages (from stevedore>=3.0.0->qiskit-terra>=0.21.0->qiskit-aer-gpu) (6.0.0)\n",
            "Requirement already satisfied: mpmath>=0.19 in /usr/local/lib/python3.10/dist-packages (from sympy>=1.3->qiskit-terra>=0.21.0->qiskit-aer-gpu) (1.3.0)\n",
            "Installing collected packages: qiskit-aer-gpu\n",
            "Successfully installed qiskit-aer-gpu-0.13.1\n"
          ]
        }
      ],
      "source": [
        "!pip install -i https://test.pypi.org/simple/ qiskit-aer-gpu"
      ]
    },
    {
      "cell_type": "code",
      "execution_count": null,
      "metadata": {
        "colab": {
          "base_uri": "https://localhost:8080/"
        },
        "id": "JJZwpQ6EOHiI",
        "outputId": "7f19b2c1-1b81-4185-82dc-333c8c143751"
      },
      "outputs": [
        {
          "name": "stdout",
          "output_type": "stream",
          "text": [
            "\tlinux-vdso.so.1 (0x00007ffeb43dc000)\n",
            "\tlibopenblas-r0-f650aae0.3.3.so => /usr/local/lib/python3.10/dist-packages/qiskit_aer/backends/../../qiskit_aer_gpu.libs/libopenblas-r0-f650aae0.3.3.so (0x00007fc542400000)\n",
            "\tlibdl.so.2 => /lib/x86_64-linux-gnu/libdl.so.2 (0x00007fc544aed000)\n",
            "\tlibcusolver.so.11 => /usr/local/lib/python3.10/dist-packages/qiskit_aer/backends/../../nvidia/cusolver/lib/libcusolver.so.11 (0x00007fc53b200000)\n",
            "\tlibcusparse.so.12 => /usr/local/lib/python3.10/dist-packages/qiskit_aer/backends/../../nvidia/cusparse/lib/libcusparse.so.12 (0x00007fc52b000000)\n",
            "\tlibcustatevec.so.1 => /usr/local/lib/python3.10/dist-packages/qiskit_aer/backends/../../cuquantum/lib/libcustatevec.so.1 (0x00007fc526a00000)\n",
            "\tlibcutensornet.so.2 => /usr/local/lib/python3.10/dist-packages/qiskit_aer/backends/../../cuquantum/lib/libcutensornet.so.2 (0x00007fc526200000)\n",
            "\tlibcudart.so.12 => /usr/local/lib/python3.10/dist-packages/qiskit_aer/backends/../../nvidia/cuda_runtime/lib/libcudart.so.12 (0x00007fc525e00000)\n",
            "\tlibpthread.so.0 => /lib/x86_64-linux-gnu/libpthread.so.0 (0x00007fc544ae6000)\n",
            "\tlibstdc++.so.6 => /lib/x86_64-linux-gnu/libstdc++.so.6 (0x00007fc525bd4000)\n",
            "\tlibm.so.6 => /lib/x86_64-linux-gnu/libm.so.6 (0x00007fc5449fd000)\n",
            "\tlibgomp-a34b3233.so.1.0.0 => /usr/local/lib/python3.10/dist-packages/qiskit_aer/backends/../../qiskit_aer_gpu.libs/libgomp-a34b3233.so.1.0.0 (0x00007fc525800000)\n",
            "\tlibgcc_s.so.1 => /lib/x86_64-linux-gnu/libgcc_s.so.1 (0x00007fc5449dd000)\n",
            "\tlibc.so.6 => /lib/x86_64-linux-gnu/libc.so.6 (0x00007fc5255d8000)\n",
            "\t/lib64/ld-linux-x86-64.so.2 (0x00007fc5464eb000)\n",
            "\tlibgfortran-91cc3cb1.so.3.0.0 => /usr/local/lib/python3.10/dist-packages/qiskit_aer/backends/../../qiskit_aer_gpu.libs/libgfortran-91cc3cb1.so.3.0.0 (0x00007fc525200000)\n",
            "\tlibnvJitLink.so.12 => /usr/local/lib/python3.10/dist-packages/qiskit_aer/backends/../../nvidia/cusolver/lib/../../nvjitlink/lib/libnvJitLink.so.12 (0x00007fc521c00000)\n",
            "\tlibcublas.so.12 => /usr/local/lib/python3.10/dist-packages/qiskit_aer/backends/../../nvidia/cusolver/lib/../../cublas/lib/libcublas.so.12 (0x00007fc51b400000)\n",
            "\tlibcublasLt.so.12 => /usr/local/lib/python3.10/dist-packages/qiskit_aer/backends/../../nvidia/cusolver/lib/../../cublas/lib/libcublasLt.so.12 (0x00007fc4f8a00000)\n",
            "\tlibrt.so.1 => /lib/x86_64-linux-gnu/librt.so.1 (0x00007fc5449d6000)\n",
            "\tlibcutensor.so.1 => /usr/local/lib/python3.10/dist-packages/qiskit_aer/backends/../../cuquantum/lib/../../cutensor/lib/libcutensor.so.1 (0x00007fc4eaa00000)\n",
            "\tlibquadmath-96973f99.so.0.0.0 => /usr/local/lib/python3.10/dist-packages/qiskit_aer/backends/../../qiskit_aer_gpu.libs/libquadmath-96973f99.so.0.0.0 (0x00007fc4ea600000)\n",
            "\tlibcuda.so.1 => /usr/lib64-nvidia/libcuda.so.1 (0x00007fc4e8800000)\n"
          ]
        }
      ],
      "source": [
        "!ldd /usr/local/lib/python3.10/dist-packages/qiskit_aer/backends/controller_wrappers.cpython-310-x86_64-linux-gnu.so"
      ]
    },
    {
      "cell_type": "markdown",
      "metadata": {
        "id": "-1PCyVHcGGCl"
      },
      "source": [
        "## Installing qiskit-nature"
      ]
    },
    {
      "cell_type": "code",
      "execution_count": null,
      "metadata": {
        "colab": {
          "base_uri": "https://localhost:8080/"
        },
        "id": "hcBfIjMYvwZx",
        "outputId": "75e1a8e9-ad76-4348-f2b3-5f93abfa3368"
      },
      "outputs": [
        {
          "name": "stdout",
          "output_type": "stream",
          "text": [
            "\u001b[33mWARNING: Skipping qiskit_nature as it is not installed.\u001b[0m\u001b[33m\n",
            "\u001b[0m\u001b[33mWARNING: Skipping pyscf as it is not installed.\u001b[0m\u001b[33m\n",
            "\u001b[0m"
          ]
        }
      ],
      "source": [
        "!pip uninstall qiskit_nature --yes\n",
        "!pip uninstall pyscf --yes"
      ]
    },
    {
      "cell_type": "code",
      "execution_count": null,
      "metadata": {
        "colab": {
          "base_uri": "https://localhost:8080/"
        },
        "id": "w2OadLobv0l2",
        "outputId": "688be412-82db-43ed-8664-72719a95ecbd"
      },
      "outputs": [
        {
          "name": "stdout",
          "output_type": "stream",
          "text": [
            "\u001b[33mWARNING: Package(s) not found: qiskit_nature\u001b[0m\u001b[33m\n",
            "\u001b[0m\u001b[33mWARNING: Package(s) not found: pyscf\u001b[0m\u001b[33m\n",
            "\u001b[0m"
          ]
        }
      ],
      "source": [
        "!pip show qiskit_nature\n",
        "!pip show pyscf"
      ]
    },
    {
      "cell_type": "code",
      "execution_count": null,
      "metadata": {
        "colab": {
          "base_uri": "https://localhost:8080/"
        },
        "id": "rjlLVybDv4MQ",
        "outputId": "626fd027-ab91-4b19-9004-0441d41137b2"
      },
      "outputs": [
        {
          "name": "stdout",
          "output_type": "stream",
          "text": [
            "Collecting qiskit-nature\n",
            "  Downloading qiskit_nature-0.7.1-py3-none-any.whl (2.2 MB)\n",
            "\u001b[?25l     \u001b[90m━━━━━━━━━━━━━━━━━━━━━━━━━━━━━━━━━━━━━━━━\u001b[0m \u001b[32m0.0/2.2 MB\u001b[0m \u001b[31m?\u001b[0m eta \u001b[36m-:--:--\u001b[0m\r\u001b[2K     \u001b[91m━\u001b[0m\u001b[90m╺\u001b[0m\u001b[90m━━━━━━━━━━━━━━━━━━━━━━━━━━━━━━━━━━━━━━\u001b[0m \u001b[32m0.1/2.2 MB\u001b[0m \u001b[31m1.9 MB/s\u001b[0m eta \u001b[36m0:00:02\u001b[0m\r\u001b[2K     \u001b[91m━━━━━━━━━━━━━━━━━━━━━━━━━━━━━━━━━━━━━━━\u001b[0m\u001b[91m╸\u001b[0m \u001b[32m2.2/2.2 MB\u001b[0m \u001b[31m32.6 MB/s\u001b[0m eta \u001b[36m0:00:01\u001b[0m\r\u001b[2K     \u001b[90m━━━━━━━━━━━━━━━━━━━━━━━━━━━━━━━━━━━━━━━━\u001b[0m \u001b[32m2.2/2.2 MB\u001b[0m \u001b[31m26.4 MB/s\u001b[0m eta \u001b[36m0:00:00\u001b[0m\n",
            "\u001b[?25hRequirement already satisfied: qiskit>=0.44 in /usr/local/lib/python3.10/dist-packages (from qiskit-nature) (0.45.1)\n",
            "Collecting qiskit-algorithms>=0.2.1 (from qiskit-nature)\n",
            "  Downloading qiskit_algorithms-0.2.1-py3-none-any.whl (306 kB)\n",
            "\u001b[2K     \u001b[90m━━━━━━━━━━━━━━━━━━━━━━━━━━━━━━━━━━━━━━━━\u001b[0m \u001b[32m306.9/306.9 kB\u001b[0m \u001b[31m38.4 MB/s\u001b[0m eta \u001b[36m0:00:00\u001b[0m\n",
            "\u001b[?25hRequirement already satisfied: scipy>=1.4 in /usr/local/lib/python3.10/dist-packages (from qiskit-nature) (1.11.4)\n",
            "Requirement already satisfied: numpy>=1.17 in /usr/local/lib/python3.10/dist-packages (from qiskit-nature) (1.23.5)\n",
            "Requirement already satisfied: psutil>=5 in /usr/local/lib/python3.10/dist-packages (from qiskit-nature) (5.9.5)\n",
            "Requirement already satisfied: setuptools>=40.1.0 in /usr/local/lib/python3.10/dist-packages (from qiskit-nature) (67.7.2)\n",
            "Requirement already satisfied: typing-extensions in /usr/local/lib/python3.10/dist-packages (from qiskit-nature) (4.5.0)\n",
            "Requirement already satisfied: h5py in /usr/local/lib/python3.10/dist-packages (from qiskit-nature) (3.9.0)\n",
            "Requirement already satisfied: rustworkx>=0.12 in /usr/local/lib/python3.10/dist-packages (from qiskit-nature) (0.13.2)\n",
            "Requirement already satisfied: qiskit-terra==0.45.1 in /usr/local/lib/python3.10/dist-packages (from qiskit>=0.44->qiskit-nature) (0.45.1)\n",
            "Requirement already satisfied: ply>=3.10 in /usr/local/lib/python3.10/dist-packages (from qiskit-terra==0.45.1->qiskit>=0.44->qiskit-nature) (3.11)\n",
            "Requirement already satisfied: sympy>=1.3 in /usr/local/lib/python3.10/dist-packages (from qiskit-terra==0.45.1->qiskit>=0.44->qiskit-nature) (1.12)\n",
            "Requirement already satisfied: dill>=0.3 in /usr/local/lib/python3.10/dist-packages (from qiskit-terra==0.45.1->qiskit>=0.44->qiskit-nature) (0.3.7)\n",
            "Requirement already satisfied: python-dateutil>=2.8.0 in /usr/local/lib/python3.10/dist-packages (from qiskit-terra==0.45.1->qiskit>=0.44->qiskit-nature) (2.8.2)\n",
            "Requirement already satisfied: stevedore>=3.0.0 in /usr/local/lib/python3.10/dist-packages (from qiskit-terra==0.45.1->qiskit>=0.44->qiskit-nature) (5.1.0)\n",
            "Requirement already satisfied: symengine!=0.10.0,>=0.9 in /usr/local/lib/python3.10/dist-packages (from qiskit-terra==0.45.1->qiskit>=0.44->qiskit-nature) (0.11.0)\n",
            "Requirement already satisfied: six>=1.5 in /usr/local/lib/python3.10/dist-packages (from python-dateutil>=2.8.0->qiskit-terra==0.45.1->qiskit>=0.44->qiskit-nature) (1.16.0)\n",
            "Requirement already satisfied: pbr!=2.1.0,>=2.0.0 in /usr/local/lib/python3.10/dist-packages (from stevedore>=3.0.0->qiskit-terra==0.45.1->qiskit>=0.44->qiskit-nature) (6.0.0)\n",
            "Requirement already satisfied: mpmath>=0.19 in /usr/local/lib/python3.10/dist-packages (from sympy>=1.3->qiskit-terra==0.45.1->qiskit>=0.44->qiskit-nature) (1.3.0)\n",
            "Installing collected packages: qiskit-algorithms, qiskit-nature\n",
            "Successfully installed qiskit-algorithms-0.2.1 qiskit-nature-0.7.1\n",
            "Collecting pyscf\n",
            "  Downloading pyscf-2.4.0-py3-none-manylinux_2_17_x86_64.manylinux2014_x86_64.whl (47.3 MB)\n",
            "\u001b[2K     \u001b[90m━━━━━━━━━━━━━━━━━━━━━━━━━━━━━━━━━━━━━━━━\u001b[0m \u001b[32m47.3/47.3 MB\u001b[0m \u001b[31m17.9 MB/s\u001b[0m eta \u001b[36m0:00:00\u001b[0m\n",
            "\u001b[?25hRequirement already satisfied: numpy!=1.16,!=1.17,>=1.13 in /usr/local/lib/python3.10/dist-packages (from pyscf) (1.23.5)\n",
            "Requirement already satisfied: scipy!=1.5.0,!=1.5.1 in /usr/local/lib/python3.10/dist-packages (from pyscf) (1.11.4)\n",
            "Requirement already satisfied: h5py>=2.7 in /usr/local/lib/python3.10/dist-packages (from pyscf) (3.9.0)\n",
            "Requirement already satisfied: setuptools in /usr/local/lib/python3.10/dist-packages (from pyscf) (67.7.2)\n",
            "Installing collected packages: pyscf\n",
            "Successfully installed pyscf-2.4.0\n"
          ]
        }
      ],
      "source": [
        "!pip install qiskit-nature\n",
        "!pip install pyscf"
      ]
    },
    {
      "cell_type": "markdown",
      "metadata": {
        "id": "dSqkLpStGjV-"
      },
      "source": [
        "## Imports"
      ]
    },
    {
      "cell_type": "code",
      "execution_count": null,
      "metadata": {
        "colab": {
          "base_uri": "https://localhost:8080/"
        },
        "id": "aIqXk6lJGljK",
        "outputId": "b5eed994-6130-49b0-97dd-103d188c5837"
      },
      "outputs": [
        {
          "name": "stderr",
          "output_type": "stream",
          "text": [
            "<ipython-input-10-9052f001a4c9>:6: DeprecationWarning: ``qiskit.algorithms`` has been migrated to an independent package: https://github.com/qiskit-community/qiskit-algorithms. The ``qiskit.algorithms`` import path is deprecated as of qiskit-terra 0.25.0 and will be removed no earlier than 3 months after the release date. Please run ``pip install qiskit_algorithms`` and use ``import qiskit_algorithms`` instead.\n",
            "  from qiskit.algorithms.optimizers import SLSQP\n"
          ]
        }
      ],
      "source": [
        "from qiskit_aer.primitives import Estimator as AerEstimator\n",
        "from qiskit.primitives import Estimator\n",
        "\n",
        "from qiskit_algorithms import NumPyMinimumEigensolver\n",
        "from qiskit_algorithms import VQE\n",
        "from qiskit.algorithms.optimizers import SLSQP\n",
        "\n",
        "from qiskit_nature.second_q.drivers.electronic_structure_driver import ElectronicStructureDriver, MethodType\n",
        "from qiskit_nature.second_q.formats.molecule_info import MoleculeInfo\n",
        "from qiskit_nature.second_q.problems import ElectronicStructureProblem\n",
        "from qiskit_nature.second_q.drivers import ElectronicStructureDriver,PySCFDriver\n",
        "from qiskit_nature.units import DistanceUnit\n",
        "from qiskit_nature.second_q.mappers import JordanWignerMapper,  ParityMapper\n",
        "from qiskit_nature.second_q.algorithms import GroundStateEigensolver\n",
        "from qiskit_nature.second_q.circuit.library import UCCSD, HartreeFock\n",
        "from qiskit_nature.second_q.transformers import FreezeCoreTransformer\n",
        "\n",
        "import time\n",
        "import numpy as np"
      ]
    },
    {
      "cell_type": "markdown",
      "metadata": {
        "id": "yEJO0_0VGLOa"
      },
      "source": [
        "# H2 VQE"
      ]
    },
    {
      "cell_type": "code",
      "execution_count": null,
      "metadata": {
        "id": "hZTgUm6xPzYG"
      },
      "outputs": [],
      "source": [
        "def exact_solver(qubit_op, problem):\n",
        "    sol = NumPyMinimumEigensolver().compute_minimum_eigenvalue(qubit_op)\n",
        "    result = problem.interpret(sol)\n",
        "    return result"
      ]
    },
    {
      "cell_type": "code",
      "execution_count": null,
      "metadata": {
        "id": "wwX5GyQs3mD8"
      },
      "outputs": [],
      "source": [
        "def UCCSD_VQE(molecule, use_gpu=False, iter=50):\n",
        "  driver = PySCFDriver.from_molecule(molecule, basis=\"sto3g\")\n",
        "  problem = driver.run()\n",
        "  time_taken = 0\n",
        "\n",
        "  # mapper\n",
        "  mapper = JordanWignerMapper()\n",
        "  qubit_op = mapper.map(problem.second_q_ops()[0])\n",
        "\n",
        "  # estimator = AerEstimator(\n",
        "  #     run_options={\"seed\": seed},\n",
        "  #     transpile_options={\"seed_transpiler\": seed},)\n",
        "\n",
        "  estimator = Estimator()\n",
        "\n",
        "  gpu_estimator = AerEstimator(\n",
        "    run_options={\"seed\": seed},\n",
        "    transpile_options={\"seed_transpiler\": seed},)\n",
        "  gpu_estimator.set_options(device='GPU')\n",
        "  gpu_estimator.set_options(cuStateVec_enable=True)\n",
        "  # See how they get approximation, we can use error mitigation in our code.\n",
        "  gpu_estimator.set_options(approximation =True)\n",
        "  gpu_estimator.set_options(resilience_level=3)\n",
        "  # gpu_estimator.set_options(shots = None)\n",
        "\n",
        "  ansatz = UCCSD(\n",
        "      problem.num_spatial_orbitals,\n",
        "      problem.num_particles,\n",
        "      mapper,\n",
        "      initial_state=HartreeFock(\n",
        "          problem.num_spatial_orbitals,\n",
        "          problem.num_particles,\n",
        "          mapper,\n",
        "      ),\n",
        "  )\n",
        "\n",
        "  optimizer = SLSQP()\n",
        "  energy = 0\n",
        "  if use_gpu:\n",
        "    avg_gpu_time = 0\n",
        "    avg_gpu_energy = 0\n",
        "\n",
        "    for _ in range(iter):\n",
        "      start = time.time()\n",
        "      vqe = VQE(gpu_estimator, ansatz, optimizer)\n",
        "      vqe_ground_state_solver = GroundStateEigensolver(mapper, vqe)\n",
        "      vqe_results = vqe_ground_state_solver.solve(problem)\n",
        "      end = time.time()\n",
        "\n",
        "      avg_gpu_energy += vqe_results.groundenergy\n",
        "      avg_gpu_time += end - start\n",
        "\n",
        "    time_taken = avg_gpu_time/iter\n",
        "    energy = avg_gpu_energy/iter\n",
        "\n",
        "  else:\n",
        "    avg_cpu_time = 0\n",
        "    avg_cpu_energy = 0\n",
        "\n",
        "    for _ in range(iter):\n",
        "      start = time.time()\n",
        "      vqe = VQE(estimator, ansatz, optimizer)\n",
        "      vqe_ground_state_solver = GroundStateEigensolver(mapper, vqe)\n",
        "      vqe_results = vqe_ground_state_solver.solve(problem)\n",
        "      end = time.time()\n",
        "\n",
        "      avg_cpu_energy += vqe_results.groundenergy\n",
        "      avg_cpu_time += end - start\n",
        "\n",
        "    time_taken = avg_cpu_time/iter\n",
        "    energy = avg_cpu_energy/iter\n",
        "\n",
        "  return energy , time_taken\n"
      ]
    },
    {
      "cell_type": "code",
      "execution_count": null,
      "metadata": {
        "colab": {
          "base_uri": "https://localhost:8080/"
        },
        "id": "l-mOuu3sPqDv",
        "outputId": "0b10dcc8-b3f0-4bca-d889-9277f63fc64b"
      },
      "outputs": [
        {
          "name": "stderr",
          "output_type": "stream",
          "text": [
            "/usr/local/lib/python3.10/dist-packages/pyscf/dft/libxc.py:771: UserWarning: Since PySCF-2.3, B3LYP (and B3P86) are changed to the VWN-RPA variant, corresponding to the original definition by Stephens et al. (issue 1480) and the same as the B3LYP functional in Gaussian. To restore the VWN5 definition, you can put the setting \"B3LYP_WITH_VWN5 = True\" in pyscf_conf.py\n",
            "  warnings.warn('Since PySCF-2.3, B3LYP (and B3P86) are changed to the VWN-RPA variant, '\n"
          ]
        }
      ],
      "source": [
        "molecule = MoleculeInfo([\"H\", \"H\"], [(0.0, 0.0, 0.0), (0.0, 0.0, 0.735)], charge=0, multiplicity=1)\n",
        "driver = PySCFDriver.from_molecule(molecule, basis=\"sto3g\")\n",
        "problem = driver.run()\n",
        "\n",
        "# mapper\n",
        "mapper = JordanWignerMapper()\n",
        "qubit_op = mapper.map(problem.second_q_ops()[0])\n",
        "result = exact_solver(qubit_op, problem)\n",
        "exact_energy = result.total_energies[0].real"
      ]
    },
    {
      "cell_type": "code",
      "execution_count": null,
      "metadata": {
        "colab": {
          "base_uri": "https://localhost:8080/"
        },
        "id": "GiLeeHWvuQod",
        "outputId": "6b1ab86e-ba14-4416-8bf7-1433e93dcfef"
      },
      "outputs": [
        {
          "name": "stdout",
          "output_type": "stream",
          "text": [
            "Exact energy = -1.1373060357534008\n",
            "______________________________________\n",
            "\n",
            "\n",
            "On CPU: VQE on H2 molecule\n",
            "Time taken: 1.0262655782699586, Energy: -1.8572749426370174\n",
            "Error: 63.30476443894698\n",
            "______________________________________\n",
            "\n",
            "\n",
            "On GPU: VQE on H2 molecule\n",
            "Time taken: 0.21216479301452637, Energy: -1.0901359379101287\n",
            "Error: -4.147529016851173\n"
          ]
        }
      ],
      "source": [
        "# define molecule H2\n",
        "seed = 170\n",
        "\n",
        "print(f\"Exact energy = {exact_energy}\")\n",
        "\n",
        "print(\"______________________________________\\n\\n\")\n",
        "\n",
        "print(\"On CPU: VQE on H2 molecule\")\n",
        "cpu_energy, time_taken = UCCSD_VQE(molecule)\n",
        "print(f\"Time taken: {time_taken}, Energy: {cpu_energy}\")\n",
        "print(f\"Error: {(cpu_energy-exact_energy)/exact_energy * 100}\")\n",
        "\n",
        "print(\"______________________________________\\n\\n\")\n",
        "\n",
        "print(\"On GPU: VQE on H2 molecule\")\n",
        "gpu_energy, time_taken = UCCSD_VQE(molecule, use_gpu=True)\n",
        "\n",
        "print(f\"Time taken: {time_taken}, Energy: {gpu_energy}\")\n",
        "print(f\"Error: {(gpu_energy-exact_energy)/exact_energy * 100}\")\n",
        "# Note: Take avf for ground state energy\n",
        "# Error, 10%"
      ]
    },
    {
      "cell_type": "markdown",
      "metadata": {
        "id": "bbiYegizUpEU"
      },
      "source": [
        "References\n",
        "\n",
        "- [Stack overflow](https://quantumcomputing.stackexchange.com/questions/32667/what-are-the-differences-between-the-two-estimator-in-the-qiskit)\n",
        "\n",
        "- [qiskit_nature simulator deprication](https://github.com/qiskit-community/qiskit-nature/blob/978fcaddd272c64051768a310fec4dee3cc11176/docs/migration/0.5_b_solving_problems.rst#L211)\n",
        "\n",
        "- [qiskit nature h2o tutorial](https://github.com/qiskit-community/qiskit-application-modules-demo-sessions/blob/main/qiskit-nature/Qiskit_Nature_YouTube_Tutorial.ipynb)\n",
        "\n",
        "- [LiH molecule VQE](https://rodneyosodo.medium.com/simulating-molecules-lih-using-vqe-de40d7456fcc)/[LiH molecule VQE](https://gist.github.com/rodneyosodo/698ee32dde649ace70ad1152d276f748)\n",
        "\n"
      ]
    },
    {
      "cell_type": "markdown",
      "metadata": {
        "id": "vRhR8p5XP9gK"
      },
      "source": [
        "Next steps:\n",
        "\n",
        "- For another molecule\n",
        "- Add Error mitigation(https://quantumcomputing.stackexchange.com/questions/29502/what-do-the-resilience-levels-in-qiskit-runtimes-primitives-mean)"
      ]
    },
    {
      "cell_type": "code",
      "execution_count": null,
      "metadata": {
        "id": "4wihmH24Snw9"
      },
      "outputs": [],
      "source": [
        "def get_qubit_op(dist):\n",
        "    # Define Molecule\n",
        "    # accurate dist = 0\n",
        "    molecule = MoleculeInfo(\n",
        "        symbols=[\"H\", \"H\"],\n",
        "        coords=[(0.0, 0.0, 0.0), (dist, 0.0, 0.735)],\n",
        "        charge=0,\n",
        "        multiplicity=1\n",
        "    )\n",
        "\n",
        "    driver = PySCFDriver.from_molecule(molecule, basis=\"sto3g\")\n",
        "\n",
        "    # Get properties\n",
        "    properties = driver.run()\n",
        "\n",
        "    # Now you can get the reduced electronic structure problem\n",
        "    problem = FreezeCoreTransformer(\n",
        "        freeze_core=True, remove_orbitals=[-3, -2]\n",
        "    ).transform(properties)\n",
        "\n",
        "    num_particles = problem.num_particles\n",
        "    num_spatial_orbitals = problem.num_spatial_orbitals\n",
        "\n",
        "    mapper = ParityMapper(num_particles=num_particles)\n",
        "    qubit_op = mapper.map(problem.second_q_ops()[0])\n",
        "    return qubit_op, num_particles, num_spatial_orbitals, problem, mapper\n",
        "\n",
        "def exact_solver(qubit_op, problem):\n",
        "    sol = NumPyMinimumEigensolver().compute_minimum_eigenvalue(qubit_op)\n",
        "    result = problem.interpret(sol)\n",
        "    return result"
      ]
    },
    {
      "cell_type": "code",
      "execution_count": null,
      "metadata": {
        "colab": {
          "base_uri": "https://localhost:8080/"
        },
        "id": "XE3P4OsJeWEl",
        "outputId": "0ff750e0-6f90-42be-eb67-1b7db1700ada"
      },
      "outputs": [
        {
          "output_type": "stream",
          "name": "stdout",
          "text": [
            "Interatomic Distance: 0.0 VQE Result: -1.13731 Exact Energy: -1.13731\n",
            "Interatomic Distance: 0.02 VQE Result: -1.02159 Exact Energy: -1.13731\n",
            "Interatomic Distance: 0.04 VQE Result: -1.13643 Exact Energy: -1.13730\n",
            "Interatomic Distance: 0.06 VQE Result: -1.13730 Exact Energy: -1.13730\n",
            "Interatomic Distance: 0.08 VQE Result: -1.13729 Exact Energy: -1.13729\n",
            "Interatomic Distance: 0.1 VQE Result: -1.13727 Exact Energy: -1.13727\n",
            "Interatomic Distance: 0.12 VQE Result: -1.13722 Exact Energy: -1.13722\n",
            "Interatomic Distance: 0.14 VQE Result: -1.13712 Exact Energy: -1.13716\n",
            "Interatomic Distance: 0.16 VQE Result: -1.13706 Exact Energy: -1.13706\n",
            "Interatomic Distance: 0.18 VQE Result: -1.13552 Exact Energy: -1.13692\n",
            "Interatomic Distance: 0.2 VQE Result: -1.13673 Exact Energy: -1.13673\n",
            "Interatomic Distance: 0.22 VQE Result: -1.13332 Exact Energy: -1.13647\n",
            "Interatomic Distance: 0.24 VQE Result: -1.13615 Exact Energy: -1.13615\n",
            "Interatomic Distance: 0.26 VQE Result: -1.13575 Exact Energy: -1.13575\n",
            "Interatomic Distance: 0.28 VQE Result: -1.03380 Exact Energy: -1.13526\n",
            "Interatomic Distance: 0.3 VQE Result: -1.13468 Exact Energy: -1.13468\n",
            "Interatomic Distance: 0.32 VQE Result: -1.13400 Exact Energy: -1.13400\n",
            "Interatomic Distance: 0.34 VQE Result: -1.13277 Exact Energy: -1.13320\n",
            "Interatomic Distance: 0.36 VQE Result: -1.13229 Exact Energy: -1.13230\n",
            "Interatomic Distance: 0.38 VQE Result: -1.13127 Exact Energy: -1.13127\n",
            "Interatomic Distance: 0.4 VQE Result: -1.13011 Exact Energy: -1.13011\n",
            "Interatomic Distance: 0.42 VQE Result: -1.12884 Exact Energy: -1.12884\n",
            "Interatomic Distance: 0.44 VQE Result: -1.12730 Exact Energy: -1.12743\n",
            "Interatomic Distance: 0.46 VQE Result: -1.12589 Exact Energy: -1.12589\n",
            "Interatomic Distance: 0.48 VQE Result: -1.12422 Exact Energy: -1.12422\n",
            "Interatomic Distance: 0.5 VQE Result: -1.12243 Exact Energy: -1.12243\n",
            "Interatomic Distance: 0.52 VQE Result: -1.12050 Exact Energy: -1.12050\n",
            "Interatomic Distance: 0.54 VQE Result: -1.11845 Exact Energy: -1.11845\n",
            "Interatomic Distance: 0.56 VQE Result: -1.11628 Exact Energy: -1.11628\n",
            "Interatomic Distance: 0.58 VQE Result: -1.11398 Exact Energy: -1.11398\n",
            "Interatomic Distance: 0.6 VQE Result: -1.11157 Exact Energy: -1.11157\n",
            "Interatomic Distance: 0.62 VQE Result: -1.10905 Exact Energy: -1.10905\n",
            "Interatomic Distance: 0.64 VQE Result: -1.10643 Exact Energy: -1.10643\n",
            "Interatomic Distance: 0.66 VQE Result: -1.10370 Exact Energy: -1.10370\n",
            "Interatomic Distance: 0.68 VQE Result: -1.10087 Exact Energy: -1.10087\n"
          ]
        }
      ],
      "source": [
        "distances = np.arange(0.5, 4.0, 0.2)\n",
        "exact_energies = []\n",
        "vqe_energies = []\n",
        "cpu_times = []\n",
        "gpu_times = []\n",
        "gpu_errors = []\n",
        "cpu_errors = []\n",
        "optimizer = SLSQP(maxiter=10)\n",
        "estimator = Estimator()\n",
        "\n",
        "# pylint: disable=undefined-loop-variable,line-too-long\n",
        "for dist in distances:\n",
        "    (qubit_op, num_particles, num_spatial_orbitals, problem, mapper) = get_qubit_op(\n",
        "        dist\n",
        "    )\n",
        "\n",
        "    result = exact_solver(qubit_op, problem)\n",
        "    exact_energies.append(result.total_energies[0].real)\n",
        "    init_state = HartreeFock(num_spatial_orbitals, num_particles, mapper)\n",
        "    init_state = HartreeFock(num_spatial_orbitals, num_particles, mapper)\n",
        "    ansatz = UCCSD(\n",
        "        num_spatial_orbitals, num_particles, mapper, initial_state=init_state\n",
        "    )\n",
        "    vqe = VQE(\n",
        "        estimator,\n",
        "        ansatz,\n",
        "        optimizer,\n",
        "        initial_point=[0] * ansatz.num_parameters,\n",
        "    )\n",
        "\n",
        "    vqe = VQE(estimator, ansatz, optimizer)\n",
        "    vqe_ground_state_solver = GroundStateEigensolver(mapper, vqe)\n",
        "\n",
        "    time_taken = 0\n",
        "    error = 0\n",
        "\n",
        "    for _ in range(50):\n",
        "      start = time.time()\n",
        "      vqe_result = vqe_ground_state_solver.solve(problem)\n",
        "      energy = problem.interpret(vqe_result.raw_result).total_energies[0].real\n",
        "      end = time.time()\n",
        "\n",
        "      time_taken += end - start\n",
        "      error += exact_energies[-1] - energy\n",
        "\n",
        "    cpu_times.append(time_taken/50)\n",
        "    cpu_errors.append(error/50)\n",
        "\n",
        "    print(\n",
        "        f\"Interatomic Distance: {np.round(dist, 2)}\",\n",
        "        f\"VQE Result: {energy:.5f}\",\n",
        "        f\"Exact Energy: {exact_energies[-1]:.5f}\",\n",
        "    )\n",
        "\n",
        "print(\"All energies have been calculated\")"
      ]
    },
    {
      "cell_type": "code",
      "execution_count": null,
      "metadata": {
        "colab": {
          "background_save": true,
          "base_uri": "https://localhost:8080/"
        },
        "id": "V4zJivOJhwiQ",
        "outputId": "ae0705c9-bc80-4b78-a182-c31f14560f9c"
      },
      "outputs": [
        {
          "name": "stdout",
          "output_type": "stream",
          "text": [
            "Interatomic Distance: 0.5 VQE Result: -1.12243 Exact Energy: -1.12243\n",
            "Interatomic Distance: 0.7 VQE Result: -1.09796 Exact Energy: -1.09796\n",
            "Interatomic Distance: 0.9 VQE Result: -1.06523 Exact Energy: -1.06523\n",
            "Interatomic Distance: 1.1 VQE Result: -1.03045 Exact Energy: -1.03047\n",
            "Interatomic Distance: 1.3 VQE Result: -0.99589 Exact Energy: -0.99921\n",
            "Interatomic Distance: 1.5 VQE Result: -0.95848 Exact Energy: -0.97473\n",
            "Interatomic Distance: 1.7 VQE Result: -0.94598 Exact Energy: -0.95768\n",
            "Interatomic Distance: 1.9 VQE Result: -0.94690 Exact Energy: -0.94690\n",
            "Interatomic Distance: 2.1 VQE Result: -0.94058 Exact Energy: -0.94058\n",
            "Interatomic Distance: 2.3 VQE Result: -0.93536 Exact Energy: -0.93705\n",
            "Interatomic Distance: 2.5 VQE Result: -0.93364 Exact Energy: -0.93515\n",
            "Interatomic Distance: 2.7 VQE Result: -0.93363 Exact Energy: -0.93416\n",
            "Interatomic Distance: 2.9 VQE Result: -0.93351 Exact Energy: -0.93365\n",
            "Interatomic Distance: 3.1 VQE Result: -0.93323 Exact Energy: -0.93339\n",
            "Interatomic Distance: 3.3 VQE Result: -0.93327 Exact Energy: -0.93327\n",
            "Interatomic Distance: 3.5 VQE Result: -0.93321 Exact Energy: -0.93321\n",
            "Interatomic Distance: 3.7 VQE Result: -0.93318 Exact Energy: -0.93318\n",
            "Interatomic Distance: 3.9 VQE Result: -0.93317 Exact Energy: -0.93317\n",
            "All energies have been calculated\n"
          ]
        }
      ],
      "source": [
        "estimator = Estimator()\n",
        "\n",
        "estimator.set_options(approximation =True)\n",
        "estimator.set_options(device='GPU')\n",
        "estimator.set_options(cuStateVec_enable=True)\n",
        "\n",
        "# pylint: disable=undefined-loop-variable,line-too-long\n",
        "for dist in distances:\n",
        "    (qubit_op, num_particles, num_spatial_orbitals, problem, mapper) = get_qubit_op(\n",
        "        dist\n",
        "    )\n",
        "\n",
        "    result = exact_solver(qubit_op, problem)\n",
        "    exact_energies.append(result.total_energies[0].real)\n",
        "    init_state = HartreeFock(num_spatial_orbitals, num_particles, mapper)\n",
        "    init_state = HartreeFock(num_spatial_orbitals, num_particles, mapper)\n",
        "    ansatz = UCCSD(\n",
        "        num_spatial_orbitals, num_particles, mapper, initial_state=init_state\n",
        "    )\n",
        "    vqe = VQE(\n",
        "        estimator,\n",
        "        ansatz,\n",
        "        optimizer,\n",
        "        initial_point=[0] * ansatz.num_parameters,\n",
        "    )\n",
        "\n",
        "    vqe = VQE(estimator, ansatz, optimizer)\n",
        "    vqe_ground_state_solver = GroundStateEigensolver(mapper, vqe)\n",
        "    time_taken = 0\n",
        "    error = 0\n",
        "\n",
        "    for _ in range(50):\n",
        "      start = time.time()\n",
        "      vqe_result = vqe_ground_state_solver.solve(problem)\n",
        "      energy = problem.interpret(vqe_result.raw_result).total_energies[0].real\n",
        "      end = time.time()\n",
        "\n",
        "      time_taken += end - start\n",
        "      error += exact_energies[-1] - energy\n",
        "    gpu_times.append(time_taken/50)\n",
        "    gpu_errors.append(error/50)\n",
        "\n",
        "    print(\n",
        "        f\"Interatomic Distance: {np.round(dist, 2)}\",\n",
        "        f\"VQE Result: {energy:.5f}\",\n",
        "        f\"Exact Energy: {exact_energies[-1]:.5f}\",\n",
        "    )\n",
        "\n",
        "print(\"All energies have been calculated\")"
      ]
    },
    {
      "cell_type": "code",
      "execution_count": null,
      "metadata": {
        "colab": {
          "background_save": true
        },
        "id": "mH0SHaz1gAac",
        "outputId": "f439e462-cdfc-4308-f8f3-f424ab43b435"
      },
      "outputs": [
        {
          "data": {
            "image/png": "[encoded data removed]",
            "text/plain": [
              "<Figure size 640x480 with 1 Axes>"
            ]
          },
          "metadata": {},
          "output_type": "display_data"
        }
      ],
      "source": [
        "import matplotlib.pyplot as plt\n",
        "\n",
        "plt.plot(distances, cpu_times, label=\"CPU\")\n",
        "plt.plot(distances, gpu_times, label=\"GPU\")\n",
        "plt.xlabel(\"Atomic distance (Angstrom)\")\n",
        "plt.ylabel(\"Time Taken\")\n",
        "plt.legend()\n",
        "plt.show()"
      ]
    },
    {
      "cell_type": "code",
      "execution_count": null,
      "metadata": {
        "colab": {
          "background_save": true
        },
        "id": "CYJtARIWo1bM",
        "outputId": "aabb1976-ea17-4292-bd26-bc576cca0e55"
      },
      "outputs": [
        {
          "data": {
            "image/png": "[encoded data removed]",
            "text/plain": [
              "<Figure size 640x480 with 1 Axes>"
            ]
          },
          "metadata": {},
          "output_type": "display_data"
        }
      ],
      "source": [
        "plt.plot(distances, cpu_errors, label=\"CPU\")\n",
        "plt.plot(distances, gpu_errors, label=\"GPU\")\n",
        "plt.xlabel(\"Atomic distance (Angstrom)\")\n",
        "plt.ylabel(\"Erros\")\n",
        "plt.legend()\n",
        "plt.show()"
      ]
    },
    {
      "cell_type": "code",
      "execution_count": null,
      "metadata": {
        "id": "_ELLpQIlqHev"
      },
      "outputs": [],
      "source": []
    }
  ],
  "metadata": {
    "accelerator": "GPU",
    "colab": {
      "machine_shape": "hm",
      "provenance": []
    },
    "kernelspec": {
      "display_name": "Python 3",
      "name": "python3"
    },
    "language_info": {
      "name": "python"
    }
  },
  "nbformat": 4,
  "nbformat_minor": 0
}